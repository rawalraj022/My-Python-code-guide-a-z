{
 "cells": [
  {
   "cell_type": "markdown",
   "metadata": {},
   "source": [
    "# Type Conversion in Python \n",
    "\n",
    "In Python We are having two kinds of type conversion :\n",
    "1. Implicit Type Conversion\n",
    "2. Explicit Type Conversion\n"
   ]
  },
  {
   "cell_type": "markdown",
   "metadata": {},
   "source": [
    "#### 1. Implicit Type Conversion\n",
    "Implicit Type Conversion happens internally by python interpreter. It is performed automatically when the data type of the destination variable is of higher size than the source variable. \n",
    "\n",
    "#### Examples of Implicit Type Conversion \n"
   ]
  },
  {
   "cell_type": "code",
   "execution_count": 1,
   "metadata": {},
   "outputs": [
    {
     "name": "stdout",
     "output_type": "stream",
     "text": [
      "10.5\n"
     ]
    }
   ],
   "source": [
    "print(5 + 5.5)\n",
    "\n",
    "# When ever we did the addition of integer and float, the result will be float number. \n",
    "    # In this case, 5 is integer and 5.5 is float. So, the result will be float number.\n",
    "    # The result will be 10.5\n",
    "# We are not doing this conversion manually. Python is doing this \n",
    "    # conversion automatically for us internally and giving the result. \n",
    "    # Python is automatically trying to understand what user want actually.\n",
    "        # So, it is converting the result in float number.\n",
    "# This is called implicit type conversion that means it is happening internally \n",
    "    # with the help of python interpreter. "
   ]
  },
  {
   "cell_type": "markdown",
   "metadata": {},
   "source": [
    "#### 2. Explicit Type Conversion\n",
    "Explicit Type Conversion happens by the programmer .  In Explicit Type Conversion, the data type of the destination variable is explicitly defined by the programmer. \n",
    "\n",
    "#### Examples of Explicit Type Conversion \n"
   ]
  },
  {
   "cell_type": "code",
   "execution_count": 4,
   "metadata": {},
   "outputs": [
    {
     "ename": "TypeError",
     "evalue": "unsupported operand type(s) for +: 'int' and 'str'",
     "output_type": "error",
     "traceback": [
      "\u001b[0;31m---------------------------------------------------------------------------\u001b[0m",
      "\u001b[0;31mTypeError\u001b[0m                                 Traceback (most recent call last)",
      "Cell \u001b[0;32mIn[4], line 3\u001b[0m\n\u001b[1;32m      1\u001b[0m \u001b[38;5;66;03m# Every time we can't expect the implicit type conversion from python interpreter.\u001b[39;00m\n\u001b[0;32m----> 3\u001b[0m \u001b[38;5;28mprint\u001b[39m(\u001b[38;5;241m4\u001b[39m \u001b[38;5;241m+\u001b[39m \u001b[38;5;124m\"\u001b[39m\u001b[38;5;124m4\u001b[39m\u001b[38;5;124m\"\u001b[39m)\n",
      "\u001b[0;31mTypeError\u001b[0m: unsupported operand type(s) for +: 'int' and 'str'"
     ]
    }
   ],
   "source": [
    "# Every time we can't expect the implicit type conversion from python interpreter.\n",
    "\n",
    "\n",
    "# This code will not run by python interpreter because it is not possible to add integer and string.\n",
    "    # So, it will give an error.\n",
    "\n",
    "print(4 + \"4\")  # TypeError: unsupported operand type(s) for +: 'int' and 'str' \n",
    "                "
   ]
  },
  {
   "cell_type": "code",
   "execution_count": 6,
   "metadata": {},
   "outputs": [
    {
     "name": "stdout",
     "output_type": "stream",
     "text": [
      "8\n"
     ]
    }
   ],
   "source": [
    "\n",
    "# But, we can do this by converting the string into integer.\n",
    "    # We can convert the string into integer by using int() function.\n",
    "    # So, we can convert the string into integer and then add it with integer.\n",
    "    # So, the result will be 8.\n",
    "    # This is called explicit type conversion. \n",
    "        # Because, we are converting the type explicitly.\n",
    "\n",
    "print(4 + int(\"4\"))    # 8\n"
   ]
  },
  {
   "cell_type": "code",
   "execution_count": 7,
   "metadata": {},
   "outputs": [
    {
     "data": {
      "text/plain": [
       "float"
      ]
     },
     "execution_count": 7,
     "metadata": {},
     "output_type": "execute_result"
    }
   ],
   "source": [
    "# we are converting the string into float by using float() function. \n",
    "\n",
    "num = \"34\"\n",
    "num = float(num)\n",
    "\n",
    "type(num)    # float"
   ]
  },
  {
   "cell_type": "code",
   "execution_count": 8,
   "metadata": {},
   "outputs": [
    {
     "data": {
      "text/plain": [
       "34.0"
      ]
     },
     "execution_count": 8,
     "metadata": {},
     "output_type": "execute_result"
    }
   ],
   "source": [
    "num"
   ]
  },
  {
   "cell_type": "code",
   "execution_count": 10,
   "metadata": {},
   "outputs": [
    {
     "data": {
      "text/plain": [
       "int"
      ]
     },
     "execution_count": 10,
     "metadata": {},
     "output_type": "execute_result"
    }
   ],
   "source": [
    "# We can also convert the float into integer by using int() function.\n",
    "\n",
    "num = 34.0\n",
    "num = int(num)\n",
    "\n",
    "type(num)    # int"
   ]
  },
  {
   "cell_type": "code",
   "execution_count": 11,
   "metadata": {},
   "outputs": [
    {
     "data": {
      "text/plain": [
       "complex"
      ]
     },
     "execution_count": 11,
     "metadata": {},
     "output_type": "execute_result"
    }
   ],
   "source": [
    "# Working with complex numbers in python. \n",
    "\n",
    "num = 3 + 4j \n",
    "\n",
    "type(num)    # complex"
   ]
  },
  {
   "cell_type": "code",
   "execution_count": null,
   "metadata": {},
   "outputs": [
    {
     "ename": "TypeError",
     "evalue": "int() argument must be a string, a bytes-like object or a real number, not 'complex'",
     "output_type": "error",
     "traceback": [
      "\u001b[0;31m---------------------------------------------------------------------------\u001b[0m",
      "\u001b[0;31mTypeError\u001b[0m                                 Traceback (most recent call last)",
      "Cell \u001b[0;32mIn[13], line 12\u001b[0m\n\u001b[1;32m      1\u001b[0m \u001b[38;5;66;03m# We can convert the complex number into integer by using int() function.\u001b[39;00m\n\u001b[1;32m      2\u001b[0m \n\u001b[1;32m      3\u001b[0m \u001b[38;5;66;03m# In complex number, we are having two kinds of data called real value \u001b[39;00m\n\u001b[0;32m   (...)\u001b[0m\n\u001b[1;32m      9\u001b[0m     \u001b[38;5;66;03m# So, the imaginary value will be removed from the complex number.\u001b[39;00m\n\u001b[1;32m     10\u001b[0m     \u001b[38;5;66;03m# So, the result will be 3.\u001b[39;00m\n\u001b[0;32m---> 12\u001b[0m \u001b[38;5;28mint\u001b[39m(num)\n",
      "\u001b[0;31mTypeError\u001b[0m: int() argument must be a string, a bytes-like object or a real number, not 'complex'"
     ]
    }
   ],
   "source": [
    "# We can convert the complex number into integer by using int() function.\n",
    "\n",
    "# In complex number, we are having two kinds of data called real value \n",
    "    # and imaginary value. \n",
    "    # We can convert the complex number into integer by using int() function.\n",
    "    # But, it will only convert the real value of the complex number into integer.\n",
    "    # So, the result will be 3.\n",
    "    # We can't convert the imaginary value of the complex number into integer.\n",
    "    # So, the imaginary value will be removed from the complex number.\n",
    "    # So, the result will be 3.\n",
    "# Same thing for float number. We can convert the real value of the complex number into float number by using float() function.\n",
    "    # But, we can't convert the imaginary value of the complex number into float number.\n",
    "\n",
    "int(num)  # Error: TypeError: can't convert complex to int \n",
    "\n"
   ]
  },
  {
   "cell_type": "code",
   "execution_count": null,
   "metadata": {},
   "outputs": [],
   "source": []
  }
 ],
 "metadata": {
  "kernelspec": {
   "display_name": "base",
   "language": "python",
   "name": "python3"
  },
  "language_info": {
   "codemirror_mode": {
    "name": "ipython",
    "version": 3
   },
   "file_extension": ".py",
   "mimetype": "text/x-python",
   "name": "python",
   "nbconvert_exporter": "python",
   "pygments_lexer": "ipython3",
   "version": "3.12.4"
  }
 },
 "nbformat": 4,
 "nbformat_minor": 2
}
