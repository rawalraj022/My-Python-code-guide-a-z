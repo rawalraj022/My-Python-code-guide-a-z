{
 "cells": [
  {
   "cell_type": "markdown",
   "metadata": {},
   "source": [
    "**What is operator ?** \n",
    "\n",
    "⇒ If we want to perform any operation with respect to two operant or more than two operant and to perform that particular operation the symbol actually use is **called operators** .\n",
    "\n",
    " \n",
    "\n",
    "**Eg** : let’s say there is a two number , a = 2, b = 3,  so, to add these particular two numbers what we will do is write ‘ a + b = 5 ’ .  So, a and b are operant and operation we are performing which is nothing but add operation .  **‘+’ is operator** .\n",
    "\n",
    "To perform any kinds of operation we are using some operant like a and b and to perform that particular operation we are using one specific symbol , in this case actually we are using add **’+’** . and add **’+’**  symbol is called **operator .**  like **‘-’** , **‘*’** , ‘**/’** , **‘%’** = modulus , **‘=’**   ….  .  These all symbols are **arithmetic operator** ."
   ]
  },
  {
   "cell_type": "markdown",
   "metadata": {},
   "source": [
    "# Operators in Python\n",
    "\n",
    "There are 6 types of operators in python which are as follows :\n",
    "\n",
    "1) Arithmetic Operators\n",
    "2) Relational Operators\n",
    "3) Logical Operators\n",
    "4) Bitwise Operators\n",
    "5) Assignment Operators\n",
    "6) Membership Operators\n"
   ]
  },
  {
   "cell_type": "markdown",
   "metadata": {},
   "source": [
    "#### 1) Arithmetic Operators : \n",
    "\n",
    "Arithmetic operators are used to perform mathematical operations like addition, subtraction, multiplication, etc.\n",
    "\n",
    "**Eg** : a = 10, b = 20\n",
    "\n",
    "- Common things actually use in our mathematics like addition, subtraction, multiplication, division, modulus, floor division, exponentiation, etc.\n",
    "\n",
    "##### Examples of Arithmetic Operators :"
   ]
  },
  {
   "cell_type": "code",
   "execution_count": 2,
   "metadata": {},
   "outputs": [
    {
     "name": "stdout",
     "output_type": "stream",
     "text": [
      "7\n"
     ]
    }
   ],
   "source": [
    "# Adding operation is done by using + operator in python \n",
    "# Adding two numbers\n",
    "\n",
    "print(4+3)  \n"
   ]
  },
  {
   "cell_type": "code",
   "execution_count": 3,
   "metadata": {},
   "outputs": [
    {
     "name": "stdout",
     "output_type": "stream",
     "text": [
      "1\n"
     ]
    }
   ],
   "source": [
    "# Subtracting operation is done by using - operator in python\n",
    "# Subtracting two numbers\n",
    "\n",
    "print(4-3)  # Subtraction operation is done by using - operator in python"
   ]
  },
  {
   "cell_type": "code",
   "execution_count": 4,
   "metadata": {},
   "outputs": [
    {
     "name": "stdout",
     "output_type": "stream",
     "text": [
      "12\n"
     ]
    }
   ],
   "source": [
    "# Multiplication operation is done by using * operator in python\n",
    "# Multiplying two numbers\n",
    "\n",
    "print(4*3)  # Multiplication operation is done by using * operator in python"
   ]
  },
  {
   "cell_type": "code",
   "execution_count": null,
   "metadata": {},
   "outputs": [
    {
     "name": "stdout",
     "output_type": "stream",
     "text": [
      "2.0\n"
     ]
    }
   ],
   "source": [
    "# Division operation is done by using / operator in python\n",
    "# Dividing two numbers\n",
    "\n",
    "# Division operation always returns the float value in python\n",
    "\n",
    "print(4/2)  # Division operation is done by using / operator in python"
   ]
  },
  {
   "cell_type": "code",
   "execution_count": 6,
   "metadata": {},
   "outputs": [
    {
     "name": "stdout",
     "output_type": "stream",
     "text": [
      "2\n"
     ]
    }
   ],
   "source": [
    "# Integer division operation is done by using // operator in python\n",
    "# Integer dividing two numbers\n",
    "\n",
    "# Integer division operation does not return the floating point number it returns the integer number only      \n",
    "\n",
    "print(4//2)  # Integer division operation is done by using // operator in python\n"
   ]
  },
  {
   "cell_type": "code",
   "execution_count": 8,
   "metadata": {},
   "outputs": [
    {
     "name": "stdout",
     "output_type": "stream",
     "text": [
      "0\n"
     ]
    }
   ],
   "source": [
    "# Modulus operation is done by using % operator in python\n",
    "# Modulus operation returns the remainder of the division operation \n",
    "\n",
    "print(4%2) # Modulus operation is done by using % operator in python "
   ]
  },
  {
   "cell_type": "code",
   "execution_count": 9,
   "metadata": {},
   "outputs": [
    {
     "name": "stdout",
     "output_type": "stream",
     "text": [
      "25\n"
     ]
    }
   ],
   "source": [
    "# Power operation is done by using ** operator in python \n",
    "# Power operation returns the power of the number . It is also called as exponential operation\n",
    "\n",
    "print(5**2)  # Exponential operation is done by using ** operator in python\n"
   ]
  },
  {
   "cell_type": "markdown",
   "metadata": {},
   "source": [
    "#### 2) Relational Operators :\n",
    "\n",
    "Relational operators are used to compare values. It either returns True or False according to the condition. \n",
    "\n",
    "**Eg** : a = 10, b = 20 \n",
    "\n",
    "- Common things actually use in our mathematics like less than, greater than, equal to, not equal to, less than or equal to, greater than or equal to, etc  .\n",
    "\n",
    "##### Examples of Relational Operators :\n"
   ]
  },
  {
   "cell_type": "code",
   "execution_count": 1,
   "metadata": {},
   "outputs": [
    {
     "name": "stdout",
     "output_type": "stream",
     "text": [
      "False\n"
     ]
    }
   ],
   "source": [
    "print(4>5)"
   ]
  },
  {
   "cell_type": "code",
   "execution_count": 2,
   "metadata": {},
   "outputs": [
    {
     "name": "stdout",
     "output_type": "stream",
     "text": [
      "True\n"
     ]
    }
   ],
   "source": [
    "print(4<5)"
   ]
  },
  {
   "cell_type": "code",
   "execution_count": 3,
   "metadata": {},
   "outputs": [
    {
     "name": "stdout",
     "output_type": "stream",
     "text": [
      "True\n"
     ]
    }
   ],
   "source": [
    "print(4>=4)"
   ]
  },
  {
   "cell_type": "code",
   "execution_count": 4,
   "metadata": {},
   "outputs": [
    {
     "name": "stdout",
     "output_type": "stream",
     "text": [
      "True\n"
     ]
    }
   ],
   "source": [
    "print(4<=4)"
   ]
  },
  {
   "cell_type": "code",
   "execution_count": 5,
   "metadata": {},
   "outputs": [
    {
     "name": "stdout",
     "output_type": "stream",
     "text": [
      "True\n"
     ]
    }
   ],
   "source": [
    "print(4==4)"
   ]
  },
  {
   "cell_type": "code",
   "execution_count": 6,
   "metadata": {},
   "outputs": [
    {
     "name": "stdout",
     "output_type": "stream",
     "text": [
      "False\n"
     ]
    }
   ],
   "source": [
    "print(4!=4) # Not equal to operator is done by using != operator in python"
   ]
  },
  {
   "cell_type": "markdown",
   "metadata": {},
   "source": [
    "#### 3) Logical Operators :\n",
    "\n",
    "Logical operators are the **and, or, not** operators. \n",
    "\n",
    "**Eg** : a = 10, b = 20\n",
    "\n",
    "- Common things actually use in our mathematics like and, or, not, etc  . \n",
    "\n",
    "##### Examples of Logical Operators :"
   ]
  },
  {
   "attachments": {
    "image-2.png": {
     "image/png": "[encoded data removed]"
    }
   },
   "cell_type": "markdown",
   "metadata": {},
   "source": [
    "Gate table of AND , OR, XOR , NOT :  \n",
    "\n",
    "![image-2.png](attachment:image-2.png)\n",
    "\n",
    "\n",
    "In python 1 is True and 0 is False.\n",
    "\n"
   ]
  },
  {
   "cell_type": "code",
   "execution_count": null,
   "metadata": {},
   "outputs": [
    {
     "name": "stdout",
     "output_type": "stream",
     "text": [
      "0\n"
     ]
    }
   ],
   "source": [
    "# AND gate  :  Returns True if both statements are true and False if either one of the statements is false. \n",
    "        # 1 is close gate and 0 is open gate in digital electronics.\n",
    "\n",
    "print(0 and 1) # 0 and 1 is 0"
   ]
  },
  {
   "cell_type": "code",
   "execution_count": 10,
   "metadata": {},
   "outputs": [
    {
     "name": "stdout",
     "output_type": "stream",
     "text": [
      "1\n"
     ]
    }
   ],
   "source": [
    "# OR gate : Returns True if one of the statements is true and False if both statements are false.\n",
    "\n",
    "print(0 or 1) # 1 and 1 is 1\n"
   ]
  },
  {
   "cell_type": "code",
   "execution_count": 13,
   "metadata": {},
   "outputs": [
    {
     "name": "stdout",
     "output_type": "stream",
     "text": [
      "False\n"
     ]
    }
   ],
   "source": [
    "# NOT gate : Returns False if the result is true and True if the result is false.\n",
    "\n",
    "print(not 1)\n",
    "\n"
   ]
  },
  {
   "cell_type": "code",
   "execution_count": 14,
   "metadata": {},
   "outputs": [
    {
     "name": "stdout",
     "output_type": "stream",
     "text": [
      "True\n"
     ]
    }
   ],
   "source": [
    "print(not 0)"
   ]
  },
  {
   "cell_type": "markdown",
   "metadata": {},
   "source": [
    "#### 4) Bitwise Operators :\n",
    "\n",
    "Bitwise operators works on bits and performs bit by bit operation .\n",
    "\n",
    "Bitwise operators are used in images in computer vision to perform some operations like edge detection, image segmentation, etc. and also used in cryptography to encrypt and decrypt the data. \n",
    "\n",
    "**Eg** : a = 10, b = 20\n",
    "\n",
    "- Common things actually use in our mathematics like bitwise AND, bitwise OR, bitwise XOR, bitwise NOT, bitwise left shift, bitwise right shift, etc  .\n",
    "\n",
    "##### Examples of Bitwise Operators :"
   ]
  },
  {
   "cell_type": "code",
   "execution_count": 15,
   "metadata": {},
   "outputs": [
    {
     "name": "stdout",
     "output_type": "stream",
     "text": [
      "2\n",
      "3\n",
      "1\n",
      "-4\n",
      "1\n",
      "20\n"
     ]
    }
   ],
   "source": [
    "# bitwise and \n",
    "print(2 & 3)   #  2 is 0010 and 3 is 0011 so 0010 & 0011 is 0010 which is 2\n",
    "\n",
    "# bitwise or\n",
    "print(2 | 3)   #  2 is 0010 and 3 is 0011 so 0010 | 0011 is 0011 which is 3\n",
    "\n",
    "# bitwise xor\n",
    "print(2 ^ 3)  #  2 is 0010 and 3 is 0011 so 0010 ^ 0011 is 0001 which is 1\n",
    "\n",
    "#bitwise not\n",
    "print(~3)    # 3 is 0011 so ~0011 is 1100 which is -4\n",
    "\n",
    "#right shift\n",
    "print(4 >> 2)  # 4 is 0100 so 0100 >> 2 is 0001 which is 1\n",
    "\n",
    "#left shift\n",
    "print(5 << 2)  # 5 is 0101 so 0101 << 2 is 010100 which is 20"
   ]
  },
  {
   "cell_type": "markdown",
   "metadata": {},
   "source": [
    "#### 5) Assignment Operators :\n",
    "\n",
    "Assignment operators are used in Python to assign values to variables.\n",
    "\n",
    "= is an assignment operator in Python. It assigns values from right side operands to the left side operand.\n",
    "\n",
    "**Eg** : a = 10, b = 20\n",
    "\n",
    "- Common things actually use in our mathematics like =, +=, -=, *=, /=, %=, //=, **=, etc  .\n",
    "\n",
    "##### Examples of Assignment Operators :"
   ]
  },
  {
   "cell_type": "code",
   "execution_count": 22,
   "metadata": {},
   "outputs": [
    {
     "name": "stdout",
     "output_type": "stream",
     "text": [
      "3\n"
     ]
    }
   ],
   "source": [
    "a = 2\n",
    "\n",
    "a += 1      # a = a + 1\n",
    "\n",
    "print(a)"
   ]
  },
  {
   "cell_type": "markdown",
   "metadata": {},
   "source": [
    "#### 6) Membership Operators :\n",
    "\n",
    "Membership operators are used to test if a sequence is presented in an object.\n",
    "\n",
    "[ in, not in ] are the membership operators in Python. \n",
    "\n",
    "**Eg** : a = 10, b = 20\n",
    "\n",
    "- Common things actually use in our mathematics like in, not in, etc  . \n",
    "\n",
    "##### Examples of Membership Operators :\n"
   ]
  },
  {
   "cell_type": "code",
   "execution_count": 19,
   "metadata": {},
   "outputs": [
    {
     "name": "stdout",
     "output_type": "stream",
     "text": [
      "True\n"
     ]
    }
   ],
   "source": [
    "\n",
    "\n",
    "print('D' not in 'Rajkumar')  # Returns True if the character is not present in the string"
   ]
  },
  {
   "cell_type": "code",
   "execution_count": 20,
   "metadata": {},
   "outputs": [
    {
     "name": "stdout",
     "output_type": "stream",
     "text": [
      "False\n"
     ]
    }
   ],
   "source": [
    "print('D' in 'Rajkumar')  # Returns True if the character is present in the string "
   ]
  },
  {
   "cell_type": "code",
   "execution_count": 23,
   "metadata": {},
   "outputs": [
    {
     "name": "stdout",
     "output_type": "stream",
     "text": [
      "True\n"
     ]
    }
   ],
   "source": [
    "# Membership operator is used to check whether the element is present in the list or not\n",
    "\n",
    "print(10 not in [1,2,3,4]) # Returns True if the number is not present in the list"
   ]
  },
  {
   "cell_type": "code",
   "execution_count": 24,
   "metadata": {},
   "outputs": [
    {
     "name": "stdout",
     "output_type": "stream",
     "text": [
      "False\n"
     ]
    }
   ],
   "source": [
    "# Membership operator is used to check whether the element is present in the list or not\n",
    "\n",
    "print(10 in [1,2,3,4])  # Returns True if the number is present in the list"
   ]
  },
  {
   "cell_type": "markdown",
   "metadata": {},
   "source": []
  }
 ],
 "metadata": {
  "kernelspec": {
   "display_name": "base",
   "language": "python",
   "name": "python3"
  },
  "language_info": {
   "codemirror_mode": {
    "name": "ipython",
    "version": 3
   },
   "file_extension": ".py",
   "mimetype": "text/x-python",
   "name": "python",
   "nbconvert_exporter": "python",
   "pygments_lexer": "ipython3",
   "version": "3.12.4"
  }
 },
 "nbformat": 4,
 "nbformat_minor": 2
}
