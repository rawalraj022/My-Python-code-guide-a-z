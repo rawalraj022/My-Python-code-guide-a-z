{
 "cells": [
  {
   "cell_type": "markdown",
   "id": "a1899102",
   "metadata": {},
   "source": [
    "### # Introduction to Python :\n",
    "\n",
    "Python is a **high-level, general-purpose programming language**. It’s design philosophy emphasizes **code readability** and **code reusability** with the **use of significant indentation**. \n",
    "\n",
    "- **In Object oriented programming** inside the python there **we will be learning about the** **code reusability**.\n",
    "- **Code readability wise** we will **automatically get the idea whenever we’ll be doing the coding inside python**.\n",
    "- Python programming language is easy programming language so, if we know English language then, we will be able to understand this python programming language .\n",
    "\n",
    "### # Why Python ?\n",
    "\n",
    "⇒ There are so many programming language over the market but why python is so popular and why we have to learn the python . \n",
    "\n",
    "  There are many reason but some of them are as follow :\n",
    "\n",
    "1. **Easy to learn** :\n",
    "    - Because any one who knows the english language then, they will easily learn the python programming language.\n",
    "2. **Design Philosophy :** \n",
    "    - Python Design Philosophy helps a programmer for the **code readability** and **code reusability** . Further we are going to discuss about these topic in detail .\n",
    "3. **Batteries Included :** \n",
    "    - Batteries Included means like it is **having already lots of predefined function** and **Method** . This will help us to write our code in a faster way . This particular functionality is not available inside other programming language .\n",
    "    - So let’s take an example , let’s say there are list of number let’s say 1 2 3 4 5 now what we want to do is reverse that particular number that means 5 4 3 2 1 . So in other programming language what we have to do is write that particular code from scratch to reverse that particular number **but inside python we already have one predefined method** . Predefined method means predefined function with the help of that predefined function what we can do , we can pass that particular list of the number it will automatically do the reverse operation for us , so this is **called batteries included** .\n",
    "        - **Likewise we are having so many functions so many method inside python** . So this will make our task very much easy and **we can write very fast code in python** and whenever we will be implementing any kinds of product and software our task would be very much easy because so many things are already available inside python so we can use as it .\n",
    "4. **General Purpose :** \n",
    "    - Python is general purpose programming language .\n",
    "    - What is general purpose ? ⇒ General purpose means we can use python anywhere let’s say we want to do **software engineering** with the help of python , we can do it. Let’s say we want to do **data science** with the help of python we can do it . Let’s say we want to do **web development** with the help of python we can do it. Let’s say we want to do **blockchain** with the help of python we can do it. **It’s a general purpose programming language , we can use python programming language anywhere**  .\n",
    "5. **Libraries & Community :** \n",
    "    - Python has so many pre-build Library . Different different library with respect to different different domain .\n",
    "    - Let’s say if we want to work with the machine learning , so in **machine learning** there are so many **pre-define Library** . so **we can install particular library** and we can use those functionality for machine learning task . **So python has like thousands of thousands Library we can use it for all the domain and** one amazing support we will get which is nothing but community Support , so it is having larger community over the Internet  ****. So, whenever we facing any kinds of issue with the code , we can post over the community instantly we will get the response . Python is not popular in past but nowadays **python is popular because of the community support and libraries** .\n",
    "\n",
    "### # Installation & Environment Setup :\n",
    "\n",
    "- We can use Python in so many ways , some of them are , **with the help of these particular tools actually we can use python**  :\n",
    "    \n",
    "    \n",
    "    - **First one** is **official python installer** , so this official python installer **we can install in our operating system** and we can use that particular python programming language that means **we can execute our code there** .\n",
    "        \n",
    "        [Welcome to Python.org](https://www.python.org/)\n",
    "        \n",
    "    - **Second one** is **Anaconda environment** , Anaconda tool is more advanced than the official python installer because it is having so many things integrated with it , let’s say if we want to do the **machine learning**, **deep learning**, **data science** kinds of work . So already lots of package would be pre-installed inside the particular anaconda environment .\n",
    "        - Let’s we want to setup particular package inside python and if we’re using official python installer then there actually we may get some of the issue for this **we have to install additional tool** . If we’re using Anaconda then **we don’t need to install additional tool**.\n",
    "        - Anaconda will make our task easy . So **these First** and **Second** are actually local setup for local machine for that time we can use **official python installer** or **Anaconda environment** .\n",
    "            \n",
    "            [Download Anaconda Distribution | Anaconda](https://www.anaconda.com/download)\n",
    "            \n",
    "            **What is Anaconda used for in Python ?** \n",
    "            \n",
    "            ⇒            Anaconda is a distribution of the Python and R programming languages for scientific computing (data science, machine learning applications, large-scale data processing, predictive analytics, etc.), that **aims to simplify package management and deployment**.\n",
    "            \n",
    "    - **Third one** is **Google collaboratory** , With the help of google collaboratory we can execute particular Python program but it is not a local setup actually google collaboratory is remote server so it is available on google server . It can only execute our code in the internet  . We will have one virtual machine there that means it will have RAM, CPU , GPU everything we will get here in that particular machine , so inside virtual machine we can actually execute our code.\n",
    "        - Let’s say if we don’t have actually good configuration like computers so , what we can do is we can use this particular Google collab.\n",
    "        - If we are doing the python coding then, we don’t need a good configuration machine because all of the code we can execute in our system only . What ever system we are using but if we are doing Advanced kinds of work, let’s if we’re doing machine learning , deep learning , web development these kinds of work that time actually we should have good configuration machine . There we have to install so many tools and Technology. But if we want to do as experiment as of now we can use this particular google collaboratory .\n",
    "    \n",
    "    - We are going to use **vscode IDE** .\n",
    "\n"
   ]
  },
  {
   "cell_type": "markdown",
   "id": "b46db3a0",
   "metadata": {},
   "source": []
  }
 ],
 "metadata": {
  "language_info": {
   "name": "python"
  }
 },
 "nbformat": 4,
 "nbformat_minor": 5
}
