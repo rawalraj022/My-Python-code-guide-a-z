{
 "cells": [
  {
   "cell_type": "markdown",
   "metadata": {},
   "source": [
    "# Exercise :\n",
    "\n",
    "#### Find the sum of a 3 digit number entered by the user ? "
   ]
  },
  {
   "cell_type": "code",
   "execution_count": null,
   "metadata": {},
   "outputs": [],
   "source": [
    "number = int(input(\"Enter 3 numbers to perform sum: \"))\n",
    "\n",
    "# 345%10 = 5\n",
    "a = number%10\n",
    "\n",
    "#345//10 = 34\n",
    "number = number//10\n",
    "#34%10 = 4\n",
    "b = number%10\n",
    "\n",
    "number = number//10\n",
    "#3%10 = 3\n",
    "c = number%10\n",
    "\n",
    "\n",
    "result = a + b + c\n",
    "\n",
    "print(result)"
   ]
  },
  {
   "cell_type": "markdown",
   "metadata": {},
   "source": [
    "#### Find the subtraction of a 3 digit number entered by the user ? "
   ]
  },
  {
   "cell_type": "code",
   "execution_count": null,
   "metadata": {},
   "outputs": [],
   "source": []
  },
  {
   "cell_type": "markdown",
   "metadata": {},
   "source": [
    "#### Find the multiplication of a 3 digit number entered by the user ? "
   ]
  },
  {
   "cell_type": "code",
   "execution_count": null,
   "metadata": {},
   "outputs": [],
   "source": []
  },
  {
   "cell_type": "markdown",
   "metadata": {},
   "source": [
    "#### Find the division of a 3 digit number entered by the user ? "
   ]
  },
  {
   "cell_type": "code",
   "execution_count": null,
   "metadata": {},
   "outputs": [],
   "source": []
  },
  {
   "cell_type": "markdown",
   "metadata": {},
   "source": []
  }
 ],
 "metadata": {
  "kernelspec": {
   "display_name": "base",
   "language": "python",
   "name": "python3"
  },
  "language_info": {
   "name": "python",
   "version": "3.12.4"
  }
 },
 "nbformat": 4,
 "nbformat_minor": 2
}
