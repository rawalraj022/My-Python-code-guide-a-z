{
 "cells": [
  {
   "cell_type": "markdown",
   "metadata": {},
   "source": [
    "# Exercise :\n",
    "\n",
    "#### Find the sum of a 3 digit number entered by the user ? "
   ]
  },
  {
   "cell_type": "code",
   "execution_count": 12,
   "metadata": {},
   "outputs": [
    {
     "name": "stdout",
     "output_type": "stream",
     "text": [
      "12\n"
     ]
    }
   ],
   "source": [
    "\n",
    "# This is a simple python program to perform sum of 3 numbers entered by the user.\n",
    "\n",
    "number = int(input(\"Enter 3 numbers to perform sum: \"))   # int() is used to convert string to integer and input() is used to take input from the user and convert it to string and then store it in number variable.\n",
    "\n",
    "## what is the logic behind this code and how it is working ?\n",
    "# => The logic behind this code is to get the last digit of the number entered by the user and store it in a variable like a, b, c.\n",
    "    # Then remove the last digit from the number entered by the user and store the remaining number in the same variable like number. \n",
    "    # Repeat the above two steps until the number entered by the user becomes 0.\n",
    "    # Add all the last digits stored in the variables and print the result.\n",
    "\n",
    "# => To get the last digit of the number entered by the user, we are using % operator. % operator is used to get the remainder of the division like 345%10 = 5.\n",
    "    # To remove the last digit from the number entered by the user, we are using // operator. // operator is used to get the quotient of the division like 345//10 = 34.\n",
    "    # We are repeating the above two steps to get the last digit of the number entered by the user and store it in a variables like a, b, c.\n",
    "    # Then we are adding all the last digits stored in the variables and storing the result in a variable called result.\n",
    "    # Finally, we are printing the result.\n",
    "\n",
    "    # % is modulus operator and // is integer division operator. % is used to get the remainder of the division and // is used to get the quotient of the division.\n",
    "\n",
    "# Python will run the code line by line from top to bottom so, the below explanation is also line by line from top to bottom. \n",
    "\n",
    "# Example: 345 is the number entered by the user. \n",
    "\n",
    "# To get the last digit of the number '345' and store it in 'a' variable.\n",
    "# 345%10 = 5\n",
    "a = number%10    # % is used to get remainder of the division. Here 345%10 will give 5 as remainder and store it in 'a' variable.\n",
    "\n",
    "# To remove the last digit from the number '345' and store the remaining number '34' in 'number' variable.\n",
    "#345//10 = 34 \n",
    "number = number//10       # // is used to get quotient of the division. Here 345//10 will give 34 as quotient and store it in number variable.\n",
    "\n",
    "# To get the last digit of the remaining number '34' and store it in 'b' variable.\n",
    "#34%10 = 4\n",
    "b = number%10            # % is used to get remainder of the division. Here 34%10 will give 4 as remainder and store it in 'b' variable.\n",
    "\n",
    "# To remove the last digit from the remaining number '34' and store the remaining number '3' in 'number' variable.\n",
    "# 34//10 = 3\n",
    "number = number//10    # // is used to get quotient of the division. Here 34//10 will give 3 as quotient and store it in number variable.\n",
    "\n",
    "# To get the last digit of the remaining number '3' and store it in 'c' variable.\n",
    "#3%10 = 3\n",
    "c = number%10         # % is used to get remainder of the division. Here 3%10 will give 3 as remainder and store it in c variable.\n",
    "\n",
    "result = a + b + c    # Adding a = 5, b = 4 and c = 3 and storing the result in result variable. \n",
    "\n",
    "print(result)        # Printing the result.\n",
    "\n"
   ]
  },
  {
   "cell_type": "markdown",
   "metadata": {},
   "source": [
    "#### Find the subtraction of a 3 digit number entered by the user ? "
   ]
  },
  {
   "cell_type": "code",
   "execution_count": 25,
   "metadata": {},
   "outputs": [
    {
     "name": "stdout",
     "output_type": "stream",
     "text": [
      "-2\n"
     ]
    }
   ],
   "source": [
    "\n",
    "# This is a simple python program to perform subtraction of 3 numbers entered by the user.\n",
    "\n",
    "number = int(input(\"Enter 3 number to perform subtraction:\"))  # int() is used to convert string to integer and input() is used to take input from the user and convert it to string and then store it in number variable.\n",
    "\n",
    "## what is the logic behind this code and how it is working ?\n",
    "# => The logic behind this code is to get the last digit of the number entered by the user and store it in a variable like a, b, c.\n",
    "    # Then remove the last digit from the number entered by the user and store the remaining number in the same variable like number. \n",
    "    # Repeat the above two steps until the number entered by the user becomes 0.\n",
    "    # Subtract all the last digits stored in the variables and print the result.\n",
    "\n",
    "# => To get the last digit of the number entered by the user, we are using % operator. % operator is used to get the remainder of the division like 345%10 = 5.\n",
    "    # To remove the last digit from the number entered by the user, we are using // operator. // operator is used to get the quotient of the division like 345//10 = 34.\n",
    "    # We are repeating the above two steps to get the last digit of the number entered by the user and store it in a variables like a, b, c.\n",
    "    # Then we are subtracting all the last digits stored in the variables and storing the result in a variable called result.\n",
    "    # Finally, we are printing the result.\n",
    "\n",
    "    # % is modulus operator and // is integer division operator. % is used to get the remainder of the division and // is used to get the quotient of the division.\n",
    "\n",
    "# Python will run the code line by line from top to bottom so, the below explanation is also line by line from top to bottom.\n",
    "\n",
    "# Example: 345 is the number entered by the user.\n",
    "\n",
    "# To get the last digit of the number '345' and store it in 'a' variable.\n",
    "# 345%10 = 5\n",
    "a = number%10        # % is used to get remainder of the division. Here 345%10 will give 5 as remainder and store it in 'a' variable.\n",
    "\n",
    "# To remove the last digit from the number '345' and store the remaining number '34' in 'number' variable.\n",
    "number = number//10   # // is used to get quotient of the division. Here 345//10 will give 34 as quotient and store it in number variable.\n",
    "\n",
    "# To get the last digit of the remaining number '34' and store it in 'b' variable.\n",
    "b = number%10       # % is used to get remainder of the division. Here 34%10 will give 4 as remainder and store it in 'b' variable.\n",
    "\n",
    "# To remove the last digit from the remaining number '34' and store the remaining number '3' in 'number' variable.\n",
    "number = number//10   # // is used to get quotient of the division. Here 34//10 will give 3 as quotient and store it in number variable.\n",
    "\n",
    "# To get the last digit of the remaining number '3' and store it in 'c' variable.\n",
    "c = number%10      # % is used to get remainder of the division. Here 3%10 will give 3 as remainder and store it in c variable.\n",
    "\n",
    "result = a - b - c   # Subtracting a = 5, b = 4 and c = 3 and storing the result in result variable.\n",
    "\n",
    "print(result)      # Printing the result.\n",
    "\n",
    "\n",
    "\n"
   ]
  },
  {
   "cell_type": "markdown",
   "metadata": {},
   "source": [
    "#### Find the multiplication of a 3 digit number entered by the user ? "
   ]
  },
  {
   "cell_type": "code",
   "execution_count": null,
   "metadata": {},
   "outputs": [
    {
     "name": "stdout",
     "output_type": "stream",
     "text": [
      "60\n"
     ]
    }
   ],
   "source": [
    "# This is a simple python program to perform multiplication of 3 numbers entered by the user.\n",
    "\n",
    "number = input(\" Enter 3 numbers to perform sum: \")  # input() is used to take input from the user and convert it to string and then store it in number variable. \n",
    "\n",
    "## what is the logic behind this code and how it is working ?\n",
    "# => The logic behind this code is to get the last digit of the number entered by the user and store it in a variable like a, b, c.\n",
    "    # Then remove the last digit from the number entered by the user and store the remaining number in the same variable like number. \n",
    "    # Repeat the above two steps until the number entered by the user becomes 0.\n",
    "    # Multiply all the last digits stored in the variables and print the result.        \n",
    "\n",
    "# => To get the last digit of the number entered by the user, we are using % operator. % operator is used to get the remainder of the division like 345%10 = 5.   \n",
    "    # To remove the last digit from the number entered by the user, we are using // operator. // operator is used to get the quotient of the division like 345//10 = 34.\n",
    "    # We are repeating the above two steps to get the last digit of the number entered by the user and store it in a variables like a, b, c.\n",
    "    # Then we are multiplying all the last digits stored in the variables and storing the result in a variable called result.\n",
    "    # Finally, we are printing the result.\n",
    "\n",
    "    # % is modulus operator and // is integer division operator. % is used to get the remainder of the division and // is used to get the quotient of the division. \n",
    "\n",
    "# Python will run the code line by line from top to bottom so, the below explanation is also line by line from top to bottom.\n",
    "\n",
    "# Example: 345 is the number entered by the user.\n",
    "\n",
    "# To get the last digit of the number '345' and store it in 'a' variable.\n",
    "\n",
    "a = number%10   # % is used to get remainder of the division. Here 345%10 will give 5 as remainder and store it in 'a' variable.\n",
    "\n",
    "# To remove the last digit from the number '345' and store the remaining number '34' in 'number' variable.\n",
    "\n",
    "number = number//10  # // is used to get quotient of the division. Here 345//10 will give 34 as quotient and store it in number variable.\n",
    "\n",
    "# To get the last digit of the remaining number '34' and store it in 'b' variable.\n",
    "\n",
    "b = number%10   # % is used to get remainder of the division. Here 34%10 will give 4 as remainder and store it in 'b' variable.\n",
    "\n",
    "# To remove the last digit from the remaining number '34' and store the remaining number '3' in 'number' variable.\n",
    "\n",
    "number = number//10  # // is used to get quotient of the division. Here 34//10 will give 3 as quotient and store it in number variable.\n",
    "\n",
    "# To get the last digit of the remaining number '3' and store it in 'c' variable.\n",
    "\n",
    "c = number%10   # % is used to get remainder of the division. Here 3%10 will give 3 as remainder and store it in c variable.\n",
    "\n",
    "result = a * b * c   # Multiplying a = 5, b = 4 and c = 3 and storing the result in result variable.\n",
    "\n",
    "print(result)   # Printing the result."
   ]
  },
  {
   "cell_type": "markdown",
   "metadata": {},
   "source": [
    "#### Find the division of a 3 digit number entered by the user ?"
   ]
  },
  {
   "cell_type": "code",
   "execution_count": 26,
   "metadata": {},
   "outputs": [
    {
     "name": "stdout",
     "output_type": "stream",
     "text": [
      "0.4166666666666667\n"
     ]
    }
   ],
   "source": [
    "# This is a simple python program to perform division of 3 numbers entered by the user.\n",
    "\n",
    "number = int(input(\"Enter the 3 numbers to perform division: \")) # int() is used to convert string to integer and input() is used to take input from the user and convert it to string and then store it in number variable.\n",
    "\n",
    "## what is the logic behind this code and how it is working ?\n",
    "# => The logic behind this code is to get the last digit of the number entered by the user and store it in a variable like a, b, c.\n",
    "    # Then remove the last digit from the number entered by the user and store the remaining number in the same variable like number. \n",
    "    # Repeat the above two steps until the number entered by the user becomes 0.\n",
    "    # Divide all the last digits stored in the variables and print the result.\n",
    "\n",
    "# => To get the last digit of the number entered by the user, we are using % operator. % operator is used to get the remainder of the division like 345%10 = 5.\n",
    "    # To remove the last digit from the number entered by the user, we are using // operator. // operator is used to get the quotient of the division like 345//10 = 34.\n",
    "    # We are repeating the above two steps to get the last digit of the number entered by the user and store it in a variables like a, b, c.\n",
    "    # Then we are dividing all the last digits stored in the variables and storing the result in a variable called result.\n",
    "    # Finally, we are printing the result.\n",
    "\n",
    "    # % is modulus operator and // is integer division operator. % is used to get the remainder of the division and // is used to get the quotient of the division.\n",
    "\n",
    "\n",
    "# Python will run the code line by line from top to bottom so, the below explanation is also line by line from top to bottom.\n",
    "\n",
    "# Example: 345 is the number entered by the user.\n",
    "\n",
    "# To get the last digit of the number '345' and store it in 'a' variable.\n",
    "\n",
    "a = number%10   # % is used to get remainder of the division. Here 345%10 will give 5 as remainder and store it in 'a' variable.\n",
    "\n",
    "# To remove the last digit from the number '345' and store the remaining number '34' in 'number' variable.\n",
    "\n",
    "number = number//10  # // is used to get quotient of the division. Here 345//10 will give 34 as quotient and store it in number variable.   \n",
    "\n",
    "# To get the last digit of the remaining number '34' and store it in 'b' variable.\n",
    "\n",
    "b = number%10   # % is used to get remainder of the division. Here 34%10 will give 4 as remainder and store it in 'b' variable.\n",
    "\n",
    "# To remove the last digit from the remaining number '34' and store the remaining number '3' in 'number' variable.\n",
    "\n",
    "number = number//10  # // is used to get quotient of the division. Here 34//10 will give 3 as quotient and store it in number variable.\n",
    "\n",
    "# To get the last digit of the remaining number '3' and store it in 'c' variable.\n",
    "\n",
    "c = number%10   # % is used to get remainder of the division. Here 3%10 will give 3 as remainder and store it in c variable.\n",
    "\n",
    "result = a / b / c   # Dividing a = 5, b = 4 and c = 3 and storing the result in result variable.\n",
    "\n",
    "print(result)   # Printing the result.\n",
    "\n",
    "\n"
   ]
  },
  {
   "cell_type": "code",
   "execution_count": null,
   "metadata": {},
   "outputs": [],
   "source": []
  }
 ],
 "metadata": {
  "kernelspec": {
   "display_name": "base",
   "language": "python",
   "name": "python3"
  },
  "language_info": {
   "codemirror_mode": {
    "name": "ipython",
    "version": 3
   },
   "file_extension": ".py",
   "mimetype": "text/x-python",
   "name": "python",
   "nbconvert_exporter": "python",
   "pygments_lexer": "ipython3",
   "version": "3.12.4"
  }
 },
 "nbformat": 4,
 "nbformat_minor": 2
}
