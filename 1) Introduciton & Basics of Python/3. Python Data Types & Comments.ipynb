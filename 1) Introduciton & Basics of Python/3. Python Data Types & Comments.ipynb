{
 "cells": [
  {
   "cell_type": "markdown",
   "id": "74a2974f",
   "metadata": {},
   "source": [
    "# Comments in python \n"
   ]
  },
  {
   "cell_type": "code",
   "execution_count": 1,
   "id": "d0418b22",
   "metadata": {},
   "outputs": [
    {
     "name": "stdout",
     "output_type": "stream",
     "text": [
      "my name is rajkumar\n"
     ]
    }
   ],
   "source": [
    "\n",
    "# this is a single line comment, this print fuction print a sentence\n",
    "print(\"my name is rajkumar\") "
   ]
  },
  {
   "cell_type": "markdown",
   "id": "fe6311ea",
   "metadata": {},
   "source": [
    "'Command + /' :\n",
    " \n",
    "To comment the all multiple lines at once. By selecting the lines and pressing 'Command + /' will comment all the selected lines at once.\n"
   ]
  },
  {
   "cell_type": "code",
   "execution_count": 2,
   "id": "e38a113b",
   "metadata": {},
   "outputs": [
    {
     "name": "stdout",
     "output_type": "stream",
     "text": [
      "my name is rajkumar\n"
     ]
    }
   ],
   "source": [
    "\"\"\"\n",
    "This is multiple line comment,\n",
    "It has three on top and three on below ,\n",
    "\n",
    "\"\"\"\n",
    "print(\"my name is rajkumar\")"
   ]
  },
  {
   "cell_type": "markdown",
   "id": "5a802bf0",
   "metadata": {},
   "source": [
    "# Data Type in Python \n",
    "\n",
    "1) Integer \n",
    "2) Float (decimal)\n",
    "3) Boolean (True or False )\n",
    "4) String ( text )\n",
    "5) Complex \n",
    "6) List ( ordered collection )\n",
    "7) Tuple ( immutable ordered collection )\n",
    "8) Sets ( unordered collection of unique elements )\n",
    "9) Dictionary ( key-value pairs )\n",
    "\n"
   ]
  },
  {
   "cell_type": "code",
   "execution_count": 3,
   "id": "bc8ef7fe",
   "metadata": {},
   "outputs": [
    {
     "name": "stdout",
     "output_type": "stream",
     "text": [
      "4\n"
     ]
    }
   ],
   "source": [
    "# 1) Integer\n",
    "\n",
    "print(4) # This is Integer datatype "
   ]
  },
  {
   "cell_type": "code",
   "execution_count": 4,
   "id": "62f85682",
   "metadata": {},
   "outputs": [
    {
     "name": "stdout",
     "output_type": "stream",
     "text": [
      "20000\n"
     ]
    }
   ],
   "source": [
    "print(20000) # This is a integer number"
   ]
  },
  {
   "cell_type": "code",
   "execution_count": 5,
   "id": "9014b3cd",
   "metadata": {},
   "outputs": [
    {
     "name": "stdout",
     "output_type": "stream",
     "text": [
      "4.5\n"
     ]
    }
   ],
   "source": [
    "# 2) Float\n",
    "# Float is a number that has a decimal point\n",
    "\n",
    "print(4.5)  # This is a float number "
   ]
  },
  {
   "cell_type": "code",
   "execution_count": 6,
   "id": "3c3aada1",
   "metadata": {},
   "outputs": [
    {
     "data": {
      "text/plain": [
       "int"
      ]
     },
     "execution_count": 6,
     "metadata": {},
     "output_type": "execute_result"
    }
   ],
   "source": [
    "# type() function is used to check the datatype of the data .\n",
    "\n",
    "type(3)  # Here we're checking the datatype of the data 3\n",
    "\n"
   ]
  },
  {
   "cell_type": "code",
   "execution_count": 7,
   "id": "9bc01d45",
   "metadata": {},
   "outputs": [
    {
     "data": {
      "text/plain": [
       "float"
      ]
     },
     "execution_count": 7,
     "metadata": {},
     "output_type": "execute_result"
    }
   ],
   "source": [
    "type(3.5) # Here we're checking the datatype of the data 3.5"
   ]
  },
  {
   "cell_type": "code",
   "execution_count": 8,
   "id": "9bee133b",
   "metadata": {},
   "outputs": [
    {
     "name": "stdout",
     "output_type": "stream",
     "text": [
      "True\n"
     ]
    }
   ],
   "source": [
    "# 3) Boolean\n",
    "\n",
    "# True or False \n",
    "# Python is case sensitive language, so we have to write True or False in capital letter only.\n",
    "# True = 1\n",
    "# False = 0\n",
    "\n",
    "print(True) # True is a boolean datatype and it's value is 1 \n"
   ]
  },
  {
   "cell_type": "code",
   "execution_count": 9,
   "id": "fb3d5155",
   "metadata": {},
   "outputs": [
    {
     "data": {
      "text/plain": [
       "bool"
      ]
     },
     "execution_count": 9,
     "metadata": {},
     "output_type": "execute_result"
    }
   ],
   "source": [
    "type(True) # True is a boolean datatype and it's value is 1 \n"
   ]
  },
  {
   "cell_type": "code",
   "execution_count": 10,
   "id": "1bfd4232",
   "metadata": {},
   "outputs": [
    {
     "name": "stdout",
     "output_type": "stream",
     "text": [
      "Hello World\n"
     ]
    }
   ],
   "source": [
    "# 4) String\n",
    "\n",
    "# String is a sequence of characters enclosed in single or double quotes.\n",
    "\n",
    "print(\"Hello World\") # Here \"Hello World\" is a string datatype and it's enclosed in double quotes."
   ]
  },
  {
   "cell_type": "code",
   "execution_count": 11,
   "id": "4d883319",
   "metadata": {},
   "outputs": [
    {
     "data": {
      "text/plain": [
       "str"
      ]
     },
     "execution_count": 11,
     "metadata": {},
     "output_type": "execute_result"
    }
   ],
   "source": [
    "type(\"Hello World  \") # Here \"Hello World\" is a string datatype and it's enclosed in double quotes."
   ]
  },
  {
   "cell_type": "code",
   "execution_count": 12,
   "id": "02ea869c",
   "metadata": {},
   "outputs": [
    {
     "name": "stdout",
     "output_type": "stream",
     "text": [
      "(5+7j)\n"
     ]
    }
   ],
   "source": [
    "# 5) Complex Number\n",
    "\n",
    "# Complex number is a number that has a real part and an imaginary part.\n",
    "\n",
    "print(5+7j)  # 5 is real part and 7j is imaginary part  [ j is used to represent the imaginary part ]"
   ]
  },
  {
   "cell_type": "code",
   "execution_count": 13,
   "id": "92fa0dfe",
   "metadata": {},
   "outputs": [
    {
     "data": {
      "text/plain": [
       "complex"
      ]
     },
     "execution_count": 13,
     "metadata": {},
     "output_type": "execute_result"
    }
   ],
   "source": [
    "type(5+7j) # 5 is real part and 7j is imaginary part  [ j is used to represent the imaginary part ]"
   ]
  },
  {
   "cell_type": "code",
   "execution_count": 14,
   "id": "9952da6e",
   "metadata": {},
   "outputs": [
    {
     "name": "stdout",
     "output_type": "stream",
     "text": [
      "[1, 2, 3, 4, 5, 6, 7, 8, 9, 10]\n"
     ]
    }
   ],
   "source": [
    "# 6) List \n",
    "\n",
    "# List is a collection of data which is ordered and changeable.\n",
    "\n",
    "print([1,2,3,4,5,6,7,8,9,10])  # Here [1,2,3,4,5,6,7,8,9,10] is a list datatype and it's enclosed in square brackets."
   ]
  },
  {
   "cell_type": "code",
   "execution_count": 15,
   "id": "3dc74313",
   "metadata": {},
   "outputs": [
    {
     "data": {
      "text/plain": [
       "list"
      ]
     },
     "execution_count": 15,
     "metadata": {},
     "output_type": "execute_result"
    }
   ],
   "source": [
    "type([1,2,3,4,5,6,7,8,9,10]) # Here [1,2,3,4,5,6,7,8,9,10] is a list datatype and it's enclosed in square brackets."
   ]
  },
  {
   "cell_type": "code",
   "execution_count": 16,
   "id": "c0535091",
   "metadata": {},
   "outputs": [
    {
     "name": "stdout",
     "output_type": "stream",
     "text": [
      "(1, 2, 3, 4, 5, 6, 7, 8, 9, 10)\n"
     ]
    }
   ],
   "source": [
    "# 7) Tuple  \n",
    "\n",
    "# Tuple is a collection of data which is ordered and unchangeable.\n",
    "\n",
    "print((1,2,3,4,5,6,7,8,9,10))  # 1,2,3,4,5,6,7,8,9,10 is a tuple and it's ordered and unchangeable. \n",
    "\n"
   ]
  },
  {
   "cell_type": "code",
   "execution_count": 17,
   "id": "334f8c6c",
   "metadata": {},
   "outputs": [
    {
     "data": {
      "text/plain": [
       "tuple"
      ]
     },
     "execution_count": 17,
     "metadata": {},
     "output_type": "execute_result"
    }
   ],
   "source": [
    "type((1,2,3,4,5,6,7,8,9,10))  # 1,2,3,4,5,6,7,8,9,10 is a tuple and it's ordered and unchangeable."
   ]
  },
  {
   "cell_type": "code",
   "execution_count": 18,
   "id": "460bb045",
   "metadata": {},
   "outputs": [
    {
     "name": "stdout",
     "output_type": "stream",
     "text": [
      "{1, 2, 3, 4, 5, 6, 7, 8, 9, 10}\n"
     ]
    }
   ],
   "source": [
    "# 8) Set\n",
    "\n",
    "# Set is a collection of data which is unordered and unindexed .\n",
    "\n",
    "print({1,2,3,4,5,6,7,8,9,10})  # 1,2,3,4,5,6,7,8,9,10 is a set of data and it's unordered and unindexed.\n"
   ]
  },
  {
   "cell_type": "code",
   "execution_count": 19,
   "id": "611b08e7",
   "metadata": {},
   "outputs": [
    {
     "data": {
      "text/plain": [
       "set"
      ]
     },
     "execution_count": 19,
     "metadata": {},
     "output_type": "execute_result"
    }
   ],
   "source": [
    "type({1,2,3,4,5,6,7,8,9,10})  # 1,2,3,4,5,6,7,8,9,10 is a set of data and it's unordered and unindexed."
   ]
  },
  {
   "cell_type": "code",
   "execution_count": 20,
   "id": "fa6b388a",
   "metadata": {},
   "outputs": [
    {
     "name": "stdout",
     "output_type": "stream",
     "text": [
      "{1: 'Raj', 2: 'Kumar', 3: 'Rajkumar'}\n"
     ]
    }
   ],
   "source": [
    "# 9) Dictionary\n",
    "\n",
    "# Dictionary is a collection of data which is unordered, changeable and indexed.\n",
    "\n",
    "print({1:\"Raj\", 2:\"Kumar\", 3:\"Rajkumar\"})  # 1,2,3 are the keys and \"Raj\", \"Kumar\", \"Rajkumar\" are the values of the keys. Stored in curly brackets. stored in key value pair. "
   ]
  },
  {
   "cell_type": "code",
   "execution_count": 21,
   "id": "d61c3259",
   "metadata": {},
   "outputs": [
    {
     "data": {
      "text/plain": [
       "dict"
      ]
     },
     "execution_count": 21,
     "metadata": {},
     "output_type": "execute_result"
    }
   ],
   "source": [
    "type({1:\"Raj\", 2:\"Kumar\", 3:\"Rajkumar\"})  # 1,2,3 are the keys and \"Raj\", \"Kumar\", \"Rajkumar\" are the values of the keys. Stored in curly brackets. stored in key value pair."
   ]
  },
  {
   "cell_type": "code",
   "execution_count": null,
   "id": "59e3520f",
   "metadata": {},
   "outputs": [],
   "source": []
  }
 ],
 "metadata": {
  "kernelspec": {
   "display_name": "base",
   "language": "python",
   "name": "python3"
  },
  "language_info": {
   "codemirror_mode": {
    "name": "ipython",
    "version": 3
   },
   "file_extension": ".py",
   "mimetype": "text/x-python",
   "name": "python",
   "nbconvert_exporter": "python",
   "pygments_lexer": "ipython3",
   "version": "3.12.4"
  }
 },
 "nbformat": 4,
 "nbformat_minor": 5
}
