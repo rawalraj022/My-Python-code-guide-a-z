{
 "cells": [
  {
   "cell_type": "markdown",
   "metadata": {},
   "source": [
    "There are two type of applications they are :\n",
    "i) Static applications  => Calender, Clock\n",
    "ii) Dynamic applications => Youtube, facebook \n",
    "\n",
    "i) Static applications: \n",
    "  => Calender, Clock \n",
    "  - In static application we don't need to provide any kinds of input only we just \n",
    "    need to open these applications and we just try to see the dates or time .\n",
    "  - In static application we don't need to take any kinds of input from the user. \n",
    "\n",
    "ii) Dynamic applications \n",
    "  => Youtube, facebook  \n",
    "  - In dynamic application we usually pass any kinds of input . \n",
    "  - Let's say we have opened our youtube and in the search button we are \n",
    "    searching something , we are searching for anything so, actually we are passing\n",
    "    any kinds of input so this is called Dynamic application . \n",
    "  - When ever we are developing the dynamic application we have to take the input \n",
    "    from the user . \n",
    "  - Now a days we all are developing the dynamic application so, we have to take the input \n",
    "    from the user . \n",
    "\n",
    "\n"
   ]
  },
  {
   "cell_type": "code",
   "execution_count": 1,
   "metadata": {},
   "outputs": [
    {
     "data": {
      "text/plain": [
       "'Rajkumar'"
      ]
     },
     "execution_count": 1,
     "metadata": {},
     "output_type": "execute_result"
    }
   ],
   "source": [
    "# input() is to take the input from the user and it is a string by default . \n",
    "# int() is a function to convert the string to integer\n",
    "# float() is a function to convert the string to float\n",
    "# eval() is a function to evaluate the expression and convert it to the respective data type\n",
    "\n",
    "input()       # This will take the input from the user and it is a string by default\n",
    "\n",
    "# Input window will be displayed and the user can enter the input and press enter key to submit the input to the program \n",
    "    # and the input will be stored in the variable and the program will continue to execute the next line of code ."
   ]
  },
  {
   "cell_type": "code",
   "execution_count": null,
   "metadata": {},
   "outputs": [],
   "source": []
  }
 ],
 "metadata": {
  "kernelspec": {
   "display_name": "base",
   "language": "python",
   "name": "python3"
  },
  "language_info": {
   "codemirror_mode": {
    "name": "ipython",
    "version": 3
   },
   "file_extension": ".py",
   "mimetype": "text/x-python",
   "name": "python",
   "nbconvert_exporter": "python",
   "pygments_lexer": "ipython3",
   "version": "3.12.4"
  }
 },
 "nbformat": 4,
 "nbformat_minor": 2
}
