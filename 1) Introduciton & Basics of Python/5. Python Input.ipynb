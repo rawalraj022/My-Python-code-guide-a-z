{
 "cells": [
  {
   "cell_type": "markdown",
   "metadata": {},
   "source": [
    "There are two type of applications they are :\n",
    "i) Static applications  => Calender, Clock\n",
    "ii) Dynamic applications => Youtube, facebook \n",
    "\n",
    "i) Static applications: \n",
    "  => Calender, Clock \n",
    "  - In static application we don't need to provide any kinds of input only we just \n",
    "    need to open these applications and we just try to see the dates or time .\n",
    "  - In static application we don't need to take any kinds of input from the user. \n",
    "\n",
    "ii) Dynamic applications \n",
    "  => Youtube, facebook  \n",
    "  - In dynamic application we usually pass any kinds of input . \n",
    "  - Let's say we have opened our youtube and in the search button we are \n",
    "    searching something , we are searching for anything so, actually we are passing\n",
    "    any kinds of input so this is called Dynamic application . \n",
    "  - When ever we are developing the dynamic application we have to take the input \n",
    "    from the user . \n",
    "  - Now a days we all are developing the dynamic application so, we have to take the input \n",
    "    from the user . \n",
    "\n",
    "\n"
   ]
  },
  {
   "cell_type": "code",
   "execution_count": 1,
   "metadata": {},
   "outputs": [
    {
     "data": {
      "text/plain": [
       "'Rajkumar'"
      ]
     },
     "execution_count": 1,
     "metadata": {},
     "output_type": "execute_result"
    }
   ],
   "source": [
    "# input() is to take the input from the user and it is a string by default . \n",
    "# int() is a function to convert the string to integer\n",
    "# float() is a function to convert the string to float\n",
    "# eval() is a function to evaluate the expression and convert it to the respective data type\n",
    "\n",
    "input()       # This will take the input from the user and it is a string by default\n",
    "\n",
    "# Input window will be displayed and the user can enter the input and press enter key to submit the input to the program \n",
    "    # and the input will be stored in the variable and the program will continue to execute the next line of code ."
   ]
  },
  {
   "cell_type": "code",
   "execution_count": 9,
   "metadata": {},
   "outputs": [
    {
     "name": "stdout",
     "output_type": "stream",
     "text": [
      "rajkumar\n"
     ]
    }
   ],
   "source": [
    "# Example 1 :  To take the input from the user and store it in the variable var and it is a string by default\n",
    "\n",
    "var = input()  # This will take the input from the user and store it in the variable var and it is a string by default\n",
    "\n",
    "print(var)     # This will print the value of the variable var on the console . "
   ]
  },
  {
   "cell_type": "code",
   "execution_count": null,
   "metadata": {},
   "outputs": [
    {
     "name": "stdout",
     "output_type": "stream",
     "text": [
      "1.23\n"
     ]
    }
   ],
   "source": [
    "# Developer of python designed the input() function in such a way that it will \n",
    "    # take any kind of data ( like string data, integer data, float data, boolean data ) from the user and \n",
    "    # data would be converted to string by default and stored in the variable var .\n",
    "        # Because string is common data type so, if we're storing our data in a string\n",
    "        # type then there won't be any kind of error in the program .\n",
    "    # That why developer of python consider whenever they're passing any\n",
    "        # kind of input data to the input() function that would be converted to string by default .\n",
    "\n",
    "    # Whenever user need any particular number as a integer then, they can convert it later. \n",
    "        # There is another concept inside python called type conversion \n",
    "        # By using type conversion we can easily convert string to integer, string to float, string to boolean etc.\n",
    "\n",
    "var = input()\n",
    "\n",
    "print(var)   # This will print the value of the variable var on the console ."
   ]
  },
  {
   "cell_type": "code",
   "execution_count": 11,
   "metadata": {},
   "outputs": [
    {
     "data": {
      "text/plain": [
       "str"
      ]
     },
     "execution_count": 11,
     "metadata": {},
     "output_type": "execute_result"
    }
   ],
   "source": [
    "# To check the data type of the variable var \n",
    "\n",
    "type(var)      # This will return the data type of the variable var\n",
    "\n",
    "# Developer of python designed the input() function in such a way that it will \n",
    "    # take any kind of data ( like string data, integer data, float data, boolean data ) from the user and \n",
    "    # data would be converted to string by default and stored in the variable var .\n",
    "        # Because string is common data type so, if we're storing our data in a string\n",
    "        # type then there won't be any kind of error in the program .\n",
    "    # That why developer of python consider whenever they're passing any\n",
    "        # kind of input data to the input() function that would be converted to string by default .\n",
    "\n",
    "    # Whenever user need any particular number as a integer then, they can convert it later. \n",
    "        # There is another concept inside python called type conversion \n",
    "        # By using type conversion we can easily convert string to integer, string to float, string to boolean etc.\n"
   ]
  },
  {
   "cell_type": "code",
   "execution_count": 14,
   "metadata": {},
   "outputs": [
    {
     "name": "stdout",
     "output_type": "stream",
     "text": [
      "<class 'float'>\n"
     ]
    }
   ],
   "source": [
    "# If we want to convert the string to float then we can use float() function to convert the string to float .\n",
    "    # It is called type conversion . \n",
    "\n",
    "var = float(var)  # This will convert the string to float and store it in the variable var .\n",
    "print (type(var))     # This will print the data type of the variable var on the console .\n"
   ]
  },
  {
   "cell_type": "code",
   "execution_count": 16,
   "metadata": {},
   "outputs": [
    {
     "name": "stdout",
     "output_type": "stream",
     "text": [
      "rajkumar\n"
     ]
    }
   ],
   "source": [
    "# Writing Prompt message to the user to enter the input and store it in the variable var .\n",
    "\n",
    "var = input(\"Enter Your Name\") # 'Enter the input' is the prompt message to the user to enter the input .\n",
    "print(var)   # This will print the value of the variable var on the console .\n",
    "\n",
    "# Eg: In Facebook , when we're creating the account then it will ask the user to enter the name and \n",
    "    # it will display the prompt message to the user to enter the name ."
   ]
  },
  {
   "cell_type": "markdown",
   "metadata": {},
   "source": [
    "# Simple Calculator using input \n",
    "\n",
    "**Now let’s do one of the project on the top of this particular input concept** : \n",
    "\n",
    "The Steps we are going to perform to do particular project ( **Simple Calculator** ) . \n",
    "\n",
    "1) Take two numbers  as an Input \n",
    "\n",
    "2) It will perform only add operation \n",
    "\n",
    "3) It will print the results in console."
   ]
  },
  {
   "cell_type": "code",
   "execution_count": 19,
   "metadata": {},
   "outputs": [
    {
     "name": "stdout",
     "output_type": "stream",
     "text": [
      "7.0\n"
     ]
    }
   ],
   "source": [
    "# Writing Prompt message to the user to enter the input and store it in the variable var . \n",
    "# And converting the string to float and storing it in the variable var .\n",
    "# Simple Calculator Program to add two numbers\n",
    "\n",
    "num1 = float(input(\"Enter the first number: \"))   # 'Enter the first number' is the prompt message to the user to enter the input .\n",
    "num2 = float(input(\"Enter the Second number: \"))  # 'Enter the Second number' is the prompt message to the user to enter the input .\n",
    "\n",
    "results = num1 + num2     # This will add the two numbers and store it in the variable results .\n",
    "\n",
    "print(results)   # This will print the value of the variable results on the console ."
   ]
  },
  {
   "cell_type": "code",
   "execution_count": 20,
   "metadata": {},
   "outputs": [
    {
     "data": {
      "text/plain": [
       "float"
      ]
     },
     "execution_count": 20,
     "metadata": {},
     "output_type": "execute_result"
    }
   ],
   "source": [
    "type(results)  # This will return the data type of the variable results"
   ]
  },
  {
   "cell_type": "code",
   "execution_count": null,
   "metadata": {},
   "outputs": [],
   "source": []
  }
 ],
 "metadata": {
  "kernelspec": {
   "display_name": "base",
   "language": "python",
   "name": "python3"
  },
  "language_info": {
   "codemirror_mode": {
    "name": "ipython",
    "version": 3
   },
   "file_extension": ".py",
   "mimetype": "text/x-python",
   "name": "python",
   "nbconvert_exporter": "python",
   "pygments_lexer": "ipython3",
   "version": "3.12.4"
  }
 },
 "nbformat": 4,
 "nbformat_minor": 2
}
