{
 "cells": [
  {
   "cell_type": "markdown",
   "id": "09a0ddbe",
   "metadata": {},
   "source": [
    "\n",
    "**Writing our First python program ‘ Hello world ’ in jupyter notebook .** :\n",
    "\n",
    "⇒\n"
   ]
  },
  {
   "cell_type": "code",
   "execution_count": 1,
   "id": "0072aa43",
   "metadata": {},
   "outputs": [
    {
     "name": "stdout",
     "output_type": "stream",
     "text": [
      "Hello world\n"
     ]
    }
   ],
   "source": [
    "print('Hello world')"
   ]
  },
  {
   "cell_type": "markdown",
   "id": "8c469109",
   "metadata": {},
   "source": [
    "OR,"
   ]
  },
  {
   "cell_type": "code",
   "execution_count": 2,
   "id": "995067f0",
   "metadata": {},
   "outputs": [
    {
     "name": "stdout",
     "output_type": "stream",
     "text": [
      "Hello world\n"
     ]
    }
   ],
   "source": [
    "print(\"Hello world\")"
   ]
  },
  {
   "cell_type": "code",
   "execution_count": 3,
   "id": "a0b1342e",
   "metadata": {},
   "outputs": [
    {
     "name": "stdout",
     "output_type": "stream",
     "text": [
      "rajkumar rawal\n"
     ]
    }
   ],
   "source": [
    "print(\"rajkumar rawal\")"
   ]
  },
  {
   "cell_type": "markdown",
   "id": "ed1571c4",
   "metadata": {},
   "source": [
    "In python double quotation \" \" or single quotation ' ' it doesn't matter .\n",
    "\n"
   ]
  },
  {
   "cell_type": "markdown",
   "id": "aca3882b",
   "metadata": {},
   "source": []
  }
 ],
 "metadata": {
  "kernelspec": {
   "display_name": "base",
   "language": "python",
   "name": "python3"
  },
  "language_info": {
   "codemirror_mode": {
    "name": "ipython",
    "version": 3
   },
   "file_extension": ".py",
   "mimetype": "text/x-python",
   "name": "python",
   "nbconvert_exporter": "python",
   "pygments_lexer": "ipython3",
   "version": "3.12.4"
  }
 },
 "nbformat": 4,
 "nbformat_minor": 5
}
