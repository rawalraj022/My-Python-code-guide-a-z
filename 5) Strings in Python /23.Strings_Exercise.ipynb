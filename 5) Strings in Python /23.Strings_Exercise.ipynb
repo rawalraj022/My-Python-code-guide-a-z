{
 "cells": [
  {
   "cell_type": "markdown",
   "metadata": {},
   "source": [
    "# 1. Find the length of a given string without using the len() function ? "
   ]
  },
  {
   "cell_type": "code",
   "execution_count": 1,
   "metadata": {},
   "outputs": [
    {
     "name": "stdout",
     "output_type": "stream",
     "text": [
      "You entered rajkumar. The length of the string is 8\n"
     ]
    }
   ],
   "source": [
    "\n",
    "s = input(\"Enter a string: \") # get user input\n",
    "\n",
    "counter = 0  # initialize counter\n",
    "\n",
    "for i in s: # loop through the string\n",
    "    counter += 1   # increment counter\n",
    "\n",
    "print(f\"You entered {s}. The length of the string is {counter}\")  # print the length of the string to the user  \n"
   ]
  },
  {
   "cell_type": "markdown",
   "metadata": {},
   "source": [
    "# 2. Extract username from a given email ? \n",
    "\n",
    "Ex:\n",
    "if the email is rawalraj@gmail.com then the username should be rawalraj.\n"
   ]
  },
  {
   "cell_type": "code",
   "execution_count": null,
   "metadata": {},
   "outputs": [
    {
     "name": "stdout",
     "output_type": "stream",
     "text": [
      "rawalraj022\n"
     ]
    }
   ],
   "source": [
    "\n",
    "\n",
    "email = input(\"Enter your email address: \") # get user input\n",
    "\n",
    "# using index() method to find the position of the '@' character in the email address\n",
    "pos = email.index(\"@\")\n",
    "\n",
    "# using slicing to extract the domain name from the email address \n",
    "print(email[0:pos])  # print the domain name to the user \n",
    "                    # (from the start of the string to the position of the '@' character) where @ is not included in the output \n"
   ]
  },
  {
   "cell_type": "markdown",
   "metadata": {},
   "source": [
    "# 3.Write a program that can check whether a given string is palindrome or not ? \n",
    "\n",
    "- abba\n",
    "- malayalam\n",
    "- mam\n",
    "\n",
    "short note : A palindrome is a word, phrase, number, or other sequence of characters that reads the same forward and backward (ignoring spaces, cases, and punctuation). like malayalam, abba, mam and so on.\n"
   ]
  },
  {
   "cell_type": "code",
   "execution_count": 4,
   "metadata": {},
   "outputs": [
    {
     "name": "stdout",
     "output_type": "stream",
     "text": [
      "The word is a palindrome\n"
     ]
    }
   ],
   "source": [
    "# In palindrome, the reverse of the word is the same as the word itself  \n",
    "    # So, in coding, we can compare the word with its reverse to check if it is a palindrome or not\n",
    "    # We compare the word with its reverse using slicing \n",
    "# Syntax of palindrome: word == word[::-1]  (word[::-1] is the reverse of the word) \n",
    "# If input is abba, how do we check if it is a palindrome code-wise? \n",
    "    # abba == abba[::-1] => abba == abba => True (abba is a palindrome)\n",
    "# If input is hello, how do we check if it is a palindrome code-wise?\n",
    "    # hello == hello[::-1] => hello == olleh => False (hello is not a palindrome)\n",
    "\n",
    "word = input(\"Enter your word: \") # get user input\n",
    "\n",
    "flag = True  # initialize flag to True\n",
    "\n",
    "for i in range(0, len(word)//2): # loop through the word from the start to the middle of the word \n",
    "                                    # (if the word is abba, we only need to loop through the first two characters) but not the whole word \n",
    "    if word[i] != word[len(word)-i-1]:  # if the character at the start of the word is not equal to the character at the end of the word .\n",
    "        flag = False  # set flag to False \n",
    "        print(\"The word is not a palindrome\")  # print to the user that the word is not a palindrome\n",
    "        break  # break out of the loop\n",
    "if flag:  # if the flag is True\n",
    "    print(\"The word is a palindrome\")  # print to the user that the word is a palindrome\n",
    "\n",
    "# In the above code, we loop through the word from the start to the middle of the word  \n",
    "# If the character at the start of the word is not equal to the character at the end of the word, we set the flag to False and break out of the loop\n",
    "# If the flag is True, we print to the user that the word is a palindrome \n",
    "# If the flag is False, we print to the user that the word is not a palindrome \n",
    "\n"
   ]
  },
  {
   "cell_type": "code",
   "execution_count": null,
   "metadata": {},
   "outputs": [],
   "source": []
  }
 ],
 "metadata": {
  "kernelspec": {
   "display_name": "base",
   "language": "python",
   "name": "python3"
  },
  "language_info": {
   "codemirror_mode": {
    "name": "ipython",
    "version": 3
   },
   "file_extension": ".py",
   "mimetype": "text/x-python",
   "name": "python",
   "nbconvert_exporter": "python",
   "pygments_lexer": "ipython3",
   "version": "3.12.4"
  }
 },
 "nbformat": 4,
 "nbformat_minor": 2
}
