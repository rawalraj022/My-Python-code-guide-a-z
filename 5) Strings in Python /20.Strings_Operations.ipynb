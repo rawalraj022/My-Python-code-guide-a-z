{
 "cells": [
  {
   "cell_type": "markdown",
   "metadata": {},
   "source": [
    "# Operations in Strings : \n",
    "\n",
    "1. Arithmetic Operations\n",
    "2. Relational Operations\n",
    "3. Logical Operations\n",
    "4. Loops in Strings\n",
    "5. Membership Operations\n",
    "\n"
   ]
  },
  {
   "cell_type": "markdown",
   "metadata": {},
   "source": [
    "## 1. Arithmetic Operations\n",
    "- Strings can be concatenated using '+' operator and repeated using '*' operator.\n",
    "\n",
    "```python\n",
    "s1 = \"Hello\"\n",
    "s2 = \"World\"\n",
    "s3 = s1 + s2   # Concatenation of two strings \n",
    "print(s3) # Output : HelloWorld\n",
    "\n",
    "s4 = s1 * 3\n",
    "print(s4) # Output : HelloHelloHello\n",
    "```\n"
   ]
  },
  {
   "cell_type": "code",
   "execution_count": 1,
   "metadata": {},
   "outputs": [
    {
     "name": "stdout",
     "output_type": "stream",
     "text": [
      "Hi Everyone\n"
     ]
    }
   ],
   "source": [
    "print(\"Hi\" + \" \" + \"Everyone\") #concatenation of strings using + operator \n",
    "                            # \"\" is used to add space between two strings"
   ]
  },
  {
   "cell_type": "code",
   "execution_count": 2,
   "metadata": {},
   "outputs": [
    {
     "name": "stdout",
     "output_type": "stream",
     "text": [
      "hihihihihi\n"
     ]
    }
   ],
   "source": [
    "print(\"hi\" * 5)"
   ]
  },
  {
   "cell_type": "code",
   "execution_count": 3,
   "metadata": {},
   "outputs": [
    {
     "name": "stdout",
     "output_type": "stream",
     "text": [
      "****************************************************************************************************\n"
     ]
    }
   ],
   "source": [
    "print(\"*\"*100)"
   ]
  },
  {
   "cell_type": "markdown",
   "metadata": {},
   "source": [
    "## 2. Relational Operations : \n",
    "\n",
    "- Strings can be compared using relational operators like '<', '>', '<=', '>=' and '=='.\n",
    "- The comparison is done based on the ASCII values of the characters.\n"
   ]
  },
  {
   "cell_type": "code",
   "execution_count": 4,
   "metadata": {},
   "outputs": [
    {
     "name": "stdout",
     "output_type": "stream",
     "text": [
      "True\n",
      "True\n",
      "False\n",
      "True\n",
      "True\n"
     ]
    }
   ],
   "source": [
    "print(\"Hello\" == \"Hello\") # equality\n",
    "print(\"Hello\"!= \"World\") # not equal\n",
    "print(\"Hello\" > \"Hi\") # greater than  # It is using oxford dictionary order to compare the strings where Hello comes after Hi in dictionary order where e comes after i in dictionary order . So Hello is greater than Hi .\n",
    "print(\"Hello\" < \"World\") # less than  # It is using oxford dictionary order to compare the strings where Hello comes before World in dictionary order where H comes before W in dictionary order . So Hello is less than World .\n",
    "print(\"Hello\" >= \"Hello\") # greater than or equal to"
   ]
  },
  {
   "cell_type": "markdown",
   "metadata": {},
   "source": [
    "# 3. Logical Operations :\n",
    "\n",
    "- Logical operations like 'and', 'or' and 'not' can be performed on strings.\n",
    "- The 'and' operation returns True if both the strings are True.\n",
    "- The 'or' operation returns True if any one of the strings is True.\n",
    "- The 'not' operation returns True if the string is False.\n",
    "\n",
    "```python\n",
    "s1 = \"Hello\"\n",
    "s2 = \"World\"\n",
    "print(s1 and s2) # Output : World \n",
    "\n",
    "print(s1 or s2) # Output : Hello\n",
    "\n",
    "print(not s1) # Output : False\n",
    "```\n"
   ]
  },
  {
   "cell_type": "code",
   "execution_count": 6,
   "metadata": {},
   "outputs": [
    {
     "data": {
      "text/plain": [
       "'world'"
      ]
     },
     "execution_count": 6,
     "metadata": {},
     "output_type": "execute_result"
    }
   ],
   "source": [
    "\"hello\" and \"world\" # and operator is used to concatenate the strings \n",
    "                    # and operator will check the first string if it is true then it will return the second string otherwise it will return the first string . "
   ]
  },
  {
   "cell_type": "code",
   "execution_count": 7,
   "metadata": {},
   "outputs": [
    {
     "data": {
      "text/plain": [
       "'hello'"
      ]
     },
     "execution_count": 7,
     "metadata": {},
     "output_type": "execute_result"
    }
   ],
   "source": [
    "\"hello\" or \"world\" # or operator is used to concatenate the strings\n",
    "                    # or operator will check the first string if it is true then it will return the first string otherwise it will return the second string .\n"
   ]
  },
  {
   "cell_type": "code",
   "execution_count": 8,
   "metadata": {},
   "outputs": [
    {
     "data": {
      "text/plain": [
       "False"
      ]
     },
     "execution_count": 8,
     "metadata": {},
     "output_type": "execute_result"
    }
   ],
   "source": [
    "\n",
    "not \"hello\" # not operator is used to reverse the boolean value of the string . If the string is true then it will return false otherwise it will return true .\n"
   ]
  },
  {
   "cell_type": "markdown",
   "metadata": {},
   "source": [
    "# 4. Loops in Strings :\n",
    "\n",
    "- We can iterate through the characters of a string using loops like 'for' and 'while'.\n",
    "\n",
    "```python\n",
    "s = \"Hello\"\n",
    "for i in s:\n",
    "    print(i)  \n",
    "\n",
    "# Output : \n",
    "# H\n",
    "# e \n",
    "# l\n",
    "# l\n",
    "# o\n",
    "\n",
    "``` \n"
   ]
  },
  {
   "cell_type": "code",
   "execution_count": 10,
   "metadata": {},
   "outputs": [
    {
     "name": "stdout",
     "output_type": "stream",
     "text": [
      "R\n",
      "a\n",
      "j\n",
      "k\n",
      "u\n",
      "m\n",
      "a\n",
      "r\n"
     ]
    }
   ],
   "source": [
    "for i in \"Rajkumar\": # it will iterate through each character of the string\n",
    "    print(i) # it will print each character of the string in each line ."
   ]
  },
  {
   "cell_type": "code",
   "execution_count": 11,
   "metadata": {},
   "outputs": [
    {
     "name": "stdout",
     "output_type": "stream",
     "text": [
      "Hello\n",
      "Hello\n",
      "Hello\n",
      "Hello\n",
      "Hello\n",
      "Hello\n",
      "Hello\n",
      "Hello\n"
     ]
    }
   ],
   "source": [
    "for i in \"Rajkumar\": # it will iterate through each character of the string\n",
    "    print(\"Hello\") # it will print Hello for each character of the string"
   ]
  },
  {
   "cell_type": "markdown",
   "metadata": {},
   "source": [
    "# 5. Membership Operations :\n",
    "\n",
    "- We can check if a character or a substring is present in a string using 'in' and 'not in' operators.\n",
    "\n",
    "```python\n",
    "s = \"Hello\"\n",
    "print('H' in s) # Output : True\n",
    "print('z' in s) # Output : False\n",
    "print('z' not in s) # Output : True\n",
    "```\n"
   ]
  },
  {
   "cell_type": "code",
   "execution_count": 12,
   "metadata": {},
   "outputs": [
    {
     "data": {
      "text/plain": [
       "False"
      ]
     },
     "execution_count": 12,
     "metadata": {},
     "output_type": "execute_result"
    }
   ],
   "source": [
    "\n",
    "'R' not in \"Rajkumar\" # it will return false because R is present in the string Rajkumar ."
   ]
  },
  {
   "cell_type": "code",
   "execution_count": null,
   "metadata": {},
   "outputs": [],
   "source": []
  }
 ],
 "metadata": {
  "kernelspec": {
   "display_name": "base",
   "language": "python",
   "name": "python3"
  },
  "language_info": {
   "codemirror_mode": {
    "name": "ipython",
    "version": 3
   },
   "file_extension": ".py",
   "mimetype": "text/x-python",
   "name": "python",
   "nbconvert_exporter": "python",
   "pygments_lexer": "ipython3",
   "version": "3.12.4"
  }
 },
 "nbformat": 4,
 "nbformat_minor": 2
}
