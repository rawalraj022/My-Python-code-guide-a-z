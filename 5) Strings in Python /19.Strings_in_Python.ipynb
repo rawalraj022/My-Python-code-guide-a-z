{
 "cells": [
  {
   "cell_type": "markdown",
   "metadata": {},
   "source": [
    "# Strings are sequence of Characters : \n",
    "\n",
    "In Python specifically, strings are a sequence of Unicode Characters like my name rajkumar is a string of 8 characters. \n",
    "\n",
    "    Unicode characters are the characters that are used to represent text in computer systems. Unicode is a standard for encoding all the characters that are used in the world's writing systems like English, Arabic, Chinese, Hindi, etc. \n",
    "\n",
    "    How many characters are there in the Unicode standard? The Unicode standard has more than 143,000 characters covering 154 modern and historic scripts, as well as multiple symbol sets.\n",
    "\n",
    "    Unicode is a superset of ASCII, which means that all ASCII characters are also Unicode characters. ASCII is a subset of Unicode.\n",
    "\n",
    "    Unicode characters are represented by a unique number called code point. The Unicode standard defines a unique number for each character, regardless of the platform, program, or language like the code point for the letter \"A\" is U+0041, and the code point for \"B\" is U+0042.\n",
    "\n",
    "    Unicode is a standard for encoding characters in a computer system. It is a character encoding standard that is used to represent text in computer systems and other devices. Unicode is a superset of ASCII and is capable of representing all the characters that are used in the world's writing systems.\n",
    "\n",
    "\n",
    "Strings are immutable, which means they cannot be changed after they are created. However, you can assign a new value to the same variable name.\n",
    "\n",
    "Strings are enclosed in single quotes ('...') or double quotes (\"...\") with the same result. Use \\ to escape quotes, that is, to use a quote within the string itself.\n",
    "\n",
    "To print a string, you can use the print() function.\n",
    "\n",
    "#### Syntax:\n",
    "\n",
    "```python\n",
    "    name = \"rajkumar\"\n",
    "    print(name)\n",
    "```\n",
    "\n",
    "Output:\n",
    "```python\n",
    "    rajkumar\n",
    "```\n",
    "\n",
    "\n",
    "#### Topic to be discussed:\n",
    "\n",
    "- Creating Strings\n",
    "- Accessing Strings\n",
    "- Adding Chars to Strings\n",
    "- Editing Strings\n",
    "- Deleting Strings\n",
    "- Operations on Strings\n",
    "- String Functions\n"
   ]
  },
  {
   "cell_type": "markdown",
   "metadata": {},
   "source": [
    "#### Creating Strings in Python "
   ]
  },
  {
   "cell_type": "code",
   "execution_count": 6,
   "metadata": {},
   "outputs": [
    {
     "name": "stdout",
     "output_type": "stream",
     "text": [
      "hello\n"
     ]
    }
   ],
   "source": [
    "\n",
    "s = 'hello'  # string with single quotes\n",
    "s = \"hello\"  # string with double quotes\n",
    "\n",
    "# multiline strings \n",
    "\n",
    "s = '''hello'''   # triple single quotes\n",
    "s = \"\"\"hello\"\"\"   # triple double quotes\n",
    "s = str('hello')  # using str() function to create string object \n",
    "print(s)        # hello \n"
   ]
  },
  {
   "cell_type": "code",
   "execution_count": 7,
   "metadata": {},
   "outputs": [
    {
     "data": {
      "text/plain": [
       "\"it's my car\""
      ]
     },
     "execution_count": 7,
     "metadata": {},
     "output_type": "execute_result"
    }
   ],
   "source": [
    "\"it's my car\"  # single quote inside double quotes "
   ]
  },
  {
   "cell_type": "code",
   "execution_count": 4,
   "metadata": {},
   "outputs": [
    {
     "data": {
      "text/plain": [
       "' my name is rajkumar,\\ni am from nepal '"
      ]
     },
     "execution_count": 4,
     "metadata": {},
     "output_type": "execute_result"
    }
   ],
   "source": [
    "\"\"\" my name is rajkumar,\n",
    "i am from nepal \"\"\"  # multiline string "
   ]
  },
  {
   "cell_type": "code",
   "execution_count": 3,
   "metadata": {},
   "outputs": [
    {
     "name": "stdout",
     "output_type": "stream",
     "text": [
      "hello\n"
     ]
    }
   ],
   "source": [
    "s = \"\"\"hello\"\"\"   # triple double quotes\n",
    "print(s)"
   ]
  },
  {
   "cell_type": "markdown",
   "metadata": {},
   "source": [
    "#### Accessing Strings in Python : \n",
    "\n",
    "Accessing a string is means we can access sub-strings from the main string. \n",
    "\n",
    "Accessing strings can be done in two ways: \n",
    "\n",
    "a. By using the index of the string  (Indexing) \n",
    "b. By using the slice operator [:]  (Slicing) \n",
    "\n",
    "\n",
    "###### a. By using the index of the string  (Indexing) \n",
    "\n",
    "Indexing is used to access a single character from the string.\n",
    "\n",
    "Each character in the string has an index, which is used to access the character.\n",
    "\n",
    "The index of the first character in the string is 0, the index of the second character is 1, and so on.\n",
    "\n",
    "The index of the last character in the string is the length of the string minus 1.\n",
    "\n",
    "The index of a character is used to access the character using the square brackets []. The index is placed inside the square brackets, and the character at that index is returned.\n",
    "\n",
    "There are two indexing methods:\n",
    "i) Positive Indexing\n",
    "ii) Negative Indexing\n",
    "\n",
    "###### i) Positive Indexing:\n",
    "Positive indexing starts from 0. That is, the first character in the string is at index 0, the second character is at index 1, and so on.\n",
    "\n",
    "Positive indexing is used to access the characters from the beginning of the string.\n",
    "\n",
    "Syntax:\n",
    "\n",
    "```python\n",
    "    name = \"rajkumar\"\n",
    "    print(name[0]) # Output: r\n",
    "    print(name[1]) # Output: a\n",
    "    print(name[2]) # Output: j\n",
    "    print(name[3]) # Output: k\n",
    "    print(name[4]) # Output: u\n",
    "    print(name[5]) # Output: m\n",
    "    print(name[6]) # Output: a\n",
    "    print(name[7]) # Output: r\n",
    "```\n",
    "\n",
    "Output:\n",
    "```python\n",
    "    r\n",
    "    a\n",
    "    j\n",
    "    k\n",
    "    u\n",
    "    m\n",
    "    a\n",
    "    r\n",
    "```\n",
    "\n",
    "###### ii) Negative Indexing:\n",
    "\n",
    "Negative indexing starts from -1. That is, the last character in the string is at index -1, the second last character is at index -2, and so on.\n",
    "\n",
    "Negative indexing is used to access the characters from the end of the string.\n",
    "\n",
    "Syntax:\n",
    "\n",
    "```python\n",
    "    name = \"rajkumar\"\n",
    "    print(name[-1]) # Output: r\n",
    "    print(name[-2]) # Output: a\n",
    "    print(name[-3]) # Output: m\n",
    "    print(name[-4]) # Output: u\n",
    "    print(name[-5]) # Output: k\n",
    "    print(name[-6]) # Output: j\n",
    "    print(name[-7]) # Output: a\n",
    "    print(name[-8]) # Output: r\n",
    "```\n",
    "\n",
    "Output:\n",
    "```python\n",
    "    r\n",
    "    a\n",
    "    m\n",
    "    u\n",
    "    k\n",
    "    j\n",
    "    a\n",
    "    r\n",
    "```\n",
    "\n",
    "\n",
    "\n",
    "###### b. By using the slice operator [:]  (Slicing)\n",
    "\n",
    "Slicing is used to access a range of characters from the string.\n",
    "\n",
    "The slice operator [:] is used to access a range of characters from the string.\n",
    "\n",
    "The slice operator [:] has two operands, the start index and the end index. The start index is the index of the first character in the range, and the end index is the index of the last character in the range.\n",
    "\n",
    "The slice operator [:] returns a new string that contains the characters in the specified range.\n",
    "\n",
    "The start index is included in the range, but the end index is not included in the range. That is, the character at the start index is included in the range, but the character at the end index is not included in the range.\n",
    "\n",
    "If the start index is not specified, it is assumed to be 0. If the end index is not specified, it is assumed to be the length of the string.\n",
    "\n",
    "Syntax:\n",
    "\n",
    "```python\n",
    "    name = \"rajkumar\"\n",
    "    print(name[0:4]) # Output: rajk  # If i want to print the first 4 characters\n",
    "\n",
    "    print(name[4:8]) # Output: umar  # If i want to print the last 4 characters\n",
    "\n",
    "    print(name[:4]) # Output: rajk  # If i want to print the first 4 characters\n",
    "\n",
    "    print(name[4:]) # Output: umar  # If i want to print the last 4 characters\n",
    "\n",
    "    print(name[:]) # Output: rajkumar # If i want to print the whole string\n",
    "\n",
    "    print(name[0:7:2])  # Output: rjua  # If i want to print the characters with a step of 2 from the first to the 7th character\n",
    "\n",
    "    print(name[7:0:-1]) # Output: ramukja  # If i want to print the characters in reverse order from the last to the first character \n",
    "\n",
    "    print(name[7:0:-2]) # Output: rmka  # If i want to print the characters in reverse order with a step of 2 from the last to the first character \n",
    "\n",
    "    print(name[::-1]) # Output: ramukjar  # If i want to print the whole string in reverse order\n",
    " \n",
    "    print(name[::-2])  # Output: rmka  # If i want to print the whole string in reverse order with a step of 2 \n",
    "\n",
    "    print(name[-6:]) # Output: kumar  # If i want to print the last 6 characters \n",
    "\n",
    "    print(name[-1:-6:-1]) # Output: ramuk  # If i want to print the last 5 characters in reverse order [ if we are working with negative indexing then the start index should be greater than the end index ]\n",
    "\n",
    "```\n",
    "\n",
    "Output:\n",
    "```python\n",
    "    rajk\n",
    "    umar\n",
    "    rajk\n",
    "    umar\n",
    "    rajkumar\n",
    "    rjua\n",
    "    ramukja\n",
    "    rmka\n",
    "    ramukjar\n",
    "\n",
    "```\n",
    "\n",
    "Example: \n",
    "\n",
    "len() function is used to find the length of the string.\n",
    "\n",
    "Syntax:\n",
    "\n",
    "```python\n",
    "    name = \"rajkumar\"\n",
    "    print(len(name)) # Output: 8\n",
    "```\n",
    "\n",
    "Output:\n",
    "```python\n",
    "    8\n",
    "```\n",
    "\n"
   ]
  },
  {
   "cell_type": "markdown",
   "metadata": {},
   "source": [
    "#### Adding Characters to Strings in Python : \n",
    "\n",
    "Strings are immutable, which means they cannot be changed after they are created. We can't add characters to a string because strings are immutable.\n",
    "\n",
    "However, we can add two strings together to create a new string. This is called concatenation.\n",
    "\n",
    "Concatenation is the process of combining two or more strings to create a new string. The + operator is used to concatenate two strings. The + operator is placed between the two strings that you want to concatenate. The strings are concatenated in the order in which they are written.\n",
    "\n",
    "Syntax:\n",
    "\n",
    "```python\n",
    "    name1 = \"raj\"\n",
    "    name2 = \"kumar\"\n",
    "    name = name1 + name2\n",
    "    print(name) # Output: rajkumar\n",
    "```\n",
    "\n",
    "Output:\n",
    "```python\n",
    "    rajkumar\n",
    "```\n"
   ]
  },
  {
   "cell_type": "markdown",
   "metadata": {},
   "source": [
    "#### Editing Strings in Python : \n",
    "\n",
    "Strings are immutable, which means they cannot be changed after they are created. We can't edit a string because strings are immutable.\n",
    "\n",
    "However, we can assign a new value to the same variable name to edit the string.\n",
    "\n",
    "Syntax:\n",
    "\n",
    "```python\n",
    "    name = \"rajkumar\"\n",
    "    name = \"raj kumar\"\n",
    "    print(name) # Output: raj kumar\n",
    "```\n",
    "\n",
    "Output:\n",
    "```python\n",
    "    raj kumar\n",
    "```\n"
   ]
  },
  {
   "cell_type": "markdown",
   "metadata": {},
   "source": [
    "#### Deleting Strings in Python :\n",
    "\n",
    "Strings are immutable, which means they cannot be changed after they are created. We can't delete a string because strings are immutable.\n",
    "\n",
    "However, we can delete the string by using the del keyword.\n",
    "\n",
    "Syntax:\n",
    "\n",
    "```python\n",
    "    name = \"rajkumar\"\n",
    "    del name\n",
    "    print(name) # Output: NameError: name 'name' is not defined\n",
    "```\n",
    "\n",
    "Output:\n",
    "```python\n",
    "    NameError: name 'name' is not defined\n",
    "```\n"
   ]
  },
  {
   "cell_type": "code",
   "execution_count": null,
   "metadata": {},
   "outputs": [],
   "source": []
  }
 ],
 "metadata": {
  "kernelspec": {
   "display_name": "base",
   "language": "python",
   "name": "python3"
  },
  "language_info": {
   "codemirror_mode": {
    "name": "ipython",
    "version": 3
   },
   "file_extension": ".py",
   "mimetype": "text/x-python",
   "name": "python",
   "nbconvert_exporter": "python",
   "pygments_lexer": "ipython3",
   "version": "3.12.4"
  }
 },
 "nbformat": 4,
 "nbformat_minor": 2
}
