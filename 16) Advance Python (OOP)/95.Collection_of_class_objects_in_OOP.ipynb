{
 "cells": [
  {
   "cell_type": "markdown",
   "metadata": {},
   "source": [
    "\n",
    "# Collection of class objects in OOP Python :\n",
    "\n",
    "We can store collection of class objects in a list or dictionary or any other collection data type. We can store mutable data types in a list or dictionary.\n",
    "\n",
    "Can we store class objects in set or tuple?  No, we can't store class objects in set or tuple because set and tuple are immutable data types.  We can store only immutable data types in set or tuple.\n",
    "\n",
    "Immutable data types are those data types whose values can't be changed after creation of object of that data type.\n",
    "Mutable data types are those data types whose values can be changed after creation of object of that data type.\n",
    "\n",
    "Exercises:"
   ]
  },
  {
   "cell_type": "code",
   "execution_count": null,
   "metadata": {},
   "outputs": [],
   "source": [
    "## this is a class that takes two parameters, name and country\n",
    "## and assigns them to the object's attributes name and country\n",
    "## the class is called Person\n",
    "\n",
    "class Person:           ## class definition\n",
    "    def __init__(self, name, country): ## class constructor with two parameters name and country\n",
    "        self.name = name   ## assign the value of the name parameter to the object's attribute name \n",
    "        self.country = country  ## assign the value of the country parameter to the object's attribute country\n"
   ]
  },
  {
   "cell_type": "code",
   "execution_count": null,
   "metadata": {},
   "outputs": [],
   "source": [
    "## Defining some class object p1, p2, p3\n",
    "## and assigning them to the class Person\n",
    "## with the name and country as parameters\n",
    "## and printing the object's attributes\n",
    "\n",
    "p1 = Person(\"John\", \"USA\")  ## object p1 with name John and country USA \n",
    "p2 = Person(\"Jane\", \"Canada\") ## object p2 with name Jane and country Canada\n",
    "p3 = Person(\"Joe\", \"Australia\") ## object p3 with name Joe and country Australia"
   ]
  },
  {
   "cell_type": "code",
   "execution_count": null,
   "metadata": {},
   "outputs": [
    {
     "name": "stdout",
     "output_type": "stream",
     "text": [
      "[<__main__.Person object at 0x11190f590>, <__main__.Person object at 0x11190f080>, <__main__.Person object at 0x11190e2a0>]\n"
     ]
    }
   ],
   "source": [
    "## We can also store class objects in a list or dictionary\n",
    "## So, We are trying to store collection of objects in a list\n",
    "\n",
    "L = [p1, p2, p3]   ## list of objects p1, p2, p3\n",
    "print(L)          ## printing the list of objects"
   ]
  },
  {
   "cell_type": "code",
   "execution_count": null,
   "metadata": {},
   "outputs": [
    {
     "name": "stdout",
     "output_type": "stream",
     "text": [
      "John USA\n",
      "Jane Canada\n",
      "Joe Australia\n"
     ]
    }
   ],
   "source": [
    "## We can also iterate over the list and print the object's attributes\n",
    "## using a for loop as shown below \n",
    "\n",
    "for i in L:             ## iterating over the list of objects\n",
    "    print(i.name, i.country) ## printing the object's attributes name and country\n",
    "\n"
   ]
  },
  {
   "cell_type": "code",
   "execution_count": null,
   "metadata": {},
   "outputs": [],
   "source": []
  }
 ],
 "metadata": {
  "kernelspec": {
   "display_name": "base",
   "language": "python",
   "name": "python3"
  },
  "language_info": {
   "codemirror_mode": {
    "name": "ipython",
    "version": 3
   },
   "file_extension": ".py",
   "mimetype": "text/x-python",
   "name": "python",
   "nbconvert_exporter": "python",
   "pygments_lexer": "ipython3",
   "version": "3.12.4"
  }
 },
 "nbformat": 4,
 "nbformat_minor": 2
}
