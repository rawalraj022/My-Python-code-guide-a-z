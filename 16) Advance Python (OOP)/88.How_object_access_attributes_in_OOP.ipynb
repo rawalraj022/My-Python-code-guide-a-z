{
 "cells": [
  {
   "cell_type": "markdown",
   "metadata": {},
   "source": [
    "# How object access attributes in OOP : \n",
    "\n",
    "\n",
    "- if we want to access the method we use prenthesis at the end of the method name like p.greeting() and if we want to access the attributes we use the attribute name without parenthesis like p.name or p.age . \n",
    "- We can also do Attribute creation from outside the class Person and access it from the object of the class Person. \n",
    "\n",
    "Example : "
   ]
  },
  {
   "cell_type": "code",
   "execution_count": null,
   "metadata": {},
   "outputs": [],
   "source": [
    "\n",
    "\n",
    "class Person:                 # class name should start with capital letter and should be singular noun\n",
    "    def __init__(self, name, country):   # constructor method should be named as __init__ and should have self as first parameter and name, country as other parameters\n",
    "        # set the name and country as instance variables , so that they can be accessed anywhere in the class and object methods\n",
    "        self.name = name               # self.name is an instance variable and name is a local variable and we have to use self to refer to instance variable in class and object methods , otherwise it will be treated as local variable\n",
    "                                        # instance variables are unique to each object and are accessible anywhere in the class and object methods \n",
    "                                            # but local variables are only accessible in the method where they are defined \n",
    "        self.country = country        # self.country is an instance variable and country is a local variable and we have to use self to refer to instance variable in class and object methods , otherwise it will be treated as local variable\n",
    "        \n",
    "                                        # name and country are attributes or class variables and they are unique to each object and are accessible anywhere in the class and object methods\n",
    "    \n",
    "    def greeting(self):                 # method should have self as first parameter and should be named as greeting because it is a verb and should be in lowercase \n",
    "        # If the country is Nepal, print Namaste <name>, otherwise print Hello <name>\n",
    "        if self.country == \"nepal\":     # self.country is an instance variable and country is a local variable and we have to use self to refer to instance variable in class and object methods , otherwise it will be treated as local variable\n",
    "            print(f\"Namaste {self.name}\")  # f-string should be used to format the string and print statement should have a colon at the end and should be indented with 4 spaces \n",
    "                                                # {self.name} is used to access the instance variable name and it should be inside curly braces and get replaced by the value of name instance variable like self.name = \"Ram\" then it will be replaced by Ram \n",
    "        \n",
    "        else:                            # if above statement is not true then execute this statement\n",
    "            print(f\"Hello {self.name}\")  # f-string should be used to format the string and print statement should have a colon at the end and should be indented with 4 spaces\n",
    "                                                # {self.name} is used to access the instance variable name and it should be inside curly braces and get replaced by the value of name instance variable like self.name = \"Ram\" then it will be replaced by Ram \n",
    "                                                \n",
    "\n"
   ]
  },
  {
   "cell_type": "code",
   "execution_count": null,
   "metadata": {},
   "outputs": [
    {
     "name": "stdout",
     "output_type": "stream",
     "text": [
      "Namaste Rajkumar\n"
     ]
    }
   ],
   "source": [
    "## Let's Define the object of the class Person and call the greeting method\n",
    "\n",
    "# create an object of the class Person and pass the name and country as arguments\n",
    "p = Person(\"Rajkumar\", \"nepal\")  # p is an object of the class Person and it is created by calling the class name and passing the name and country as arguments to the constructor method __init__ of the class Person \n",
    "                                    # \"Rajkumar\" is passed as name and \"nepal\" is passed as country to the constructor method __init__ of the class Person\n",
    "                                    \n",
    "# call the greeting method of the object p of the class Person\n",
    "p.greeting()  # p is an object of the class Person and greeting is a method of the class Person and it is called by using the object p of the class Person\n",
    "\n",
    "\n",
    "## Output: Namaste Rajkumar # because the country is Nepal and it should print Namaste Rajkumar\n"
   ]
  },
  {
   "cell_type": "code",
   "execution_count": null,
   "metadata": {},
   "outputs": [
    {
     "data": {
      "text/plain": [
       "'Rajkumar'"
      ]
     },
     "execution_count": 4,
     "metadata": {},
     "output_type": "execute_result"
    }
   ],
   "source": [
    "## Access the attributes name with object p of the class Person\n",
    "p.name\n"
   ]
  },
  {
   "cell_type": "code",
   "execution_count": 5,
   "metadata": {},
   "outputs": [
    {
     "data": {
      "text/plain": [
       "'nepal'"
      ]
     },
     "execution_count": 5,
     "metadata": {},
     "output_type": "execute_result"
    }
   ],
   "source": [
    "## Access the attributes country with object p of the class Person\n",
    "p.country\n"
   ]
  },
  {
   "cell_type": "markdown",
   "metadata": {},
   "source": [
    "- We can also do Attribute creation from outside the class Person and access it from the object of the class Person like p1.name = \"John\" and p1.age = 36."
   ]
  },
  {
   "cell_type": "code",
   "execution_count": 7,
   "metadata": {},
   "outputs": [],
   "source": [
    "## We can also do Attribute creation from outside the class Person and access it from the object of the class Person \n",
    "\n",
    "p.gender = \"male\""
   ]
  },
  {
   "cell_type": "code",
   "execution_count": null,
   "metadata": {},
   "outputs": [
    {
     "data": {
      "text/plain": [
       "'male'"
      ]
     },
     "execution_count": 8,
     "metadata": {},
     "output_type": "execute_result"
    }
   ],
   "source": [
    "## Access the attributes \n",
    "p.gender"
   ]
  },
  {
   "cell_type": "code",
   "execution_count": null,
   "metadata": {},
   "outputs": [],
   "source": []
  }
 ],
 "metadata": {
  "kernelspec": {
   "display_name": "base",
   "language": "python",
   "name": "python3"
  },
  "language_info": {
   "codemirror_mode": {
    "name": "ipython",
    "version": 3
   },
   "file_extension": ".py",
   "mimetype": "text/x-python",
   "name": "python",
   "nbconvert_exporter": "python",
   "pygments_lexer": "ipython3",
   "version": "3.12.4"
  }
 },
 "nbformat": 4,
 "nbformat_minor": 2
}
