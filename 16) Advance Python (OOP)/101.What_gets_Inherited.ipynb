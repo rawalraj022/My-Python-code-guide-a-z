{
 "cells": [
  {
   "cell_type": "markdown",
   "metadata": {},
   "source": [
    "\n",
    "In our previous video, we have discussed about inheritance concept inside OOP in Python. In this video, we will program some more examples to understand the concept of inheritance in Python. In this video, we will be discussing very important topic which is very useful whenever we are working with inheritance in Python. \n",
    "\n",
    "\n",
    "##### Exercise :"
   ]
  },
  {
   "cell_type": "code",
   "execution_count": null,
   "metadata": {},
   "outputs": [
    {
     "name": "stdout",
     "output_type": "stream",
     "text": [
      "Inside Phone constructor\n",
      "Buying a phone\n"
     ]
    }
   ],
   "source": [
    "## Q) Program which don't have any constructor in the child class but have a constructor in the parent class\n",
    "##    and we are passing the inputs to the child class constructor\n",
    "##    and we are performing the inheritance operation with the parent class and we are calling the function of the parent class\n",
    "##    using the object of the child class.\n",
    "\n",
    "class Phone:\n",
    "    def __init__(self, price, brand, camera):   #constructor #self is a reference to the object that is being created \n",
    "                                                #This constructor takes 3 inputs \n",
    "                                                    #price, brand, camera of Phone are the parameters that are passed to the constructor \n",
    "        print(\"Inside Phone constructor\" )\n",
    "        ## Storing the variables price, brand, camera inside my class variables \n",
    "        self.price = price\n",
    "        self.brand = brand \n",
    "        self.camera = camera\n",
    "    \n",
    "    ## Inside the class Phone, we have a function called buy \n",
    "    def buy(self):                    #self is a reference to the object that is being created \n",
    "        print(\"Buying a phone\")       #This function is used to print the statement \"Buying a phone\"\n",
    "\n",
    "class SmartPhone(Phone):  #This is the child class of the parent class Phone and it inherits the properties of the parent class\n",
    "    pass\n",
    "\n",
    "S = SmartPhone(200000, \"apple\", 3)  # Passing the inputs because a SmartPhone doesn't take any kinds of inputs\n",
    "                                        #But why we are passing the inputs? because we did the inheritance operation\n",
    "                                        #with the phone class and phone class takes the inputs and there is a \n",
    "                                        #constructor concept like whenever we are performing inheritance operation \n",
    "                                        #first of all we have to check whether our child class is having constructor or not\n",
    "                                        #If our child class is having constructor then first of all it will give the \n",
    "                                        #first priority to that particular constructor but if we don't have the constructor \n",
    "                                        #what will happen, it will go to the parent class and it will see the constructor \n",
    "                                        #there and Our child class have no constructor so it will go to the parent class\n",
    "                                        #and it will see the constructor there and it will take the inputs from there\n",
    "                                        #and it will pass the inputs to the parent class constructor and it will create the object\n",
    "                                        #of the parent class and it will inherit the properties of the parent class .      \n",
    "S.buy()           #Calling the function buy() using the object S of the class SmartPhone \n",
    "\n",
    "\n",
    "## Explanation of the above code : \n",
    "\n",
    "## In the above code, we are passing the inputs to the SmartPhone class constructor\n",
    "## but SmartPhone class doesn't have any constructor so it will go to the parent class and it will call the constructor of the parent class\n",
    "## and it will create the object of the parent class and it will inherit the properties of the parent class.\n",
    "## In the above code, we have two classes Phone and SmartPhone\n",
    "## Phone class has a constructor which takes 3 inputs price, brand, camera\n",
    "## Phone class has a function buy() which prints \"Buying a phone\"\n",
    "## SmartPhone class is the child class of the Phone class\n",
    "## SmartPhone class doesn't have any constructor\n",
    "## We are passing the inputs to the SmartPhone class constructor while creating the object of the SmartPhone class\n",
    "## We are calling the function buy() using the object of the SmartPhone class\n",
    "## When we are calling the function buy() using the object of the SmartPhone class, it will call the function buy() of the Phone class\n",
    "## because SmartPhone class doesn't have any function buy() so it will go to the parent class and it will call the function buy() of the parent class.\n",
    "## So the output of the above code is\n",
    "    ## Inside Phone constructor\n",
    "    ## Buying a phone\n",
    "\n",
    "\n",
    "\n"
   ]
  },
  {
   "cell_type": "code",
   "execution_count": null,
   "metadata": {},
   "outputs": [
    {
     "name": "stdout",
     "output_type": "stream",
     "text": [
      "Inside SmartPhone constructor\n",
      "Buying a phone\n"
     ]
    }
   ],
   "source": [
    "##Q) Program which have a constructor in the child class and parent class and we are passing the inputs to the child class constructor\n",
    "##     so first of all it will give the first priority to the child class constructor and it will create the object of the child class\n",
    "##     and it will inherit the properties of the parent class and we are calling the function of the parent class using the object of the child class.\n",
    "\n",
    "class Phone:\n",
    "    def __init__(self, price, brand, camera):  #constructor #self is a reference to the object that is being created\n",
    "                                                    #This constructor takes 3 inputs\n",
    "                                                    #price, brand, camera of Phone are the parameters that are passed to the constructor\n",
    "        \n",
    "        print(\"Inside Phone constructor\")   #This statement is used to print the statement \"Inside Phone constructor\"\n",
    "        self.price = price                 # Storing the variables price, brand, camera inside my class variables like self.price, self.brand, self.camera\n",
    "        self.brand = brand                 \n",
    "        self.camera = camera\n",
    "        \n",
    "    def buy(self):                        #self is a reference to the object that is being created \n",
    "        print(\"Buying a phone\")          #This function is used to print the statement \"Buying a phone\"\n",
    "        \n",
    "class SmartPhone(Phone):                #This is the child class of the parent class Phone and it inherits the properties of the parent class\n",
    "    def __init__(self, os, ram):       #constructor #self is a reference to the object that is being created\n",
    "                                        #This constructor takes 2 inputs\n",
    "                                        #os, ram of SmartPhone are the parameters that are passed to the constructor \n",
    "        self.os = os                  # Storing the variables os, ram inside my class variables like self.os, self.ram\n",
    "        self.ram = ram\n",
    "        print(\"Inside SmartPhone constructor\")  #This statement is used to print the statement \"Inside SmartPhone constructor\"\n",
    "\n",
    "S = SmartPhone(\"Android\", 8)       # Passing the inputs because a SmartPhone doesn't take any kinds of inputs \n",
    "                                    #But why we are passing the inputs? because we did the inheritance operation\n",
    "                                    #with the phone class and phone class takes the inputs and there is a\n",
    "                                    #constructor concept like whenever we are performing inheritance operation\n",
    "                                    #first of all we have to check whether our child class is having constructor or not\n",
    "                                    #If our child class is having constructor then first of all it will give the\n",
    "                                    #first priority to that particular constructor but if we don't have the constructor\n",
    "                                    #what will happen, it will go to the parent class and it will see the constructor\n",
    "                                    #there and Our child class have no constructor so it will go to the parent class\n",
    "                                    #and it will see the constructor there and it will take the inputs from there\n",
    "                                    #and it will pass the inputs to the parent class constructor and it will create the object\n",
    "                                    #of the parent class and it will inherit the properties of the parent class .\n",
    "S.buy()           #Calling the function buy() using the object S of the class SmartPhone \n",
    "\n",
    "\n",
    "## Explanation of the above code : \n",
    "\n",
    "## In the above code, we have two classes Phone and SmartPhone. Phone is the parent class and SmartPhone is the child class.\n",
    "## Phone class has a constructor which takes 3 inputs price, brand, camera. It also has a function buy() which prints \"Buying a phone\".\n",
    "## SmartPhone class inherits the properties of Phone class. SmartPhone class has a constructor which takes 2 inputs os, ram.\n",
    "## It also has a function buy() which prints \"Buying a phone\".\n",
    "## We are creating an object S of the class SmartPhone by passing the inputs \"Android\" and 8.\n",
    "## We are calling the function buy() using the object S of the class SmartPhone.\n",
    "## The output of the above code will be:\n",
    "    ## Inside SmartPhone constructor\n",
    "    ## Buying a phone\n",
    "\n"
   ]
  },
  {
   "cell_type": "markdown",
   "metadata": {},
   "source": [
    "If child class having the constructor so first it will call the constructor of child class and then it will call the constructor of parent class. But we can also call the parent class constructor first by using the super() function. \n",
    "\n",
    "\n"
   ]
  },
  {
   "cell_type": "code",
   "execution_count": null,
   "metadata": {},
   "outputs": [
    {
     "name": "stdout",
     "output_type": "stream",
     "text": [
      "Inside Phone constructor\n",
      "20000\n"
     ]
    }
   ],
   "source": [
    "## Q) Can we access private property from the child class is it possible or not? \n",
    "    ## => Yes, we can access the private property from the child class but we can't access \n",
    "    # the private property from the object of the class directly because it is private. \n",
    "    # But By using the getter and setter method we can access the private property \n",
    "    # from the object of the class indirectly.\n",
    "\n",
    "\n",
    "class Phone:\n",
    "    ## Constructor of the class Phone\n",
    "    def __init__(self, price, brand, camera):  #self is a reference to the object that is being created\n",
    "                                                #This constructor takes 3 inputs\n",
    "                                                #price, brand, camera of Phone are the parameters that are passed to the constructor\n",
    "                                                \n",
    "        print(\"Inside Phone constructor\")\n",
    "        self.__price = price               # Storing the variables price inside my class private variable like self.__price\n",
    "        self.brand = brand                 # Storing the variables brand inside my class variable like self.brand\n",
    "        self.camera = camera               # Storing the variables camera inside my class variable like self.camera\n",
    "        \n",
    "    ## getter method to get the value of the private variable price from the object of the class\n",
    "    def get_price(self):                   #self is a reference to the object that is being created \n",
    "        return self.__price                #This function is used to return the value of the private variable price\n",
    "    \n",
    "    ## buy function to print the statement \"Buying a phone\"\n",
    "    def buy(self):                        #self is a reference to the object that is being created\n",
    "        print(\"Buying a phone\")           #This function is used to print the statement \"Buying a phone\"\n",
    "\n",
    "## Child class SmartPhone of the parent class Phone\n",
    "class SmartPhone(Phone):                  #This is the child class of the parent class Phone and it inherits the properties of the parent class\n",
    "    def print_price(self):               #This function is used to print the price of the phone\n",
    "        print(self.get_price())       #Printing the price of the phone using the getter method get_price() of the parent class Phone\n",
    "\n",
    "S = SmartPhone(20000, \"Apple\", 3)       # Creating the object of the class SmartPhone by passing the inputs 20000, \"Apple\", 3\n",
    "S.print_price()                         # Calling the function print_price() using the object S of the class SmartPhone\n",
    "                                        # It will print the price of the phone\n",
    "                                        \n",
    "\n",
    "## Explanation of the above code :\n",
    "\n",
    "## In the above code, we have two classes Phone and SmartPhone. Phone is the parent class and SmartPhone is the child class.\n",
    "## Phone class has a constructor which takes 3 inputs price, brand, camera. It also has a function buy() which prints \"Buying a phone\".\n",
    "## Phone class has a private variable __price which stores the price of the phone.\n",
    "## Phone class has a getter method get_price() which returns the value of the private variable __price.\n",
    "## SmartPhone class inherits the properties of Phone class. SmartPhone class has a function print_price() which prints the price of the phone.\n",
    "## We are creating an object S of the class SmartPhone by passing the inputs 20000, \"Apple\", 3.\n",
    "## We are calling the function print_price() using the object S of the class SmartPhone.\n",
    "## The function print_price() calls the getter method get_price() of the parent class Phone to get the value of the private variable __price.\n",
    "## The output of the above code will be:\n",
    "    ## Inside Phone constructor\n",
    "    ## 20000\n",
    "\n"
   ]
  },
  {
   "cell_type": "code",
   "execution_count": null,
   "metadata": {},
   "outputs": [],
   "source": []
  }
 ],
 "metadata": {
  "kernelspec": {
   "display_name": "base",
   "language": "python",
   "name": "python3"
  },
  "language_info": {
   "codemirror_mode": {
    "name": "ipython",
    "version": 3
   },
   "file_extension": ".py",
   "mimetype": "text/x-python",
   "name": "python",
   "nbconvert_exporter": "python",
   "pygments_lexer": "ipython3",
   "version": "3.12.4"
  }
 },
 "nbformat": 4,
 "nbformat_minor": 2
}
