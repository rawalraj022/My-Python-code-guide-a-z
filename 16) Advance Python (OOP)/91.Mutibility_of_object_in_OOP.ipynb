{
 "cells": [
  {
   "cell_type": "markdown",
   "metadata": {},
   "source": [
    "# Mutability of Object in OOP \n",
    "\n",
    "#### Introduction\n",
    "\n",
    "Mutable means we can change the value of an object after it has been created. In Python, some objects are mutable, and some are immutable. Mutable objects can be changed after they are created, and immutable objects can't be changed after they are created.\n",
    "\n",
    "- It is not creating a copy of the object, but it is changing the original object. \n",
    "\n",
    "\n",
    "#### Mutable Objects\n",
    "\n",
    "Mutable objects are objects whose value can be changed after they are created. In Python, the following objects are mutable:\n",
    "\n",
    "- Lists\n",
    "- Dictionaries\n",
    "- Sets\n",
    "- User-defined classes\n",
    "\n",
    "#### Immutable Objects\n",
    "\n",
    "Immutable objects are objects whose value can't be changed after they are created. In Python, the following objects are immutable:\n",
    "\n",
    "- Integers\n",
    "- Floats\n",
    "- Strings\n",
    "- Tuples\n",
    "- Frozen sets\n",
    "- User-defined classes\n",
    "\n",
    "#### Example\n",
    "\n",
    "In the following example, we will see how mutable objects can be changed after they are created:\n",
    "\n",
    "```python\n",
    "# Create a list\n",
    "my_list = [1, 2, 3]\n",
    "\n",
    "# Print the list\n",
    "print(my_list)\n",
    "\n",
    "# Change the value of the first element\n",
    "my_list[0] = 4\n",
    "\n",
    "# Print the list\n",
    "print(my_list)\n",
    "```\n",
    "\n",
    "Output:\n",
    "\n",
    "```\n",
    "[1, 2, 3]\n",
    "[4, 2, 3]\n",
    "```\n",
    "\n",
    "In the above example, we created a list called `my_list` with three elements. We then changed the value of the first element to `4`. Since lists are mutable, we were able to change the value of the first element after the list was created.\n",
    "\n",
    "#### Conclusion\n",
    "\n",
    "In this article, we learned about the mutability of objects in Python. We learned that mutable objects can be changed after they are created, and immutable objects can't be changed after they are created. We also learned about some examples of mutable and immutable objects in Python.\n",
    "\n",
    "\n",
    "#### Exercise :"
   ]
  },
  {
   "cell_type": "code",
   "execution_count": 1,
   "metadata": {},
   "outputs": [],
   "source": [
    "class Person:\n",
    "\n",
    "  def __init__(self,name,gender):\n",
    "    self.name = name\n",
    "    self.gender = gender\n",
    "\n",
    "\n",
    "#outside of class\n",
    "def greeting(person):\n",
    "  person.name = \"Alex\"\n",
    "  return person"
   ]
  },
  {
   "cell_type": "code",
   "execution_count": 2,
   "metadata": {},
   "outputs": [],
   "source": [
    "p = Person(\"Rajkuamr\", \"Male\")"
   ]
  },
  {
   "cell_type": "code",
   "execution_count": 3,
   "metadata": {},
   "outputs": [
    {
     "name": "stdout",
     "output_type": "stream",
     "text": [
      "4604610128\n"
     ]
    }
   ],
   "source": [
    "print(id(p))"
   ]
  },
  {
   "cell_type": "code",
   "execution_count": 4,
   "metadata": {},
   "outputs": [],
   "source": [
    "a = greeting(p)"
   ]
  },
  {
   "cell_type": "code",
   "execution_count": 5,
   "metadata": {},
   "outputs": [
    {
     "data": {
      "text/plain": [
       "'Alex'"
      ]
     },
     "execution_count": 5,
     "metadata": {},
     "output_type": "execute_result"
    }
   ],
   "source": [
    "a.name"
   ]
  },
  {
   "cell_type": "code",
   "execution_count": 6,
   "metadata": {},
   "outputs": [
    {
     "data": {
      "text/plain": [
       "'Alex'"
      ]
     },
     "execution_count": 6,
     "metadata": {},
     "output_type": "execute_result"
    }
   ],
   "source": [
    "p.name"
   ]
  },
  {
   "cell_type": "code",
   "execution_count": 7,
   "metadata": {},
   "outputs": [
    {
     "name": "stdout",
     "output_type": "stream",
     "text": [
      "4604610128\n"
     ]
    }
   ],
   "source": [
    "print(id(a)) "
   ]
  },
  {
   "cell_type": "code",
   "execution_count": null,
   "metadata": {},
   "outputs": [],
   "source": []
  }
 ],
 "metadata": {
  "kernelspec": {
   "display_name": "base",
   "language": "python",
   "name": "python3"
  },
  "language_info": {
   "codemirror_mode": {
    "name": "ipython",
    "version": 3
   },
   "file_extension": ".py",
   "mimetype": "text/x-python",
   "name": "python",
   "nbconvert_exporter": "python",
   "pygments_lexer": "ipython3",
   "version": "3.12.4"
  }
 },
 "nbformat": 4,
 "nbformat_minor": 2
}
