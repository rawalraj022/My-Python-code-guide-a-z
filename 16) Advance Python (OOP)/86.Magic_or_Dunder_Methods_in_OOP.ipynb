{
 "cells": [
  {
   "cell_type": "markdown",
   "metadata": {},
   "source": [
    "# Magic Methods or Dunder Methods in OOP Python\n",
    "\n",
    "**Magic Methods or Dunder Methods both are same** , someone will call magic methods and someone will call dunder methods. \n",
    "\n",
    "**How to identify the Magic Methods or Dunder Methods** . \n",
    "⇒  __methodname__() \n",
    "\n",
    "- Constructor is special function that means it is called a magic method or dunder Method .\n",
    "\n",
    "\n",
    "#### What are Magic Methods?\n",
    "Magic methods are special methods that are used to define the behavior of objects. They are also known as Dunder methods. Dunder stands for Double Underscore. These methods are surrounded by double underscores. For example, `__init__` is a magic method.\n",
    "\n",
    "Magic methods are very important when we are creating the big applications because whenever we create an function or method in the class, we have to call that method to get the output **but in the case of magic methods (constructor), we don't have to call them, they are called automatically when certain conditions are met.**\n",
    "\n",
    "#### Why are Magic Methods used?\n",
    "Magic methods are used to define the behavior of objects. They are called automatically when certain conditions are met. For example, when we create an object of a class, the `__init__` method is called automatically.\n",
    "\n",
    "\n",
    "**Magic methods(constructor) are very useful during building the big applications** because we don't have to call them explicitly, they are called automatically when certain conditions are met. We will give the control to the user to do the things in the way they want.\n",
    "\n",
    "Whenever we are creating the facebook application, First of all, we have to connect to the database, then we have to create the tables, then we have to create the columns in the tables, then we have to insert the data into the tables, then we have to update the data, then we have to delete the data. \n",
    "\n",
    "In this case, we have to call the methods explicitly to do the things. But in the case of magic methods, we don't have to call them explicitly, they are called automatically when certain conditions are met.\n",
    "\n",
    "\n",
    "#### Whenever we are creating the application, there are two types of control: \n",
    "\n",
    "1. **Control to the user**: In this case, we will give the control to the user to do the things in the way they want.\n",
    "\n",
    "2. **Self Control**: In this case, we will give the control to the system to do the things in the way it wants to do. So, Self Control is the default control in the case of magic methods because we don't have to call them explicitly, they are called automatically when certain conditions are met and we don't have to pass the arguments to them, they are passed automatically.\n",
    "\n",
    "\n",
    "\n",
    "#### Types of Magic Methods\n",
    "There are many magic methods in Python. Some of the most commonly used magic methods are:\n",
    "1. `__init__`: This method is called when an object is created.\n",
    "2. `__str__`: This method is called when we use the `print()` function on an object.\n",
    "3. `__add__`: This method is called when we use the `+` operator on objects.\n",
    "4. `__sub__`: This method is called when we use the `-` operator on objects.\n",
    "5. `__mul__`: This method is called when we use the `*` operator on objects.\n",
    "6. `__truediv__`: This method is called when we use the `/` operator on objects.\n",
    "7. `__eq__`: This method is called when we use the `==` operator on objects.\n",
    "8. `__lt__`: This method is called when we use the `<` operator on objects.\n",
    "9. `__gt__`: This method is called when we use the `>` operator on objects.\n",
    "10. `__le__`: This method is called when we use the `<=` operator on objects.\n",
    "11. `__ge__`: This method is called when we use the `>=` operator on objects.\n",
    "\n",
    "#### Example\n",
    "Let's see an example of using magic methods in Python.\n",
    "\n",
    "Suppose we have a class `Point` that represents a point in 2D space. We want to define the behavior of objects of this class using magic methods. \n",
    "\n",
    "We will define the following magic methods for the `Point` class: `__init__`, `__str__`, `__add__`, `__sub__`, `__mul__`, `__truediv__`, `__eq__`, `__lt__`, `__gt__`, `__le__`, `__ge__`.\n",
    "\n"
   ]
  },
  {
   "cell_type": "code",
   "execution_count": null,
   "metadata": {},
   "outputs": [],
   "source": [
    "\n",
    "class Temp:                     # class name should start with capital letter \n",
    "    def __init__(self):         # constructor should be __init__ not __init \n",
    "        print(\"Hello world!\")  # indentation should be 4 spaces not 8 spaces\n"
   ]
  },
  {
   "cell_type": "code",
   "execution_count": null,
   "metadata": {},
   "outputs": [
    {
     "name": "stdout",
     "output_type": "stream",
     "text": [
      "Hello world!\n"
     ]
    }
   ],
   "source": [
    "obj = Temp()                   # object should be created with class name not with constructor name "
   ]
  },
  {
   "cell_type": "code",
   "execution_count": null,
   "metadata": {},
   "outputs": [],
   "source": []
  }
 ],
 "metadata": {
  "kernelspec": {
   "display_name": "base",
   "language": "python",
   "name": "python3"
  },
  "language_info": {
   "codemirror_mode": {
    "name": "ipython",
    "version": 3
   },
   "file_extension": ".py",
   "mimetype": "text/x-python",
   "name": "python",
   "nbconvert_exporter": "python",
   "pygments_lexer": "ipython3",
   "version": "3.12.4"
  }
 },
 "nbformat": 4,
 "nbformat_minor": 2
}
