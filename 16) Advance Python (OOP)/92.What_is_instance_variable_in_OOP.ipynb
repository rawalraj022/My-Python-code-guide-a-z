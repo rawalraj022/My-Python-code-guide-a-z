{
 "cells": [
  {
   "cell_type": "markdown",
   "metadata": {},
   "source": [
    "# What is instance variable in OOP in Python?\n",
    "\n",
    "Instance variables are variables that can store different data in the same variable for the different objects. \n",
    "\n",
    "- We can take the same variable but store different data in it for different objects.\n",
    "\n",
    "- Instance variable are created inside the constructor method `__init__` and are accessed using the `self` keyword inside the class. Instance variables are unique to each object of the class. In the example above, `person1` and `person2` have their own `name` and `age` instance variables that are independent of each other. This is the basic concept of instance variables in object-oriented programming in Python.\n",
    "\n",
    "- We can take the same variable but store different data in it for different objects so this is called instance variable. That is why this variable is very special variable or powerful variable in OOP in Python because in our normal variable we can't store different types of data in the same variable but in instance variable we can store different types of data in the same variable for different objects. \n",
    "\n",
    "In Python, instance variables are variables that are bound to the object itself. **They are created inside the constructor method `__init__` and are accessed using the `self` keyword inside the class.**\n",
    "\n",
    "Here is an example of how to create an instance variable in Python:\n",
    "\n",
    "\n",
    "```python\n",
    "class Person:               # class name is Person\n",
    "    def __init__(self, name, age): # constructor method\n",
    "        self.name = name      # instance variable is name for storing name and self is used to access the instance variable\n",
    "        self.age = age       # instance variable is age for storing age and self is used to access the instance variable\n",
    "\n",
    "person1 = Person(\"Alice\", 25)     # object of class Person is person1 and we are passing the name and age of the person in the object of class Person\n",
    "person2 = Person(\"Bob\", 30)\n",
    "\n",
    "print(person1.name) # Alice\n",
    "print(person1.age) # 25\n",
    "\n",
    "print(person2.name) # Bob\n",
    "print(person2.age) # 30\n",
    "```\n",
    "\n",
    "In the example above, `name` and `age` are instance variables of the `Person` class. They are created inside the `__init__` method and are accessed using the `self` keyword inside the class.\n",
    "\n",
    "Instance variables are unique to each object of the class. In the example above, `person1` and `person2` have their own `name` and `age` instance variables that are independent of each other.\n",
    "\n",
    "This is the basic concept of instance variables in object-oriented programming in Python.\n",
    "\n",
    "\n",
    "#### Exercise :"
   ]
  },
  {
   "cell_type": "code",
   "execution_count": null,
   "metadata": {},
   "outputs": [],
   "source": [
    "class Person:             # define parent class\n",
    "\n",
    "    def __init__(self, name, country):   # constructor\n",
    "        self.name = name     # instance variable \n",
    "        self.country = country # instance variable "
   ]
  },
  {
   "cell_type": "code",
   "execution_count": 16,
   "metadata": {},
   "outputs": [
    {
     "name": "stdout",
     "output_type": "stream",
     "text": [
      "4639691536 4639686480 4639679472\n"
     ]
    }
   ],
   "source": [
    "p1 = Person(\"Rajkuamr\", \"nepal\") # create object of Person class\n",
    "p2 = Person(\"Alex\", \"USA\") # create object of Person class\n",
    "p3 = Person(\"rawal\", \"india\") # create object of Person class\n",
    "\n",
    "print(id(p1), id(p2), id(p3)) # print the memory address of the objects"
   ]
  },
  {
   "cell_type": "code",
   "execution_count": 14,
   "metadata": {},
   "outputs": [
    {
     "data": {
      "text/plain": [
       "'Rajkuamr'"
      ]
     },
     "execution_count": 14,
     "metadata": {},
     "output_type": "execute_result"
    }
   ],
   "source": [
    "p1.name"
   ]
  },
  {
   "cell_type": "code",
   "execution_count": 10,
   "metadata": {},
   "outputs": [
    {
     "data": {
      "text/plain": [
       "'Alex'"
      ]
     },
     "execution_count": 10,
     "metadata": {},
     "output_type": "execute_result"
    }
   ],
   "source": [
    "p2.name"
   ]
  },
  {
   "cell_type": "code",
   "execution_count": 17,
   "metadata": {},
   "outputs": [
    {
     "data": {
      "text/plain": [
       "'rawal'"
      ]
     },
     "execution_count": 17,
     "metadata": {},
     "output_type": "execute_result"
    }
   ],
   "source": [
    "p3.name"
   ]
  },
  {
   "cell_type": "markdown",
   "metadata": {},
   "source": [
    "- We can take the same variable but store different data in it for different objects so this is called instance variable. That is why this variable is very special variable or powerful variable in OOP in Python because in our normal variable we can't store different types of data in the same variable but in instance variable we can store different types of data in the same variable for different objects. \n",
    "\n"
   ]
  },
  {
   "cell_type": "code",
   "execution_count": null,
   "metadata": {},
   "outputs": [],
   "source": []
  }
 ],
 "metadata": {
  "kernelspec": {
   "display_name": "base",
   "language": "python",
   "name": "python3"
  },
  "language_info": {
   "codemirror_mode": {
    "name": "ipython",
    "version": 3
   },
   "file_extension": ".py",
   "mimetype": "text/x-python",
   "name": "python",
   "nbconvert_exporter": "python",
   "pygments_lexer": "ipython3",
   "version": "3.12.4"
  }
 },
 "nbformat": 4,
 "nbformat_minor": 2
}
