{
 "cells": [
  {
   "cell_type": "markdown",
   "metadata": {},
   "source": [
    "# Reference Variable :\n",
    "- A reference variable is a variable that is a reference to a memory location.\n",
    "- It is used to refer to an object.\n",
    "- It is used to refer to a variable.\n",
    "- It is used to refer to a method.\n",
    "- It is used to refer to a property.\n",
    "\n",
    "- If two objects are pointing to the same memory location, then they are called reference variables. So, whatever changes we'll be doing inside just one object will be reflected in the all object as well because they are pointing to the same memory location.\n",
    "\n",
    "#### Example :\n",
    "```python\n",
    "a = 10\n",
    "b = a\n",
    "print(a) # 10\n",
    "print(b) # 10\n",
    "```\n",
    "- In the above example, `a` is a reference variable that refers to the memory location of the value `10`.\n",
    "- `b` is also a reference variable that refers to the memory location of the value `10`.\n",
    "\n",
    "# Reference Variable in Python :\n",
    "- In Python, everything is an object.\n",
    "- When we create a variable, it is a reference to the object that is stored in memory.\n",
    "- When we assign a value to a variable, it is a reference to the object that is stored in memory.\n",
    "- When we pass a variable to a function, it is a reference to the object that is stored in memory.\n",
    "\n",
    "#### Example :\n",
    "```python\n",
    "a = 10\n",
    "b = a\n",
    "print(a) # 10\n",
    "print(b) # 10\n",
    "```\n",
    "- In the above example, `a` is a reference variable that refers to the memory location of the value `10`.   \n",
    "- `b` is also a reference variable that refers to the memory location of the value `10`.\n",
    "\n",
    "# Conclusion :\n",
    "- In Python, everything is an object.   \n",
    "- When we create a variable, it is a reference to the object that is stored in memory.  \n",
    "- When we assign a value to a variable, it is a reference to the object that is stored in memory.\n",
    "- When we pass a variable to a function, it is a reference to the object that is stored in memory.\n",
    "- In Python, a reference variable is a variable that is a reference to a memory location.\n",
    "- It is used to refer to an object.\n",
    "- It is used to refer to a variable.\n",
    "- It is used to refer to a method.\n",
    "- It is used to refer to a property.\n",
    "\n",
    "\n",
    "# Exercise :\n"
   ]
  },
  {
   "cell_type": "code",
   "execution_count": 1,
   "metadata": {},
   "outputs": [],
   "source": [
    "\n",
    "# class definition\n",
    "class Person:                   # class name Person \n",
    "    def __init__(self):         # constructor\n",
    "        self.name = \"Rajkumar\" # instance variable name with value \"Rajkumar\"\n",
    "        self.country = \"Nepal\" # instance variable country with value \"Nepal\"\n"
   ]
  },
  {
   "cell_type": "code",
   "execution_count": null,
   "metadata": {},
   "outputs": [],
   "source": [
    "# creating object of the class Person\n",
    "p = Person()                  # object creation\n",
    "                                # p is also located in memory same as class Person and p is instance of class Person"
   ]
  },
  {
   "cell_type": "code",
   "execution_count": null,
   "metadata": {},
   "outputs": [
    {
     "data": {
      "text/plain": [
       "4354375360"
      ]
     },
     "execution_count": 3,
     "metadata": {},
     "output_type": "execute_result"
    }
   ],
   "source": [
    "# accessing the instance variable of the object p \n",
    "id(p)                      # id of the object p is returned by id() function and it is stored in memory location where Person class is stored\n"
   ]
  },
  {
   "cell_type": "code",
   "execution_count": null,
   "metadata": {},
   "outputs": [
    {
     "data": {
      "text/plain": [
       "4354375360"
      ]
     },
     "execution_count": 4,
     "metadata": {},
     "output_type": "execute_result"
    }
   ],
   "source": [
    "# creating another reference to the object p\n",
    "q = p                       # q will also point to the object p\n",
    "id(q)                      # id of the object q is same as id of the object p\n"
   ]
  },
  {
   "cell_type": "code",
   "execution_count": null,
   "metadata": {},
   "outputs": [
    {
     "name": "stdout",
     "output_type": "stream",
     "text": [
      "Rajkumar\n",
      "Rajkumar\n"
     ]
    }
   ],
   "source": [
    "# accessing the instance variable of the object q\n",
    "print(p.name)               # accessing the instance variable name of the object p\n",
    "print(q.name)               # accessing the instance variable name of the object q"
   ]
  },
  {
   "cell_type": "code",
   "execution_count": null,
   "metadata": {},
   "outputs": [],
   "source": [
    "# changing the value of the instance variable name of the object p\n",
    "q.name = \"Rawal\"           # changing the value of the instance variable name of the object q\n"
   ]
  },
  {
   "cell_type": "code",
   "execution_count": 7,
   "metadata": {},
   "outputs": [
    {
     "name": "stdout",
     "output_type": "stream",
     "text": [
      "Rawal\n",
      "Rawal\n"
     ]
    }
   ],
   "source": [
    "print(p.name)               # accessing the instance variable name of the object p\n",
    "print(q.name)               # accessing the instance variable name of the object q\n"
   ]
  },
  {
   "cell_type": "code",
   "execution_count": null,
   "metadata": {},
   "outputs": [],
   "source": []
  }
 ],
 "metadata": {
  "kernelspec": {
   "display_name": "base",
   "language": "python",
   "name": "python3"
  },
  "language_info": {
   "codemirror_mode": {
    "name": "ipython",
    "version": 3
   },
   "file_extension": ".py",
   "mimetype": "text/x-python",
   "name": "python",
   "nbconvert_exporter": "python",
   "pygments_lexer": "ipython3",
   "version": "3.12.4"
  }
 },
 "nbformat": 4,
 "nbformat_minor": 2
}
