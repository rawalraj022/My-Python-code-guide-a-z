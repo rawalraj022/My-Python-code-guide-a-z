{
 "cells": [
  {
   "cell_type": "markdown",
   "metadata": {},
   "source": [
    "# Static Variables & Methods in OOP\n",
    "\n",
    "So, Before creating the application or website we have to decide which variable should be **static variable** and which variable should be **instance variable.**\n",
    "\n",
    "Example, If we are building a Banking application, I'm using one data called name. This name should be a **static variable** because every time **customer name** will different. and For **instance variable** we can use bank name, account number etc.\n",
    "\n",
    "Whatever variable we are defining inside the constructor , this is called **instance variable.** But if we define a variable outside the constructor, then it is called **static variable.**\n",
    "\n",
    "**static variable** is defined inside the class but outside the constructor. It is shared among all the objects of the class. It is also called **class variable.**\n",
    "\n",
    "If we are building a Banking application, I'm using one data called name. This name should be a **static variable** because every time **customer name** will different. \n",
    "\n",
    "**static method** is defined inside the class but outside the constructor. It is shared among all the objects of the class. It is also called **class method.** **static method** can only access **static variable.** \n",
    "\n",
    "\n",
    "\n",
    "```python\n",
    "class Bank:\n",
    "    # static variable\n",
    "    name = \"SBI\"   # name is a static variable and \"SBI\" is a value of the static variable \n",
    "\n",
    "    # constructor and instance variable\n",
    "    def __init__(self, name, balance):\n",
    "        self.name = name\n",
    "        self.balance = balance\n",
    "    \n",
    "    # Static method\n",
    "    @staticmethod    # decorator\n",
    "    def getBankName():    # getBankName is a static method name\n",
    "        return Bank.name  # Bank.name is a static variable where Bank is a class name and name is a static variable\n",
    "    @staticmethod\n",
    "    def setBankName(name):\n",
    "        Bank.name = name\n",
    "```\n",
    "\n",
    "```python\n",
    "b1 = Bank(\"Rahul\", 1000)\n",
    "b2 = Bank(\"Rohit\", 2000)\n",
    "print(b1.getBankName())\n",
    "print(b2.getBankName())\n",
    "b1.setBankName(\"HDFC\")\n",
    "print(b1.getBankName())\n",
    "print(b2.getBankName())\n",
    "``` \n",
    "\n",
    "If we want to give a access to our junior developer to **get the value and set the value of the variable of static variable,** the we have to use **getter and setter method.**\n",
    "**getter and setter method.**\n",
    "\n",
    "```python\n",
    "class Bank:\n",
    "    # static variable\n",
    "    name = \"SBI\"   # name is a static variable and \"SBI\" is a value of the static variable \n",
    "\n",
    "    # constructor and instance variable\n",
    "    def __init__(self, name, balance):\n",
    "        self.name = name\n",
    "        self.balance = balance\n",
    "    \n",
    "    # Static method\n",
    "    @staticmethod    # decorator\n",
    "    def getBankName():    # getBankName is a static method name\n",
    "        return Bank.name  # Bank.name is a static variable where Bank is a class name and name is a static variable\n",
    "    @staticmethod\n",
    "    def setBankName(name):\n",
    "        Bank.name = name\n",
    "    \n",
    "    # getter method\n",
    "    @classmethod\n",
    "    def getBank(cls):\n",
    "        return cls.name\n",
    "    \n",
    "    # setter method\n",
    "    @classmethod\n",
    "    def setBank(cls, name):\n",
    "        cls.name = name\n",
    "\n",
    "```\n",
    "\n",
    "```python\n",
    "b1 = Bank(\"Rahul\", 1000)\n",
    "b2 = Bank(\"Rohit\", 2000)\n",
    "print(b1.getBankName())\n",
    "print(b2.getBankName())\n",
    "b1.setBankName(\"HDFC\")\n",
    "print(b1.getBankName())\n",
    "print(b2.getBankName())\n",
    "print(b1.getBank())\n",
    "print(b2.getBank())\n",
    "b1.setBank(\"ICICI\")\n",
    "print(b1.getBank())\n",
    "print(b2.getBank())\n",
    "\n",
    "```\n",
    "\n",
    "\n",
    "#### Exercise"
   ]
  },
  {
   "cell_type": "code",
   "execution_count": 1,
   "metadata": {},
   "outputs": [],
   "source": [
    "## ATM Class with OOP Concept in Python\n",
    "\n",
    "class Atm:\n",
    "    #static Variables\n",
    "    __customer_id = 0       # __ is used to make the variable private and it can be accessed only inside the class and not outside the class.\n",
    "                                # If we want to access the variable outside the class then we can use the getter and setter method. Where getter is used to get the value of the variable and setter is used to set the value of the variable.\n",
    "                            # customer_id is a static variable because it is defined outside the constructor and it is shared by all the objects of the class.\n",
    "\n",
    "    #constructor(special function) - superpower\n",
    "    def __init__(self):\n",
    "        self.pin = \"\"\n",
    "        self.balance = 0\n",
    "        ## if we want to create a customer id for each customer then we can use the below line\n",
    "            # Whatever variable we are defining inside the constructor , this is called **instance variable.** \n",
    "                # But if we define a variable outside the constructor, then it is called **static variable.**\n",
    "        self.customer_id = Atm.__customer_id   # self.customer_id is an instance variable because it is defined inside the constructor and it is unique for each object of the class and Atm.__customer_id here is used to access the static variable.\n",
    "        Atm.__customer_id += 1                 # Atm.__customer_ide is used here to access the static variable and increment it by 1. So that each customer will have a unique id.\n",
    "        # self.menu()\n",
    "    \n",
    "    \n",
    "    # Decorator which is used to define a static method.\n",
    "    @staticmethod                     # static method is used to access the static variable. It is a decorator which is used to define a static method.\n",
    "    # Here we doesn't have to use **self** because we are not using variable which is inside the constructor.\n",
    "        # We are using the static variable which is defined outside the constructor.\n",
    "    def get_customer_id():         # get_customer_ide is the name of the function which is used to get the customer id.\n",
    "        return Atm.__customer_id   # Atm.__customer_id is used to access the static variable.\n",
    "\n",
    "\n",
    "    def menu(self):\n",
    "        user_input = input(\n",
    "            \"\"\"\n",
    "            Hi how can i help you?\n",
    "\n",
    "            1. Press 1 to create pin\n",
    "            2. Press 2 to change pin\n",
    "            3. Press 3 to check balence\n",
    "            4. Press 4 to withdraw\n",
    "            5. Anything to exit\n",
    "            \"\"\"\n",
    "        )\n",
    "\n",
    "        if user_input == '1':\n",
    "            #create a pin\n",
    "            self.create_pin()\n",
    "\n",
    "        elif user_input == '2':\n",
    "            #change pin\n",
    "            self.change_pin()\n",
    "\n",
    "        elif user_input == '3':\n",
    "            #check balance\n",
    "            self.check_balance()\n",
    "\n",
    "        elif user_input == '4':\n",
    "            #withdraw\n",
    "            self.withdraw()\n",
    "\n",
    "        else:\n",
    "            exit()\n",
    "\n",
    "\n",
    "    def create_pin(self):\n",
    "        user_pin = input(\"Enter your pin: \")\n",
    "        self.pin = user_pin\n",
    "\n",
    "        user_balance = int(input(\"Enter Balance: \"))\n",
    "        self.balance = user_balance\n",
    "\n",
    "        print(\"Pin Created Successfully!\")\n",
    "        # self.menu()\n",
    "\n",
    "\n",
    "    def change_pin(self):\n",
    "        old_pin = input(\"Enter old pin: \")\n",
    "\n",
    "        if old_pin == self.pin:\n",
    "            #Let change the pin\n",
    "            new_pin = input(\"Enter new pin: \")\n",
    "            self.pin = new_pin\n",
    "            print(\"Pin changed Successfully!\")\n",
    "            # self.menu()\n",
    "\n",
    "        else:\n",
    "            print(\"Sorry you entered wrong pin.\")\n",
    "            # self.menu()\n",
    "\n",
    "\n",
    "\n",
    "\n",
    "    def check_balance(self):\n",
    "        user_pin = input(\"Enter your pin: \")\n",
    "        if user_pin == self.pin:\n",
    "            print(f\"Your balance is {self.balance}\")\n",
    "        else:\n",
    "            print(\"Your pin is correct, please try again\")\n",
    "        # self.menu()\n",
    "\n",
    "\n",
    "\n",
    "    def withdraw(self):\n",
    "        user_pin = input(\"Enter your pin: \")\n",
    "        if user_pin == self.pin:\n",
    "            # Allow to withdraw\n",
    "            amount = int(input(\"Enter the amount: \"))\n",
    "            if amount <= self.balance:\n",
    "                self.balance = self.balance - amount\n",
    "                print(f\"withdraw successfull and the current balance is {self.balance}\")\n",
    "\n",
    "            else:\n",
    "                print(\"You have insufficient balance\")\n",
    "\n",
    "\n",
    "        else:\n",
    "            print(\"Your pin is wrong!\")\n",
    "            # self.menu()\n"
   ]
  },
  {
   "cell_type": "code",
   "execution_count": 2,
   "metadata": {},
   "outputs": [],
   "source": [
    "# c1 is an object of the class Atm\n",
    "c1 = Atm()"
   ]
  },
  {
   "cell_type": "code",
   "execution_count": 3,
   "metadata": {},
   "outputs": [
    {
     "data": {
      "text/plain": [
       "1"
      ]
     },
     "execution_count": 3,
     "metadata": {},
     "output_type": "execute_result"
    }
   ],
   "source": [
    "# Atm.get_customer_id() is used to access the static method and get the customer id and print it.\n",
    "Atm.get_customer_id()"
   ]
  },
  {
   "cell_type": "code",
   "execution_count": 5,
   "metadata": {},
   "outputs": [],
   "source": [
    "# c2 is an object of the class Atm\n",
    "c2 = Atm()"
   ]
  },
  {
   "cell_type": "code",
   "execution_count": null,
   "metadata": {},
   "outputs": [
    {
     "data": {
      "text/plain": [
       "2"
      ]
     },
     "execution_count": 8,
     "metadata": {},
     "output_type": "execute_result"
    }
   ],
   "source": [
    "# Atm.get_customer_id() is used to access the static method and get the customer id and print it.\n",
    "Atm.get_customer_id()"
   ]
  },
  {
   "cell_type": "code",
   "execution_count": 9,
   "metadata": {},
   "outputs": [],
   "source": [
    "# c3 is an object of the class Atm\n",
    "c3 = Atm()"
   ]
  },
  {
   "cell_type": "code",
   "execution_count": 10,
   "metadata": {},
   "outputs": [
    {
     "data": {
      "text/plain": [
       "3"
      ]
     },
     "execution_count": 10,
     "metadata": {},
     "output_type": "execute_result"
    }
   ],
   "source": [
    "# Atm.get_customer_id() is used to access the static method and get the customer id and print it.\n",
    "Atm.get_customer_id()"
   ]
  },
  {
   "cell_type": "code",
   "execution_count": null,
   "metadata": {},
   "outputs": [],
   "source": []
  }
 ],
 "metadata": {
  "kernelspec": {
   "display_name": "base",
   "language": "python",
   "name": "python3"
  },
  "language_info": {
   "codemirror_mode": {
    "name": "ipython",
    "version": 3
   },
   "file_extension": ".py",
   "mimetype": "text/x-python",
   "name": "python",
   "nbconvert_exporter": "python",
   "pygments_lexer": "ipython3",
   "version": "3.12.4"
  }
 },
 "nbformat": 4,
 "nbformat_minor": 2
}
