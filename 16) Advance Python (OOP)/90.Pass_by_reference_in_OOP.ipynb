{
 "cells": [
  {
   "cell_type": "markdown",
   "metadata": {},
   "source": [
    "How we can pass the class object as a reference ? \n",
    "\n",
    "# Pass by reference in OOP \n",
    "\n",
    "Pass by reference in OOP is a concept that is used to pass the reference of an object to a function. This means that the function can modify the object that is passed to it. This is useful when you want to modify an object in a function and have those changes reflected in the calling code. \n",
    "\n",
    "- We can pass different different datatype of object to the function and can modify the object in the function. \n",
    "\n",
    "- Most important thing is that the changes made in the object in the function will be reflected in the calling code.\n",
    "\n",
    "### Example :\n",
    "\n",
    "```python\n",
    "class Person:                  # defining a class\n",
    "    def __init__(self, name): # defining a constructor\n",
    "        self.name = name     # initializing the name attribute\n",
    "\n",
    "    def change_name(person): # defining a method\n",
    "        person.name = \"John\" # changing the name attribute\n",
    "\n",
    "p = Person(\"Alice\")         # creating an object of the Person class with the name \"Alice\"\n",
    "print(p.name)          # Alice\n",
    "p.change_name()       # calling the change_name method on the object\n",
    "print(p.name)       # John\n",
    "```\n",
    "\n",
    "In the above example, we have a `Person` class with a `change_name` method that takes a `person` object as an argument and changes the `name` attribute of the object. When we create a `Person` object `p` with the name \"Alice\" and call the `change_name` method on it, the `name` attribute of the object is changed to \"John\". This is because the `change_name` method is modifying the object that is passed to it by reference.\n",
    "\n",
    "### When to use pass by reference in OOP :  \n",
    "\n",
    "Pass by reference in OOP is useful when you want to modify an object in a function and have those changes reflected in the calling code. This can be useful when you want to update the state of an object or perform some operation on the object that modifies its internal state.\n",
    "\n",
    "### Conclusion :\n",
    "\n",
    "Pass by reference in OOP is a useful concept that allows you to modify an object in a function and have those changes reflected in the calling code. This can be useful when you want to update the state of an object or perform some operation on the object that modifies its internal state.\n",
    "\n",
    "\n",
    "\n",
    "#### Example :"
   ]
  },
  {
   "cell_type": "code",
   "execution_count": 1,
   "metadata": {},
   "outputs": [],
   "source": [
    "\n",
    "class Person:                  # define a class named Person with two attributes\n",
    "\n",
    "    def __init__(self,name,gender): # define a method named __init__ with three parameters (self, name,gender)\n",
    "        self.name = name          # assign the value of the parameter name to the attribute name of the object\n",
    "        self.gender = gender    \n",
    "\n",
    "\n",
    "#outside of class\n",
    "def greeting(person):          # define a function named greeting with one parameter (person)\n",
    "    print(f\"Hi My name is {person.name} and i am a {person.gender}\") # print a message with the value of the attribute \n",
    "                                                                        # f is used to format the string and insert the value of the attribute person.name and person.gender in the string for the output message\n",
    "    p1 = Person(\"Alex\", \"Male\")       # create an object of the class Person with the name Alex and Male as the value of the attributes\n",
    "    return p1                       # return the object p1\n",
    "\n"
   ]
  },
  {
   "cell_type": "code",
   "execution_count": null,
   "metadata": {},
   "outputs": [],
   "source": [
    "## Initialize the class\n",
    "\n",
    "p = Person(\"Rajkumar\", \"Male\")      # create an object of the class Person with the name Rajkumar "
   ]
  },
  {
   "cell_type": "code",
   "execution_count": 3,
   "metadata": {},
   "outputs": [
    {
     "name": "stdout",
     "output_type": "stream",
     "text": [
      "Hi My name is Rajkumar and i am a Male\n"
     ]
    }
   ],
   "source": [
    "## Call the function greeting with the object p as the argument\n",
    "\n",
    "a = greeting(p) # call the function greeting with the object p as the argument"
   ]
  },
  {
   "cell_type": "code",
   "execution_count": null,
   "metadata": {},
   "outputs": [
    {
     "data": {
      "text/plain": [
       "'Alex'"
      ]
     },
     "execution_count": 4,
     "metadata": {},
     "output_type": "execute_result"
    }
   ],
   "source": [
    "## Print the value of the attribute name of the object a returned by the function greeting\n",
    "a.name"
   ]
  },
  {
   "cell_type": "code",
   "execution_count": null,
   "metadata": {},
   "outputs": [
    {
     "data": {
      "text/plain": [
       "'Male'"
      ]
     },
     "execution_count": 5,
     "metadata": {},
     "output_type": "execute_result"
    }
   ],
   "source": [
    "## Print the value of the attribute gender of the object a returned by the function greeting \n",
    "a.gender"
   ]
  },
  {
   "cell_type": "code",
   "execution_count": null,
   "metadata": {},
   "outputs": [],
   "source": []
  }
 ],
 "metadata": {
  "kernelspec": {
   "display_name": "base",
   "language": "python",
   "name": "python3"
  },
  "language_info": {
   "codemirror_mode": {
    "name": "ipython",
    "version": 3
   },
   "file_extension": ".py",
   "mimetype": "text/x-python",
   "name": "python",
   "nbconvert_exporter": "python",
   "pygments_lexer": "ipython3",
   "version": "3.12.4"
  }
 },
 "nbformat": 4,
 "nbformat_minor": 2
}
