{
 "cells": [
  {
   "cell_type": "markdown",
   "metadata": {},
   "source": [
    "\n",
    "Whenever we are trying to create any kinds of application , It is not like that we will be only creating one class and that's it. We will be creating multiple classes and those classes will be interacting with each other.\n",
    "\n",
    "\n",
    "#### Example: \n",
    "\n",
    "We are implementing Facebook software. In Facebook software, we are having different different functionalities like **login, signup, post, like, comment, share, etc.** So, for each functionality, we will be creating a separate class. So, all these classes will be interacting with each other. So, In this way, we will be creating the entire application with multiple classes. \n",
    "\n",
    "With this our code management will be very easy and we can easily understand the code management. We will get one convenience called code reusability. That means, we can reuse the same class again and again in the same application or in different applications. So, this is the advantage of creating multiple classes in the application.\n",
    "\n",
    "Whenever If we are creating multiple classes in the application, definitely there would be some relationship between the classes. \n",
    "\n",
    "**If we are talking about sign up and login**, then first of all user will perform sign up operation and then user will perform login operation and before performing login operation, application will check whether user is already signed up or not. So, **there is a relationship between sign up and login.** These two classes can communicate with each other. So, this is called **aggregation.**\n",
    "\n",
    "If there is the relationship between some classes, this is called **aggregation.**\n",
    "\n",
    "So, in this way, there will be some relationship between the classes. **So, to represent this relationship between the classes, we are having some concepts in Object Oriented Programming. Those concepts are Inheritance, Association, Aggregation, Composition and Dependency.**\n",
    "\n",
    "\n",
    "# Aggregation ( Has a Relationship )\n",
    "\n",
    "one class owns other class and can be shared by other classes. It has a **Has-A** relationship. It is a unidirectional association. For example, **Department has a teacher.** But vice versa is not true. Teacher can exist without Department. \n",
    "\n",
    "\n"
   ]
  }
 ],
 "metadata": {
  "kernelspec": {
   "display_name": "base",
   "language": "python",
   "name": "python3"
  },
  "language_info": {
   "name": "python",
   "version": "3.12.4"
  }
 },
 "nbformat": 4,
 "nbformat_minor": 2
}
