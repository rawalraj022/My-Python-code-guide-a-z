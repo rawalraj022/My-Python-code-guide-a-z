{
 "cells": [
  {
   "cell_type": "markdown",
   "metadata": {},
   "source": [
    "\n",
    "Whenever we are trying to create any kinds of application , It is not like that we will be only creating one class and that's it. We will be creating multiple classes and those classes will be interacting with each other.\n",
    "\n",
    "\n",
    "#### Example: \n",
    "\n",
    "We are implementing Facebook software. In Facebook software, we are having different different functionalities like **login, signup, post, like, comment, share, etc.** So, for each functionality, we will be creating a separate class. So, all these classes will be interacting with each other. So, In this way, we will be creating the entire application with multiple classes. \n",
    "\n",
    "With this our code management will be very easy and we can easily understand the code management. We will get one convenience called code reusability. That means, we can reuse the same class again and again in the same application or in different applications. So, this is the advantage of creating multiple classes in the application.\n",
    "\n",
    "Whenever If we are creating multiple classes in the application, definitely there would be some relationship between the classes. \n",
    "\n",
    "**If we are talking about sign up and login**, then first of all user will perform sign up operation and then user will perform login operation and before performing login operation, application will check whether user is already signed up or not. So, **there is a relationship between sign up and login.** These two classes can communicate with each other. So, this is called **aggregation.**\n",
    "\n",
    "If there is the relationship between some classes, this is called **aggregation.**\n",
    "\n",
    "So, in this way, there will be some relationship between the classes. **So, to represent this relationship between the classes, we are having some concepts in Object Oriented Programming. Those concepts are Inheritance, Association, Aggregation, Composition and Dependency.**\n",
    "\n",
    "\n",
    "# Aggregation ( Has a Relationship )\n",
    "\n",
    "one class owns other class and can be shared by other classes. It has a **Has-A** relationship. It is a unidirectional association. For example, **Department has a teacher.** But vice versa is not true. Teacher can exist without Department. \n",
    "\n",
    "**Aggregation** is a special form of association. It is a relationship between two classes like association, however its a directional association, which means it is strictly a one way association. It represents a **Has-A** relationship. It is also known as **Has-A** relationship. It is a relationship where the child can exist independently of the parent. It is a unidirectional association. It is a weak association. It is represented by a hollow diamond.  \n",
    "\n",
    "\n",
    "\n",
    "#### Exercise: "
   ]
  },
  {
   "cell_type": "code",
   "execution_count": 1,
   "metadata": {},
   "outputs": [],
   "source": [
    "## Customer class and Address class have a relationship. The Address class is a part of the Customer class.\n",
    "\n",
    "class Customer: \n",
    "    def __init__(self,name,gender,address):\n",
    "        self.name = name\n",
    "        self.gender = gender\n",
    "        self.address = address\n",
    "\n",
    "    \n",
    "    def print_info(self):\n",
    "        print(f\"Name: {self.name}, Gender: {self.gender}, Address: {self.address.city}, {self.address.pin}, {self.address.state}\")\n",
    "\n",
    "\n",
    "class Address:      \n",
    "    def __init__(self, city, pin, state):\n",
    "        self.city = city\n",
    "        self.pin = pin\n",
    "        self.state = state\n",
    "\n",
    "## Explanation of the above code\n",
    "# 1. We have two classes, Customer and Address.\n",
    "# 2. Customer class has three attributes which are name, gender and address.\n",
    "# 3. Address class has three attributes which are city, pin and state.\n",
    "# 4. The Customer class has a method called print_info which prints\n",
    "#    the name of the customer\n",
    "# 5. The print_info method also prints the address of the customer.\n",
    "# 6. The address is an object of the Address class which is passed as an argument to the Customer class.\n",
    "\n",
    "# Address class and Customer class have a relationship. The Address class is a part of the Customer class.\n",
    "    # Our Address class is a part of the Customer class. \n",
    "    \n"
   ]
  },
  {
   "cell_type": "code",
   "execution_count": null,
   "metadata": {},
   "outputs": [
    {
     "name": "stdout",
     "output_type": "stream",
     "text": [
      "Name: Rajkumar, Gender: Male, Address: karnataka, 45454545, Bengaluru\n"
     ]
    }
   ],
   "source": [
    "## Creating an object of the Address class and passing it to the Customer class as an argument.\n",
    "\n",
    "adds = Address(\"karnataka\", 45454545, \"Bengaluru\")  # creating an object of the Address class \n",
    "cus = Customer(\"Rajkumar\", \"Male\", adds)            # passing the object of the Address class to the Customer class as an argument \n",
    "cus.print_info()                                   # calling the print_info method of the Customer class to print the details of the customer.\n"
   ]
  },
  {
   "cell_type": "markdown",
   "metadata": {},
   "source": [
    "\n",
    "Inside **aggregation** we will get one issue called **object reusability**."
   ]
  },
  {
   "cell_type": "code",
   "execution_count": 1,
   "metadata": {},
   "outputs": [],
   "source": [
    "## Can we access the city attribute private in the Address class from the outside of the class?\n",
    "    # No, we cannot access the private attribute from outside the class.\n",
    "\n",
    "class Customer:\n",
    "    def __init__(self,name,gender,address):\n",
    "        self.name = name\n",
    "        self.gender = gender\n",
    "        self.address = address\n",
    "\n",
    "    \n",
    "    def print_info(self):\n",
    "        print(f\"Name: {self.name}, Gender: {self.gender}, Address: {self.address.__city}, {self.address.pin}, {self.address.state}\")\n",
    "\n",
    "\n",
    "class Address:\n",
    "    def __init__(self, city, pin, state):\n",
    "        self.__city = city             # making the city attribute private\n",
    "        self.pin = pin\n",
    "        self.state = state\n",
    "\n"
   ]
  },
  {
   "cell_type": "code",
   "execution_count": 2,
   "metadata": {},
   "outputs": [
    {
     "ename": "AttributeError",
     "evalue": "'Address' object has no attribute '_Customer__city'",
     "output_type": "error",
     "traceback": [
      "\u001b[0;31m---------------------------------------------------------------------------\u001b[0m",
      "\u001b[0;31mAttributeError\u001b[0m                            Traceback (most recent call last)",
      "Cell \u001b[0;32mIn[2], line 8\u001b[0m\n\u001b[1;32m      6\u001b[0m adds \u001b[38;5;241m=\u001b[39m Address(\u001b[38;5;124m\"\u001b[39m\u001b[38;5;124mkarnataka\u001b[39m\u001b[38;5;124m\"\u001b[39m, \u001b[38;5;241m45454545\u001b[39m, \u001b[38;5;124m\"\u001b[39m\u001b[38;5;124mBengaluru\u001b[39m\u001b[38;5;124m\"\u001b[39m)   \u001b[38;5;66;03m# creating an object of the Address class \u001b[39;00m\n\u001b[1;32m      7\u001b[0m cus \u001b[38;5;241m=\u001b[39m Customer(\u001b[38;5;124m\"\u001b[39m\u001b[38;5;124mRajkumar\u001b[39m\u001b[38;5;124m\"\u001b[39m, \u001b[38;5;124m\"\u001b[39m\u001b[38;5;124mMale\u001b[39m\u001b[38;5;124m\"\u001b[39m, adds)            \u001b[38;5;66;03m# passing the object of the Address class to the Customer class as an argument\u001b[39;00m\n\u001b[0;32m----> 8\u001b[0m cus\u001b[38;5;241m.\u001b[39mprint_info()\n",
      "Cell \u001b[0;32mIn[1], line 12\u001b[0m, in \u001b[0;36mCustomer.print_info\u001b[0;34m(self)\u001b[0m\n\u001b[1;32m     11\u001b[0m \u001b[38;5;28;01mdef\u001b[39;00m \u001b[38;5;21mprint_info\u001b[39m(\u001b[38;5;28mself\u001b[39m):\n\u001b[0;32m---> 12\u001b[0m     \u001b[38;5;28mprint\u001b[39m(\u001b[38;5;124mf\u001b[39m\u001b[38;5;124m\"\u001b[39m\u001b[38;5;124mName: \u001b[39m\u001b[38;5;132;01m{\u001b[39;00m\u001b[38;5;28mself\u001b[39m\u001b[38;5;241m.\u001b[39mname\u001b[38;5;132;01m}\u001b[39;00m\u001b[38;5;124m, Gender: \u001b[39m\u001b[38;5;132;01m{\u001b[39;00m\u001b[38;5;28mself\u001b[39m\u001b[38;5;241m.\u001b[39mgender\u001b[38;5;132;01m}\u001b[39;00m\u001b[38;5;124m, Address: \u001b[39m\u001b[38;5;132;01m{\u001b[39;00m\u001b[38;5;28mself\u001b[39m\u001b[38;5;241m.\u001b[39maddress\u001b[38;5;241m.\u001b[39m__city\u001b[38;5;132;01m}\u001b[39;00m\u001b[38;5;124m, \u001b[39m\u001b[38;5;132;01m{\u001b[39;00m\u001b[38;5;28mself\u001b[39m\u001b[38;5;241m.\u001b[39maddress\u001b[38;5;241m.\u001b[39mpin\u001b[38;5;132;01m}\u001b[39;00m\u001b[38;5;124m, \u001b[39m\u001b[38;5;132;01m{\u001b[39;00m\u001b[38;5;28mself\u001b[39m\u001b[38;5;241m.\u001b[39maddress\u001b[38;5;241m.\u001b[39mstate\u001b[38;5;132;01m}\u001b[39;00m\u001b[38;5;124m\"\u001b[39m)\n",
      "\u001b[0;31mAttributeError\u001b[0m: 'Address' object has no attribute '_Customer__city'"
     ]
    }
   ],
   "source": [
    "## Creating an object of the Address class and passing it to the Customer class as an argument.\n",
    "    # We are trying to access the private attribute __city from outside the class.\n",
    "    # We are calling the print_info method of the Customer class to print the details of the customer.\n",
    "    # We will get an AttributeError because we are trying to access the private attribute __city from outside the class.\n",
    "\n",
    "adds = Address(\"karnataka\", 45454545, \"Bengaluru\")   # creating an object of the Address class \n",
    "cus = Customer(\"Rajkumar\", \"Male\", adds)            # passing the object of the Address class to the Customer class as an argument\n",
    "cus.print_info()                                # AttributeError: 'Address' object has no attribute '__city'\n",
    "\n"
   ]
  },
  {
   "cell_type": "code",
   "execution_count": 3,
   "metadata": {},
   "outputs": [],
   "source": [
    "## Using a get_city method to access the private attribute __city from the outside of the class.\n",
    "    # We can access the private attribute __city from the outside of the class by using a method called get_city.\n",
    "    # We have created a method called get_city in the Address class which returns the value of the private attribute __city.\n",
    "\n",
    "class Customer:\n",
    "    def __init__(self,name,gender,address):\n",
    "        self.name = name\n",
    "        self.gender = gender\n",
    "        self.address = address\n",
    "\n",
    "    \n",
    "    def print_info(self):\n",
    "        print(f\"Name: {self.name}, Gender: {self.gender}, Address: {self.address.get_city()}, {self.address.pin}, {self.address.state}\") \n",
    "        # calling the get_city method of the Address class to access the private attribute __city.\n",
    "\n",
    "\n",
    "class Address:\n",
    "    def __init__(self, city, pin, state):\n",
    "        self.__city = city\n",
    "        self.pin = pin\n",
    "        self.state = state\n",
    "\n",
    "    \n",
    "    def get_city(self):\n",
    "        return self.__city\n",
    "\n"
   ]
  },
  {
   "cell_type": "code",
   "execution_count": null,
   "metadata": {},
   "outputs": [
    {
     "name": "stdout",
     "output_type": "stream",
     "text": [
      "Name: Rajkumar, Gender: Male, Address: karnataka, 45454545, Bengaluru\n"
     ]
    }
   ],
   "source": [
    "## Creating an object of the Address class and passing it to the Customer class as an argument.\n",
    "    # We are trying to access the private attribute __city from outside the class.\n",
    "    # We are calling the print_info method of the Customer class to print the details of the customer.\n",
    "    # We will get the details of the customer without any error.\n",
    "\n",
    "adds = Address(\"karnataka\", 45454545, \"Bengaluru\")\n",
    "cus = Customer(\"Rajkumar\", \"Male\", adds)\n",
    "cus.print_info()\n",
    "\n"
   ]
  },
  {
   "cell_type": "code",
   "execution_count": null,
   "metadata": {},
   "outputs": [],
   "source": [
    "## Using _Address__city to access the private attribute __city from the outside of the class.\n",
    "    # We can access the private attribute __city from the outside of the class by using _Address__city.\n",
    "    # We have used _Address__city to access the private attribute __city from the outside of the class instead of get_city method.\n",
    "\n",
    "class Customer:\n",
    "    def __init__(self,name,gender,address):\n",
    "        self.name = name\n",
    "        self.gender = gender\n",
    "        self.address = address\n",
    "\n",
    "    \n",
    "    def print_info(self):\n",
    "        print(f\"Name: {self.name}, Gender: {self.gender}, Address: {self.address._Address__city}, {self.address.pin}, {self.address.state}\")\n",
    "        ## Using _Address__city to access the private attribute __city from the outside of the class instead of get_city method.\n",
    "\n",
    "\n",
    "class Address:\n",
    "    def __init__(self, city, pin, state):\n",
    "        self.__city = city\n",
    "        self.pin = pin\n",
    "        self.state = state\n",
    "\n"
   ]
  },
  {
   "cell_type": "code",
   "execution_count": null,
   "metadata": {},
   "outputs": [
    {
     "name": "stdout",
     "output_type": "stream",
     "text": [
      "Name: Rajkumar, Gender: Male, Address: karnataka, 45454545, Bengaluru\n"
     ]
    }
   ],
   "source": [
    "## Creating an object of the Address class and passing it to the Customer class as an argument using _Address__city.\n",
    "    # We are trying to access the private attribute __city from outside the class using _Address__city.\n",
    "    # We are calling the print_info method of the Customer class to print the details of the customer.\n",
    "    # We will get the details of the customer without any error.\n",
    "## This is not the recommended way to access the private attribute from outside the class because it breaks the encapsulation.\n",
    "\n",
    "adds = Address(\"karnataka\", 45454545, \"Bengaluru\")\n",
    "cus = Customer(\"Rajkumar\", \"Male\", adds)\n",
    "cus.print_info()\n"
   ]
  },
  {
   "cell_type": "markdown",
   "metadata": {},
   "source": [
    "\n",
    "That means We can **only access non-private attribute and non-private methods** whenever we are using aggregation. But **We can't access private attributes and private methods.** So, **this is the issue with aggregation.**\n",
    "\n",
    "**non-private attribute and non-private methods** means **public, protected and default attributes and methods.** So, we can access these attributes and methods in the child class and **private attributes and private methods** means we can't access these attributes and methods in the child class. So, **this is the issue with aggregation.** \n",
    "\n",
    "Child class can't access the private attributes and private methods of the parent class. Child class can only access the public, protected and default attributes and methods of the parent class. So, Child class is the class which is using the parent class but parent class is not using the child class.\n",
    "\n",
    "So, To solve this issue, we are going to use **inheritance** inside OOP concept. So, **inheritance** is the solution for this issue. So, **inheritance** is the concept where we can access all the attributes and methods of the parent class in the child class. So, **this is the advantage of inheritance.** \n",
    "\n",
    "With the help of inheritance, we can make connect between the multiple classes and There are different types of inheritance like **single inheritance, multiple inheritance, multilevel inheritance, hierarchical inheritance, hybrid inheritance.** So, we can use any type of inheritance based on our requirement.\n",
    "\n",
    "So, **inheritance** is the solution for the issue of **object reusability** in **aggregation.**\n",
    "\n",
    "Now a days **aggregation** is not used much in the industry because of this issue it is being deprecated but to understand the concept of **inheritance** we need to understand the concept of **aggregation.** So, in previous days, **aggregation** was used much in the industry. But now a days, **inheritance** is used much in the industry.\n"
   ]
  },
  {
   "cell_type": "code",
   "execution_count": null,
   "metadata": {},
   "outputs": [],
   "source": []
  }
 ],
 "metadata": {
  "kernelspec": {
   "display_name": "base",
   "language": "python",
   "name": "python3"
  },
  "language_info": {
   "codemirror_mode": {
    "name": "ipython",
    "version": 3
   },
   "file_extension": ".py",
   "mimetype": "text/x-python",
   "name": "python",
   "nbconvert_exporter": "python",
   "pygments_lexer": "ipython3",
   "version": "3.12.4"
  }
 },
 "nbformat": 4,
 "nbformat_minor": 2
}
