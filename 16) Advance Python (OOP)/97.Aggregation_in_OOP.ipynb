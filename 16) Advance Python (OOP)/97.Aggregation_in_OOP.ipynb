{
 "cells": [
  {
   "cell_type": "markdown",
   "metadata": {},
   "source": [
    "\n",
    "Whenever we are trying to create any kinds of application , It is not like that we will be only creating one class and that's it. We will be creating multiple classes and those classes will be interacting with each other.\n",
    "\n",
    "\n",
    "#### Example: \n",
    "\n",
    "We are implementing Facebook software. In Facebook software, we are having different different functionalities like **login, signup, post, like, comment, share, etc.** So, for each functionality, we will be creating a separate class. So, all these classes will be interacting with each other. So, In this way, we will be creating the entire application with multiple classes. \n",
    "\n",
    "With this our code management will be very easy and we can easily understand the code management. We will get one convenience called code reusability. That means, we can reuse the same class again and again in the same application or in different applications. So, this is the advantage of creating multiple classes in the application.\n",
    "\n",
    "Whenever If we are creating multiple classes in the application, definitely there would be some relationship between the classes. \n",
    "\n",
    "**If we are talking about sign up and login**, then first of all user will perform sign up operation and then user will perform login operation and before performing login operation, application will check whether user is already signed up or not. So, **there is a relationship between sign up and login.** These two classes can communicate with each other. So, this is called **aggregation.**\n",
    "\n",
    "If there is the relationship between some classes, this is called **aggregation.**\n",
    "\n",
    "So, in this way, there will be some relationship between the classes. **So, to represent this relationship between the classes, we are having some concepts in Object Oriented Programming. Those concepts are Inheritance, Association, Aggregation, Composition and Dependency.**\n",
    "\n",
    "\n",
    "# Aggregation ( Has a Relationship )\n",
    "\n",
    "one class owns other class and can be shared by other classes. It has a **Has-A** relationship. It is a unidirectional association. For example, **Department has a teacher.** But vice versa is not true. Teacher can exist without Department. \n",
    "\n",
    "**Aggregation** is a special form of association. It is a relationship between two classes like association, however its a directional association, which means it is strictly a one way association. It represents a **Has-A** relationship. It is also known as **Has-A** relationship. It is a relationship where the child can exist independently of the parent. It is a unidirectional association. It is a weak association. It is represented by a hollow diamond.  \n",
    "\n",
    "\n",
    "\n",
    "#### Exercise: "
   ]
  },
  {
   "cell_type": "code",
   "execution_count": 1,
   "metadata": {},
   "outputs": [],
   "source": [
    "## Customer class and Address class have a relationship. The Address class is a part of the Customer class.\n",
    "\n",
    "class Customer: \n",
    "    def __init__(self,name,gender,address):\n",
    "        self.name = name\n",
    "        self.gender = gender\n",
    "        self.address = address\n",
    "\n",
    "    \n",
    "    def print_info(self):\n",
    "        print(f\"Name: {self.name}, Gender: {self.gender}, Address: {self.address.city}, {self.address.pin}, {self.address.state}\")\n",
    "\n",
    "\n",
    "class Address:      \n",
    "    def __init__(self, city, pin, state):\n",
    "        self.city = city\n",
    "        self.pin = pin\n",
    "        self.state = state\n",
    "\n",
    "## Explanation of the above code\n",
    "# 1. We have two classes, Customer and Address.\n",
    "# 2. Customer class has three attributes which are name, gender and address.\n",
    "# 3. Address class has three attributes which are city, pin and state.\n",
    "# 4. The Customer class has a method called print_info which prints\n",
    "#    the name of the customer\n",
    "# 5. The print_info method also prints the address of the customer.\n",
    "# 6. The address is an object of the Address class which is passed as an argument to the Customer class.\n",
    "\n",
    "# Address class and Customer class have a relationship. The Address class is a part of the Customer class.\n",
    "    # Our Address class is a part of the Customer class. \n",
    "    \n"
   ]
  },
  {
   "cell_type": "code",
   "execution_count": 2,
   "metadata": {},
   "outputs": [],
   "source": [
    "adds = Address(\"karnataka\", 45454545, \"Bengaluru\")\n",
    "cus = Customer(\"Rajkumar\", \"Male\", adds)"
   ]
  },
  {
   "cell_type": "markdown",
   "metadata": {},
   "source": [
    "\n",
    "Inside **aggregation** we will get one issue called **object reusability**."
   ]
  },
  {
   "cell_type": "code",
   "execution_count": null,
   "metadata": {},
   "outputs": [],
   "source": []
  }
 ],
 "metadata": {
  "kernelspec": {
   "display_name": "base",
   "language": "python",
   "name": "python3"
  },
  "language_info": {
   "codemirror_mode": {
    "name": "ipython",
    "version": 3
   },
   "file_extension": ".py",
   "mimetype": "text/x-python",
   "name": "python",
   "nbconvert_exporter": "python",
   "pygments_lexer": "ipython3",
   "version": "3.12.4"
  }
 },
 "nbformat": 4,
 "nbformat_minor": 2
}
