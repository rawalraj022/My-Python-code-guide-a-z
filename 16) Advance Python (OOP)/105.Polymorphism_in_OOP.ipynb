{
 "cells": [
  {
   "cell_type": "markdown",
   "metadata": {},
   "source": [
    "# Polymorphism in OOP in Python : \n",
    "\n",
    "Polymorphism refers to having multiple forms. Polymorphism is a programming term that refers to the use of the same function name, but with different signatures. \n",
    "\n",
    "Polymorphism is a key feature of object-oriented programming.It refers to the ability of different objects to respond to the same message in different ways depending on their type or class.\n",
    "\n",
    "- **Polymorphism is a powerful tool in programming, allowing you to write code that can work with objects of different classes in a uniform way. This can make your code more flexible and easier to maintain.** \n",
    "\n",
    "But it can also make your code more complex, so it's important to use it judiciously. In other programming languages, polymorphism is often achieved through inheritance and interfaces or abstract classes.\n",
    "\n",
    "- **Directly, Polymorphism concept is not available in Python. But, we can achieve Polymorphism concept in Python by using the following concepts :**\n",
    "\n",
    "In Polymorphism, we are having three kinds of concepts. They are :\n",
    "\n",
    "1. Method Overriding\n",
    "2. Method Overloading\n",
    "3. Operator Overloading \n",
    "\n",
    "#### 1. Method Overriding :\n",
    "\n",
    "Method overriding is a feature that allows a subclass to provide a specific implementation of a method that is already provided by one of its superclasses. When a method in a subclass has the same name, same parameters or signature and same return type as a method in its super-class, then the method in the subclass is said to override the method in the super-class. \n",
    "\n",
    "\n",
    "#### 2. Method Overloading :\n",
    "\n",
    "Method overloading is a feature that allows a class to have more than one method having the same name, if their argument lists are different. It is similar to constructor overloading in Java, that allows a class to have more than one constructor having different argument lists.\n",
    "\n",
    "\n",
    "Exercise :\n"
   ]
  },
  {
   "cell_type": "code",
   "execution_count": null,
   "metadata": {},
   "outputs": [
    {
     "data": {
      "text/plain": [
       "6"
      ]
     },
     "execution_count": 3,
     "metadata": {},
     "output_type": "execute_result"
    }
   ],
   "source": [
    "## 2. Method Overloading\n",
    "\n",
    "class Shape:\n",
    "\n",
    "    def area(self,redius):\n",
    "        return 3.14*redius**2\n",
    "\n",
    "    def area(self, l,b):\n",
    "        return l*b\n",
    "\n",
    "\n",
    "s = Shape()\n",
    "s.area(2,3)\n",
    "\n",
    "## Explanation of above code :\n",
    "\n",
    "# In the above code, we have defined two area() methods in the Shape class.\n",
    "# The first area() method takes one argument redius and returns the area of a circle.\n",
    "# The second area() method takes two arguments l and b and returns the area of a rectangle.\n",
    "# When we call the area() method with two arguments, it calls the second area() method and returns the area of a rectangle.\n",
    "# The first area() method is not accessible. It is overridden by the second area() method.\n",
    "# This is called method overloading. In method overloading, two or more methods have the same name but different parameters.\n",
    "\n",
    "## Note: Python does not support method overloading. We may overload the methods but can only use the latest defined method.\n",
    "\n"
   ]
  },
  {
   "cell_type": "code",
   "execution_count": null,
   "metadata": {},
   "outputs": [
    {
     "name": "stdout",
     "output_type": "stream",
     "text": [
      "Multiply\n"
     ]
    },
    {
     "data": {
      "text/plain": [
       "135"
      ]
     },
     "execution_count": 4,
     "metadata": {},
     "output_type": "execute_result"
    }
   ],
   "source": [
    "## To solve the problem of above code we can use the below code :\n",
    "\n",
    "class Shape:\n",
    "\n",
    "    def area(self,redius,l,b):\n",
    "        if b == None:\n",
    "            print(\"Radius\")\n",
    "            return 3.14*redius**2\n",
    "        else:\n",
    "            print(\"Multiply\")\n",
    "            return l*b\n",
    "\n",
    "s = Shape()\n",
    "s.area(redius=8, l=45, b=3)\n",
    "\n",
    "## Explanation of above code :\n",
    "\n",
    "# In the above code we have created a class Shape and defined a method area which takes three arguments redius, l and b.\n",
    "# We have used if else statement to check if the value of b is None or not. If the value of b is None then it will return the area of circle else it will return the area of rectangle.\n",
    "# We have created an object s of class Shape and called the method area by passing the values of redius, l and b.\n",
    "\n"
   ]
  },
  {
   "cell_type": "markdown",
   "metadata": {},
   "source": [
    "#### Q) Why it is required to use Polymorphism in Python ?\n",
    "\n",
    "=> Because, Sometime if we are writing code and if we want to perform the same operation again and again , here in above example we are calculating the area of circle, rectangle and square. So, instead of writing the same code again and again, we can use the concept of Polymorphism and we can write the code in a single line. So, it will reduce the code complexity and it will make the code more readable and maintainable as well. So, that's why we are using the concept of Polymorphism in Python. \n",
    "\n",
    "But, directly Polymorphism concept is not available in Python. But, we can achieve Polymorphism concept in Python by using the above mentioned concepts.\n",
    "\n",
    "\n",
    "\n",
    "#### 3. Operator Overloading :\n",
    "\n",
    "Operator overloading is a feature that allows us to define the way an operator works for user-defined types like objects. Operator overloading is a specific case of polymorphism, where different operators have different implementations depending on their arguments.\n",
    "\n",
    "Operator overloading means the same operator we are using for multiple tasks. For example, the + operator is used to add two numbers and concatenate two strings. This is possible because the + operator is overloaded by both the int class and the str class.\n",
    "\n",
    "\n",
    "Example :\n",
    "\n",
    "```python\n",
    "\n",
    "\"Hello\" + \"Hello\" # Output : HelloHello\n",
    "\n",
    "2 + 3 # Output : 5\n",
    "\n",
    "[1,2,3] + [4,5,6] # Output : [1,2,3,4,5,6]\n",
    "\n",
    "```\n",
    "\n",
    "\n",
    "But, directly Polymorphism concept is not available in Python. But, we can achieve Polymorphism concept in Python by using the above mentioned concepts.\n",
    "\n"
   ]
  },
  {
   "cell_type": "code",
   "execution_count": null,
   "metadata": {},
   "outputs": [],
   "source": []
  }
 ],
 "metadata": {
  "kernelspec": {
   "display_name": "base",
   "language": "python",
   "name": "python3"
  },
  "language_info": {
   "codemirror_mode": {
    "name": "ipython",
    "version": 3
   },
   "file_extension": ".py",
   "mimetype": "text/x-python",
   "name": "python",
   "nbconvert_exporter": "python",
   "pygments_lexer": "ipython3",
   "version": "3.12.4"
  }
 },
 "nbformat": 4,
 "nbformat_minor": 2
}
