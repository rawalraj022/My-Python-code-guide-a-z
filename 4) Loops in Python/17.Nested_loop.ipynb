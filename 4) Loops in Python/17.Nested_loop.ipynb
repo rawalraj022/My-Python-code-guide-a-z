{
 "cells": [
  {
   "cell_type": "code",
   "execution_count": 1,
   "metadata": {},
   "outputs": [
    {
     "name": "stdout",
     "output_type": "stream",
     "text": [
      "1 1\n",
      "1 2\n",
      "1 3\n",
      "1 4\n",
      "2 1\n",
      "2 2\n",
      "2 3\n",
      "2 4\n",
      "3 1\n",
      "3 2\n",
      "3 3\n",
      "3 4\n",
      "4 1\n",
      "4 2\n",
      "4 3\n",
      "4 4\n"
     ]
    }
   ],
   "source": [
    "# Using nested loops to print all possible combinations of two numbers between 1 and 4\n",
    "# Unique pairs of numbers\n",
    "\n",
    "for i in range(1,5):    # i is 1,2,3,4 and range is 1 to 5 so it will print 1,2,3,4 and not 5 \n",
    "    for j in range(1,5):  # j is 1,2,3,4 and range is 1 to 5 so it will print 1,2,3,4 and not 5\n",
    "                print(i,j) # print i and j values in each iteration of inner loop  and outer loop "
   ]
  },
  {
   "cell_type": "markdown",
   "metadata": {},
   "source": [
    "# Exercise: "
   ]
  },
  {
   "cell_type": "code",
   "execution_count": 2,
   "metadata": {},
   "outputs": [
    {
     "name": "stdout",
     "output_type": "stream",
     "text": [
      "* \n",
      "* * \n",
      "* * * \n",
      "* * * * \n",
      "* * * * * \n"
     ]
    }
   ],
   "source": [
    "# Triangle Patten printing using nested loops \n",
    "\n",
    "row = int(input(\"Enter number of rows: \")) # take input from user for number of rows \n",
    "\n",
    "for i in range(1, row+1): # i is 1 to row+1 and +1 is used to include the last row and range is 1 to row+1\n",
    "    for j in range(1, i+1): # j is 1 to i+1 and +1 is used to include the last column and range is 1 to i+1 \n",
    "        print(\"*\", end=\" \") # print * and space in the same line  and not in new line  and end is used to print space after each * \n",
    "    print(\"\") # print new line after each iteration of inner loop\n"
   ]
  },
  {
   "cell_type": "code",
   "execution_count": null,
   "metadata": {},
   "outputs": [],
   "source": []
  }
 ],
 "metadata": {
  "kernelspec": {
   "display_name": "base",
   "language": "python",
   "name": "python3"
  },
  "language_info": {
   "codemirror_mode": {
    "name": "ipython",
    "version": 3
   },
   "file_extension": ".py",
   "mimetype": "text/x-python",
   "name": "python",
   "nbconvert_exporter": "python",
   "pygments_lexer": "ipython3",
   "version": "3.12.4"
  }
 },
 "nbformat": 4,
 "nbformat_minor": 2
}
