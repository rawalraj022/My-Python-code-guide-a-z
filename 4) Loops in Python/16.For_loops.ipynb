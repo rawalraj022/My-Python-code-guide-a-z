{
 "cells": [
  {
   "cell_type": "markdown",
   "metadata": {},
   "source": [
    "In previous season we have learned about while loop and types of loops in python .\n",
    "\n",
    "In python there are two types of loop , they are :\n",
    "\n",
    "i) While loop \n",
    "\n",
    "ii) For loop \n",
    "\n",
    "- In this season we will going to learn about For loop .\n",
    "\n",
    "**Q) What is For loop ?** \n",
    "\n",
    "⇒ If we want to repeat one specific task continuously this is called loop . \n",
    "\n",
    "⇒ Same as while loop which works for the repetitive task , Same thing also does this For loop which works for the repetitive task . \n",
    "\n",
    "⇒ But syntax wise For loop is different from while loop .\n",
    "\n",
    "- For loop is very powerful and used in different datatype .\n",
    "\n",
    "#### for loop can iterate all kind of data types like string , list , tuple , set , dictionary etc .\n",
    "\n",
    "Syntax of For loop :\n",
    "\n",
    "```python\n",
    "for i in range(10):\n",
    "    print(i)\n",
    "```\n",
    "\n",
    "\n",
    "### Examples :"
   ]
  },
  {
   "cell_type": "code",
   "execution_count": 1,
   "metadata": {},
   "outputs": [
    {
     "name": "stdout",
     "output_type": "stream",
     "text": [
      "1\n",
      "2\n",
      "3\n",
      "4\n",
      "5\n",
      "6\n",
      "7\n",
      "8\n",
      "9\n",
      "10\n"
     ]
    }
   ],
   "source": [
    "\n",
    "# for loop to iterate integers from 1 to 10 and print the value of i each time it iterates .\n",
    "\n",
    "for i in range(1,11): # i is the variable that will iterate from 1 to 10 and range is the function that will iterate from 1 to 10 and 11 is the stop value .\n",
    "                    # 1 is the start value and 11 is the stop value . and last value is not included in the range \n",
    "    print(i) # print the value of i each time it iterates \n"
   ]
  },
  {
   "cell_type": "code",
   "execution_count": 6,
   "metadata": {},
   "outputs": [
    {
     "name": "stdout",
     "output_type": "stream",
     "text": [
      "1\n",
      "3\n",
      "5\n",
      "7\n",
      "9\n"
     ]
    }
   ],
   "source": [
    "#  for loop to iterate integers from 1 to 10 with the step of 2 and print the value of i each time it iterates .\n",
    "\n",
    "for i in range(1,11,2):   # i is the variable that will iterate from 1 to 10 and range is the function that will iterate from 1 to 10 and 11 is the stop value .\n",
    "                    # 1 is the start value and 11 is the stop value . and last value is not included in the range \n",
    "                    # 2 is the step value that will iterate from 1 to 10 with the step of 2 and print the value of i each time it iterates .\n",
    "    print(i) # print the value of i each time it iterates\n"
   ]
  },
  {
   "cell_type": "code",
   "execution_count": 2,
   "metadata": {},
   "outputs": [
    {
     "name": "stdout",
     "output_type": "stream",
     "text": [
      "r\n",
      "a\n",
      "j\n",
      "k\n",
      "u\n",
      "m\n",
      "a\n",
      "r\n"
     ]
    }
   ],
   "source": [
    "\n",
    "# for loop to iterate the string \"rajkumar\" and print the value of i each time it iterates .\n",
    "\n",
    "for i in \"rajkumar\": # i is the variable that will iterate from the string \"rajkumar\" and print the value of i each time it iterates .\n",
    "    print(i) # print the value of i each time it iterates ."
   ]
  },
  {
   "cell_type": "code",
   "execution_count": 3,
   "metadata": {},
   "outputs": [
    {
     "name": "stdout",
     "output_type": "stream",
     "text": [
      "1\n",
      "2\n",
      "3\n",
      "4\n",
      "5\n"
     ]
    }
   ],
   "source": [
    "# for loop to iterate the list [1,2,3,4,5] and print the value of i each time it iterates .\n",
    "\n",
    "for i in [1,2,3,4,5]:  # i is the variable that will iterate from the list [1,2,3,4,5] and print the value of i each time it iterates .\n",
    "    print(i) # print the value of i each time it iterates .\n"
   ]
  },
  {
   "cell_type": "code",
   "execution_count": 4,
   "metadata": {},
   "outputs": [
    {
     "name": "stdout",
     "output_type": "stream",
     "text": [
      "1\n",
      "2\n",
      "3\n",
      "4\n",
      "5\n"
     ]
    }
   ],
   "source": [
    "# for loop to iterate the tuple (1,2,3,4,5) and print the value of i each time it iterates .\n",
    "\n",
    "for i in (1,2,3,4,5): # i is the variable that will iterate from the tuple (1,2,3,4,5) and print the value of i each time it iterates .\n",
    "    print(i) # print the value of i each time it iterates ."
   ]
  },
  {
   "cell_type": "code",
   "execution_count": 1,
   "metadata": {},
   "outputs": [
    {
     "name": "stdout",
     "output_type": "stream",
     "text": [
      "Rajkumar\n",
      "Rajkumar\n",
      "Rajkumar\n",
      "Rajkumar\n",
      "Rajkumar\n",
      "Rajkumar\n",
      "Rajkumar\n",
      "Rajkumar\n",
      "Rajkumar\n",
      "Rajkumar\n"
     ]
    }
   ],
   "source": [
    "# Printing my name for 10 times using for loop .\n",
    "\n",
    "for i in range(1,11): # i is the variable that will iterate from 1 to 10 and range is the function that will iterate from 1 to 10 and 11 is the stop value .\n",
    "                    # 1 is the start value and 11 is the stop value . and last value is not included in the range \n",
    "    print(\"Rajkumar\") # print my name for 10 times using for loop .\n",
    "\n"
   ]
  },
  {
   "cell_type": "markdown",
   "metadata": {},
   "source": [
    "Program - The current population of a town is 10000. The population of the town is increasing at the rate of 10% per year. You have to write a program to find out the population at the end of each of the last 10 years."
   ]
  },
  {
   "cell_type": "code",
   "execution_count": 4,
   "metadata": {},
   "outputs": [
    {
     "name": "stdout",
     "output_type": "stream",
     "text": [
      "10 10000\n",
      "9 9090.90909090909\n",
      "8 8264.462809917353\n",
      "7 7513.148009015775\n",
      "6 6830.134553650703\n",
      "5 6209.213230591548\n",
      "4 5644.739300537771\n",
      "3 5131.5811823070635\n",
      "2 4665.07380209733\n",
      "1 4240.976183724845\n"
     ]
    }
   ],
   "source": [
    "current_population = 10000 # current population is 10000\n",
    "\n",
    "for i in range(10,0,-1):  # i is the variable that will iterate from 10 to 0 and range is the function that will iterate from 10 to 0 and 1 is the stop value .\n",
    "                            # 10 is the start value and 0 is the stop value . and last value is not included in the range\n",
    "                            # -1 is the step value that will iterate from 10 to 0 with the step of -1 and print the value of i each time it iterates .\n",
    "    print(i, current_population) # print the value of i and current population each time it iterates .\n",
    "    current_population = current_population / 1.1  # current population is divided by 1.1 each time it iterates and store the result in current population variable .\n",
    "                                                    \n"
   ]
  },
  {
   "cell_type": "code",
   "execution_count": null,
   "metadata": {},
   "outputs": [],
   "source": []
  }
 ],
 "metadata": {
  "kernelspec": {
   "display_name": "base",
   "language": "python",
   "name": "python3"
  },
  "language_info": {
   "codemirror_mode": {
    "name": "ipython",
    "version": 3
   },
   "file_extension": ".py",
   "mimetype": "text/x-python",
   "name": "python",
   "nbconvert_exporter": "python",
   "pygments_lexer": "ipython3",
   "version": "3.12.4"
  }
 },
 "nbformat": 4,
 "nbformat_minor": 2
}
