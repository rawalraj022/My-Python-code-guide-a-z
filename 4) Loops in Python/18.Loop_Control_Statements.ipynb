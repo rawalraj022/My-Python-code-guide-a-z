{
 "cells": [
  {
   "cell_type": "markdown",
   "metadata": {},
   "source": [
    "\n",
    "There are three types of loop Control Statements in Python:\n",
    "i) Break \n",
    "ii) Continue\n",
    "iii) Pass\n"
   ]
  },
  {
   "cell_type": "markdown",
   "metadata": {},
   "source": [
    "# i) Break:   \n",
    "The break statement is used to terminate the loop containing it. Control of the program flows to the statement immediately after the body of the loop. If the break statement is inside a nested loop (loop inside another loop), the break statement will terminate the innermost loop.\n",
    "\n",
    "- Used in ecommerce websites to break the loop when the user has found the product he/she is looking for.\n",
    "- Used in games to break the loop when the player has won or lost the game.\n",
    "- Used in web development to break the loop when the user has entered the correct information.\n",
    "- Used in data science to break the loop when the desired result is achieved.\n",
    "- Used in machine learning to break the loop when the model has been trained."
   ]
  },
  {
   "cell_type": "code",
   "execution_count": 2,
   "metadata": {},
   "outputs": [
    {
     "name": "stdout",
     "output_type": "stream",
     "text": [
      "1\n",
      "2\n",
      "3\n",
      "4\n"
     ]
    }
   ],
   "source": [
    "#  Syntax of break statement in python is: break \n",
    "\n",
    "for i in range(1,11):\n",
    "    if i == 5:\n",
    "        break\n",
    "    print(i)\n"
   ]
  },
  {
   "cell_type": "code",
   "execution_count": 5,
   "metadata": {},
   "outputs": [
    {
     "name": "stdout",
     "output_type": "stream",
     "text": [
      "Rajkumar\n"
     ]
    }
   ],
   "source": [
    "\n",
    "## Finding the name in the list of 100 names , we use break statement to break the loop when we find the name in the list \n",
    "\n",
    "# List of 100 names or database of names \n",
    "name = [\"Alex\",\"John\",\"David\",\"Rajkumar\",\"Smith\",\"Sam\",\"Tom\",\"Jerry\",\"Mickey\",\"Donald\",\"Minnie\",\"Daisy\",\"Pluto\",\"Goofy\",\"Popeye\",\"Olive\",\"Bluto\",\"Wimpy\",\"Alice\",\"Bob\",\"Charlie\",\"Dora\",\"Eva\",\"Frank\",\"George\",\"Helen\",\"Ivy\",\"Jack\",\"Kevin\",\"Lily\",\"Molly\",\"Nancy\",\"Oscar\",\"Peter\",\"Queen\",\"Roger\",\"Sally\",\"Tina\",\"Uma\",\"Vicky\",\"Wendy\",\"Xena\",\"Yara\",\"Zara\",\"Zoe\"] # List of 100 names \n",
    "\n",
    "# Finding the name in the list of 100 names\n",
    "for i in name:  # Looping through the list of 100 names\n",
    "    if i == \"Rajkumar\":  # If the name is found in the list of 100 names \n",
    "        print(i)  # Print the name\n",
    "        break  # Break the loop when the name is found in the list of 100 names\n",
    "\n"
   ]
  },
  {
   "cell_type": "code",
   "execution_count": 8,
   "metadata": {},
   "outputs": [
    {
     "name": "stdout",
     "output_type": "stream",
     "text": [
      "11\n",
      "13\n",
      "17\n",
      "19\n",
      "23\n",
      "29\n",
      "31\n",
      "37\n",
      "41\n",
      "43\n",
      "47\n",
      "53\n",
      "59\n",
      "61\n",
      "67\n",
      "71\n",
      "73\n",
      "79\n",
      "83\n",
      "89\n",
      "97\n"
     ]
    }
   ],
   "source": [
    "## Find prime numbers in a range of 10 to 100 using break statement \n",
    "# Prime number is a number which is greater than 1 and divided by 1 and itself only like 2,3,5,7,11,13,17,19,23,29,31,37,41,43,47,53,59,61,67,71,73,79,83,89,97 etc. \n",
    "\n",
    "lower = int(input(\"Enter the lower range: \"))  # Lower range of the prime number\n",
    "upper = int(input(\"Enter the upper range: \"))  # Upper range of the prime number\n",
    "\n",
    "for i in range(lower, upper+1): # Looping through the range of lower and upper range of the prime number and +1 is used to include the upper range of the prime number \n",
    "    for j in range(2,i):  # Looping through the range of 2 to i and i is the number in the range of lower and upper range of the prime number \n",
    "        if i % j == 0:  # If the number is divided by 2 to i and the remainder is 0 then it is not a prime number \n",
    "            break   # Break the loop when the number is not a prime number \n",
    "    else:    # If the number is a prime number then print the number \n",
    "        print(i)   # Print the prime number\n",
    "\n",
    "\n"
   ]
  },
  {
   "cell_type": "markdown",
   "metadata": {},
   "source": [
    "# ii) Continue:\n",
    "The continue statement is used to skip the rest of the code inside a loop for the current iteration only. Loop does not terminate but continues on with the next iteration.\n",
    "\n",
    "- Used in ecommerce websites to skip the current iteration if the product is out of stock. \n",
    "- Used in games to skip the current iteration if the player has lost the game.\n",
    "- Used in web development to skip the current iteration if the user has entered the wrong information.\n",
    "- Used in data science to skip the current iteration if the desired result is not achieved.\n",
    "- Used in machine learning to skip the current iteration if the model is not trained.\n"
   ]
  },
  {
   "cell_type": "code",
   "execution_count": 9,
   "metadata": {},
   "outputs": [
    {
     "name": "stdout",
     "output_type": "stream",
     "text": [
      "1\n",
      "2\n",
      "3\n",
      "4\n",
      "6\n",
      "7\n",
      "8\n",
      "9\n"
     ]
    }
   ],
   "source": [
    "# Syntax of continue statement in python is: continue \n",
    "\n",
    "for i in range(1,10):  # Looping through the range of 1 to 10\n",
    "    if i == 5:   # If the number is 5 then continue the loop and skip the number 5 \n",
    "        continue # Continue the loop and skip the number 5\n",
    "    print(i)   # Print the number \n"
   ]
  },
  {
   "cell_type": "markdown",
   "metadata": {},
   "source": [
    "# iii) Pass:\n",
    "The pass statement is used as a placeholder for future code. When the pass statement is executed, nothing happens, but you avoid getting an error when empty code is not allowed. Empty code is not allowed in loops, function definitions, class definitions, or in if statements.\n",
    "\n",
    "- Used in ecommerce websites as a placeholder for future code.\n",
    "- Used in games as a placeholder for future code.\n",
    "- Used in web development as a placeholder for future code.\n",
    "- Used in data science as a placeholder for future code.\n",
    "- Used in machine learning as a placeholder for future code.\n",
    "- Used in artificial intelligence as a placeholder for future code.\n"
   ]
  },
  {
   "cell_type": "code",
   "execution_count": 11,
   "metadata": {},
   "outputs": [],
   "source": [
    "# Syntax of pass statement in python is: pass \n",
    "\n",
    "# pass statement is used when we don't want to do anything in the loop or function or class or condition or block of code\n",
    "    # But we want to keep the code syntactically correct for future use .\n",
    "\n",
    "for i in range(1,10):   # Looping through the range of 1 to 10\n",
    "    pass         # Pass the loop and do nothing in the loop for now and keep the code syntactically correct for future use .\n",
    "\n"
   ]
  },
  {
   "cell_type": "code",
   "execution_count": null,
   "metadata": {},
   "outputs": [],
   "source": []
  }
 ],
 "metadata": {
  "kernelspec": {
   "display_name": "base",
   "language": "python",
   "name": "python3"
  },
  "language_info": {
   "codemirror_mode": {
    "name": "ipython",
    "version": 3
   },
   "file_extension": ".py",
   "mimetype": "text/x-python",
   "name": "python",
   "nbconvert_exporter": "python",
   "pygments_lexer": "ipython3",
   "version": "3.12.4"
  }
 },
 "nbformat": 4,
 "nbformat_minor": 2
}
