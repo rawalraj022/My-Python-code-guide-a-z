{
 "cells": [
  {
   "cell_type": "markdown",
   "metadata": {},
   "source": [
    "- We will be needing this file handling concept when ever we are working in the field of **data science** **because we all know that data science is all about data and** **where data would be stored definitely inside a file**.\n",
    "- In data science we’re having different different data and different different file types .\n",
    "\n",
    "Let’s learn about basic of file handling , **if l’m having some data inside the file then how we can read data from that particular file ?** and **how we can write some data in that particular file ?** So, we will be learning these things.\n",
    "\n",
    "\n",
    "# File Handling in Python \n",
    "\n",
    "**Inside programming we use two types of data for I/O operations:**\n",
    "- **1.Text** \n",
    "    - '12345' as a sequence of unicode chars\n",
    "    - Text data is human readable and can be easily understood by the program and the user.\n",
    "    - Text data is stored in the form of characters and each character is represented by a unique number called ASCII or Unicode code. Like 'A' is represented by 65, 'B' is represented by 66, 'C' is represented by 67 and so on.\n",
    "\n",
    "- **2.Binary** \n",
    "    - 12345 as a sequence of bytes of its binary equivalent\n",
    "    - Binary data is not human readable and can't be easily understood by the program and the user.\n",
    "    - Binary data is stored in the form of bytes and each byte is represented by a unique number called binary code or byte code or machine code. It is a sequence of 0s and 1s. \n",
    "    \n",
    "\n",
    "**Hence there are 2 file types to deal with in programming:**\n",
    "- **1.Text files** \n",
    "    - All program files are text files\n",
    "    - Inside text files we can easily read and write data as text data is human readable and can be easily understood by the program and the user. \n",
    "\n",
    "    - **Example of text files are** .txt, .html, .css, .js, .py, .java, .c, .cpp, .xml, .json, .csv, .tsv, .log, .md, .yaml, .bat, .sh, .php, .sql, .r, .rmd, .rdata, .rds, .rda, .rproj, .rhistory, .rprofile, .rprofile.site, .rprofile.site.site, .rprofile.site.site.site, .rprofile.site.site.site.site, .rprofile.site.site.site.site.site, .rprofile.site.site.site.site.site.site, .rprofile.site.site.site.site.site.site.site, .rprofile.site.site.site.site.site.site.site.site, .rprofile.site.site.site.site.site.site.site.site.site, .rprofile\n",
    "\n",
    "- **2.Binary Files** \n",
    "    - Images,music,video,exe files\n",
    "    - Inside binary files we can't read and write data as binary data is not human readable and can't be easily understood by the program and the user.\n",
    "\n",
    "    - **Example of binary files are** .jpg, .jpeg, .png, .gif, .bmp, .tiff, .svg, .ico, .webp, .heif, .heic, .avif, .pdf, .doc, .docx, .xls, .xlsx, .ppt, .pptx, .mp3, .wav, .mp4, .avi, .mkv, .mov, .flv, .wmv, .exe, .dll, .msi, .apk, .ipa, .deb, .rpm, .dmg, .iso, .img, .bin, .tar, .zip, .rar, .7z, .gz, .bz2, .xz, .lz, .lzma, .zst, .zstd, .lz4, .lzip, .cab, .arj, .ace, .arc, .pak, .tar.gz, .tar.bz2, .tar.xz, .tar.lz, .tar.lzma, .tar.zst, .tar.zstd, .tar.lz4, .tar.lzip, .tar.cab, .tar.arj, .tar.ace, .tar.arc, .tar.pak, .zip.gz, .zip.bz2, .zip.xz, .zip.lz, .zip.lzma, .zip.zst, .zip.zstd, .zip.lz4, .zip.lzip, .zip.cab, .zip.arj, .zip.ace, .zip.arc, .zip.pak, .rar.gz, .rar.bz2, .rar.xz, .rar.lz, .rar.lzma, .rar.zst, .rar.zstd, .rar.lz4, .rar.lzip, .rar.cab, .rar.arj, .rar.ace, .rar.arc, .rar.pak, .7z.gz, .7z.bz2, .7z.xz, .7z.lz, .7z.lzma, .7z.zst, .7z.zstd, .7z.lz4, .7z.lzip, .7z.cab, .7z.arj, .7z.ace, .7z.arc, .7z.pak, .gz.tar, .bz2.tar, \n",
    "\n",
    "\n",
    "#### How File I/O is done in most programming languages\n",
    "\n",
    "File I/O is done in most programming languages in 3 steps:\n",
    "- Open a file\n",
    "- Read/Write data\n",
    "- Close the file\n",
    "\n"
   ]
  },
  {
   "cell_type": "markdown",
   "metadata": {},
   "source": [
    "# Writing to a file in Python :\n",
    "\n",
    "- **Step 1:** Open a file\n",
    "- **Step 2:** Write data\n",
    "- **Step 3:** Close the file\n",
    "\n",
    "**Syntax:**\n",
    "```python\n",
    "file = open('filename', 'mode')\n",
    "file.write('data')\n",
    "file.close()\n",
    "```\n",
    "\n",
    "**write() method or function:**\n",
    "- **write()** method is used to write data to the file.\n",
    "- **write()** method can only write strings to the file.\n",
    "- **write()** method returns the number of characters written to the file.\n",
    "- **write()** method doesn't add a newline character at the end of the data written to the file.\n",
    "\n",
    "**writelines() method or function:**\n",
    "\n",
    "- **writelines()** method is used to write a list of strings to the file.\n",
    "- **writelines()** method can only write a list of strings to the file.\n",
    "- **writelines()** method returns the number of characters written to the file.\n",
    "- **writelines()** method doesn't add a newline character at the end of the data written to the file.\n",
    "\n",
    "\n",
    "**Modes:**\n",
    "- **'w'** : write mode\n",
    "- **'a'** : append mode\n",
    "- **'r+'** : read and write mode\n",
    "- **'w+'** : write and read mode\n",
    "- **'a+'** : append and read mode\n",
    "\n",
    "**Note:**\n",
    "- **'w'** mode will overwrite the file if it already exists and create a new file if it doesn't exist.\n",
    "- **'a'** mode will append data to the file if it already exists and create a new file if it doesn't exist.\n",
    "- **'r'** mode will throw an error if the file doesn't exist and read data from the file if it exists.\n",
    "- **'r+'** mode will throw an error if the file doesn't exist and read and write data from the file if it exists.\n",
    "- **'w+'** mode will overwrite the file if it already exists and create a new file if it doesn't exist and read and write data from the file.\n",
    "- **'a+'** mode will append data to the file if it already exists and create a new file if it doesn't exist and read and write data from the file.\n",
    "\n"
   ]
  },
  {
   "cell_type": "markdown",
   "metadata": {},
   "source": [
    "#### Write mode ('w'): \n",
    "\n",
    "- **'w'** mode will overwrite the file if it already exists and create a new file if it doesn't exist.\n",
    "- **'w'** mode is used to write data to the file.\n",
    "- **'w'** mode is used to create a new file and write data to it.\n"
   ]
  },
  {
   "cell_type": "code",
   "execution_count": null,
   "metadata": {},
   "outputs": [],
   "source": [
    "## write single line string data inside the file using the write() method.\n",
    "\n",
    "## Q) If the file is not present in the current folder directory, \n",
    "        # then how to create a file and write data inside it?\n",
    "# Ans) We can use the open() function with the 'w' mode to create a file and write data inside it.\n",
    "        # The 'w' mode will create a file if it does not exist in the current folder directory.\n",
    "        # If the file already exists, then it will overwrite the existing file.\n",
    "\n",
    "# 'w' mode is a write mode and 'w' will open the file in write mode.\n",
    "\n",
    "# Example:\n",
    "# Create a file named 'sample.txt' inside the folder named files in write mode and write data inside the file.\n",
    "file = open(\"files/sample.txt\", \"w\")  # 'w' mode is a write mode and 'w' will open the file in write mode.\n",
    "                                # The open() function will create a file named 'sample.txt' inside the folder named files.\n",
    "                                # The open() function will return a file object and we are storing it inside the file variable.\n",
    "\n",
    "file.write(\"Hello, World!\") # Write data inside the file using the write() method.\n",
    "                                # The write() method will write the data inside the file.\n",
    "                                # The write() method will return the number of characters written inside the file.\n",
    "                                # The number of characters written inside the file will be 13 in this case. It starts counting from 1.\n",
    "\n",
    "# close() method is used to close the file and release the resources acquired by the file object means it will write the data inside the file variable to the sample.txt file.\n",
    "file.close() # Close the file using the close() method. \n",
    "\n",
    "# We can't write data inside the file 'sample.txt' after closing the file \n",
    "        # Because the file is closed and we can't write data inside the closed file.\n",
    "file.write(\"Raj\")       # file.write(\"Raj\") # This will give an error because the file is closed.\n",
    "\n"
   ]
  },
  {
   "cell_type": "code",
   "execution_count": 5,
   "metadata": {},
   "outputs": [],
   "source": [
    "## Write multiline string data inside the file using the write() method.\n",
    "\n",
    "file = open(\"files/sample1.txt\", \"w\") # Create a file named 'sample1.txt' inside the folder named files in write mode and write data inside the file and store the file object inside the file variable.\n",
    "\n",
    "file.write(\"Hello, World!\\n\") # Write data inside the file using the write() method.\n",
    "                                # The '\\n' is used to move the cursor to the next line.\n",
    "                                # The write() method will write the data inside the file.\n",
    "                                # The write() method will return the number of characters written inside the file.\n",
    "                                # The number of characters written inside the file will be 14 in this case. It starts counting from 1.\n",
    "file.write(\"Hello, Python!\") # Write data inside the file using the write() method in the next line.\n",
    "file.close() # Close the file using the close() method to write the data inside the file variable to the sample1.txt file.\n"
   ]
  },
  {
   "cell_type": "code",
   "execution_count": 6,
   "metadata": {},
   "outputs": [],
   "source": [
    "## case 2 - if the file is already present in the current folder directory ?\n",
    "# If the file is already present in the current folder directory, then the 'w' mode will overwrite the existing file.\n",
    "\n",
    "f = open('files/sample.txt','w')\n",
    "f.write('Yo yo honey singh')\n",
    "f.close()\n",
    "\n",
    "## Explanation of the above code:\n",
    "\n",
    "# The open() function will open the file named 'sample.txt' in write mode.\n",
    "# The write() method will write the data inside the file.\n",
    "# The close() method will close the file and write the data inside the file variable to the sample.txt file.\n",
    "\n",
    "# The 'w' mode will overwrite the existing file.\n",
    "# The existing data inside the file will be lost.\n",
    "# The new data will be written inside the file.\n",
    "\n",
    "# The file named 'sample.txt' will contain the data 'Yo yo honey singh' after executing the above code.\n"
   ]
  },
  {
   "cell_type": "code",
   "execution_count": 8,
   "metadata": {},
   "outputs": [],
   "source": [
    "## write lines method - writelines()\n",
    "\n",
    "L = ['hello\\n','hi\\n','how are you\\n','I am fine']\n",
    "\n",
    "f = open('files/sample.txt','w')\n",
    "f.writelines(L)\n",
    "f.close()\n",
    "\n",
    "## Explanation of the above code:\n",
    "\n",
    "# The open() function will open the file named 'sample.txt' in write mode.\n",
    "# The writelines() method will write the data inside the file line by line from the list L to the file.\n",
    "# The close() method will close the file and write the data inside the file variable to the sample.txt file.\n",
    "\n",
    "# The '\\n' is used to move the cursor to the next line.\n",
    "\n",
    "# The file named 'sample.txt' will contain the data 'hello\\nhi\\nhow are you\\nI am fine' after executing the above code.\n",
    "\n",
    "# The file named 'sample.txt' will contain the data in the following format:\n",
    "# hello\n",
    "# hi\n",
    "# how are you\n",
    "# I am fine\n"
   ]
  },
  {
   "cell_type": "markdown",
   "metadata": {},
   "source": [
    "#### Append mode ('a'): \n",
    "\n",
    "- **'a'** mode will append data to the file if it already exists and create a new file if it doesn't exist.\n",
    "- **'a'** mode is used to append data to the file.\n",
    "- **'a'** mode is used to create a new file and append data to it."
   ]
  },
  {
   "cell_type": "code",
   "execution_count": 7,
   "metadata": {},
   "outputs": [],
   "source": [
    "## If we want to append the data inside the file without overwriting the existing data, \n",
    "    # then we can use the 'a' mode.\n",
    "\n",
    "# The 'a' mode will create a file if it does not exist in the current folder directory.\n",
    "# If the file already exists, then it will append the data inside the file without overwriting the existing data.\n",
    "\n",
    "f = open('files/sample.txt','a')\n",
    "f.write('\\nI am fine')\n",
    "f.close()\n",
    "\n",
    "## Explanation of the above code:\n",
    "\n",
    "# The open() function will open the file named 'sample.txt' in append mode.\n",
    "# The write() method will write the data inside the file.\n",
    "# The close() method will close the file and write the data inside the file variable to the sample.txt file.\n",
    "\n",
    "# The 'a' mode will append the data inside the file without overwriting the existing data.\n",
    "# The existing data inside the file will not be lost.\n",
    "# The new data will be appended at the end of the file.\n",
    "\n",
    "# The file named 'sample.txt' will contain the data 'Yo yo honey singh\\nI am fine' after executing the above code.\n",
    "\n",
    "# The '\\n' is used to move the cursor to the next line.\n",
    "# The '\\n' is used to add a new line at the end of the file.\n"
   ]
  },
  {
   "cell_type": "markdown",
   "metadata": {},
   "source": [
    "# reading from files in Python : \n",
    "\n",
    "- **Step 1:** Open a file\n",
    "- **Step 2:** Read data\n",
    "- **Step 3:** Close the file\n",
    "\n",
    "**Syntax:**\n",
    "```python\n",
    "file = open('filename', 'mode')\n",
    "data = file.read()\n",
    "file.close()\n",
    "```\n",
    "\n",
    "**read() method or function:**\n",
    "- **read()** method is used to read data from the file.\n",
    "- **read()** method reads the entire data from the file.\n",
    "- **read()** method returns the data read from the file as a string.\n",
    "- **read()** method reads the data from the current cursor position to the end of the file.\n",
    "\n",
    "**readline() method or function:**\n",
    "- **readline()** method is used to read data from the file line by line.\n",
    "- **readline()** method reads the data from the file line by line.\n",
    "- **readline()** method returns the data read from the file as a string.\n",
    "- **readline()** method reads the data from the current cursor position to the end of the line.\n",
    "\n",
    "\n",
    "**modes:** \n",
    "- **'r'** : read mode\n",
    "- **'r+'** : read and write mode\n",
    "- **'w+'** : write and read mode\n",
    "- **'a+'** : append and read mode\n",
    "\n",
    "**Note:**\n",
    "- **'r'** mode will throw an error if the file doesn't exist and read data from the file if it exists.\n",
    "- **'r+'** mode will throw an error if the file doesn't exist and read and write data from the file if it exists.\n",
    "- **'w+'** mode will overwrite the file if it already exists and create a new file if it doesn't exist and read and write data from the file.\n",
    "- **'a+'** mode will append data to the file if it already exists and create a new file if it doesn't exist and read and write data from the file.\n",
    "\n"
   ]
  },
  {
   "cell_type": "markdown",
   "metadata": {},
   "source": [
    "#### Read mode ('r'): \n",
    "\n",
    "- **'r'** mode will throw an error if the file doesn't exist and read data from the file if it exists.\n"
   ]
  },
  {
   "cell_type": "code",
   "execution_count": 9,
   "metadata": {},
   "outputs": [
    {
     "name": "stdout",
     "output_type": "stream",
     "text": [
      "hello\n",
      "hi\n",
      "how are you\n",
      "I am fine\n"
     ]
    }
   ],
   "source": [
    "## Q) reading entire data from the file using the read() method ?\n",
    "\n",
    "f = open('files/sample.txt','r')\n",
    "s = f.read()\n",
    "print(s)\n",
    "f.close()\n",
    "\n",
    "## Explanation of the above code:\n",
    "\n",
    "# The open() function will open the file named 'sample.txt' in read mode.\n",
    "# The read() method will read the data from the file and store it inside the variable s.\n",
    "# The close() method will close the file.\n",
    "\n",
    "# The file named 'sample.txt' will contain the data 'Yo yo honey singh\\nI am fine' after executing the above code.\n",
    "\n",
    "# The read() method will read the data from the file and store it inside the variable s.\n",
    "# The variable s will contain the data 'Yo yo honey singh\\nI am fine'.\n",
    "# The variable s will contain the data in the form of a string.\n",
    "\n",
    "# The print() function will print the data stored inside the variable s.\n"
   ]
  },
  {
   "cell_type": "markdown",
   "metadata": {},
   "source": [
    "#### We need to close() the file after reading or writing data to the file because: \n",
    "\n",
    "- **If we don't close the file after reading or writing data to the file then the data written to the file will not be saved.**\n",
    "\n",
    "- **If we don't close the file after reading or writing data to the file then the file will remain open and the resources will not be released and the program will run out of memory and crash the program or the system.**\n",
    "\n",
    "- **If we don't close the file after reading or writing data to the file then the file will be locked and we will not be able to read or write data to the file.**\n",
    "\n",
    "- **If we don't close the file after reading or writing data to the file then the file will be locked and we will not be able to delete , rename , move, copy the file.**\n",
    "\n",
    "- **If we don't close the file after reading or writing data to the file then the file will be locked and we will not be able to perform any operation on the file until the program is running.** \n",
    "\n"
   ]
  },
  {
   "cell_type": "code",
   "execution_count": 10,
   "metadata": {},
   "outputs": [
    {
     "name": "stdout",
     "output_type": "stream",
     "text": [
      "hello\n"
     ]
    }
   ],
   "source": [
    "## Q) If we want to read some specific characters from the file ?\n",
    "# Ans) We can use the read() method with the number of characters we want to read from the file. \n",
    "        # The read() method will read the number of characters from the file and store it inside the variable s.\n",
    "\n",
    "file = open(\"files/sample.txt\", \"r\") # Open the file named 'sample.txt' in read mode and store the file object inside the file variable. \n",
    "\n",
    "s = file.read(5) # Read the first 5 characters from the file and store it inside the variable s.\n",
    "                # The variable s will contain the first 5 characters from the file.\n",
    "                # The variable s will contain the data 'Yo yo'.\n",
    "print(s) # Print the data stored inside the variable s.\n",
    "\n",
    "file.close() # Close the file using the close() method.\n",
    "\n",
    "## Explanation of the above code:\n",
    "\n",
    "# The open() function will open the file named 'sample.txt' in read mode. \n",
    "# The read() method will read the first 5 characters from the file and store it inside the variable s.\n",
    "# The variable s will contain the first 5 characters from the file. \n",
    "# The variable s will contain the data 'Yo yo'.\n",
    "\n",
    "# The print() function will print the data stored inside the variable s.\n"
   ]
  },
  {
   "cell_type": "code",
   "execution_count": 11,
   "metadata": {},
   "outputs": [
    {
     "name": "stdout",
     "output_type": "stream",
     "text": [
      "hello\n",
      "hi\n"
     ]
    }
   ],
   "source": [
    "## readline() -> to read line by line\n",
    "\n",
    "# The readline() method is used to read the data line by line from the file.\n",
    "# This readline() method is very useful when we want to read particular lines from the big file line by line.\n",
    "\n",
    "file = open('files/sample.txt','r')   # open the file in read mode\n",
    "print(file.readline(),end='')   # read the first line from the file and print it and \n",
    "                                # end='' is used to remove the next line which is printed by default by the print function. \n",
    "print(file.readline(3),end='')  # read the first 3 characters from the second line and print it \n",
    "file.close()                   # close the file\n"
   ]
  },
  {
   "cell_type": "code",
   "execution_count": 2,
   "metadata": {},
   "outputs": [
    {
     "name": "stdout",
     "output_type": "stream",
     "text": [
      "hello\n",
      "hi\n",
      "how are you\n",
      "I am fine"
     ]
    }
   ],
   "source": [
    "## Q) reading entire data from the file line by line using the readlines() method and loop ?\n",
    "\n",
    "file = open(\"files/sample.txt\", \"r\")  # Open the file named 'sample.txt' in read mode and store the file object inside the file variable.\n",
    "\n",
    "# applying loop to read the data line by line from the file \n",
    "\n",
    "while True:         # Run an infinite loop to read the data line by line from the file.\n",
    "    data = file.readline()        # Read the data line by line from the file and store it inside the variable data.\n",
    "\n",
    "    if data == \"\":    # If the data is an empty string, then break the loop.\n",
    "        break        # Break the loop using the break statement.\n",
    "    else:             # If the data is not an empty string, then print the data.\n",
    "        print(data, end=\"\")   # Print the data stored inside the variable data and \n",
    "                                # end='' is used to remove the next line which is printed by default by the print function.\n",
    "\n",
    "file.close()        # Close the file using the close() method.\n",
    "\n",
    "\n",
    "## This program is used when we want to read the data line by line from the file using the readlines() method and loop.\n",
    "\n"
   ]
  },
  {
   "cell_type": "code",
   "execution_count": null,
   "metadata": {},
   "outputs": [],
   "source": []
  }
 ],
 "metadata": {
  "kernelspec": {
   "display_name": "base",
   "language": "python",
   "name": "python3"
  },
  "language_info": {
   "codemirror_mode": {
    "name": "ipython",
    "version": 3
   },
   "file_extension": ".py",
   "mimetype": "text/x-python",
   "name": "python",
   "nbconvert_exporter": "python",
   "pygments_lexer": "ipython3",
   "version": "3.12.4"
  }
 },
 "nbformat": 4,
 "nbformat_minor": 2
}
