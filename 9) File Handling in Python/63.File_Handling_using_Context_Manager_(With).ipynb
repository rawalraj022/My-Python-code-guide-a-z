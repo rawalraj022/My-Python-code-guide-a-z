{
 "cells": [
  {
   "cell_type": "markdown",
   "metadata": {},
   "source": [
    "# File Handling using Context Manager (With)\n",
    "\n",
    "#### Using Context Manager (With)\n",
    "\n",
    "- It's a good idea to close a file after usage as it will free up the resources\n",
    "- If we don't close it, garbage collector would close it\n",
    "- with keyword closes the file as soon as the usage is over\n",
    "\n",
    "'With' context manager is used to open a file and close it automatically after the usage is over. It is a good practice to use 'with' context manager to open a file as it automatically closes the file after the usage is over.\n",
    "\n",
    "Syntax:\n",
    "```python\n",
    "with open('file_name', 'mode') as file:\n",
    "    # perform file operations\n",
    "```\n",
    "\n",
    "Example:\n",
    "```python\n",
    "with open('file.txt', 'r') as file:    # open file in read mode using 'with' context manager \n",
    "    data = file.read()               # read data from the file and store it in a variable\n",
    "    print(data)                     # print the data\n",
    "```\n",
    "```output\n",
    "Hello, this is a file handling example.\n",
    "```\n",
    "\n",
    "In the above example, the file is opened in read mode and the data is read from the file. After the usage is over, the file is automatically closed by the context manager.\n",
    "\n"
   ]
  },
  {
   "cell_type": "code",
   "execution_count": 1,
   "metadata": {},
   "outputs": [],
   "source": [
    "## write() operation with 'w' mode \n",
    "\n",
    "# write() operation with 'w' mode will overwrite the existing content of the file. \n",
    "    # If the file does not exist, it will create a new file and write the content to it.\n",
    "\n",
    "with open(\"files/sample.txt\", \"w\") as file:      # open() function opens the file in write mode. If the file does not exist, it will create a new file.\n",
    "    file.write(\"Hello, World!\")       # write() method writes the content to the file and returns the number of characters written to the file.\n",
    "\n",
    "# Explanation of the above code:\n",
    "    # with is a context manager that automatically closes the file when the block inside it is exited.\n",
    "    # open() function opens the file in write mode. If the file does not exist, it will create a new file.\n",
    "    # 'as' keyword is used to create an alias for the file object returned by open() function.\n",
    "    # 'file' is the alias for the file object and it stores the reference to the file and is used to perform file operations.\n",
    "    # write() method writes the content to the file and returns the number of characters written to the file.\n",
    "\n",
    "# In the above code, the file sample.txt is opened in write mode. The content \"Hello, World!\" is written to the file.\n"
   ]
  },
  {
   "cell_type": "code",
   "execution_count": 2,
   "metadata": {},
   "outputs": [
    {
     "name": "stdout",
     "output_type": "stream",
     "text": [
      "Hello, World!\n"
     ]
    }
   ],
   "source": [
    "## read() operation with 'r' mode \n",
    "\n",
    "# read() operation with 'r' mode will read the content of the file and return it as a string object in Python.\n",
    "\n",
    "with open(\"files/sample.txt\", \"r\") as file:       # open() function opens the file in read mode.\n",
    "    content = file.read()      # read() method reads the content of the file and returns it as a string object in content variable.\n",
    "    print(content)     # print the content of the file.\n"
   ]
  },
  {
   "cell_type": "code",
   "execution_count": 3,
   "metadata": {},
   "outputs": [
    {
     "name": "stdout",
     "output_type": "stream",
     "text": [
      "['Hello, World!']\n"
     ]
    }
   ],
   "source": [
    "## readlines() operation with 'r' mode \n",
    "\n",
    "# readlines() operation with 'r' mode will read the content of the file and return it as a list of lines in Python where each line is a string object.\n",
    "\n",
    "with open(\"files/sample.txt\", \"r\") as file:      # open() function opens the file in read mode.\n",
    "    line = file.readlines()   # readlines() method reads the content of the file and returns it as a list of lines in line variable.\n",
    "    print(line)    # print the content of the file.\n"
   ]
  },
  {
   "cell_type": "code",
   "execution_count": 4,
   "metadata": {},
   "outputs": [],
   "source": [
    "## append() operation with 'a' mode \n",
    "\n",
    "# append() operation with 'a' mode will append the content to the existing content of the file without overwriting it.\n",
    "\n",
    "with open(\"files/sample.txt\", \"a\") as file:       # open() function opens the file in append mode.\n",
    "    file.write(\"\\nWelcome to Python Programming!\")      # write() method appends the content to the file.\n",
    "\n",
    "# Explanation of the above code:\n",
    "    # with is a context manager that automatically closes the file when the block inside it is exited.\n",
    "    # open() function opens the file in append mode.\n",
    "    # 'as' keyword is used to create an alias for the file object returned by open() function.\n",
    "    # 'file' is the alias for the file object and it stores the content of the file in append mode.\n",
    "    # write() method appends the content to the file.\n",
    "    # \\n is used to add a new line before appending the content.\n"
   ]
  },
  {
   "cell_type": "code",
   "execution_count": 5,
   "metadata": {},
   "outputs": [
    {
     "name": "stdout",
     "output_type": "stream",
     "text": [
      "Hello, Wor\n",
      "ld!\n",
      "Welcom\n",
      "e to Pytho\n"
     ]
    }
   ],
   "source": [
    "## moving within a file \n",
    "\n",
    "# This way we can do large file operations without loading the entire file into memory at once and \n",
    "    # it is also useful when we want to move within a file and read a specific number of characters from the file.\n",
    "    # This will save memory and improve the performance of the program when working with large files in Python programming.\n",
    "\n",
    "with open(\"files/sample.txt\", \"r\") as f:\n",
    "    print(f.read(10))\n",
    "    print(f.read(10))\n",
    "    print(f.read(10))\n",
    "\n",
    "# Explanation of the above code:\n",
    "    # open() function opens the file in read mode.\n",
    "    # read(10) method reads the first 10 characters of the file.\n",
    "    # The cursor is moved to the 11th character.\n",
    "    # read(10) method reads the next 10 characters of the file.\n",
    "    # The cursor is moved to the 21st character.\n",
    "    # read(10) method reads the next 10 characters of the file.\n",
    "    # The cursor is moved to the 31st character.\n",
    "\n",
    "## Because the cursor moves after each read operation, the next read operation will start from the cursor position.\n",
    "    # It will store the first 10 characters in buffer and then move the cursor to the 11th character \n",
    "    # and remove the first 10 characters from the buffer and store the next 10 characters in the buffer and \n",
    "    # so on until the end of the file is reached or the specified number of characters are read from the file using read() method.\n",
    "\n",
    "# This way we can do large file operations without loading the entire file into memory at once and \n",
    "    # it is also useful when we want to move within a file and read a specific number of characters from the file.\n",
    "    # This will save memory and improve the performance of the program when working with large files in Python programming.\n",
    "\n"
   ]
  },
  {
   "cell_type": "code",
   "execution_count": 7,
   "metadata": {},
   "outputs": [],
   "source": [
    "## benefit? -> to load a big file in memory\n",
    "\n",
    "# Let's create a big file with 1000 lines of \"hello world\" and write it to a file named big.txt.\n",
    "big_L = ['hello world ' for i in range(1000)]   # create a list of 1000 lines of \"hello world\". \n",
    "\n",
    "# write the content of the list to the file big.txt.\n",
    "with open('files/big.txt','w') as f:    # open the file in write mode and create a new file if it does not exist already.\n",
    "    f.writelines(big_L)                # write the content of the list to the file.\n",
    "\n",
    "\n",
    "## Explanation of the above code :\n",
    "    # big_L is a list that contains 1000 lines of \"hello world\".\n",
    "    # open() function opens the file big.txt in write mode. If the file does not exist, it will create a new file.\n",
    "    # writelines() method writes the content of the list to the file.\n"
   ]
  },
  {
   "cell_type": "markdown",
   "metadata": {},
   "source": [
    "**Chunking :**\n",
    "Chunking is a process of reading a file in small parts or chunks. It is useful when we have a large file and we want to read it in small parts. We can read a file in chunks using the read() method by specifying the number of bytes to read.\n",
    "\n",
    "Syntax:\n",
    "```python\n",
    "with open('file_name', 'mode') as file:\n",
    "    chunk = file.read(size)     # read 'size' number of bytes from the file\n",
    "```\n",
    "\n",
    "Example:\n",
    "```python\n",
    "with open('file.txt', 'r') as file:    # open file in read mode using 'with' context manager \n",
    "    chunk = file.read(10)               # read 10 bytes from the file and store it in a variable\n",
    "    print(chunk)                     # print the data\n",
    "```\n",
    "```output\n",
    "Hello, thi\n",
    "```\n",
    "\n",
    "In the above example, the file is opened in read mode and the first 10 bytes of data are read from the file. The data is stored in a variable and printed."
   ]
  },
  {
   "cell_type": "code",
   "execution_count": 8,
   "metadata": {},
   "outputs": [
    {
     "name": "stdout",
     "output_type": "stream",
     "text": [
      "d hello woo world hed hello woo world hed hello woo world hed hello woo world hed hello woo world hed hello woo world hed hello woo world hed hello woo world hed hello woo world hed hello woo world hed hello woo world hed hello woo world hed hello woo world hed hello woo world hed hello woo world hed hello woo world hed hello woo world hed hello woo world hed hello woo world hed hello woo world hed hello woo world hed hello woo world hed hello woo world hed hello woo world hed hello woo world hed hello woo world hed hello woo world hed hello woo world hed hello woo world hed hello woo world hed hello woo world hed hello woo world hed hello woo world hed hello woo world hed hello woo world hed hello woo world hed hello woo world hed hello woo world hed hello woo world hed hello woo world hed hello woo world hed hello woo world hed hello woo world hed hello woo world hed hello woo world hed hello woo world hed hello woo world hed hello woo world hed hello woo world hed hello woo world hed hello woo world hed hello woo world hed hello woo world hed hello woo world hed hello woo world hed hello woo world hed hello woo world hed hello woo world hed hello woo world hed hello woo world hed hello woo world hed hello woo world hed hello woo world hed hello woo world hed hello woo world hed hello woo world hed hello woo world hed hello woo world hed hello woo world hed hello woo world hed hello woo world hed hello woo world hed hello woo world hed hello woo world hed hello woo world hed hello woo world hed hello woo world hed hello woo world hed hello woo world hed hello woo world hed hello woo world hed hello woo world hed hello woo world hed hello woo world hed hello woo world hed hello woo world hed hello woo world hed hello woo world hed hello woo world hed hello woo world hed hello woo world hed hello woo world hed hello woo world hed hello woo world hed hello woo world hed hello woo world hed hello woo world hed hello woo world hed hello woo world hed hello woo world hed hello woo world hed hello woo world hed hello woo world hed hello woo world hed hello woo world hed hello woo world hed hello woo world hed hello woo world hed hello woo world hed hello woo world hed hello woo world hed hello woo world hed hello woo world hed hello woo world hed hello woo world hed hello woo world hed hello woo world hed hello woo world hed hello woo world hed hello woo world hed hello woo world hed hello woo world hed hello woo world hed hello woo world hed hello woo world hed hello woo world hed hello woo world hed hello woo world hed hello woo world hed hello woo world hed hello woo world hed hello woo world hed hello woo world hed hello woo world hed hello woo world hed hello woo world hed hello woo world hed hello woo world hed hello woo world hed hello woo world hed hello woo world hed hello woo world hed hello woo world hed hello woo world hed hello woo world hed hello woo world hed hello woo world hed hello woo world hed hello woo world hed hello woo world hed hello woo world hed hello woo world hed hello woo world hed hello woo world hed hello woo world hed hello woo world hed hello woo world hed hello woo world hed hello woo world hed hello woo world hed hello woo world hed hello woo world hed hello woo world hed hello woo world hed hello woo world hed hello woo world hed hello woo world hed hello woo world hed hello woo world hed hello woo world hed hello woo world hed hello woo world hed hello woo world hed hello woo world hed hello woo world hed hello woo world hed hello woo world hed hello woo world hed hello woo world hed hello woo world hed hello woo world hed hello woo world hed hello woo world hed hello woo world hed hello woo world hed hello woo world hed hello woo world hed hello woo world hed hello woo world hed hello woo world hed hello woo world hed hello woo world hed hello woo world hed hello woo world hed hello woo world hed hello woo world hed hello woo world hed hello woo world hed hello woo world hed hello woo world he"
     ]
    }
   ],
   "source": [
    "## Chunking Example :\n",
    "\n",
    "## Q) Let's say the size of the file big.txt is 10 GB , how can we load the content of\n",
    "    # the file while I am working on a machine with 8 GB of RAM memory ?\n",
    "\n",
    "# => So for loading a big file content while working on a machine with limited memory \n",
    "    # we use one concept called chunking. \n",
    "    # Chunking is a process of reading a specific number of characters from the file at a time and\n",
    "        # processing them until the end of the file is reached and \n",
    "        # in buffer memory we store only the specific number of characters read from the file at a time.\n",
    "    # This way we can do large file operations without loading the entire file into memory at once and \n",
    "        # it is also useful when we want to move within a file and read a specific number of characters from the file.\n",
    "        # This will save memory and improve the performance of the program when working with large files in Python programming.\n",
    "# Memory efficient way to read a large file in Python using chunking .\n",
    "\n",
    "with open(\"files/big.txt\", \"r\") as f:       # open the file in read mode and file object is stored in f.\n",
    "    chunk_size = 10                    # specify the number of characters to read from the file at a time.\n",
    "\n",
    "    while len(f.read(chunk_size)) > 0:      # read the content of the file in chunks of 10 characters until the end of the file is reached and \n",
    "                                            # the length of the content read is greater than 0.\n",
    "        print(f.read(chunk_size), end=\"\")  # print the content of the file in chunks of 10 characters without moving to the next line.\n",
    "        f.read(chunk_size)                # read the next chunk of 10 characters from the file.\n",
    "\n",
    "\n",
    "# Explanation of the above code:\n",
    "    # open() function opens the file in read mode and file object is stored in f.\n",
    "    # chunk_size is a variable that stores the number of characters to read from the file at a time.\n",
    "    # while loop reads the content of the file in chunks of 10 characters until the end of the file is reached and the length of the content read is greater than 0.\n",
    "    # print() function prints the content of the file in chunks of 10 characters without moving to the next line.\n",
    "    # f.read(chunk_size) reads the next chunk of 10 characters from the file.\n",
    "\n"
   ]
  },
  {
   "cell_type": "markdown",
   "metadata": {},
   "source": [
    "**seek and tell functions:**\n",
    "\n",
    "- seek() function is used to move the cursor to a specific position in the file.\n",
    "- tell() function is used to get the current position of the cursor in the file.\n",
    "\n",
    "Syntax:\n",
    "```python\n",
    "with open('file_name', 'mode') as file:\n",
    "    file.seek(offset, whence)     # move the cursor to a specific position\n",
    "    position = file.tell()        # get the current position of the cursor\n",
    "```\n"
   ]
  },
  {
   "cell_type": "code",
   "execution_count": 10,
   "metadata": {},
   "outputs": [
    {
     "name": "stdout",
     "output_type": "stream",
     "text": [
      "hello worl\n",
      "d hello wo\n",
      "20\n"
     ]
    }
   ],
   "source": [
    "## tell() function :\n",
    "\n",
    "# tell() function returns the current position of the cursor in the file.\n",
    "\n",
    "with open(\"files/big.txt\", \"r\") as f:     # open the file in read mode. \n",
    "    print(f.read(10))      # read the first 10 characters of the file.\n",
    "    print(f.read(10))      # read the next 10 characters of the file.\n",
    "    print(f.tell())        # print the current position of the cursor in the file.\n"
   ]
  },
  {
   "cell_type": "code",
   "execution_count": 11,
   "metadata": {},
   "outputs": [
    {
     "name": "stdout",
     "output_type": "stream",
     "text": [
      "hello worl\n",
      "0\n"
     ]
    }
   ],
   "source": [
    "## seek() function :\n",
    "\n",
    "# seek() function moves the cursor to a specific position in the file.\n",
    "\n",
    "with open(\"files/big.txt\", \"r\") as f:     # open the file in read mode.\n",
    "    print(f.read(10))     # read the first 10 characters of the file.\n",
    "    f.seek(0)             # move the cursor to the beginning of the file.\n",
    "    print(f.tell())      # print the current position of the cursor in the file."
   ]
  },
  {
   "cell_type": "code",
   "execution_count": 12,
   "metadata": {},
   "outputs": [
    {
     "name": "stdout",
     "output_type": "stream",
     "text": [
      "1\n"
     ]
    }
   ],
   "source": [
    "## Q) seek() function using to change the letter of the word \"nepal\" to \"Nepal\" in the file big.txt ?\n",
    "\n",
    "with open(\"files/big.txt\", \"w\") as f:      # open the file in write mode.\n",
    "    f.write(\"nepal is a beautiful country.\")   # write the content to the file.\n",
    "    f.seek(0)     # move the cursor to the beginning of the file.\n",
    "    f.write(\"N\")  # write the letter \"N\" at the beginning of the word \"nepal\" in the file.\n",
    "    print(f.tell())   # print the current position of the cursor in the file.\n"
   ]
  },
  {
   "cell_type": "code",
   "execution_count": null,
   "metadata": {},
   "outputs": [],
   "source": []
  }
 ],
 "metadata": {
  "kernelspec": {
   "display_name": "base",
   "language": "python",
   "name": "python3"
  },
  "language_info": {
   "codemirror_mode": {
    "name": "ipython",
    "version": 3
   },
   "file_extension": ".py",
   "mimetype": "text/x-python",
   "name": "python",
   "nbconvert_exporter": "python",
   "pygments_lexer": "ipython3",
   "version": "3.12.4"
  }
 },
 "nbformat": 4,
 "nbformat_minor": 2
}
