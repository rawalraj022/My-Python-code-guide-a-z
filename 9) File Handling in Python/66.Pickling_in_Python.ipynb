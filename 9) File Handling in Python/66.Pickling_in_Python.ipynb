{
 "cells": [
  {
   "cell_type": "markdown",
   "metadata": {},
   "source": [
    "\n",
    "We can save any kinds of python object in a binary format using the 'pickling' method. \n",
    "\n",
    "# Pickling in Python\n",
    "\n",
    "#### Pickling\n",
    "\n",
    "**Pickling** is the process whereby a Python object hierarchy is converted into a byte stream, and **unpickling** is the inverse operation, whereby a byte stream (from a binary file or bytes-like object) is converted back into an object hierarchy.\n",
    "\n",
    "This pickling processing we use whenever let's say we work in the field of **machine learning, deep learning** and we have trained a model and we want to save that model for future use. So, we can save that model in a binary format using the pickling method and whenever we want to use that model we can load that model from the binary file which is json file in this case and we can use that model for prediction purposes or for any other purposes as well.\n",
    "\n",
    "**In machine learning** we have two kinds of condition, first of all we have to train the model with respect to our data and after **training the model** what we have to do is prediction on top of the new data . So, whenever we train the model that particular training model we have to save in a file so that we can load that particular later on and we can do the predication after that on top of the new data.\n",
    "\n",
    "So, to save this particular model we use this particular pickling format. That means whatever machine learning model we are training at the end we are getting a python file object ( python file object is nothing but a python object which is nothing but a python dictionary which contains all the information about the model which we have trained ) , so we can save that python file object in a binary format using the pickling method and whenever we want to use that model we can load that model from the binary file which is json file in this case and we can use that model for prediction purposes or for any other purposes as well.\n",
    "\n",
    "In **our previous notebook**, we saw actually how we can store any kinds of python data type ( data type in python like list, tuple, dictionary, set, string, integer, float, boolean, None, complex, bytes, bytearray, range, frozenset, etc. ) in a file format like json file format , txt file format . \n",
    "But we can't save any kinds of object as it is , it is not possible. So, that's why we have to use this particular pickling technique inside the python programming language.\n",
    "\n",
    "So, in **this particular notebook** we will see how we can save any kinds of python object ( python object is made up of different collections of data types like list, tuple, dictionary, set, string, integer, float, boolean, None, complex, bytes, bytearray, range, frozenset, etc. ) in a binary format using the pickling method . \n",
    "\n",
    "\n"
   ]
  },
  {
   "cell_type": "markdown",
   "metadata": {},
   "source": [
    "#### Example of pickling in python :"
   ]
  },
  {
   "cell_type": "code",
   "execution_count": 5,
   "metadata": {},
   "outputs": [],
   "source": [
    "## Function to display information about the my name and profession\n",
    "\n",
    "def display_info():\n",
    "    return \"Hi my name is Rajkumar and I am a Programmer\"\n",
    "\n",
    "# If we want to save above function as it is in a file and \n",
    "    # it will save this particular function object itself in a binary representation\n",
    "    # and so what we can do, first of all we will call this particular function and\n",
    "    # we will store this particular function in a variable called 'd' because \n",
    "    # we can see this function is returning something so that's why we are storing\n",
    "    # inside a variable called 'd' . \n",
    "\n",
    "d = display_info()\n",
    "\n",
    "# What we will do we'll just use this particular 'pickle' module inside python .\n",
    "# 'pickle' module is inbuilt module in python which is used to serialize and deserialize python objects.\n",
    "# So what we will do we will just import this particular module and we will use this particular module to save this particular function object in a file.\n",
    "\n",
    "# So file we are using here should be in '.pkl' format and we are opening this file in write binary mode and \n",
    "# we are using this particular 'pickle' module to dump this particular function object inside this particular file.\n",
    "# and we are opening this '.pkl' file in write binary mode 'wb' and \n",
    "# we are using this particular 'pickle' module to dump this particular function object inside this particular file.\n",
    "# So we are using 'pickle.dump()' method to dump this particular function object inside this particular file.  \n",
    "\n",
    "## pickle dump\n",
    "import pickle\n",
    "with open('files/function.pkl','wb') as f:\n",
    "    pickle.dump(d,f)\n",
    "\n",
    "# So this particular function object is saved in this particular file called 'function.pkl' .\n",
    "\n",
    "\n"
   ]
  },
  {
   "cell_type": "code",
   "execution_count": 6,
   "metadata": {},
   "outputs": [
    {
     "name": "stdout",
     "output_type": "stream",
     "text": [
      "Hi my name is Rajkumar and I am a Programmer\n"
     ]
    }
   ],
   "source": [
    "\n",
    "## Q) Now we want to unpickle this particular function object from above 'function.pkl' file and\n",
    "    # we want to call this particular function object and we want to print the output of \n",
    "    # this particular function object on the screen. So how we can do that?\n",
    "\n",
    "## pickle load \n",
    "import pickle       # importing pickle module\n",
    "with open('files/function.pkl','rb') as f:  # opening file in read binary mode 'rb' and storing in variable 'f' \n",
    "    p = pickle.load(f)              # loading function object from file and storing in variable 'p'\n",
    "    print(p)                       # printing the function object on the screen\n",
    "\n",
    "# So we can see we are able to unpickle this particular function object from this particular file and\n",
    "# we are able to call this particular function object and we are able to print the output of this particular function object on the screen.\n",
    "\n",
    "# So this is how we can save and load the function object using 'pickle' module in python.\n",
    "# So this is how we can serialize and deserialize the python objects using 'pickle' module in python.\n"
   ]
  },
  {
   "cell_type": "markdown",
   "metadata": {},
   "source": []
  }
 ],
 "metadata": {
  "kernelspec": {
   "display_name": "base",
   "language": "python",
   "name": "python3"
  },
  "language_info": {
   "codemirror_mode": {
    "name": "ipython",
    "version": 3
   },
   "file_extension": ".py",
   "mimetype": "text/x-python",
   "name": "python",
   "nbconvert_exporter": "python",
   "pygments_lexer": "ipython3",
   "version": "3.12.4"
  }
 },
 "nbformat": 4,
 "nbformat_minor": 2
}
