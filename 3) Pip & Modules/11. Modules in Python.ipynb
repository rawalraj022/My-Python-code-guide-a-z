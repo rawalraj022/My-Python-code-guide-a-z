{
 "cells": [
  {
   "cell_type": "markdown",
   "metadata": {},
   "source": [
    "# Modules in Python : \n",
    "\n",
    "Python has a very rich module library that provides a wide range of modules for different tasks.\n",
    "In other languages, like C, C++, and Java, libraries are called header files. In Python, they are called modules. \n",
    "\n",
    "What is a module in Python?\n",
    "=> Module is a file , Inside a file, particular code is written by the other programmer and we can use that code in our program by importing the function of that module in our program and use it without any kind of permission from the programmer who wrote that code because all the modules are available it's completely free for us to use. So we can use module in our program without any kind of permission.\n",
    "\n",
    "=> Module is a file that contains Python code. A module can define functions, classes, and variables. A module can also include runnable code.\n",
    "\n",
    "\n",
    "In Python we are having two types of modules:\n",
    "1. Built-in modules / Package \n",
    "2. External modules / Package \n"
   ]
  },
  {
   "cell_type": "markdown",
   "metadata": {},
   "source": [
    "#### 1. Built-in modules / Package : \n",
    "\n",
    "Python has a set of built-in modules which you can use without installing them. It is already installed in Python. We don't need to install it separately. \n",
    "\n",
    "There are so many built-in modules like 1000's in Python that we can use in our program without installing them separately.\n",
    "\n",
    "But we don't need to learn all of the 1000's built-in modules in Python. We just need to learn some of the most popular built-in modules in Python that are used in most of the programs and projects in Python.\n",
    "\n",
    "[ Click here to see the list of built-in modules in Python if necessary ](https://docs.python.org/3/py-modindex.html) . \n",
    "\n",
    "Some of the most popular built-in modules in Python that are used in most of the programs and projects in Python are:\n",
    "\n",
    "1.1  math module\n",
    "\n",
    "1.2  Keyword module\n",
    "\n",
    "1.3  random module\n",
    "\n",
    "1.4  datetime module\n"
   ]
  },
  {
   "cell_type": "markdown",
   "metadata": {},
   "source": [
    "#### 1.1 math module :\n",
    "\n",
    "If we want to perform any kinds of mathematical operations in our program then we can use the math module in our program. Inside the math module, all kinds of code is already written by the other programmer that we can use in our program to perform mathematical operations. \n",
    "\n",
    "Eg. If we want to perform square root, cube root, power, factorial, trigonometric operations, etc. then we can use the math module in our program.\n",
    "\n",
    "If we want to use the math module in our program then we need to import the math module in our program by using the import keyword.\n",
    "\n",
    "```python\n",
    "import math\n",
    "```\n"
   ]
  },
  {
   "cell_type": "code",
   "execution_count": 7,
   "metadata": {},
   "outputs": [
    {
     "data": {
      "text/plain": [
       "14.0"
      ]
     },
     "execution_count": 7,
     "metadata": {},
     "output_type": "execute_result"
    }
   ],
   "source": [
    "# importing math module to use math functions in the our program . \n",
    "    # it will load the math module and make it available for use in the program.\n",
    "    # all the code is written inside the math module file by the python developers.\n",
    "\n",
    "# If we want to check what kinds of code python developers have written inside the math module file, we can use the help function.\n",
    "    # help(math) # it will show the documentation of the math module.\n",
    "    # OR,\n",
    "    # What we can do is, just press command + left click on the math module and it will take you to the math module file.\n",
    "\n",
    "# We don't need to know what is written inside the math module file, we just need to know how to use the functions that are written inside the math module file.\n",
    "# We can use the functions that are written inside the math module file by importing the math module in our program.\n",
    "\n",
    "# We don't need to write all the code from scratch, we can use the code that is already written by the python developers.\n",
    "    # That why we use this module in our program. In module there is already written code we'll be only using that code. \n",
    "    # So, this is called code reusability. That means somebody has already written the code and we are reusing that code in our functionality or program. \n",
    "\n",
    "# In further, we can also create our own module and upload it to the (pypi website) python library so that other developers can use our code in their program. \n",
    "    # From pypi website, other developers or ourself can download our module and use it in our program.\n",
    "\n",
    "import math         # importing math module\n",
    "\n",
    "# math.  # if we press dot after math and press tab, it will show all the functions that are written inside the math module file.\n",
    "\n",
    "# now I want to perform square root operation on a number 196 using the sqrt function that is written inside the math module file.\n",
    "    # math.sqrt() is the syntax to use the sqrt function that is written inside the math module file.\n",
    "    # math.sqrt() function takes one argument and that is the number on which we want to perform the square root operation.\n",
    "    # math.sqrt() function returns the square root of the number that we passed as an argument to the math.sqrt() function.\n",
    "    # math.sqrt() function is a built-in function that is written inside the math module file.\n",
    "# We define function using parenthesis () and we pass the argument inside the parenthesis.\n",
    "\n",
    "# Make the habit of Side by side refer the documentation and read the documentation which will make us good at programming.\n",
    "    # Because in every few days, new update are coming in the python so, it's better to always keep updated with the documentation.\n",
    "    # As mentor, they can only guide us what things actually required in our journey but going forward whenever we are in industry,\n",
    "        # if there is a requirement of new functionality, we should be able to read the documentation and implement that functionality in our program.\n",
    "        # That's why self learning is very important in programming.  \n",
    "\n",
    "math.sqrt(196)           # 14.0\n",
    "\n",
    "# If we want to know how square root (sqrt) function working internally, we can check the documentation of the math module file.\n",
    "    # how they have written the code for the sqrt function. \n",
    "\n",
    "    # Simply, we can press command + left click on the sqrt function and it will take us to the math module file where the code for the sqrt function is written.\n",
    "\n",
    "# In python everything is open source, we can see the code of any function that is written inside the python module file.\n",
    "    # We can also contribute to the python module file by writing the code for the new functionality and upload it to the pypi website. \n",
    "\n"
   ]
  },
  {
   "cell_type": "code",
   "execution_count": 6,
   "metadata": {},
   "outputs": [
    {
     "data": {
      "text/plain": [
       "120"
      ]
     },
     "execution_count": 6,
     "metadata": {},
     "output_type": "execute_result"
    }
   ],
   "source": [
    "math.factorial(5)        # 120\n",
    "\n",
    "# If we want to know how square root (sqrt) function working internally, we can check the documentation of the math module file.\n",
    "    # how they have written the code for the sqrt function. \n",
    "\n",
    "    # Simply, we can press command + left click on the sqrt function and it will take us to the math module file where the code for the sqrt function is written.\n",
    "\n"
   ]
  },
  {
   "cell_type": "markdown",
   "metadata": {},
   "source": [
    "#### 1.2 Keyword module :\n",
    "\n",
    "If we want to get the list of all the keywords in Python then we can use the keyword module in our program.\n",
    " \n",
    "Inside the keyword module, all kinds of code is already written by the other programmer that we can use in our program to get the list of all the keywords in Python. \n",
    "\n",
    "Eg. if, else, for, while, etc. are the keywords in Python. \n",
    "\n",
    "If we want to use the keyword module in our program then we need to import the keyword module in our program by using the import keyword.\n",
    "\n",
    "```python\n",
    "import keyword\n",
    "```\n"
   ]
  },
  {
   "cell_type": "code",
   "execution_count": 8,
   "metadata": {},
   "outputs": [
    {
     "name": "stdout",
     "output_type": "stream",
     "text": [
      "['False', 'None', 'True', 'and', 'as', 'assert', 'async', 'await', 'break', 'class', 'continue', 'def', 'del', 'elif', 'else', 'except', 'finally', 'for', 'from', 'global', 'if', 'import', 'in', 'is', 'lambda', 'nonlocal', 'not', 'or', 'pass', 'raise', 'return', 'try', 'while', 'with', 'yield']\n"
     ]
    }
   ],
   "source": [
    "# Print all the keywords that are available in the python programming language.\n",
    "\n",
    "import keyword    # importing keyword module  \n",
    "\n",
    "print(keyword.kwlist)   # ['False', 'None', 'True', 'and', 'as', 'assert', 'async', 'await', 'break', 'class', 'continue', 'def', 'del', 'elif', 'else', 'except', 'finally', 'for', 'from', 'global', 'if', 'import', 'in', 'is', 'lambda', 'nonlocal', 'not', 'or', 'pass', 'raise', 'return', 'try', 'while', 'with', 'yield']\n"
   ]
  },
  {
   "cell_type": "markdown",
   "metadata": {},
   "source": [
    "#### 1.3 random module :\n",
    "\n",
    "If we want to generate random numbers in our program then we can use the random module in our program. Inside the random module, all kinds of code is already written by the other programmer that we can use in our program to generate random numbers.\n",
    "\n",
    "random module we are going to use in our projects to generate random numbers, random strings, random password, random OTP, random email, etc.\n",
    "\n",
    "Eg. If we want to generate random numbers between 1 to 100 then we can use the random module in our program.\n",
    "\n",
    "If we want to use the random module in our program then we need to import the random module in our program by using the import keyword.\n",
    "\n",
    "```python\n",
    "import random\n",
    "```\n"
   ]
  },
  {
   "cell_type": "code",
   "execution_count": 10,
   "metadata": {},
   "outputs": [
    {
     "name": "stdout",
     "output_type": "stream",
     "text": [
      "95\n"
     ]
    }
   ],
   "source": [
    "# Print the random number between 1 and 100 using the random module.\n",
    "\n",
    "# Going forward we'll be using the random module many times a lot in our program. \n",
    "    # random module we are going to use in our projects to generate random numbers, random strings, random password, random OTP, random email, etc.\n",
    "\n",
    "import random    # importing random module\n",
    "\n",
    "print(random.randint(1, 100))   #  it will generate a random number between 1 and 100. "
   ]
  },
  {
   "cell_type": "markdown",
   "metadata": {},
   "source": [
    "\n",
    "#### 1.4 datetime module :\n",
    "\n",
    "If we want to work with date and time in our program then we can use the datetime module in our program. Inside the datetime module, all kinds of code is already written by the other programmer that we can use in our program to work with date and time.\n",
    "\n",
    "datatime module is the most used module in python to work with date and time in our projects and programs.\n",
    "\n",
    "Eg. If we want to get the current date and time, get the current year, get the current month, get the current day, get the current hour, get the current minute, get the current second, etc. then we can use the datetime module in our program.\n",
    "\n",
    "If we want to use the datetime module in our program then we need to import the datetime module in our program by using the import keyword.\n",
    "\n",
    "```python\n",
    "import datetime\n",
    "```\n"
   ]
  },
  {
   "cell_type": "code",
   "execution_count": 13,
   "metadata": {},
   "outputs": [
    {
     "name": "stdout",
     "output_type": "stream",
     "text": [
      "2024-12-30 14:38:48.355780\n"
     ]
    }
   ],
   "source": [
    "# Print the current date and time using the datetime module in python. \n",
    "\n",
    "import datetime   # importing datetime module\n",
    "\n",
    "# datetime.datetime.now() is the syntax to get the current date and time. \n",
    "\n",
    "print(datetime.datetime.now())   # 2024-12-30 14:37:22.761745\n",
    "\n"
   ]
  },
  {
   "cell_type": "code",
   "execution_count": 14,
   "metadata": {},
   "outputs": [
    {
     "name": "stdout",
     "output_type": "stream",
     "text": [
      "\n",
      "Please wait a moment while I gather a list of all available modules...\n",
      "\n"
     ]
    },
    {
     "name": "stderr",
     "output_type": "stream",
     "text": [
      "/opt/anaconda3/lib/python3.12/site-packages/conda/base/context.py:198: FutureWarning: Adding 'defaults' to channel list implicitly is deprecated and will be removed in 25.3. \n",
      "\n",
      "To remove this warning, please choose a default channel explicitly with conda's regular configuration system, e.g. by adding 'defaults' to the list of channels:\n",
      "\n",
      "  conda config --add channels defaults\n",
      "\n",
      "For more information see https://docs.conda.io/projects/conda/en/stable/user-guide/configuration/use-condarc.html\n",
      "\n",
      "  deprecated.topic(\n",
      "/opt/anaconda3/lib/python3.12/site-packages/conda/base/context.py:198: FutureWarning: Adding 'defaults' to channel list implicitly is deprecated and will be removed in 25.3. \n",
      "\n",
      "To remove this warning, please choose a default channel explicitly with conda's regular configuration system, e.g. by adding 'defaults' to the list of channels:\n",
      "\n",
      "  conda config --add channels defaults\n",
      "\n",
      "For more information see https://docs.conda.io/projects/conda/en/stable/user-guide/configuration/use-condarc.html\n",
      "\n",
      "  deprecated.topic(\n",
      "/opt/anaconda3/lib/python3.12/site-packages/bitsandbytes/cextension.py:34: UserWarning: The installed version of bitsandbytes was compiled without GPU support. 8-bit optimizers, 8-bit multiplication, and GPU quantization are unavailable.\n",
      "  warn(\"The installed version of bitsandbytes was compiled without GPU support. \"\n"
     ]
    },
    {
     "name": "stdout",
     "output_type": "stream",
     "text": [
      "'NoneType' object has no attribute 'cadam32bit_grad_fp32'\n"
     ]
    },
    {
     "name": "stderr",
     "output_type": "stream",
     "text": [
      "/opt/anaconda3/lib/python3.12/pkgutil.py:93: LangChainDeprecationWarning: As of langchain-core 0.3.0, LangChain uses pydantic v2 internally. The langchain_core.pydantic_v1 module was a compatibility shim for pydantic v1, and should no longer be used. Please update the code to import from Pydantic directly.\n",
      "\n",
      "For example, replace imports like: `from langchain_core.pydantic_v1 import BaseModel`\n",
      "with: `from pydantic import BaseModel`\n",
      "or the v1 compatibility namespace if you are working in a code base that has not been fully upgraded to pydantic 2 yet. \tfrom pydantic.v1 import BaseModel\n",
      "\n",
      "  yield from walk_packages(path, info.name+'.', onerror)\n",
      "/opt/anaconda3/lib/python3.12/site-packages/nltk/app/__init__.py:45: UserWarning: nltk.app.wordfreq not loaded (requires the matplotlib library).\n",
      "  warnings.warn(\"nltk.app.wordfreq not loaded (requires the matplotlib library).\")\n",
      "/opt/anaconda3/lib/python3.12/site-packages/nltk/twitter/__init__.py:20: UserWarning: The twython library has not been installed. Some functionality from the twitter package will not be available.\n",
      "  warnings.warn(\n",
      "/opt/anaconda3/lib/python3.12/pkgutil.py:78: UserWarning: The numpy.array_api submodule is still experimental. See NEP 47.\n",
      "  __import__(info.name)\n",
      "/opt/anaconda3/lib/python3.12/site-packages/torch/distributed/_shard/checkpoint/__init__.py:8: DeprecationWarning: torch.distributed._shard.checkpoint will be deprecated, use torch.distributed.checkpoint instead\n",
      "  warnings.warn(\n",
      "/opt/anaconda3/lib/python3.12/site-packages/torch/distributed/_sharded_tensor/__init__.py:8: DeprecationWarning: torch.distributed._sharded_tensor will be deprecated, use torch.distributed._shard.sharded_tensor instead\n",
      "  warnings.warn(\n",
      "/opt/anaconda3/lib/python3.12/site-packages/torch/distributed/_sharding_spec/__init__.py:8: DeprecationWarning: torch.distributed._sharding_spec will be deprecated, use torch.distributed._shard.sharding_spec instead\n",
      "  warnings.warn(\n",
      "/opt/anaconda3/lib/python3.12/site-packages/torch/jit/frontend.py:1209: DeprecationWarning: ast.Str is deprecated and will be removed in Python 3.14; use ast.Constant instead\n",
      "  elif isinstance(value, ast.Str):\n",
      "/opt/anaconda3/lib/python3.12/site-packages/torch/jit/frontend.py:1210: DeprecationWarning: Attribute s is deprecated and will be removed in Python 3.14; use value instead\n",
      "  s += value.s\n",
      "/opt/anaconda3/lib/python3.12/site-packages/torch/_jit_internal.py:360: DeprecationWarning: ast.NameConstant is deprecated and will be removed in Python 3.14; use ast.Constant instead\n",
      "  elif isinstance(annotation, (ast.Constant, ast.NameConstant)):\n",
      "[2024-12-30 14:46:19,286] torch.distributed.elastic.multiprocessing.redirects: [WARNING] NOTE: Redirects are currently not supported in Windows or MacOs.\n"
     ]
    },
    {
     "name": "stdout",
     "output_type": "stream",
     "text": [
      "IPython             attrs               jiter               repo_cli\n",
      "PIL                 audioop             joblib              reprlib\n",
      "PyPDF2              autocommand         json                requests\n",
      "PyQt5               babel               json5               requests_toolbelt\n",
      "__future__          backports           jsonpatch           resource\n",
      "__hello__           base64              jsonpointer         rfc3339_validator\n",
      "__phello__          bdb                 jsonschema          rfc3986_validator\n",
      "_abc                binascii            jsonschema_specifications rlcompleter\n",
      "_aix_support        binstar_client      jupyter             rpds\n",
      "_argon2_cffi_bindings bisect              jupyter_client      ruamel_yaml\n",
      "_ast                bitsandbytes        jupyter_console     runpy\n",
      "_asyncio            bleach              jupyter_core        safetensors\n",
      "_bisect             blinker             jupyter_events      sched\n",
      "_blake2             boltons             jupyter_lsp         scipy\n",
      "_brotli             bottleneck          jupyter_server      secrets\n",
      "_bz2                brotli              jupyter_server_terminals select\n",
      "_cffi_backend       bs4                 jupyterlab          selectors\n",
      "_codecs             builtins            jupyterlab_pygments semver\n",
      "_codecs_cn          bz2                 jupyterlab_server   send2trash\n",
      "_codecs_hk          cProfile            jupyterlab_widgets  sentence_transformers\n",
      "_codecs_iso2022     calendar            jwt                 sentencepiece\n",
      "_codecs_jp          certifi             keyring             setuptools\n",
      "_codecs_kr          cffi                keyword             shelve\n",
      "_codecs_tw          cgi                 langchain           shlex\n",
      "_collections        cgitb               langchain_community shutil\n",
      "_collections_abc    chardet             langchain_core      signal\n",
      "_compat_pickle      charset_normalizer  langchain_text_splitters sipbuild\n",
      "_compression        chunk               langchainplus_sdk   site\n",
      "_contextvars        click               langsmith           six\n",
      "_crypt              cmath               lib2to3             sklearn\n",
      "_csv                cmd                 libarchive          smtplib\n",
      "_ctypes             code                libmambapy          snappy\n",
      "_ctypes_test        codecs              lief                sndhdr\n",
      "_curses             codeop              linecache           sniffio\n",
      "_curses_panel       collections         llama_cpp           socket\n",
      "_datetime           colorsys            locale              socketserver\n",
      "_dbm                comm                logging             socks\n",
      "_decimal            compileall          loguru              sockshandler\n",
      "_distutils_hack     concurrent          lzma                soupsieve\n",
      "_elementtree        conda               mailbox             sqlalchemy\n",
      "_functools          conda_build         mailcap             sqlite3\n",
      "_hashlib            conda_content_trust markupsafe          sre_compile\n",
      "_heapq              conda_env           marshal             sre_constants\n",
      "_imp                conda_index         marshmallow         sre_parse\n",
      "_io                 conda_libmamba_solver math                ssl\n",
      "_json               conda_pack          matplotlib_inline   stack_data\n",
      "_locale             conda_package_handling menuinst            starlette\n",
      "_lsprof             conda_package_streaming mimetypes           stat\n",
      "_lzma               conda_token         mistune             statistics\n",
      "_markupbase         configparser        mmap                string\n",
      "_md5                contextlib          modulefinder        stringprep\n",
      "_multibytecodec     contextvars         more_itertools      struct\n",
      "_multiprocessing    copy                mpmath              subprocess\n",
      "_opcode             copyreg             msgpack             sunau\n",
      "_operator           crypt               multidict           sympy\n",
      "_osx_support        cryptography        multiprocessing     symtable\n",
      "_pickle             csv                 mypy_extensions     sys\n",
      "_posixshmem         ctransformers       navigator_updater   sysconfig\n",
      "_posixsubprocess    ctypes              nbclient            syslog\n",
      "_py_abc             curses              nbconvert           tabnanny\n",
      "_pydatetime         dataclasses         nbformat            tarfile\n",
      "_pydecimal          dataclasses_json    nest_asyncio        telnetlib\n",
      "_pyio               datetime            netrc               tempfile\n",
      "_pylong             dateutil            networkx            tenacity\n",
      "_queue              dbm                 nis                 terminado\n",
      "_random             debugpy             nltk                termios\n",
      "_scproxy            decimal             nntplib             test\n",
      "_sha1               decorator           notebook            test_pycosat\n",
      "_sha2               defusedxml          notebook_shim       tests\n",
      "_sha3               difflib             ntpath              textwrap\n",
      "_signal             dis                 nturl2path          this\n",
      "_sitebuiltins       diskcache           numbers             threading\n",
      "_socket             distro              numexpr             threadpoolctl\n",
      "_sqlite3            dmglib              numpy               tiktoken\n",
      "_sre                dns                 opcode              time\n",
      "_ssl                doctest             openai              timeit\n",
      "_stat               dotenv              openapi_schema_pydantic tinycss2\n",
      "_statistics         einops              operator            tkinter\n",
      "_string             email               optparse            token\n",
      "_strptime           encodings           orjson              tokenize\n",
      "_struct             ensurepip           os                  tokenizers\n",
      "_symtable           entrypoints         overrides           tomli\n",
      "_sysconfigdata__darwin_darwin enum                packaging           tomllib\n",
      "_sysconfigdata_x86_64_apple_darwin13_4_0 errno               pandas              torch\n",
      "_testbuffer         executing           pandocfilters       torchgen\n",
      "_testcapi           fastapi             parso               torchvision\n",
      "_testclinic         fastjsonschema      pathlib             tornado\n",
      "_testimportmultiple faulthandler        pdb                 tqdm\n",
      "_testinternalcapi   fcntl               pexpect             trace\n",
      "_testmultiphase     filecmp             pickle              traceback\n",
      "_testsinglephase    fileinput           pickletools         tracemalloc\n",
      "_thread             filelock            pinecone            traitlets\n",
      "_threading_local    flask               pinecone_plugin_interface transformers\n",
      "_tkinter            fnmatch             pip                 truststore\n",
      "_tokenize           fractions           pipes               tty\n",
      "_tracemalloc        frozendict          pkce                turtle\n",
      "_typing             frozenlist          pkg_resources       turtledemo\n",
      "_uuid               fsspec              pkginfo             typeguard\n",
      "_warnings           ftplib              pkgutil             types\n",
      "_weakref            functools           platform            typing\n",
      "_weakrefset         functorch           platformdirs        typing_extensions\n",
      "_xxinterpchannels   gc                  plistlib            typing_inspect\n",
      "_xxsubinterpreters  genericpath         pluggy              tzdata\n",
      "_xxtestfuzz         getopt              ply                 ujson\n",
      "_yaml               getpass             poplib              unicodedata\n",
      "_zoneinfo           gettext             posix               unittest\n",
      "abc                 glob                posixpath           urllib\n",
      "accelerate          graphlib            pprint              urllib3\n",
      "aext_assistant      greenlet            profile             uu\n",
      "aext_assistant_server grp                 prometheus_client   uuid\n",
      "aext_core           gzip                prompt_toolkit      uvicorn\n",
      "aext_core_server    h11                 pstats              venv\n",
      "aext_panels         hashlib             psutil              warnings\n",
      "aext_panels_server  heapq               pty                 wave\n",
      "aext_share_notebook hmac                ptyprocess          wcwidth\n",
      "aext_share_notebook_server html                pure_eval           weakref\n",
      "aext_shared         http                pwd                 webbrowser\n",
      "aifc                httpcore            py_compile          webencodings\n",
      "aiohttp             httpx               pyclbr              websocket\n",
      "aiosignal           httpx_sse           pycosat             werkzeug\n",
      "anaconda_anon_usage huggingface_hub     pycparser           wheel\n",
      "anaconda_catalogs   idlelib             pydantic            widgetsnbextension\n",
      "anaconda_cloud_auth idna                pydantic_core       wsgiref\n",
      "anaconda_navigator  imaplib             pydantic_settings   xdrlib\n",
      "anaconda_project    imghdr              pydoc               xml\n",
      "annotated_types     importlib           pydoc_data          xmlrpc\n",
      "antigravity         importlib_metadata  pyexpat             xxlimited\n",
      "anyio               inflect             pygments            xxlimited_35\n",
      "appdirs             inspect             pypdf               xxsubtype\n",
      "appnope             intake              pythonjsonlogger    yaml\n",
      "archspec            io                  pytz                yarl\n",
      "argon2              ipaddress           qtconsole           zipapp\n",
      "argparse            ipykernel           qtpy                zipfile\n",
      "array               ipykernel_launcher  queue               zipimport\n",
      "ast                 ipywidgets          quopri              zipp\n",
      "asttokens           isympy              random              zlib\n",
      "async_lru           itertools           re                  zmq\n",
      "asyncio             itsdangerous        readline            zoneinfo\n",
      "atexit              jedi                referencing         zstandard\n",
      "attr                jinja2              regex               \n",
      "\n",
      "Enter any module name to get more help.  Or, type \"modules spam\" to search\n",
      "for modules whose name or summary contain the string \"spam\".\n",
      "\n"
     ]
    }
   ],
   "source": [
    "## If we want to check current environment like I am using base environment  \n",
    "    ## Inside the base environment, what are the modules are installed already ,\n",
    "        ## For this we can use help method and inside the help method we can give the modules .\n",
    "# These all the modules are built-in modules that are already installed in the base environment.\n",
    "    # We can use these modules in our program without installing them.\n",
    "\n",
    "help(\"modules\")  # it will show all the modules that are installed in the base environment.\n"
   ]
  },
  {
   "cell_type": "markdown",
   "metadata": {},
   "source": [
    "#### 2. External modules / Package :\n",
    "\n",
    "External modules is the package we need to install it separately. It is not already installed in Python. We need to install it separately from other websites like pypi.org, github etc using pip command. \n",
    "\n",
    "#### In next class, we'll be learning about external modules that are not installed in the base environment and installing them using package manager called pip."
   ]
  },
  {
   "cell_type": "code",
   "execution_count": null,
   "metadata": {},
   "outputs": [],
   "source": []
  }
 ],
 "metadata": {
  "kernelspec": {
   "display_name": "base",
   "language": "python",
   "name": "python3"
  },
  "language_info": {
   "codemirror_mode": {
    "name": "ipython",
    "version": 3
   },
   "file_extension": ".py",
   "mimetype": "text/x-python",
   "name": "python",
   "nbconvert_exporter": "python",
   "pygments_lexer": "ipython3",
   "version": "3.12.4"
  }
 },
 "nbformat": 4,
 "nbformat_minor": 2
}
