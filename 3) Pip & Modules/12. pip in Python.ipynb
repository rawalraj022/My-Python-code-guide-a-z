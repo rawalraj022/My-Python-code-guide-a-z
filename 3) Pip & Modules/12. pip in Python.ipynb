{
 "cells": [
  {
   "cell_type": "markdown",
   "metadata": {},
   "source": [
    "#### 2. External modules / Package :\n",
    "\n",
    "External modules is the package we need to install it separately. It is not already installed in Python. We need to install it separately from other websites like pypi.org, github etc using pip command. \n",
    "\n",
    "In this class, we'll be learning about external modules that are not installed in the base environment and installing them using package manager called pip.\n",
    "\n",
    "- **With the help of ‘pip’ we can install any kinds of external package from the internet** .\n",
    "- Whenever we use pip package manager that particular pip will refer that particular website to download all the package in our system .\n",
    "\n",
    "- Creating the file **‘12.pip_in_python.py’** and **‘12. pip in Python.ipynb**’ in vscode .\n",
    "- So, both jupyter file and python file we will create because in both place how we can use this particular external module and if I want to install them in both places , how to do it.\n",
    "\n",
    "- **pip** is a package manager in Python that allows you to install Python packages. You can use pip to install packages from the Python Package Index and other indexes."
   ]
  },
  {
   "cell_type": "code",
   "execution_count": 4,
   "metadata": {},
   "outputs": [
    {
     "name": "stdout",
     "output_type": "stream",
     "text": [
      "Requirement already satisfied: fastapi in /opt/anaconda3/lib/python3.12/site-packages (0.115.5)\n",
      "Requirement already satisfied: starlette<0.42.0,>=0.40.0 in /opt/anaconda3/lib/python3.12/site-packages (from fastapi) (0.41.2)\n",
      "Requirement already satisfied: pydantic!=1.8,!=1.8.1,!=2.0.0,!=2.0.1,!=2.1.0,<3.0.0,>=1.7.4 in /opt/anaconda3/lib/python3.12/site-packages (from fastapi) (1.10.19)\n",
      "Requirement already satisfied: typing-extensions>=4.8.0 in /opt/anaconda3/lib/python3.12/site-packages (from fastapi) (4.11.0)\n",
      "Requirement already satisfied: anyio<5,>=3.4.0 in /opt/anaconda3/lib/python3.12/site-packages (from starlette<0.42.0,>=0.40.0->fastapi) (4.2.0)\n",
      "Requirement already satisfied: idna>=2.8 in /opt/anaconda3/lib/python3.12/site-packages (from anyio<5,>=3.4.0->starlette<0.42.0,>=0.40.0->fastapi) (3.7)\n",
      "Requirement already satisfied: sniffio>=1.1 in /opt/anaconda3/lib/python3.12/site-packages (from anyio<5,>=3.4.0->starlette<0.42.0,>=0.40.0->fastapi) (1.3.0)\n"
     ]
    }
   ],
   "source": [
    "## Creating the web application inside the python file ? \n",
    "\n",
    "# To create a web application we want to use some libraries(modules) because we know python has lots of libraries(modules)\n",
    "    # included in each and every domain , let's say we are doing data science , in data science we have \n",
    "    # so many libraries(modules) like numpy , pandas , matplotlib , seaborn , scikit-learn , tensorflow , keras , pytorch etc.\n",
    "    # We can use these libraries(modules) inside machine learning model building, deep learning model building , data analysis etc.\n",
    "\n",
    "# In the same way we have libraries(modules) for web development as well , let's say we have flask , django , bottle , fastapi etc.\n",
    "\n",
    "## Creating a web application using fastapi library(module) in python ?\n",
    "\n",
    "# fastapi is actually used to create a user interface (UI) of web application , it is a web framework for building APIs with Python 3.6+ based on standard Python type hints.\n",
    "    # It is very fast and easy to use , it is very similar to flask and django but it is more faster than flask and django.\n",
    "\n",
    "    # If we want to use this fastapi library(module) then First of all we need to import this library(module) in our environment.\n",
    "        # But We can't import fastapi library(module) directly because fastapi is not a built-in library(module) in python , \n",
    "        # fastapi is an external library(module).\n",
    "        # So we need to install this library(module) first in our environment using pip command in command prompt or terminal.\n",
    "            # all the external libraries(modules) are available on python package index (pypi.org) website.\n",
    "            # pip install fastapi     https://pypi.org/project/fastapi/\n",
    "        \n",
    "!pip install fastapi         # '!' is used to run the installation command in jupyter notebook itself , we can also run this command in command prompt or terminal.\n",
    "                                # 'pip' is a package manager tool used to install the libraries(modules) in python environment.\n",
    "                                # 'install' is a command used to install the library(module).\n",
    "                                # 'fastapi' is the library(module) name which we want to install in our environment.\n",
    "\n"
   ]
  },
  {
   "cell_type": "code",
   "execution_count": null,
   "metadata": {},
   "outputs": [],
   "source": [
    "\n",
    "# After installing the fastapi library(module) , we can import this library(module) in our python file \n",
    "    # and create a web application using fastapi library(module). \n",
    "\n",
    "# To create a web application using fastapi library(module) , we need to follow some steps :\n",
    "\n",
    "    # Step 1 : Import the fastapi library(module) in python file.\n",
    "    # Step 2 : Create an instance of FastAPI class.\n",
    "    # Step 3 : Define the routes using decorators like @app.get() , @app.post() , @app.put() , @app.delete() etc.\n",
    "    # Step 4 : Define the functions for each route which will return the response to the client request using return statement.\n",
    "    # Step 5 : Run the web application using uvicorn server in command prompt or terminal using command 'uvicorn filename:app --reload'.\n",
    "    # Step 6 : Open the browser and type the url 'http:// \n",
    "    # Step 7 : Hit the enter button , you will see the response in the browser.\n",
    "    # Step 8 : If you want to stop the server then press \"control + c\" in command prompt or terminal where the server is running. \n",
    "\n",
    "\n",
    "## Let's create a web application using fastapi library(module) in python file.\n",
    "    #  https://pypi.org/project/fastapi/\n",
    "\n",
    "# Step 1 : Import the fastapi library(module) in python file.\n",
    "\n",
    "from typing import Union               # 'Union' is a class used to define the type of the variable , it can be of any type like int , float , str etc.\n",
    "from fastapi import FastAPI\n",
    "import uvicorn\n",
    "\n",
    "# Step 2 : Create an instance of FastAPI class.\n",
    "\n",
    "app = FastAPI()\n",
    "\n",
    "# Step 3 : Define the routes using decorators like @app.get() , @app.post() , @app.put() , @app.delete() etc.\n",
    "@app.get(\"/\")\n",
    "\n",
    "# Step 4 : Define the functions for each route which will return the response to the client request using return statement.\n",
    "async def read_root():\n",
    "    return {\"Hello\": \"World\"}\n",
    "\n",
    "#  \n",
    "@app.get(\"/items/{item_id}\")\n",
    "async def read_item(item_id: int, q: Union[str, None] = None):\n",
    "    return {\"item_id\": item_id, \"q\": q}\n",
    "\n",
    "# if we want to run the web application using uvicorn server then we need to write the below code.\n",
    "\n",
    "if __name__ == \"__main__\":       # '__name__' is a special variable in python which will be equal to '__main__' if the python file is executed directly , \n",
    "    uvicorn.run(app, host=\"0.0.0.0\", port=8080)  # app_run() is a function used to run the web application , it takes 3 arguments , 1st is instance of FastAPI class , 2nd is host , 3rd is port number.\n",
    "                                                # 'host' is the ip address of the server where the web application is running .\n",
    "                                                # 'port' is the port number where the web application is running like 8080 , 5000 etc.\n",
    "\n",
    "# Step 5 : Run the web application using uvicorn server in command prompt or terminal using command \n",
    "    #  'python 12.pip_in_python.py' or 'python filename.py' or 'uvicorn filename:app --reload' or 'uvicorn filename:app --reload --port 8080' \n",
    "\n",
    "# Step 6 : Open the browser and type the url 'http://\n",
    "\n",
    "# Step 7 : Hit the enter button , you will see the response in the browser.\n",
    "\n",
    "# Step 8 : If you want to stop the server then press \"control + c\" in command prompt or terminal where the server is running.\n"
   ]
  },
  {
   "cell_type": "code",
   "execution_count": 3,
   "metadata": {},
   "outputs": [
    {
     "name": "stdout",
     "output_type": "stream",
     "text": [
      "Found existing installation: fastapi 0.115.5\n",
      "Uninstalling fastapi-0.115.5:\n",
      "  Would remove:\n",
      "    /opt/anaconda3/bin/fastapi\n",
      "    /opt/anaconda3/lib/python3.12/site-packages/fastapi-0.115.5.dist-info/*\n",
      "    /opt/anaconda3/lib/python3.12/site-packages/fastapi/*\n",
      "Proceed (Y/n)? ^C\n",
      "\u001b[31mERROR: Operation cancelled by user\u001b[0m\u001b[31m\n",
      "\u001b[0m"
     ]
    }
   ],
   "source": [
    "# If we don't need fastapi library(module) in future then we can uninstall this library(module) using pip command.\n",
    "    # pip uninstall fastapi\n",
    "\n",
    "!pip uninstall fastapi\n"
   ]
  },
  {
   "cell_type": "code",
   "execution_count": null,
   "metadata": {},
   "outputs": [],
   "source": []
  }
 ],
 "metadata": {
  "kernelspec": {
   "display_name": "base",
   "language": "python",
   "name": "python3"
  },
  "language_info": {
   "codemirror_mode": {
    "name": "ipython",
    "version": 3
   },
   "file_extension": ".py",
   "mimetype": "text/x-python",
   "name": "python",
   "nbconvert_exporter": "python",
   "pygments_lexer": "ipython3",
   "version": "3.12.4"
  }
 },
 "nbformat": 4,
 "nbformat_minor": 2
}
