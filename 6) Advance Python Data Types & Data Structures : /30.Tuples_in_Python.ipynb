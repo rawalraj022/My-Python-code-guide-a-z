{
 "cells": [
  {
   "cell_type": "markdown",
   "metadata": {},
   "source": [
    "# Tuples\n",
    "\n",
    "A tuple in Python is similar to a list. The difference between the two is that we cannot change the elements of a tuple once it is assigned whereas we can change the elements of a list.\n",
    "\n",
    "In short, a tuple is an immutable list. A tuple can not be changed in any way once it is created.\n",
    "\n",
    "Tuple store data in same way as list but it is immutable. It is created by placing all the items (elements) inside parentheses `()`, separated by commas. The parentheses are optional, but it is a good practice to use them. A tuple can have any number of items and they may be of different types (integer, float, list, string, etc.). \n",
    "\n",
    "It store data in ordered form like list. Ordered means that the items have a defined order, and that order will not change unless the tuple is modified in some way or another way. In memory, tuple store data in contiguous memory location. Contiguous memory location means that all the elements of tuple are stored in a single memory location. Single memory location will help to access the elements of tuple in faster way as compared to list. So, tuple is faster than list.\n",
    "\n",
    "Normally, when we are creating a application or a program, First of all we have to think what problem we are going to solve and then we have to think about the data type we are going to use. \n",
    "Like Example if we have to add items in application then we have to use list data type. If we have to use data which is not going to change then we have to use tuple data type. In this way we have to think about the data type we are going to use. In case if we have to change the data type then we can use type casting. \n",
    "\n",
    "**Characteristics** \n",
    "\n",
    "- Ordered    \n",
    "- Unchangeable\n",
    "- Allows duplicate\n",
    "\n",
    "#### Topic to be discussed\n",
    "\n",
    "- Creating a Tuple\n",
    "- Accessing items\n",
    "- Editing items\n",
    "- Adding items\n",
    "- Deleting items\n",
    "- Operations on Tuples\n",
    "- Tuple Functions\n"
   ]
  },
  {
   "cell_type": "markdown",
   "metadata": {},
   "source": [
    "#### Creating a Tuples : "
   ]
  },
  {
   "cell_type": "code",
   "execution_count": 1,
   "metadata": {},
   "outputs": [
    {
     "name": "stdout",
     "output_type": "stream",
     "text": [
      "()\n",
      "<class 'tuple'>\n"
     ]
    }
   ],
   "source": [
    "# When ever we are creating list we have to use [] square brackets .\n",
    "# When ever we are creating tuple we have to use () paranthesis. \n",
    "\n",
    "## Empty tuple\n",
    "\n",
    "t1 = ()\n",
    "print(t1)\n",
    "print(type(t1))\n"
   ]
  },
  {
   "cell_type": "code",
   "execution_count": 2,
   "metadata": {},
   "outputs": [
    {
     "name": "stdout",
     "output_type": "stream",
     "text": [
      "(10,)\n",
      "<class 'tuple'>\n"
     ]
    }
   ],
   "source": [
    "## Create a tuple with single item\n",
    "\n",
    "t2 = (10,)\n",
    "print(t2)\n",
    "print(type(t2)) \n"
   ]
  },
  {
   "cell_type": "code",
   "execution_count": 3,
   "metadata": {},
   "outputs": [
    {
     "name": "stdout",
     "output_type": "stream",
     "text": [
      "(1, 2, 3, 4)\n",
      "(1, 2.5, True, [1, 2, 3])\n",
      "(1, 2, 3, (4, 5))\n",
      "('h', 'e', 'l', 'l', 'o')\n"
     ]
    }
   ],
   "source": [
    "## Create a tuple with multiple items \n",
    "\n",
    "# Using homogenous \n",
    "t3 = (1,2,3,4) \n",
    "print(t3)\n",
    "\n",
    "# Using hetrogenous \n",
    "t4 = (1,2.5,True,[1,2,3])\n",
    "print(t4)\n",
    "\n",
    "# Using nested tuple \n",
    "t5 = (1,2,3,(4,5))\n",
    "print(t5)\n",
    "\n",
    "# Using type conversion \n",
    "t6 = tuple('hello')\n",
    "print(t6)\n"
   ]
  },
  {
   "cell_type": "markdown",
   "metadata": {},
   "source": [
    "#### Accessing items :\n",
    "\n",
    "Accessing items in a tuple is done by using the index operator `[]`. \n",
    "\n",
    "- Indexing \n",
    "- Slicing\n",
    "\n",
    "Syntax : `tuple_name[index]`\n",
    "\n",
    "Example : \n",
    "\n",
    "```python\n",
    "# Accessing items in a tuple\n",
    "\n",
    "tuple1 = (\"apple\", \"banana\", \"cherry\")\n",
    "\n",
    "print(tuple1[1]) # Output : banana\n",
    "```\n",
    "\n",
    "Output : `banana`\n",
    "\n"
   ]
  },
  {
   "cell_type": "code",
   "execution_count": 4,
   "metadata": {},
   "outputs": [
    {
     "name": "stdout",
     "output_type": "stream",
     "text": [
      "1\n"
     ]
    }
   ],
   "source": [
    "# Positive Indexing\n",
    "# If we want to access the number 1 from the tuple t5 ?\n",
    "\n",
    "t1 = (1,2,3,4,5)\n",
    "print(t1[0]) # 1\n"
   ]
  },
  {
   "cell_type": "code",
   "execution_count": 5,
   "metadata": {},
   "outputs": [
    {
     "name": "stdout",
     "output_type": "stream",
     "text": [
      "5\n"
     ]
    }
   ],
   "source": [
    "# Negative Indexing \n",
    "# If we want to access the number 5 from the tuple t5 ?\n",
    "\n",
    "t1 = (1,2,3,4,5)\n",
    "print(t1[-1]) # 5\n"
   ]
  },
  {
   "cell_type": "code",
   "execution_count": 6,
   "metadata": {},
   "outputs": [
    {
     "name": "stdout",
     "output_type": "stream",
     "text": [
      "(1, 2, 3)\n"
     ]
    }
   ],
   "source": [
    "# Slicing\n",
    "# If we want to access the numbers 1,2,3 from the tuple t5 ?\n",
    "\n",
    "t1 = (1,2,3,4,5)\n",
    "print(t1[0:3]) # (1,2,3)"
   ]
  },
  {
   "cell_type": "code",
   "execution_count": 9,
   "metadata": {},
   "outputs": [
    {
     "name": "stdout",
     "output_type": "stream",
     "text": [
      "(1, 3, 5)\n"
     ]
    }
   ],
   "source": [
    "# If we want to access the numbers 1,3,5 from the tuple t5 by skipping 2 elements ?\n",
    "\n",
    "t1 = (1,2,3,4,5)\n",
    "print(t1[::2]) # (1,3,5) # start:end:step \n"
   ]
  },
  {
   "cell_type": "markdown",
   "metadata": {},
   "source": [
    "#### Editing items :\n",
    "\n",
    "As we know that tuples are immutable, we can not change the elements of a tuple once it is assigned. But we can delete the entire tuple.\n",
    "\n",
    "Syntax : `tuple_name[index] = value`\n",
    "\n",
    "Example : \n",
    "\n",
    "```python\n",
    "# Editing items in a tuple\n",
    "\n",
    "tuple1 = (\"apple\", \"banana\", \"cherry\")\n",
    "\n",
    "tuple1[1] = \"orange\" # Error\n",
    "```\n",
    "\n",
    "Output : `TypeError: 'tuple' object does not support item assignment`\n",
    "\n",
    "#### Deleting items :\n",
    "\n",
    "Deleting items in a tuple is not possible. But we can delete the entire tuple.\n",
    "We can delete the entire tuple using the `del` keyword.\n",
    "\n",
    "Syntax : `del tuple_name`\n",
    "\n",
    "Example : \n",
    "\n",
    "```python\n",
    "# Deleting items in a tuple\n",
    "\n",
    "tuple1 = (\"apple\", \"banana\", \"cherry\")\n",
    "\n",
    "del tuple1\n",
    "\n",
    "print(tuple1) # Error\n",
    "```\n",
    "\n",
    "Output : `NameError: name 'tuple1' is not defined`\n",
    "\n",
    "#### Adding items :\n",
    "\n",
    "We can not add items to a tuple. Tuples are unchangeable. But we can add two or more tuples. \n",
    "\n",
    "But we can do adding items in python language using type casting and concatenation. Type casting is converting one data type to another data type. Type casting convert the tuple into a list, add items in the list and then convert the list into a tuple again. \n",
    "\n",
    "Syntax : `tuple1 + tuple2`\n",
    "\n",
    "Example : \n",
    "\n",
    "```python\n",
    "\n",
    "# Adding items in a tuple\n",
    "\n",
    "tuple1 = (\"apple\", \"banana\", \"cherry\")\n",
    "tuple2 = (\"orange\", \"mango\", \"grapes\")\n",
    "\n",
    "tuple3 = tuple1 + tuple2\n",
    "\n",
    "print(tuple3) # Output : ('apple', 'banana', 'cherry', 'orange', 'mango', 'grapes')\n",
    "```\n",
    "\n",
    "Output : `('apple', 'banana', 'cherry', 'orange', 'mango', 'grapes')`\n",
    "\n",
    "\n",
    "#### Type casting : \n",
    "\n",
    "Type casting is converting one data type to another data type. \n",
    "\n",
    "Tuple cann't be changed but we can convert it into a list, add items in the list and then convert the list into a tuple again. \n",
    "\n",
    "Normally, when we are creating a application or a program, First of all we have to think what problem we are going to solve and then we have to think about the data type we are going to use. \n",
    "Like Example if we have to add items in application then we have to use list data type. If we have to use data which is not going to change then we have to use tuple data type. In this way we have to think about the data type we are going to use. In case if we have to change the data type then we can use type casting. \n",
    "\n",
    "Syntax : `list(tuple_name)`\n",
    "            `tuple(list_name)`\n",
    "\n",
    "Example :\n",
    "\n",
    "```python   \n",
    "\n",
    "## Q) Type casting in tuple  [ Converting tuple into a list, adding items in the list and then converting the list into a tuple again ]\n",
    "\n",
    "tuple1 = (\"apple\", \"banana\", \"cherry\") # Tuple\n",
    "\n",
    "# Converting tuple into a list\n",
    "list1 = list(tuple1) # List\n",
    "\n",
    "# Adding items in the list \n",
    "list1.append(\"orange\") # List\n",
    "\n",
    "# Converting list into a tuple\n",
    "tuple1 = tuple(list1) # Tuple\n",
    "\n",
    "print(tuple1) # Output : ('apple', 'banana', 'cherry', 'orange')\n",
    "```\n",
    "\n",
    "Output : `('apple', 'banana', 'cherry', 'orange')`\n",
    "\n",
    "\n"
   ]
  },
  {
   "cell_type": "code",
   "execution_count": null,
   "metadata": {},
   "outputs": [],
   "source": []
  },
  {
   "cell_type": "markdown",
   "metadata": {},
   "source": []
  }
 ],
 "metadata": {
  "kernelspec": {
   "display_name": "base",
   "language": "python",
   "name": "python3"
  },
  "language_info": {
   "codemirror_mode": {
    "name": "ipython",
    "version": 3
   },
   "file_extension": ".py",
   "mimetype": "text/x-python",
   "name": "python",
   "nbconvert_exporter": "python",
   "pygments_lexer": "ipython3",
   "version": "3.12.4"
  }
 },
 "nbformat": 4,
 "nbformat_minor": 2
}
