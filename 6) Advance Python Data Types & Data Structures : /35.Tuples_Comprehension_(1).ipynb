{
 "cells": [
  {
   "cell_type": "markdown",
   "metadata": {},
   "source": [
    "# Tuple Comprehension : \n",
    "\n",
    "You might have read about list comprehension in Python. However,**there is no tuple comprehension in Python** . But We will discuss how we can emulate tuple comprehension in Python.\n",
    "\n",
    "Emulating tuple comprehension is not as straightforward as list comprehension. We can use the `tuple()` constructor to convert a generator expression to a tuple.\n",
    "\n",
    "Let's see how we can emulate tuple comprehension in Python.\n",
    "\n",
    "Suppose we want to create a tuple of squares of numbers from 1 to 5. We can do this using tuple comprehension as follows:\n",
    "\n",
    "```python\n",
    "squares = tuple(i**2 for i in range(1, 6)) \n",
    "print(squares)\n",
    "```\n",
    "\n",
    "Output:\n",
    "```\n",
    "(1, 4, 9, 16, 25)\n",
    "```\n",
    "\n",
    "In the above code, we have used a generator expression to generate the squares of numbers from 1 to 5. We have then converted the generator expression to a tuple using the `tuple()` constructor.\n"
   ]
  },
  {
   "cell_type": "code",
   "execution_count": 1,
   "metadata": {},
   "outputs": [
    {
     "name": "stdout",
     "output_type": "stream",
     "text": [
      "[1, 2, 3, 4, 5, 6, 7, 8, 9, 10]\n"
     ]
    }
   ],
   "source": [
    "# Add 1 to 10 numbers to a list\n",
    "\n",
    "L = []\n",
    "\n",
    "for i in range(1,11):\n",
    "    L.append(i)\n",
    "\n",
    "print(L)"
   ]
  },
  {
   "cell_type": "code",
   "execution_count": 2,
   "metadata": {},
   "outputs": [
    {
     "name": "stdout",
     "output_type": "stream",
     "text": [
      "[-6, -9, -12]\n"
     ]
    }
   ],
   "source": [
    "# scalar multiplication on a vector\n",
    "\n",
    "v = [2,3,4]\n",
    "s = -3\n",
    "\n",
    "L = []\n",
    "\n",
    "for i in v:\n",
    "    result = i * s\n",
    "    L.append(result)\n",
    "\n",
    "print(L)\n"
   ]
  },
  {
   "cell_type": "code",
   "execution_count": 3,
   "metadata": {},
   "outputs": [
    {
     "name": "stdout",
     "output_type": "stream",
     "text": [
      "(1, 4, 9, 16)\n"
     ]
    }
   ],
   "source": [
    "# Add squares\n",
    "\n",
    "T = (1,2,3,4)\n",
    "\n",
    "TC = tuple((i**2 for i in T))\n",
    "\n",
    "print(TC)"
   ]
  },
  {
   "cell_type": "code",
   "execution_count": 4,
   "metadata": {},
   "outputs": [
    {
     "name": "stdout",
     "output_type": "stream",
     "text": [
      "5\n",
      "10\n",
      "15\n",
      "20\n",
      "25\n",
      "30\n",
      "35\n",
      "40\n",
      "45\n",
      "50\n"
     ]
    }
   ],
   "source": [
    "# Print all numbers divisible by 5 in the range of 1 to 50\n",
    "\n",
    "for i in range(1,51):\n",
    "    if i%5==0:\n",
    "        print(i)"
   ]
  },
  {
   "cell_type": "code",
   "execution_count": 5,
   "metadata": {},
   "outputs": [
    {
     "name": "stdout",
     "output_type": "stream",
     "text": [
      "('python', 'php')\n"
     ]
    }
   ],
   "source": [
    "# find languages which start with letter p\n",
    "languages = ['java','python','php','c','javascript']\n",
    "\n",
    "TC = tuple((language for language in languages if language.startswith(\"p\")))\n",
    "print(TC)"
   ]
  },
  {
   "cell_type": "markdown",
   "metadata": {},
   "source": []
  }
 ],
 "metadata": {
  "kernelspec": {
   "display_name": "base",
   "language": "python",
   "name": "python3"
  },
  "language_info": {
   "codemirror_mode": {
    "name": "ipython",
    "version": 3
   },
   "file_extension": ".py",
   "mimetype": "text/x-python",
   "name": "python",
   "nbconvert_exporter": "python",
   "pygments_lexer": "ipython3",
   "version": "3.12.4"
  }
 },
 "nbformat": 4,
 "nbformat_minor": 2
}
