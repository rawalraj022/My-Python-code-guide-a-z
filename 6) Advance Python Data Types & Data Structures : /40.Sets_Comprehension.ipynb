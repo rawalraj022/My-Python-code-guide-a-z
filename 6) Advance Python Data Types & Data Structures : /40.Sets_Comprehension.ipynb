{
 "cells": [
  {
   "cell_type": "markdown",
   "metadata": {},
   "source": [
    "# Sets Comprehension in Python : \n",
    "\n",
    "Sets Comprehension is a more efficient and concise way to create sets in Python. It is similar to list comprehension but with curly braces instead of square brackets.\n",
    "\n",
    "Simply Comprehension is a single line of code that combines a for loop and the creation of new elements. It is more clean and readable than the traditional way of creating sets.\n",
    "\n",
    "## Syntax :\n",
    "\n",
    "```python\n",
    "{expression for item in iterable}\n",
    "```\n",
    "\n",
    "## Example :\n",
    "\n",
    "```python\n",
    "\n",
    "# Traditional way of creating sets\n",
    "s = set()\n",
    "for i in range(1, 6):\n",
    "    s.add(i)\n",
    "print(s)\n",
    "\n",
    "# Using Sets Comprehension\n",
    "s = {i for i in range(1, 6)}\n",
    "print(s)\n",
    "\n",
    "```\n",
    "\n",
    "## Output :\n",
    "\n",
    "```\n",
    "{1, 2, 3, 4, 5}\n",
    "{1, 2, 3, 4, 5}\n",
    "```\n",
    "\n",
    "## Advantages of Sets Comprehension :\n",
    "\n",
    "1. **Readability** : It is more clean and readable than the traditional way of creating sets.\n",
    "2. **Efficiency** : It is more efficient than the traditional way of creating sets.\n",
    "3. **Conciseness** : It is a single line of code that combines a for loop and the creation of new elements.\n"
   ]
  },
  {
   "cell_type": "code",
   "execution_count": 1,
   "metadata": {},
   "outputs": [
    {
     "name": "stdout",
     "output_type": "stream",
     "text": [
      "{1, 2, 3, 4, 5, 6, 7, 8, 9, 10}\n"
     ]
    }
   ],
   "source": [
    "## Adding 1 to 10 numbers in a list using for loop and while loop \n",
    "\n",
    "SC = {i for i in range(1,11)}  # Set Comprehension \n",
    "print(SC)  # {1, 2, 3, 4, 5, 6, 7, 8, 9, 10}"
   ]
  },
  {
   "cell_type": "code",
   "execution_count": 2,
   "metadata": {},
   "outputs": [
    {
     "data": {
      "text/plain": [
       "{36, 49, 64, 81, 100}"
      ]
     },
     "execution_count": 2,
     "metadata": {},
     "output_type": "execute_result"
    }
   ],
   "source": [
    "## Doing some operation on the set comprehension \n",
    "\n",
    "{i**2 for i in range(1,11) if i>5} # {36, 64, 100, 49, 81}"
   ]
  },
  {
   "cell_type": "code",
   "execution_count": null,
   "metadata": {},
   "outputs": [],
   "source": []
  }
 ],
 "metadata": {
  "kernelspec": {
   "display_name": "base",
   "language": "python",
   "name": "python3"
  },
  "language_info": {
   "codemirror_mode": {
    "name": "ipython",
    "version": 3
   },
   "file_extension": ".py",
   "mimetype": "text/x-python",
   "name": "python",
   "nbconvert_exporter": "python",
   "pygments_lexer": "ipython3",
   "version": "3.12.4"
  }
 },
 "nbformat": 4,
 "nbformat_minor": 2
}
