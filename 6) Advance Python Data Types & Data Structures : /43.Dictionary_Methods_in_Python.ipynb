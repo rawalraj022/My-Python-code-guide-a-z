{
 "cells": [
  {
   "cell_type": "markdown",
   "metadata": {},
   "source": [
    "# Dictionary Methods/Functions in Python :\n",
    "\n",
    "Method is a function that is associated with an object. In Python, a method is a function that is available for a given object because of the object's type. Python has a set of built-in methods that you can use on dictionaries.\n",
    "\n",
    "Some of the inbuilt methods/functions in Python that can be used with dictionaries are as follows:\n",
    "\n",
    "#### Commonly used methods/functions in Python which can be used in all data structures are: \n"
   ]
  },
  {
   "cell_type": "code",
   "execution_count": 3,
   "metadata": {},
   "outputs": [
    {
     "name": "stdout",
     "output_type": "stream",
     "text": [
      "3\n",
      "['age', 'gender', 'name']\n",
      "name\n",
      "age\n"
     ]
    }
   ],
   "source": [
    "## common functions\n",
    "\n",
    "d = {\"name\": \"Bappy\", \"age\":22, \"gender\": \"male\"}  # name is key and Bappy is value \n",
    "\n",
    "print(len(d))   # length of the dictionary\n",
    "print(sorted(d,reverse=False))  # sort the dictionary\n",
    "print(max(d))    # maximum value of the dictionary\n",
    "print(min(d))   # minimum value of the dictionary\n"
   ]
  },
  {
   "cell_type": "markdown",
   "metadata": {},
   "source": [
    "#### items / keys / values : \n",
    "\n",
    "**items() :** \n",
    "Returns a list containing a tuple for each key value pair and it will give a list of tuples.\n",
    "\n",
    "syntax : dict.items() \n",
    "\n",
    "Example : \n",
    "```python\n",
    "thisdict = {\n",
    "  \"brand\": \"Ford\",\n",
    "  \"model\": \"Mustang\",\n",
    "  \"year\": 1964\n",
    "}\n",
    "print(thisdict.items())  # thisdict.items() will return a list of tuples\n",
    "```\n",
    "```output\n",
    "dict_items([('brand', 'Ford'), ('model', 'Mustang'), ('year', 1964)]) \n",
    "```\n",
    "\n",
    "**keys() :**\n",
    "Returns a list containing the dictionary's keys.\n",
    "\n",
    "syntax : dict.keys()\n",
    "\n",
    "Example : \n",
    "```python\n",
    "thisdict = {\n",
    "  \"brand\": \"Ford\",\n",
    "  \"model\": \"Mustang\",\n",
    "  \"year\": 1964\n",
    "}\n",
    "print(thisdict.keys())  # thisdict.keys() will return a list of keys\n",
    "```\n",
    "```output\n",
    "dict_keys(['brand', 'model', 'year'])\n",
    "```\n",
    "\n",
    "**values() :**\n",
    "Returns a list of all the values in the dictionary.\n",
    "\n",
    "syntax : dict.values()\n",
    "\n",
    "Example : \n",
    "```python\n",
    "thisdict = {\n",
    "  \"brand\": \"Ford\",\n",
    "  \"model\": \"Mustang\",\n",
    "  \"year\": 1964\n",
    "}\n",
    "\n",
    "print(thisdict.values())  # thisdict.values() will return a list of values\n",
    "```\n",
    "```output\n",
    "dict_values(['Ford', 'Mustang', 1964])\n",
    "```\n",
    "\n"
   ]
  },
  {
   "cell_type": "code",
   "execution_count": 4,
   "metadata": {},
   "outputs": [
    {
     "name": "stdout",
     "output_type": "stream",
     "text": [
      "{1: 2, 3: 4, 4: 7, 6: 8}\n"
     ]
    }
   ],
   "source": [
    "## update\n",
    "\n",
    "d1 = {1:2,3:4,4:5}\n",
    "d2 = {4:7,6:8}\n",
    "\n",
    "d1.update(d2) # update d1 with d2 and if there is any common key then it will update the value of d1 with d2\n",
    "print(d1)"
   ]
  },
  {
   "cell_type": "markdown",
   "metadata": {},
   "source": []
  }
 ],
 "metadata": {
  "kernelspec": {
   "display_name": "base",
   "language": "python",
   "name": "python3"
  },
  "language_info": {
   "codemirror_mode": {
    "name": "ipython",
    "version": 3
   },
   "file_extension": ".py",
   "mimetype": "text/x-python",
   "name": "python",
   "nbconvert_exporter": "python",
   "pygments_lexer": "ipython3",
   "version": "3.12.4"
  }
 },
 "nbformat": 4,
 "nbformat_minor": 2
}
