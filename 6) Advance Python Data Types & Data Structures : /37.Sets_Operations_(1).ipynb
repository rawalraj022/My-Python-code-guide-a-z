{
 "cells": [
  {
   "cell_type": "markdown",
   "metadata": {},
   "source": [
    "# Sets Operations in Python :\n",
    "\n",
    "A set is an unordered collection of items. Every element is unique (no duplicates) and must be immutable (which cannot be changed).\n",
    "\n",
    "However, the set itself is mutable. We can add or remove items from it.\n",
    "\n",
    "Sets can be used to perform mathematical set operations like union, intersection, symmetric difference, etc. \n",
    "\n",
    "Sets have the following properties:\n",
    "\n",
    "1. Sets are unordered.\n",
    "2. Set elements are unique. Duplicate elements are not allowed.\n",
    "3. A set itself may be modified, but the elements contained in the set must be of an immutable type.\n",
    "\n",
    "**Some of the most common operations that can be performed on sets are as follows:**\n",
    "\n",
    "1. Union(|)\n",
    "2. Intersection (&)\n",
    "3. Difference (-)\n",
    "4. Symmetric Difference (^)\n",
    "5. Membership\n",
    "6. Iteration \n"
   ]
  },
  {
   "cell_type": "markdown",
   "metadata": {},
   "source": [
    "#### 1. Union(|)\n",
    "\n",
    "The union of two sets A and B is the set of elements which are in A, in B, or in both A and B. The union is performed using the | operator.\n",
    "\n",
    "Syntax: \n",
    "```python\n",
    "A | B\n",
    "```\n",
    "\n",
    "Example:\n",
    "```python\n",
    "A = {1, 2, 3, 4, 5} \n",
    "B = {4, 5, 6, 7, 8}\n",
    "print(A | B)  # Output: {1, 2, 3, 4, 5, 6, 7, 8} Because 4 and 5 are common in both sets A and B. So, they are not repeated in the output.\n",
    "```\n",
    "\n",
    "Output:\n",
    "```\n",
    "{1, 2, 3, 4, 5, 6, 7, 8}\n",
    "```\n"
   ]
  },
  {
   "cell_type": "code",
   "execution_count": 1,
   "metadata": {},
   "outputs": [
    {
     "data": {
      "text/plain": [
       "{1, 2, 3, 4, 5, 6, 7, 8}"
      ]
     },
     "execution_count": 1,
     "metadata": {},
     "output_type": "execute_result"
    }
   ],
   "source": [
    "# Exercise \n",
    "\n",
    "s1 = {1,2,3,4,5}\n",
    "s2 = {4,5,6,7,8}\n",
    "\n",
    "# 1. Find the union of s1 and s2\n",
    "\n",
    "s1 | s2  # {1, 2, 3, 4, 5, 6, 7, 8}"
   ]
  },
  {
   "cell_type": "markdown",
   "metadata": {},
   "source": [
    "#### 2. Intersection(&)\n",
    "\n",
    "The intersection of two sets A and B is the set of elements which are common in both A and B. The intersection is performed using the & operator.\n",
    "\n",
    "Syntax: \n",
    "```python\n",
    "A & B\n",
    "```\n",
    "\n",
    "Example:\n",
    "```python\n",
    "A = {1, 2, 3, 4, 5}\n",
    "B = {4, 5, 6, 7, 8}\n",
    "print(A & B)  # Output: {4, 5}\n",
    "```\n",
    "\n",
    "Output:\n",
    "```\n",
    "{4, 5}\n",
    "```\n"
   ]
  },
  {
   "cell_type": "code",
   "execution_count": 2,
   "metadata": {},
   "outputs": [
    {
     "data": {
      "text/plain": [
       "{4, 5}"
      ]
     },
     "execution_count": 2,
     "metadata": {},
     "output_type": "execute_result"
    }
   ],
   "source": [
    "# Exercise 2\n",
    "# Find the intersection of s1 and s2\n",
    "\n",
    "s1 = {1,2,3,4,5}\n",
    "s2 = {4,5,6,7,8}\n",
    "\n",
    "s1 & s2  # {4, 5}"
   ]
  },
  {
   "cell_type": "markdown",
   "metadata": {},
   "source": [
    "#### 3. Difference(-)\n",
    "\n",
    "The difference of two sets A and B (A - B) is the set of elements that are only in A but not in B. The difference is performed using the - operator.\n",
    "\n",
    "Syntax: \n",
    "```python\n",
    "A - B\n",
    "```\n",
    "\n",
    "Example:\n",
    "```python\n",
    "A = {1, 2, 3, 4, 5}\n",
    "B = {4, 5, 6, 7, 8}\n",
    "print(A - B)  # Output: {1, 2, 3}\n",
    "```\n",
    "\n",
    "Output:\n",
    "```\n",
    "{1, 2, 3}\n",
    "```\n"
   ]
  },
  {
   "cell_type": "code",
   "execution_count": 3,
   "metadata": {},
   "outputs": [
    {
     "data": {
      "text/plain": [
       "{6, 7, 8}"
      ]
     },
     "execution_count": 3,
     "metadata": {},
     "output_type": "execute_result"
    }
   ],
   "source": [
    "# Exercise 3\n",
    "# Find the difference between s1 and s2\n",
    "\n",
    "s1 = {1,2,3,4,5}\n",
    "s2 = {4,5,6,7,8}\n",
    "\n",
    "s1 - s2  # {1, 2, 3}\n",
    "s2 - s1  # {8, 6, 7}"
   ]
  },
  {
   "cell_type": "markdown",
   "metadata": {},
   "source": [
    "#### 4. Symmetric Difference(^)\n",
    "\n",
    "The symmetric difference of two sets A and B is the set of elements which are in either of the sets A or B, but not in both. The symmetric difference is performed using the ^ operator. ^ named as caret.\n",
    "\n",
    "Syntax: \n",
    "```python\n",
    "A ^ B\n",
    "```\n",
    "\n",
    "Example:\n",
    "```python\n",
    "A = {1, 2, 3, 4, 5}\n",
    "B = {4, 5, 6, 7, 8}\n",
    "print(A ^ B)  # Output: {1, 2, 3, 6, 7, 8}\n",
    "```\n",
    "\n",
    "Output:\n",
    "```\n",
    "{1, 2, 3, 6, 7, 8}\n",
    "```\n",
    "\n"
   ]
  },
  {
   "cell_type": "code",
   "execution_count": 4,
   "metadata": {},
   "outputs": [
    {
     "data": {
      "text/plain": [
       "{1, 2, 3, 6, 7, 8}"
      ]
     },
     "execution_count": 4,
     "metadata": {},
     "output_type": "execute_result"
    }
   ],
   "source": [
    "# Exercise 4\n",
    "# Find the symmetric difference between s1 and s2\n",
    "\n",
    "s1 = {1,2,3,4,5}\n",
    "s2 = {4,5,6,7,8}\n",
    "\n",
    "s1 ^ s2  # {1, 2, 3, 6, 7, 8}"
   ]
  },
  {
   "cell_type": "markdown",
   "metadata": {},
   "source": [
    "#### 5. Membership\n",
    "\n",
    "We can test if an element is in a set or not using the `in` keyword and `not in` keyword.\n",
    "\n",
    "Example:\n",
    "```python\n",
    "A = {1, 2, 3, 4, 5}\n",
    "print(3 in A)  # Output: True\n",
    "print(6 in A)  # Output: False\n",
    "```\n",
    "\n",
    "Output:\n",
    "```\n",
    "True\n",
    "False\n",
    "```\n",
    "\n"
   ]
  },
  {
   "cell_type": "markdown",
   "metadata": {},
   "source": [
    "#### 6. Iteration operation\n",
    "\n",
    "We can iterate over each element in a set using a for loop.\n",
    "\n",
    "Example:\n",
    "```python\n",
    "A = {1, 2, 3, 4, 5}\n",
    "for i in A:\n",
    "    print(i)\n",
    "```\n",
    "\n",
    "Output:\n",
    "```\n",
    "1\n",
    "2\n",
    "3\n",
    "4\n",
    "5\n",
    "```\n",
    "\n"
   ]
  },
  {
   "cell_type": "code",
   "execution_count": null,
   "metadata": {},
   "outputs": [],
   "source": []
  }
 ],
 "metadata": {
  "kernelspec": {
   "display_name": "base",
   "language": "python",
   "name": "python3"
  },
  "language_info": {
   "codemirror_mode": {
    "name": "ipython",
    "version": 3
   },
   "file_extension": ".py",
   "mimetype": "text/x-python",
   "name": "python",
   "nbconvert_exporter": "python",
   "pygments_lexer": "ipython3",
   "version": "3.12.4"
  }
 },
 "nbformat": 4,
 "nbformat_minor": 2
}
