{
 "cells": [
  {
   "cell_type": "markdown",
   "metadata": {},
   "source": [
    "# Tuples Methods / Functions in Python : \n",
    "\n",
    "We are going to discuss some of inbuilt methods/functions of tuples in python. \n",
    "\n",
    "Methods / Functions are defined as the special kind of functions which are defined inside the class and they are used to perform operations on the objects of the class. \n",
    "\n",
    "\n",
    "# Some of the common methods/functions inside tuples which can be used in other data structures as well like list, set etc. and they are as follows:\n",
    "\n",
    "#### len/min/max/sum/sorted :\n"
   ]
  },
  {
   "cell_type": "code",
   "execution_count": 1,
   "metadata": {},
   "outputs": [
    {
     "name": "stdout",
     "output_type": "stream",
     "text": [
      "4\n",
      "1\n",
      "40\n",
      "46\n",
      "[40, 3, 2, 1]\n"
     ]
    }
   ],
   "source": [
    "# This program demonstrates the use of tuple functions in python\n",
    "\n",
    "t = (1,2,3,40)\n",
    "\n",
    "print(len(t))\n",
    "print(min(t))\n",
    "print(max(t))\n",
    "print(sum(t))\n",
    "print(sorted(t,reverse=True))\n"
   ]
  },
  {
   "cell_type": "markdown",
   "metadata": {},
   "source": [
    "# Apart from these common methods, we have some specific methods/functions which are only available in tuples and they are only two : \n",
    "\n",
    "#### count() : \n",
    "\n",
    "Count() method is used to count the number of times a particular element is present in the tuple.\n",
    "\n",
    "Syntax : tuple_name.count(element)\n",
    "\n",
    "```python\n",
    "Example :\n",
    "\n",
    "t = (1,2,3,4,5,1,2,3,4,5)\n",
    "\n",
    "t.count(1) # Output : 2\n",
    "\n",
    "t.count(2) # Output : 2\n",
    "```\n"
   ]
  },
  {
   "cell_type": "code",
   "execution_count": 2,
   "metadata": {},
   "outputs": [
    {
     "name": "stdout",
     "output_type": "stream",
     "text": [
      "2\n"
     ]
    }
   ],
   "source": [
    "# Exercise\n",
    "# Write a program to perform the count of a number in a tuple using count() function\n",
    "\n",
    "t = (1,2,3,4,5,6,7,8,9,1,2,3,4,5,6,7,8,9)\n",
    "\n",
    "print(t.count(1)) # 2 times "
   ]
  },
  {
   "cell_type": "markdown",
   "metadata": {},
   "source": [
    "#### index() :\n",
    "\n",
    "Index() method is used to find the index of the first occurence of the element in the tuple. \n",
    "\n",
    "Syntax : tuple_name.index(element)\n",
    "\n",
    "```python\n",
    "Example :\n",
    "\n",
    "t = (1,2,3,4,5,1,2,3,4,5)\n",
    "\n",
    "t.index(1) # Output : 0\n",
    "\n",
    "t.index(2) # Output : 1\n",
    "```\n"
   ]
  },
  {
   "cell_type": "code",
   "execution_count": 3,
   "metadata": {},
   "outputs": [
    {
     "name": "stdout",
     "output_type": "stream",
     "text": [
      "2\n"
     ]
    }
   ],
   "source": [
    "# Exercise\n",
    "# Write a program to perform the index of a number in a tuple using index() function\n",
    "\n",
    "t = (1,2,3,4,5,6,7,8,9,1,2,3,4,5,6,7,8,9)\n",
    "\n",
    "print(t.index(3)) # 2nd index"
   ]
  },
  {
   "cell_type": "markdown",
   "metadata": {},
   "source": [
    "### Type Casting :\n",
    "\n",
    "Type casting is the process of converting one data type to another data type.\n",
    "\n",
    "We can convert tuple to list, set and dictionary as well. \n",
    "\n",
    "```python\n",
    "\n",
    "t = (1,2,3,4,5)\n",
    "\n",
    "list(t) # Output : [1,2,3,4,5] # List is mutable\n",
    "\n",
    "set(t) # Output : {1,2,3,4,5} # Set is mutable and unordered\n",
    "\n",
    "dict(t) # Output : {1:2,3:4,5:6}  # Dictionary is mutable and unordered\n",
    "``` \n",
    "\n",
    "Output : \n",
    "\n",
    "[1,2,3,4,5]\n",
    "\n",
    "{1,2,3,4,5}\n",
    "\n",
    "{1:2,3:4,5:6}\n"
   ]
  }
 ],
 "metadata": {
  "kernelspec": {
   "display_name": "base",
   "language": "python",
   "name": "python3"
  },
  "language_info": {
   "codemirror_mode": {
    "name": "ipython",
    "version": 3
   },
   "file_extension": ".py",
   "mimetype": "text/x-python",
   "name": "python",
   "nbconvert_exporter": "python",
   "pygments_lexer": "ipython3",
   "version": "3.12.4"
  }
 },
 "nbformat": 4,
 "nbformat_minor": 2
}
