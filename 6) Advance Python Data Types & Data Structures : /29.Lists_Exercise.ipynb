{
 "cells": [
  {
   "cell_type": "markdown",
   "metadata": {},
   "source": [
    "#### Q.1) Update no of items available in the inventory of the car shop. "
   ]
  },
  {
   "cell_type": "code",
   "execution_count": 3,
   "metadata": {},
   "outputs": [
    {
     "name": "stdout",
     "output_type": "stream",
     "text": [
      "audi = 10\n",
      "bmw = 20\n",
      "subaru = 30\n",
      "toyota = 40\n"
     ]
    }
   ],
   "source": [
    "# Without using List Comprehension , just using for loop and zip() function to combine two lists into a single list of tuples.\n",
    "\n",
    "cars_name = ['audi', 'bmw', 'subaru', 'toyota']\n",
    "no_of_cars = [10, 20, 30, 40]\n",
    "\n",
    "for i,j in zip(cars_name, no_of_cars):  # zip() function is used to combine two lists into a single list of tuples \n",
    "                                        # where each tuple contains elements from both lists having the same index.\n",
    "                                        # i,j is used to unpack the tuple into two variables i and j . In place of i,j we can use any other variable name.\n",
    "                                        # i,j will help us to change sign between the two lists and print the output.\n",
    "    print(f\"{i} = {j}\")    # f-string is used to print the output in the format of string and integer value. \n",
    "                            # {i} = {j} will print the output in the format of string = integer value. \n"
   ]
  },
  {
   "cell_type": "code",
   "execution_count": 5,
   "metadata": {},
   "outputs": [
    {
     "name": "stdout",
     "output_type": "stream",
     "text": [
      "['audi = 10', 'bmw = 20', 'subaru = 30', 'toyota = 40']\n"
     ]
    }
   ],
   "source": [
    "# Using List Comprehension to combine two lists into a single list of tuples.\n",
    "\n",
    "cars_name = ['audi', 'bmw', 'subaru', 'toyota']\n",
    "no_of_cars = [10, 20, 30, 40]\n",
    "\n",
    "LC = [ f\"{i} = {j}\" for i,j in zip(cars_name, no_of_cars)]\n",
    "\n",
    "print(LC)  # Output : ['audi = 10', 'bmw = 20', 'subaru = 30', 'toyota = 40']"
   ]
  },
  {
   "cell_type": "markdown",
   "metadata": {},
   "source": [
    "#### Q)2. You are given a list of integers. You are asked to make a list by running through elements of the list by adding all elements greater and itself."
   ]
  },
  {
   "cell_type": "code",
   "execution_count": 6,
   "metadata": {},
   "outputs": [
    {
     "name": "stdout",
     "output_type": "stream",
     "text": [
      "[22, 20, 16, 10, 23]\n"
     ]
    }
   ],
   "source": [
    "# If next number is greater than the previous number then add the next numbers to the previous numbers and store the result in a list of integers.\n",
    "\n",
    "L = [2, 4, 6, 10, 1]  # List of integers\n",
    "\n",
    "result = []  # Empty list to store the output\n",
    "\n",
    "for i in L: # Loop through the list of integers , i is used to unpack the list of integers.\n",
    "    sum = 0  # Initialize sum to 0 for each iteration.\n",
    "    for j in L: # Loop through the list of integers , j is used to unpack the list of integers.\n",
    "        if i<=j:   # If i<=j then add the value of j to sum.\n",
    "            sum = sum + j  # If i<=j then add the value of j to sum.\n",
    "    result.append(sum)  # Append the sum value to the empty list result.\n",
    "\n",
    "print(result)  # Output : [23, 21, 17, 11, 10]\n",
    "\n",
    "\n"
   ]
  },
  {
   "cell_type": "markdown",
   "metadata": {},
   "source": [
    "#### Q)3. Find list of common unique items from two list. and show in increasing order ? \n"
   ]
  },
  {
   "cell_type": "code",
   "execution_count": 9,
   "metadata": {},
   "outputs": [
    {
     "name": "stdout",
     "output_type": "stream",
     "text": [
      "[2, 3, 4, 5, 6]\n"
     ]
    }
   ],
   "source": [
    "num1 = [1, 2, 3, 4, 5 , 6, 2]  # List of integers\n",
    "num2 = [2, 3, 6, 7, 8, 5, 4]  # List of integers\n",
    "\n",
    "common = []  # Empty list to store the common elements between the two lists.\n",
    "\n",
    "for i in num1:\n",
    "    if i in num2:\n",
    "        if i not in common:\n",
    "            common.append(i)\n",
    "\n",
    "print(common)  # Output : [2, 3, 4, 5, 6] \n"
   ]
  },
  {
   "cell_type": "code",
   "execution_count": null,
   "metadata": {},
   "outputs": [],
   "source": []
  }
 ],
 "metadata": {
  "kernelspec": {
   "display_name": "base",
   "language": "python",
   "name": "python3"
  },
  "language_info": {
   "codemirror_mode": {
    "name": "ipython",
    "version": 3
   },
   "file_extension": ".py",
   "mimetype": "text/x-python",
   "name": "python",
   "nbconvert_exporter": "python",
   "pygments_lexer": "ipython3",
   "version": "3.12.4"
  }
 },
 "nbformat": 4,
 "nbformat_minor": 2
}
