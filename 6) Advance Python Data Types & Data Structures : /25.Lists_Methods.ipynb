{
 "cells": [
  {
   "cell_type": "markdown",
   "metadata": {},
   "source": [
    "# Lists Methods/Functions in Python \n",
    "\n",
    "Lists are used to store multiple items in a single variable. Lists are one of 4 built-in data types in Python used to store collections of data, the other 3 are Tuple, Set, and Dictionary, all with different qualities and usage.\n",
    "\n",
    "Lists is Mutable, That means we can change, add, and remove items in a list after it has been created. But we can't change the items in a string, tuple, or range because they are immutable.\n",
    "\n",
    "We are going to discuss some of the methods/functions that are very used in projects and competitive programming.\n"
   ]
  },
  {
   "cell_type": "markdown",
   "metadata": {},
   "source": [
    "#### 1. append method \n",
    "\n",
    "The append() method adds an item to the end of the list.\n",
    "\n",
    "To add one item to a list use the append() method. The append() method appends an element to the end of the list.\n",
    "\n",
    "syntax: list.append(item) \n",
    "```python\n",
    "\n",
    "list = [1, 2, 3, 4, 5]\n",
    "\n",
    "list.append(6)   # Output: [1, 2, 3, 4, 5, 6]\n",
    "\n",
    "```\n"
   ]
  },
  {
   "cell_type": "markdown",
   "metadata": {},
   "source": [
    "Example : "
   ]
  },
  {
   "cell_type": "code",
   "execution_count": 7,
   "metadata": {},
   "outputs": [
    {
     "name": "stdout",
     "output_type": "stream",
     "text": [
      "[1, 2, 3, 4, 5, 6, 200]\n"
     ]
    }
   ],
   "source": [
    "# Example :\n",
    "\n",
    "# Q) How to add an element to a list in Python? \n",
    "\n",
    "L = [1, 2, 3, 4, 5]\n",
    "\n",
    "L.append(6)  # Add 6 at the end of the list L \n",
    "L.append(200)\n",
    "print(L)\n"
   ]
  },
  {
   "cell_type": "code",
   "execution_count": 8,
   "metadata": {},
   "outputs": [
    {
     "name": "stdout",
     "output_type": "stream",
     "text": [
      "[100, 2, 3, 4, 5]\n"
     ]
    }
   ],
   "source": [
    "\n",
    "# Q) How to change an element in a list in Python?\n",
    "\n",
    "L = [1, 2, 3, 4, 5]\n",
    "\n",
    "L[0] = 100  # Change the first element of the list L to 100\n",
    "\n",
    "print(L)\n"
   ]
  },
  {
   "cell_type": "code",
   "execution_count": 9,
   "metadata": {},
   "outputs": [
    {
     "name": "stdout",
     "output_type": "stream",
     "text": [
      "[1, 2, 3, 100, 5]\n"
     ]
    }
   ],
   "source": [
    "## Editing with indexing \n",
    "\n",
    "# Q) How to change an element 4 with 100 in a list in Python?\n",
    "\n",
    "L = [1, 2, 3, 4, 5]\n",
    "\n",
    "L[3] = 100  # Change the 4th element of the list L to 100\n",
    "\n",
    "print(L)\n"
   ]
  },
  {
   "cell_type": "code",
   "execution_count": 10,
   "metadata": {},
   "outputs": [
    {
     "name": "stdout",
     "output_type": "stream",
     "text": [
      "[1, 200, 300, 400, 5]\n"
     ]
    }
   ],
   "source": [
    "# Editing with slicing\n",
    "\n",
    "# Q) How to change elements 2, 3, 4 with 200, 300, 400 in a list in Python? \n",
    "\n",
    "L = [1, 2, 3, 4, 5]\n",
    "\n",
    "L[1:4] = [200,300,400]\n",
    "\n",
    "print(L) \n"
   ]
  },
  {
   "cell_type": "code",
   "execution_count": 11,
   "metadata": {},
   "outputs": [
    {
     "name": "stdout",
     "output_type": "stream",
     "text": [
      "[1, 2, 3, 4, 5, [6, 7, 8]]\n"
     ]
    }
   ],
   "source": [
    "# Q) Adding list inside a list \n",
    "\n",
    "L = [1, 2, 3, 4, 5]\n",
    "\n",
    "L.append([6,7,8])\n",
    "print(L)\n"
   ]
  },
  {
   "cell_type": "code",
   "execution_count": 14,
   "metadata": {},
   "outputs": [
    {
     "name": "stdout",
     "output_type": "stream",
     "text": [
      "[1, 2, 3, 4, 5, 'Hello']\n"
     ]
    }
   ],
   "source": [
    "# Q) Adding any kinds of data type inside a list\n",
    "\n",
    "L = [1, 2, 3, 4, 5]\n",
    "\n",
    "L.append(\"Hello\")\n",
    "print(L)\n"
   ]
  },
  {
   "cell_type": "markdown",
   "metadata": {},
   "source": [
    "#### 2. extend method :\n",
    "\n",
    "The extend() method adds all the elements of an iterable (list, tuple, string etc.) to the end of the list.\n",
    "\n",
    "If we want to add multiple items to a list end, we can use the extend() method instead of using the append() method multiple times.\n",
    "\n",
    "extend method takes each character as an element and adds it to the list.\n",
    "\n",
    "syntax: list.extend(iterable)\n",
    "\n",
    "```python\n",
    "\n",
    "list = [1, 2, 3, 4, 5]\n",
    "\n",
    "list.extend([6, 7, 8])   # Output: [1, 2, 3, 4, 5, 6, 7, 8]\n",
    "\n",
    "```\n",
    "\n"
   ]
  },
  {
   "cell_type": "markdown",
   "metadata": {},
   "source": [
    "Example :"
   ]
  },
  {
   "cell_type": "code",
   "execution_count": 15,
   "metadata": {},
   "outputs": [
    {
     "name": "stdout",
     "output_type": "stream",
     "text": [
      "[1, 2, 3, 4, 5, [6, 7, 8]]\n"
     ]
    }
   ],
   "source": [
    "# Q) Adding 6, 7, 8 multiple numbers inside a list \n",
    "\n",
    "L = [1, 2, 3, 4, 5]\n",
    "\n",
    "a = [6,7,8]\n",
    "\n",
    "L.append(a)\n",
    "\n",
    "print(L)\n"
   ]
  },
  {
   "cell_type": "code",
   "execution_count": 16,
   "metadata": {},
   "outputs": [
    {
     "name": "stdout",
     "output_type": "stream",
     "text": [
      "[1, 2, 3, 4, 5, 'H', 'e', 'l', 'l', 'o']\n"
     ]
    }
   ],
   "source": [
    "# Q) Adding \"Hello\" in the list L using extend method \n",
    "\n",
    "L = [1, 2, 3, 4, 5]\n",
    "L.extend(\"Hello\")\n",
    "\n",
    "print(L) # [1, 2, 3, 4, 5, 'H', 'e', 'l', 'l', 'o'] why? because extend method takes each character as an element\n"
   ]
  },
  {
   "cell_type": "markdown",
   "metadata": {},
   "source": [
    "#### 3. insert method :\n",
    "\n",
    "The insert() method inserts an element to the list at the specified index position.\n",
    "\n",
    "syntax: list.insert(index, element)\n",
    "\n",
    "```python\n",
    "\n",
    "list = [1, 2, 3, 4, 5]\n",
    "\n",
    "list.insert(2, 6)   # Output: [1, 2, 6, 3, 4, 5]\n",
    "\n",
    "```\n",
    "\n"
   ]
  },
  {
   "cell_type": "markdown",
   "metadata": {},
   "source": [
    "Example :"
   ]
  },
  {
   "cell_type": "code",
   "execution_count": 17,
   "metadata": {},
   "outputs": [
    {
     "name": "stdout",
     "output_type": "stream",
     "text": [
      "[1, 100, 2, 3, 4, 5]\n"
     ]
    }
   ],
   "source": [
    "# Q) Insert 100 at index 1 in the list L \n",
    "\n",
    "L = [1, 2, 3, 4, 5]\n",
    "\n",
    "L.insert(1, 100)  # Insert 100 at index 1 in the list L\n",
    "\n",
    "print(L)"
   ]
  },
  {
   "cell_type": "markdown",
   "metadata": {},
   "source": [
    "### 4. del method :\n",
    "\n",
    "The del method is used to delete an item at a specific index from a list.\n",
    "\n",
    "del method is not inbuilt function of list, it is a statement in python which is used to delete the item at a specific index from a list.  It can also be used to delete the entire list. \n",
    "\n",
    "In lists inbuilt function for deleting an item are pop() and remove() method . \n",
    "\n",
    "syntax: del list[index]\n",
    "\n",
    "```python\n",
    "\n",
    "list = [1, 2, 3, 4, 5]\n",
    "\n",
    "del list[2]   # Output: [1, 2, 4, 5]\n",
    "\n",
    "```\n"
   ]
  },
  {
   "cell_type": "markdown",
   "metadata": {},
   "source": [
    "Example :"
   ]
  },
  {
   "cell_type": "code",
   "execution_count": 18,
   "metadata": {},
   "outputs": [
    {
     "name": "stdout",
     "output_type": "stream",
     "text": [
      "[2, 3, 4, 5]\n"
     ]
    }
   ],
   "source": [
    "# Q) If I want to delete the element 1 from the list L = [1, 2, 3, 4, 5] using index \n",
    "\n",
    "L = [1, 2, 3, 4, 5]\n",
    "\n",
    "del L[0]  # Delete the first element of the list L \n",
    "\n",
    "print(L)\n"
   ]
  },
  {
   "cell_type": "code",
   "execution_count": 19,
   "metadata": {},
   "outputs": [
    {
     "name": "stdout",
     "output_type": "stream",
     "text": [
      "[1, 5]\n"
     ]
    }
   ],
   "source": [
    "# Q) If I want to delete the element 2 , 3, 4 from the list L = [1, 2, 3, 4, 5] using slicing \n",
    "\n",
    "L = [1, 2, 3, 4, 5]\n",
    "\n",
    "del L[1:4]  # Delete the 2nd, 3rd, and 4th elements of the list L\n",
    "\n",
    "print(L) # [1, 5]\n"
   ]
  },
  {
   "cell_type": "markdown",
   "metadata": {},
   "source": [
    "#### 5. remove method :\n",
    "\n",
    "The remove() method is inbuilt method of list which is used to remove the first occurrence of the element with the specified value.\n",
    "\n",
    "If the element is not present in the list, it will throw an error. \n",
    "\n",
    "syntax: list.remove(element)\n",
    "\n",
    "```python\n",
    "\n",
    "list = [1, 2, 3, 4, 5]\n",
    "\n",
    "list.remove(3)   # Output: [1, 2, 4, 5]\n",
    "\n",
    "```\n"
   ]
  },
  {
   "cell_type": "markdown",
   "metadata": {},
   "source": [
    "Example : "
   ]
  },
  {
   "cell_type": "code",
   "execution_count": 20,
   "metadata": {},
   "outputs": [
    {
     "name": "stdout",
     "output_type": "stream",
     "text": [
      "[1, 2, 4, 5]\n"
     ]
    }
   ],
   "source": [
    "# Q) If I want to delete the element 2 from the list L = [1, 2, 3, 4, 5] using remove method \n",
    "\n",
    "L = [1, 2, 3, 4, 5]\n",
    "\n",
    "L.remove(3)  # Remove the element 3 from the list L\n",
    "\n",
    "print(L) # [1, 2, 4, 5]\n"
   ]
  },
  {
   "cell_type": "markdown",
   "metadata": {},
   "source": [
    "#### 6. pop method : \n",
    "\n",
    "The pop() method will remove the last item from the list and print the remaining list. \n",
    "\n",
    "If you want to remove an item by its index, you can use the pop() method. The pop() method removes the item at the given index from the list and returns the removed item.\n",
    "\n",
    "syntax: list.pop(index)\n",
    "\n",
    "```python\n",
    "\n",
    "list = [1, 2, 3, 4, 5]\n",
    "\n",
    "list.pop()   # Output: [1, 2, 3, 4]\n",
    "\n",
    "```\n"
   ]
  },
  {
   "cell_type": "markdown",
   "metadata": {},
   "source": [
    "Example :"
   ]
  },
  {
   "cell_type": "code",
   "execution_count": 21,
   "metadata": {},
   "outputs": [
    {
     "name": "stdout",
     "output_type": "stream",
     "text": [
      "[1, 2, 3, 4]\n"
     ]
    }
   ],
   "source": [
    "# Pop will remove the last element of the list\n",
    "\n",
    "L = [1, 2, 3, 4, 5]\n",
    "\n",
    "L.pop() # Remove the last element of the list L\n",
    "\n",
    "print(L) # [1, 2, 3, 4]\n"
   ]
  },
  {
   "cell_type": "markdown",
   "metadata": {},
   "source": [
    "#### 7. clear method :\n",
    "\n",
    "The clear() method removes all items from the list.\n",
    "\n",
    "If we want to remove all the items from the list, we can use the clear() method.\n",
    "\n",
    "syntax: list.clear()\n",
    "\n",
    "```python\n",
    "\n",
    "list = [1, 2, 3, 4, 5]\n",
    "\n",
    "list.clear()   # Output: []\n",
    "\n",
    "```\n"
   ]
  },
  {
   "cell_type": "markdown",
   "metadata": {},
   "source": [
    "#### 8. Some of the common functions used in lists [ len(), min(), max(), sorted() ] :\n"
   ]
  },
  {
   "cell_type": "code",
   "execution_count": 22,
   "metadata": {},
   "outputs": [
    {
     "name": "stdout",
     "output_type": "stream",
     "text": [
      "4\n",
      "1\n",
      "4\n",
      "[1, 2, 3, 4]\n"
     ]
    }
   ],
   "source": [
    "\n",
    "L = [1,2,3,4]\n",
    "\n",
    "# len() function returns the number of items in the list.\n",
    "print(len(L)) \n",
    "\n",
    "# min() function returns the smallest item in the list.\n",
    "print(min(L))\n",
    "\n",
    "# max() function returns the largest item in the list.\n",
    "print(max(L))\n",
    "\n",
    "# sorted() function returns a new sorted list from the elements of any iterable.\n",
    "print(sorted(L,reverse=False))\n"
   ]
  },
  {
   "cell_type": "markdown",
   "metadata": {},
   "source": [
    "#### 9. count method :\n",
    "\n",
    "The count() method returns the number of times the specified element appears in the list.\n",
    "\n",
    "syntax: list.count(element)\n",
    "\n",
    "```python\n",
    "\n",
    "list = [1, 2, 3, 4, 5, 3, 3]\n",
    "\n",
    "print(list.count(3))  # Output: 3\n",
    "\n",
    "```\n",
    "\n",
    "output: 3\n"
   ]
  },
  {
   "cell_type": "markdown",
   "metadata": {},
   "source": [
    "#### 10. index() method\n",
    "\n",
    "index() method returns the index value of the first occurrence of the specified element.\n",
    "\n",
    "syntax: list.index(element)\n",
    "\n",
    "```python\n",
    "\n",
    "list = [1, 2, 3, 4, 5]\n",
    "\n",
    "print(list.index(3))  # Output: 2\n",
    "\n",
    "```\n",
    "\n",
    "output: 2"
   ]
  },
  {
   "cell_type": "markdown",
   "metadata": {},
   "source": [
    "#### 11. reverse() method :\n",
    "\n",
    "The reverse() method reverses the elements of the list.\n",
    "\n",
    "syntax: list.reverse()\n",
    "\n",
    "```python\n",
    "\n",
    "list = [1, 2, 3, 4, 5]\n",
    "\n",
    "print(list.reverse())  # Output: [5, 4, 3, 2, 1]\n",
    "\n",
    "```\n",
    "\n",
    "output: [5, 4, 3, 2, 1]\n"
   ]
  },
  {
   "cell_type": "markdown",
   "metadata": {},
   "source": [
    "#### 12. sort() method :\n",
    "\n",
    "The sort() method sorts the list ascending by default.\n",
    "\n",
    "syntax: list.sort()\n",
    "\n",
    "```python\n",
    "\n",
    "list = [5, 2, 3, 4, 1]\n",
    "\n",
    "print(list.sort())  # Output: [1, 2, 3, 4, 5]\n",
    "\n",
    "```\n",
    "\n",
    "output: [1, 2, 3, 4, 5]\n"
   ]
  },
  {
   "cell_type": "markdown",
   "metadata": {},
   "source": [
    "#### 13. copy() method : \n",
    "\n",
    "The copy() method returns a copy of the specified list.  It returns a shallow copy of the list.\n",
    "\n",
    "syntax: list.copy()\n",
    "\n",
    "```python\n",
    "\n",
    "list = [1, 2, 3, 4, 5]\n",
    "\n",
    "list1 = list.copy() # Output: [1, 2, 3, 4, 5]\n",
    "\n",
    "```\n",
    "\n",
    "output: [1, 2, 3, 4, 5]\n",
    "\n",
    "Example :\n",
    "\n",
    "Q) Using copy() method to copy the list and changing the copied list and checking the original list.\n",
    "\n",
    "```python\n",
    "\n",
    "list = [1, 2, 3, 4, 5]\n",
    "\n",
    "list1 = list.copy() # Output: [1, 2, 3, 4, 5]\n",
    "\n",
    "list1[2] = 6\n",
    "\n",
    "print(list) # Output: [1, 2, 3, 4, 5]\n",
    "\n",
    "print(list1) # Output: [1, 2, 6, 4, 5] # Copy will not affect the original list but the copied list will be affected by the changes.\n",
    "\n",
    "```\n"
   ]
  },
  {
   "cell_type": "markdown",
   "metadata": {},
   "source": []
  }
 ],
 "metadata": {
  "kernelspec": {
   "display_name": "base",
   "language": "python",
   "name": "python3"
  },
  "language_info": {
   "codemirror_mode": {
    "name": "ipython",
    "version": 3
   },
   "file_extension": ".py",
   "mimetype": "text/x-python",
   "name": "python",
   "nbconvert_exporter": "python",
   "pygments_lexer": "ipython3",
   "version": "3.12.4"
  }
 },
 "nbformat": 4,
 "nbformat_minor": 2
}
