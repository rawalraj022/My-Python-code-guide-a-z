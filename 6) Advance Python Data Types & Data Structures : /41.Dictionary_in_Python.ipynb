{
 "cells": [
  {
   "cell_type": "markdown",
   "metadata": {},
   "source": [
    "# Dictionary in Python :\n",
    "\n",
    "Dictionary in Python is a collection of keys values, used to store data values like a map, which, unlike other data types which hold only a single value as an element.\n",
    "\n",
    "Key-value is provided in the dictionary to make it more optimized. Each key-value pair in a Dictionary is separated by a colon :, whereas each key is separated by a ‘comma’. Like Example: dict = {key1:value1, key2:value2, key3:value3, …} where key1, key2, key3, and value1, value2, value3 are the key-value pairs. Keys must be unique in the dictionary, but values are not.\n",
    "\n",
    "Curly braces {} are used to define a dictionary and the key-value pair is defined by using a colon(:). \n",
    "\n",
    "In some languages it is known as map or associative arrays.\n",
    "\n",
    "dict = { 'name' : 'Rajkumar' , 'age' : 22 , 'gender' : 'male' } \n",
    "\n",
    "\n",
    "#### Characteristics of Dictionary:\n",
    "\n",
    "**Mutable :**\n",
    "Dictionary is mutable, which means they can be changed. We can add new items or change the value of existing items using an assignment operator. So, we can change the value of the existing key or add a new key-value pair to the dictionary. \n",
    "\n",
    "\n",
    "**Indexing has no meaning :**\n",
    "Dictionary items are unordered. The items in the dictionary are stored in key-value pairs. So, we can't access the items using the index. We can access the dictionary items by referring to the key name.\n",
    "Eg: dict['name'] = 'Rajkumar'  , here 'name' is the key and 'Rajkumar' is the value. \n",
    "\n",
    "\n",
    "**keys can't be duplicated :**\n",
    "Dictionary keys are unique. A dictionary can't have two items with the same key. If we try to insert a key that is already present in the dictionary, it will replace the value of the key.\n",
    "\n",
    "\n",
    "**keys can't be mutable items :**\n",
    "Dictionary keys must be immutable. This means that we can use strings, numbers, or tuples as dictionary keys but we can't use lists as keys.\n",
    "\n",
    "\n"
   ]
  },
  {
   "cell_type": "markdown",
   "metadata": {},
   "source": [
    "#### Creating a Dictionary: "
   ]
  },
  {
   "cell_type": "code",
   "execution_count": 1,
   "metadata": {},
   "outputs": [
    {
     "name": "stdout",
     "output_type": "stream",
     "text": [
      "{}\n",
      "<class 'dict'>\n"
     ]
    }
   ],
   "source": [
    "# empty dictionary\n",
    "\n",
    "d = {}  # empty dictionary with no elements at all \n",
    "print(d)\n",
    "print(type(d))"
   ]
  },
  {
   "cell_type": "code",
   "execution_count": 2,
   "metadata": {},
   "outputs": [
    {
     "name": "stdout",
     "output_type": "stream",
     "text": [
      "{1: 'apple', 2: 'banana', 3: 'cherry'}\n"
     ]
    }
   ],
   "source": [
    "## 1D dictionary\n",
    "\n",
    "# 1D dictionary is a collection of key-value pairs where each key is associated with a value but the key must be unique in the dictionary.\n",
    "\n",
    "d1 = {1: 'apple', 2: 'banana', 3: 'cherry'}  # dictionary with 3 elements and 3 keys \n",
    "print(d1)"
   ]
  },
  {
   "cell_type": "code",
   "execution_count": 11,
   "metadata": {},
   "outputs": [
    {
     "name": "stdout",
     "output_type": "stream",
     "text": [
      "{(1, 2, 3): 33, 'name': 'Rajkumar'}\n"
     ]
    }
   ],
   "source": [
    "# with mixed keys\n",
    "\n",
    "d2 = {(1,2,3):33, \"name\": \"Rajkumar\"}  # dictionary with mixed keys like tuple and string not list \n",
    "print(d2)\n"
   ]
  },
  {
   "cell_type": "code",
   "execution_count": 12,
   "metadata": {},
   "outputs": [
    {
     "name": "stdout",
     "output_type": "stream",
     "text": [
      "{'name': 'Rajkumar', 'college_name': 'ABC', 'semester': 5, 'subjects': {'DSA': 80, 'Math': 50, 'English': 70}}\n"
     ]
    }
   ],
   "source": [
    "## 2D dictionary\n",
    "\n",
    "# 2 Dimensional dictionary is having one Dictionary inside a dictionary .\n",
    "\n",
    "d3 = {\n",
    "    \"name\": \"Rajkumar\",\n",
    "    \"college_name\": \"ABC\",\n",
    "    \"semester\": 5,\n",
    "    \"subjects\": {\"DSA\":80, \"Math\":50, \"English\": 70}\n",
    "\n",
    "}\n",
    "\n",
    "print(d3)"
   ]
  },
  {
   "cell_type": "code",
   "execution_count": 13,
   "metadata": {},
   "outputs": [
    {
     "name": "stdout",
     "output_type": "stream",
     "text": [
      "{'name': 'Rajkumar', 'age': 22}\n"
     ]
    }
   ],
   "source": [
    "## using sequence and dict function\n",
    "\n",
    "# In python we can create a dictionary using sequence and dict function.\n",
    "\n",
    "d4 = dict([(\"name\", \"Rajkumar\"), (\"age\", 22)])\n",
    "print(d4)\n"
   ]
  },
  {
   "cell_type": "code",
   "execution_count": 7,
   "metadata": {},
   "outputs": [
    {
     "name": "stdout",
     "output_type": "stream",
     "text": [
      "{'name': 'Alex', 'age': 22, 'Gender': 'male'}\n"
     ]
    }
   ],
   "source": [
    "## duplicate keys\n",
    "\n",
    "# In python we can not have duplicate keys in a dictionary. If we have duplicate keys then the last key will be considered.\n",
    "\n",
    "d5 = {\"name\": \"Rajkumar\", \"name\": \"Alex\", \"age\":22, \"Gender\":\"male\"}\n",
    "print(d5)\n"
   ]
  },
  {
   "cell_type": "code",
   "execution_count": 14,
   "metadata": {},
   "outputs": [
    {
     "ename": "TypeError",
     "evalue": "unhashable type: 'list'",
     "output_type": "error",
     "traceback": [
      "\u001b[0;31m---------------------------------------------------------------------------\u001b[0m",
      "\u001b[0;31mTypeError\u001b[0m                                 Traceback (most recent call last)",
      "Cell \u001b[0;32mIn[14], line 5\u001b[0m\n\u001b[1;32m      1\u001b[0m \u001b[38;5;66;03m## mutable items as keys\u001b[39;00m\n\u001b[1;32m      2\u001b[0m \n\u001b[1;32m      3\u001b[0m \u001b[38;5;66;03m# In python we can not use mutable items as keys in a dictionary. If we use mutable items as keys then it will raise an error. Like list.\u001b[39;00m\n\u001b[0;32m----> 5\u001b[0m d6 \u001b[38;5;241m=\u001b[39m {[\u001b[38;5;241m1\u001b[39m,\u001b[38;5;241m2\u001b[39m,\u001b[38;5;241m3\u001b[39m]:\u001b[38;5;241m33\u001b[39m, \u001b[38;5;124m\"\u001b[39m\u001b[38;5;124mname\u001b[39m\u001b[38;5;124m\"\u001b[39m: \u001b[38;5;124m\"\u001b[39m\u001b[38;5;124mRajkumar\u001b[39m\u001b[38;5;124m\"\u001b[39m} \u001b[38;5;66;03m# list is mutable so it will raise an error\u001b[39;00m\n\u001b[1;32m      6\u001b[0m \u001b[38;5;28mprint\u001b[39m(d6)\n",
      "\u001b[0;31mTypeError\u001b[0m: unhashable type: 'list'"
     ]
    }
   ],
   "source": [
    "## mutable items as keys\n",
    "\n",
    "# In python we can not use mutable items as keys in a dictionary. If we use mutable items as keys then it will raise an error. Like list.\n",
    "\n",
    "d6 = {[1,2,3]:33, \"name\": \"Rajkumar\"} # list is mutable so it will raise an error\n",
    "print(d6)\n"
   ]
  },
  {
   "cell_type": "markdown",
   "metadata": {},
   "source": [
    "#### Accessing Items: \n",
    "\n",
    "Accessing the dictionary items can be done by using the key name inside square brackets.\n",
    "\n",
    "Python is always a key sensitive language. So, Write the key correctly. \n",
    "\n",
    "Syntax: dict['key']\n",
    "\n",
    "Example:\n",
    "```python\n",
    "dict = { 'name' : 'Rajkumar' , 'age' : '4' }\n",
    "\n",
    "print(dict['name'])  # Output : Rajkumar\n",
    "\n",
    "print(dict['age'])  # Output : 4\n",
    "```\n",
    "\n",
    "```Output :\n",
    "Rajkumar\n",
    "4\n",
    "```\n"
   ]
  },
  {
   "cell_type": "markdown",
   "metadata": {},
   "source": [
    "Exercises:"
   ]
  },
  {
   "cell_type": "code",
   "execution_count": 15,
   "metadata": {},
   "outputs": [
    {
     "name": "stdout",
     "output_type": "stream",
     "text": [
      "Rajkumar\n"
     ]
    }
   ],
   "source": [
    "# Q) If d1 = {\"name\": \"Rajkumar\", \" age\":22, \"Gender\":\"male\"} then if we want to access the value \"Bappy\" then which of the following code will be used? \n",
    "\n",
    "d1 = {\"name\": \"Rajkumar\", \"age\":22, \"Gender\":\"male\"}\n",
    "print(d1[\"name\"])  # \"Rajkumar\" will be printed as the value of key \"name\" in the dictionary d1.\n"
   ]
  },
  {
   "cell_type": "code",
   "execution_count": 16,
   "metadata": {},
   "outputs": [
    {
     "name": "stdout",
     "output_type": "stream",
     "text": [
      "ABC\n",
      "80\n"
     ]
    }
   ],
   "source": [
    "# Q) How to access the elements from two dimensional dictionary?\n",
    "\n",
    "d3 = {\n",
    "    \"name\": \"Rajkumar\",\n",
    "    \"college_name\": \"ABC\",\n",
    "    \"semester\": 5,\n",
    "    \"subjects\": {\"DSA\":80, \"Math\":50, \"English\": 70}\n",
    "\n",
    "}\n",
    "\n",
    "print(d3[\"college_name\"])  # ABC will be printed as the value of key \"college_name\" in the dictionary d3.\n",
    "print(d3[\"subjects\"][\"DSA\"])  # 80 will be printed as the value of key \"DSA\" in the dictionary d3.\n"
   ]
  },
  {
   "cell_type": "markdown",
   "metadata": {},
   "source": [
    "#### Adding key-value pairs to the dictionary: \n",
    "\n",
    "We can add new items to the dictionary by using a new index key and assigning a value to it.\n",
    "\n",
    "Syntax: dict['new_key'] = 'value'\n",
    "\n",
    "Example:\n",
    "```python\n",
    "dict = { 'name' : 'Rajkumar' , 'age' : '4' }\n",
    "\n",
    "dict['country'] = 'Nepal' \n",
    "\n",
    "print(dict)  # Output : {'name': 'Rajkumar', 'age': '4', 'country': 'Nepal'}\n",
    "```\n",
    "\n",
    "```Output :\n",
    "{'name': 'Rajkumar', 'age': '4', 'country': 'Nepal'}\n",
    "```\n",
    "\n",
    "\n"
   ]
  },
  {
   "cell_type": "code",
   "execution_count": 17,
   "metadata": {},
   "outputs": [
    {
     "name": "stdout",
     "output_type": "stream",
     "text": [
      "{'name': 'Bappy', 'age': 22, 'Gender': 'male', 'weight': 70}\n"
     ]
    }
   ],
   "source": [
    "## Exercise :\n",
    "# Q) Adding a new key-value pair in the dictionary d1 .  \n",
    "\n",
    "d1 = {\"name\": \"Bappy\", \"age\":22, \"Gender\":\"male\"}\n",
    "\n",
    "d1[\"weight\"] = 70 # adding a new key-value pair in the dictionary d1 \n",
    "print(d1)\n"
   ]
  },
  {
   "cell_type": "code",
   "execution_count": 18,
   "metadata": {},
   "outputs": [
    {
     "name": "stdout",
     "output_type": "stream",
     "text": [
      "{'name': 'Bappy', 'college_name': 'ABC', 'semester': 5, 'subjects': {'DSA': 80, 'Math': 50, 'English': 70, 'Science': 60}}\n"
     ]
    }
   ],
   "source": [
    "# Q) Adding a new key-value pair in the dictionary d3 inside the subjects dictionary.\n",
    "\n",
    "d3 = {\n",
    "    \"name\": \"Bappy\",\n",
    "    \"college_name\": \"ABC\",\n",
    "    \"semester\": 5,\n",
    "    \"subjects\": {\"DSA\":80, \"Math\":50, \"English\": 70}\n",
    "\n",
    "}\n",
    "\n",
    "d3[\"subjects\"][\"Science\"] =60 # adding a new key-value pair in the dictionary d3 \n",
    "print(d3)\n"
   ]
  },
  {
   "cell_type": "markdown",
   "metadata": {},
   "source": [
    "#### Editing the Key-value pairs in the dictionary:\n",
    "\n",
    "We can change the value of the existing key in the dictionary by using the assignment operator. But we can't change the key name.\n",
    "\n",
    "Syntax: dict['key'] = 'new_value'\n",
    "\n",
    "Example:\n",
    "```python\n",
    "dict = { 'name' : 'Rajkumar' , 'age' : '4' }\n",
    "\n",
    "dict['age'] = '22'\n",
    "\n",
    "print(dict)  # Output : {'name': 'Rajkumar', 'age': '22'}\n",
    "```\n",
    "\n",
    "```Output :\n",
    "{'name': 'Rajkumar', 'age': '22'}\n",
    "```\n"
   ]
  },
  {
   "cell_type": "code",
   "execution_count": 19,
   "metadata": {},
   "outputs": [
    {
     "name": "stdout",
     "output_type": "stream",
     "text": [
      "{'name': 'Rawal', 'age': 23, 'Gender': 'male'}\n"
     ]
    }
   ],
   "source": [
    "# Exercise:\n",
    "# Q) Editing the name and age and Gender in the dictionary d1 = {\"name\": \" Rajkumar\", \"age\":22, \", \"Gender\":\"male\"} ?\n",
    "\n",
    "d1 = {\"name\": \"Rajkumar\", \"age\":22, \"Gender\":\"male\"}\n",
    "\n",
    "d1[\"name\"] = \"Rawal\"  # editing the name in the dictionary d1\n",
    "d1[\"age\"] = 23  # editing the age in the dictionary d1\n",
    "d1[\"Gender\"] = \"male\"\n",
    "\n",
    "print(d1) \n"
   ]
  },
  {
   "cell_type": "markdown",
   "metadata": {},
   "source": [
    "#### Removing the key-value pairs from the dictionary:\n",
    "\n",
    "We can remove the key-value pairs from the dictionary by using the pop , popitem , del , clear methods.\n",
    "\n",
    "**pop() :** This method removes the key-value pair from the dictionary and returns the value of the key. If the key is not found, it will return the default value.\n",
    "\n",
    "Syntax: dict.pop('key')\n",
    "\n",
    "Example:\n",
    "```python\n",
    "dict = { 'name' : 'Rajkumar' , 'age' : '4' }\n",
    "\n",
    "dict.pop('age')  # pop the key 'age' will remove the key-value pair from the dictionary.\n",
    "\n",
    "print(dict)  # Output : {'name': 'Rajkumar'}\n",
    "```\n",
    "\n",
    "```Output :\n",
    "{'name': 'Rajkumar'}\n",
    "```"
   ]
  },
  {
   "cell_type": "code",
   "execution_count": 22,
   "metadata": {},
   "outputs": [
    {
     "name": "stdout",
     "output_type": "stream",
     "text": [
      "{'name': 'Rajkumar', 'age': 22}\n"
     ]
    }
   ],
   "source": [
    "## Exercise:\n",
    "\n",
    "# Q) Removing the key-value pair \"address\" from the dictionary d1 = {\"name\": \"Rajkumar\", \"age\":22, \"address\": \"Kathmandu\"} ?\n",
    "\n",
    "d1 = {\"name\": \"Rajkumar\", \"age\":22, \"address\": \"Kathmandu\"} # dictionary d1\n",
    "d2 = {\"name\": \"Alex\", \"age\": 25, \"address\": \"Bhaktapur\"} # dictionary d2\n",
    "\n",
    "d1.pop(\"address\")  # removing the key-value pair \"address\" from the dictionary d1\n",
    "\n",
    "print(d1)  # printing the dictionary d1\n"
   ]
  },
  {
   "cell_type": "markdown",
   "metadata": {},
   "source": [
    "**popitem() :** This method removes the last inserted key-value pair from the dictionary and returns the key-value pair as a tuple.\n",
    "\n",
    "Syntax: dict.popitem()\n",
    "\n",
    "Example:\n",
    "```python\n",
    "dict = { 'name' : 'Rajkumar' , 'age' : '4' }\n",
    "\n",
    "dict.popitem()  # popitem will remove the last inserted key-value pair from the dictionary.\n",
    "\n",
    "print(dict)  # Output : {'name': 'Rajkumar'}\n",
    "```\n",
    "\n",
    "```Output :\n",
    "{'name': 'Rajkumar'}\n",
    "```\n"
   ]
  },
  {
   "cell_type": "code",
   "execution_count": 23,
   "metadata": {},
   "outputs": [
    {
     "name": "stdout",
     "output_type": "stream",
     "text": [
      "{'name': 'Rajkumar', 'age': 24}\n"
     ]
    }
   ],
   "source": [
    "## Exercise:\n",
    "# Q) Removing the last key-value pair from the dictionary d1 .\n",
    "\n",
    "d1 = {\"name\": \"Rajkumar\", \"age\":24, \"Gender\":\"male\"}\n",
    "d1.popitem()\n",
    "print(d1)\n"
   ]
  },
  {
   "cell_type": "markdown",
   "metadata": {},
   "source": [
    "**del :**\n",
    "\n",
    "This method removes the key-value pair from the dictionary.\n",
    "\n",
    "Syntax: del dict['key']\n",
    "\n",
    "Example:\n",
    "```python\n",
    "dict = { 'name' : 'Rajkumar' , 'age' : '4' }\n",
    "\n",
    "del dict['age']  # del the key 'age' will remove the key-value pair from the dictionary.\n",
    "\n",
    "print(dict)  # Output : {'name': 'R\n",
    "\n",
    "```\n",
    "\n",
    "```Output :\n",
    "{'name': 'Rajkumar'}\n",
    "```\n"
   ]
  },
  {
   "cell_type": "code",
   "execution_count": null,
   "metadata": {},
   "outputs": [
    {
     "name": "stdout",
     "output_type": "stream",
     "text": [
      "{'age': 22, 'Gender': 'male'}\n"
     ]
    }
   ],
   "source": [
    "## Exercise:\n",
    "\n",
    "d1 = {\"name\": \"Bappy\", \"age\":22, \"Gender\":\"male\"}\n",
    "del d1[\"name\"]\n",
    "print(d1)\n"
   ]
  },
  {
   "cell_type": "markdown",
   "metadata": {},
   "source": [
    "**clear :**\n",
    "\n",
    "This method removes all the key-value pairs from the dictionary.\n",
    "\n",
    "Syntax: dict.clear()\n",
    "\n",
    "Example:\n",
    "```python\n",
    "dict = { 'name' : 'Rajkumar' , 'age' : '4' }\n",
    "\n",
    "dict.clear()  # clear will remove all the key-value pairs from the dictionary.\n",
    "\n",
    "print(dict)  # Output : {}\n",
    "```\n",
    "\n",
    "```Output :\n",
    "{}\n",
    "```\n"
   ]
  },
  {
   "cell_type": "markdown",
   "metadata": {},
   "source": []
  }
 ],
 "metadata": {
  "kernelspec": {
   "display_name": "base",
   "language": "python",
   "name": "python3"
  },
  "language_info": {
   "codemirror_mode": {
    "name": "ipython",
    "version": 3
   },
   "file_extension": ".py",
   "mimetype": "text/x-python",
   "name": "python",
   "nbconvert_exporter": "python",
   "pygments_lexer": "ipython3",
   "version": "3.12.4"
  }
 },
 "nbformat": 4,
 "nbformat_minor": 2
}
