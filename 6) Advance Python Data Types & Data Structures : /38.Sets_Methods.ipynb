{
 "cells": [
  {
   "cell_type": "markdown",
   "metadata": {},
   "source": [
    "# Sets Methods in Python :\n",
    "\n",
    "Methods/functions are built-in objects in Python. They are used to perform operations on objects. Sets are unordered collections of unique elements. Sets are mutable, and the elements of the set can be changed once the set is created.\n",
    "\n",
    "Sets have also some built-in methods to modify the sets. Some of the methods are discussed below:\n",
    "\n",
    "## Some of the common Methods/functions which can be used in anywhere in the code like list, sets, tuples, ... are: \n",
    "\n",
    "#### len/sum/min/max/sorted : "
   ]
  },
  {
   "cell_type": "code",
   "execution_count": 1,
   "metadata": {},
   "outputs": [
    {
     "name": "stdout",
     "output_type": "stream",
     "text": [
      "6\n",
      "22\n",
      "1\n",
      "7\n",
      "[1, 2, 3, 4, 5, 7]\n"
     ]
    }
   ],
   "source": [
    "s = {3,1,4,5,2,7}\n",
    "\n",
    "print(len(s))  # 6\n",
    "print(sum(s))  # 22\n",
    "print(min(s))  # 1\n",
    "print(max(s))  # 7\n",
    "print(sorted(s,reverse=False))  # [1, 2, 3, 4, 5, 7]"
   ]
  },
  {
   "cell_type": "markdown",
   "metadata": {},
   "source": [
    "## Sets have also some built-in methods to modify the sets. Some of the methods are discussed below:"
   ]
  },
  {
   "cell_type": "code",
   "execution_count": 2,
   "metadata": {},
   "outputs": [
    {
     "data": {
      "text/plain": [
       "{1, 2, 3, 4, 5, 6, 7, 8}"
      ]
     },
     "execution_count": 2,
     "metadata": {},
     "output_type": "execute_result"
    }
   ],
   "source": [
    "## union method\n",
    "\n",
    "s1 = {1,2,3,4,5}\n",
    "s2 = {4,5,6,7,8}\n",
    "\n",
    "# s1 | s2\n",
    "s1.union(s2) # {1, 2, 3, 4, 5, 6, 7, 8} # it will remove the duplicate values from the set"
   ]
  },
  {
   "cell_type": "code",
   "execution_count": 4,
   "metadata": {},
   "outputs": [
    {
     "name": "stdout",
     "output_type": "stream",
     "text": [
      "{1, 2, 3, 4, 5, 6, 7, 8}\n",
      "{4, 5, 6, 7, 8}\n"
     ]
    }
   ],
   "source": [
    "## update method \n",
    "\n",
    "# In update method it will update the set with the union of this set and others set \n",
    "\n",
    "s1 = {1,2,3,4,5}\n",
    "s2 = {4,5,6,7,8}\n",
    "\n",
    "# s1 |= s2\n",
    "s1.update(s2) # {1, 2, 3, 4, 5, 6, 7, 8} # it will update the set with the union of this set and others set\n",
    "                # s1.update(s2) is equivalent to s1 = s1 | s2 where | is the union operator and |= is the union assignment operator \n",
    "print(s1) # {1, 2, 3, 4, 5, 6, 7, 8} It will update the s1 set with the union of s1 and s2 set \n",
    "print(s2) # {4, 5, 6, 7, 8} It will not update the s2 set \n"
   ]
  },
  {
   "cell_type": "code",
   "execution_count": 5,
   "metadata": {},
   "outputs": [
    {
     "data": {
      "text/plain": [
       "{4, 5}"
      ]
     },
     "execution_count": 5,
     "metadata": {},
     "output_type": "execute_result"
    }
   ],
   "source": [
    "## intersection method \n",
    "\n",
    "# In intersection method (&) it will return the intersection of two sets .\n",
    "\n",
    "s1 = {1,2,3,4,5}\n",
    "s2 = {4,5,6,7,8}\n",
    "\n",
    "s1.intersection(s2) # {4, 5} # it will return the intersection of two sets"
   ]
  },
  {
   "cell_type": "code",
   "execution_count": 7,
   "metadata": {},
   "outputs": [
    {
     "name": "stdout",
     "output_type": "stream",
     "text": [
      "{4, 5}\n",
      "{4, 5, 6, 7, 8}\n"
     ]
    }
   ],
   "source": [
    "## intersection_update method\n",
    "\n",
    "# In intersection_update method it will update the set with the intersection of this set and others set\n",
    "\n",
    "s1 = {1,2,3,4,5}\n",
    "s2 = {4,5,6,7,8}\n",
    "\n",
    "s1.intersection_update(s2) # {4, 5} # it will update the set with the intersection of this set and others set\n",
    "\n",
    "print(s1) # {4, 5} It will update the s1 set with the intersection of s1 and s2 set\n",
    "print(s2) # {4, 5, 6, 7, 8} It will not update the s2 set\n"
   ]
  },
  {
   "cell_type": "code",
   "execution_count": 8,
   "metadata": {},
   "outputs": [
    {
     "data": {
      "text/plain": [
       "{1, 2, 3}"
      ]
     },
     "execution_count": 8,
     "metadata": {},
     "output_type": "execute_result"
    }
   ],
   "source": [
    "## difference method \n",
    "\n",
    "# In difference method (-) it will return the difference of two sets .\n",
    "\n",
    "s1 = {1,2,3,4,5}\n",
    "s2 = {4,5,6,7,8}\n",
    "\n",
    "s1.difference(s2) # {1, 2, 3} # it will return the difference of two sets \n"
   ]
  },
  {
   "cell_type": "code",
   "execution_count": 9,
   "metadata": {},
   "outputs": [
    {
     "name": "stdout",
     "output_type": "stream",
     "text": [
      "{1, 2, 3}\n",
      "{4, 5, 6, 7, 8}\n"
     ]
    }
   ],
   "source": [
    "## difference_update method\n",
    "\n",
    "# In difference_update method it will update the set with the difference of this set and others set\n",
    "\n",
    "s1 = {1,2,3,4,5}\n",
    "s2 = {4,5,6,7,8}\n",
    "\n",
    "s1.difference_update(s2) # {1, 2, 3} # it will update the set with the difference of this set and others set\n",
    "\n",
    "print(s1) # {1, 2, 3} It will update the s1 set with the difference of s1 and s2 set\n",
    "print(s2) # {4, 5, 6, 7, 8} It will not update the s2 set\n"
   ]
  },
  {
   "cell_type": "code",
   "execution_count": 10,
   "metadata": {},
   "outputs": [
    {
     "data": {
      "text/plain": [
       "{1, 2, 3, 6, 7, 8}"
      ]
     },
     "execution_count": 10,
     "metadata": {},
     "output_type": "execute_result"
    }
   ],
   "source": [
    "## symmetric_difference method\n",
    "\n",
    "# In symmetric_difference method (^) it will return the symmetric difference of two sets .\n",
    "\n",
    "s1 = {1,2,3,4,5}\n",
    "s2 = {4,5,6,7,8}\n",
    "\n",
    "s1.symmetric_difference(s2) # {1, 2, 3, 6, 7, 8} # it will return the symmetric difference of two sets means it will return the values which are not common in both sets .\n"
   ]
  },
  {
   "cell_type": "code",
   "execution_count": 11,
   "metadata": {},
   "outputs": [
    {
     "name": "stdout",
     "output_type": "stream",
     "text": [
      "{1, 2, 3, 6, 7, 8}\n",
      "{4, 5, 6, 7, 8}\n"
     ]
    }
   ],
   "source": [
    "## symmetric_difference_update method\n",
    "\n",
    "# In symmetric_difference_update method it will update the set with the symmetric difference of this set and others set\n",
    "\n",
    "s1 = {1,2,3,4,5}\n",
    "s2 = {4,5,6,7,8}\n",
    "\n",
    "s1.symmetric_difference_update(s2) # {1, 2, 3, 6, 7, 8} # it will update the set with the symmetric difference of this set and others set\n",
    "\n",
    "print(s1) # {1, 2, 3, 6, 7, 8} It will update the s1 set with the symmetric difference of s1 and s2 set\n",
    "print(s2) # {4, 5, 6, 7, 8} It will not update the s2 set\n"
   ]
  },
  {
   "cell_type": "markdown",
   "metadata": {},
   "source": [
    "#### isdisjoint / issubset / issuperset : "
   ]
  },
  {
   "cell_type": "code",
   "execution_count": 12,
   "metadata": {},
   "outputs": [
    {
     "data": {
      "text/plain": [
       "True"
      ]
     },
     "execution_count": 12,
     "metadata": {},
     "output_type": "execute_result"
    }
   ],
   "source": [
    "## isdisjoint method\n",
    "\n",
    "# In isdisjoint method it will return True if two sets have a no common element otherwise it will return False .\n",
    "\n",
    "s1 = {1,2,3,4}\n",
    "s2 = {7,8,5,6}\n",
    "\n",
    "s1.isdisjoint(s2) # True # it will return True because there is no common element in both sets\n"
   ]
  },
  {
   "cell_type": "code",
   "execution_count": 13,
   "metadata": {},
   "outputs": [
    {
     "data": {
      "text/plain": [
       "True"
      ]
     },
     "execution_count": 13,
     "metadata": {},
     "output_type": "execute_result"
    }
   ],
   "source": [
    "## issubset method\n",
    "\n",
    "# In issubset method it will return True if all elements of this set are present in the other set otherwise it will return False .\n",
    "\n",
    "s1 = {1,2,3,4}\n",
    "s2 = {1,2,3,4,5,6,7,8}\n",
    "\n",
    "s1.issubset(s2) # True # it will return True because all elements of s1 set are present in the s2 set\n"
   ]
  },
  {
   "cell_type": "code",
   "execution_count": 14,
   "metadata": {},
   "outputs": [
    {
     "data": {
      "text/plain": [
       "True"
      ]
     },
     "execution_count": 14,
     "metadata": {},
     "output_type": "execute_result"
    }
   ],
   "source": [
    "## issuperset method\n",
    "\n",
    "# In issuperset method it will return True if all elements of other set are present in this set otherwise it will return False .\n",
    "\n",
    "s1 = {1,2,3,4,5,6,7,8}\n",
    "s2 = {1,2,3,4}\n",
    "\n",
    "s1.issuperset(s2) # True # it will return True because all elements of s2 set are present in the s1 set\n"
   ]
  },
  {
   "cell_type": "code",
   "execution_count": 15,
   "metadata": {},
   "outputs": [
    {
     "name": "stdout",
     "output_type": "stream",
     "text": [
      "{1, 2, 3}\n",
      "{1, 2, 3}\n"
     ]
    }
   ],
   "source": [
    "## copy method\n",
    "\n",
    "# In copy method it will return the shallow copy of the set .\n",
    "\n",
    "s1 = {1,2,3}\n",
    "s2 = s1.copy()  # {1, 2, 3} # it will return the shallow copy of the set\n",
    "\n",
    "print(s1)\n",
    "print(s2) # {1, 2, 3} It will return the shallow copy of the set"
   ]
  },
  {
   "cell_type": "markdown",
   "metadata": {},
   "source": []
  }
 ],
 "metadata": {
  "kernelspec": {
   "display_name": "base",
   "language": "python",
   "name": "python3"
  },
  "language_info": {
   "codemirror_mode": {
    "name": "ipython",
    "version": 3
   },
   "file_extension": ".py",
   "mimetype": "text/x-python",
   "name": "python",
   "nbconvert_exporter": "python",
   "pygments_lexer": "ipython3",
   "version": "3.12.4"
  }
 },
 "nbformat": 4,
 "nbformat_minor": 2
}
