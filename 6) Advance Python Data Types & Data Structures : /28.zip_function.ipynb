{
 "cells": [
  {
   "cell_type": "markdown",
   "metadata": {},
   "source": [
    "# Zip Function :\n",
    "\n",
    "The zip() function returns a zip object, which is an iterator of tuples where the first item in each passed iterator is paired together, and then the second item in each passed iterator are paired together etc.\n",
    "\n",
    "If the passed iterators have different lengths, the iterator with the least items decides the length of the new iterator.\n",
    "\n",
    "Zip is iterable object in Python. So, it can be used in loops, list comprehensions, tuples, sets, etc. and can be converted to a list, tuple, set, etc.\n",
    "\n",
    "Iterable objects are objects that can return one of their elements at a time, such as a list, tuple, set, etc. Example of solution using zip() function is given below. \n",
    "\n",
    "## Syntax :\n",
    "\n",
    "```python\n",
    "zip(iterator1, iterator2, iterator3 ...)\n",
    "```\n",
    "\n",
    "iterator1, iterator2, iterator3 are the iterators to be zipped together.\n",
    "\n",
    "So, the zip() function takes in iterables as arguments and returns an iterator. This iterator generates a series of tuples containing elements from each iterable.\n",
    "\n",
    "## Example :\n",
    "\n",
    "```python\n",
    "# Two lists\n",
    "list1 = ['a', 'b', 'c']\n",
    "list2 = [1, 2, 3]\n",
    "\n",
    "# Zip the lists together and print the resulting tuple elements one by one using zip() function and for loop \n",
    "\n",
    "for pair in zip(list1, list2):\n",
    "    print(pair)  # Output : ('a', 1) ('b', 2) ('c', 3) \n",
    "```\n",
    "\n",
    "```Output\n",
    "('a', 1)\n",
    "('b', 2)\n",
    "('c', 3)\n",
    "```\n",
    "\n"
   ]
  },
  {
   "cell_type": "markdown",
   "metadata": {},
   "source": [
    "#### Exercises : \n",
    "\n",
    "Using two list to zip together : "
   ]
  },
  {
   "cell_type": "code",
   "execution_count": 2,
   "metadata": {},
   "outputs": [
    {
     "name": "stdout",
     "output_type": "stream",
     "text": [
      "(1, 6)\n",
      "(2, 7)\n",
      "(3, 8)\n",
      "(4, 9)\n",
      "(5, 10)\n"
     ]
    }
   ],
   "source": [
    "# Q) Write a Python program to combine two lists into a single list of tuples using zip() function and for loop ? \n",
    "\n",
    "L1 = [1, 2, 3, 4, 5]\n",
    "L2 = [6, 7, 8, 9, 10]\n",
    "\n",
    "# Zip the lists together and print the resulting tuple elements one by one using zip() function and for loop\n",
    "\n",
    "\n",
    "for i in zip(L1, L2):  # zip() function is used to combine two lists into a single list of tuples  \n",
    "                        # and for loop is used to iterate through the list of tuples \n",
    "                        # i is a tuple that contains elements from both lists L1 and L2 \n",
    "    print(i)  # print the tuple elements one by one using for loop \n",
    "\n"
   ]
  },
  {
   "cell_type": "code",
   "execution_count": 4,
   "metadata": {},
   "outputs": [
    {
     "data": {
      "text/plain": [
       "[(1, 'John'), (2, 'Doe'), (3, 'Jane'), (4, 'Smith'), (5, 'Alex')]"
      ]
     },
     "execution_count": 4,
     "metadata": {},
     "output_type": "execute_result"
    }
   ],
   "source": [
    "# Q) Write a Python program to combine two lists roll_numbers and student_names into a single list of tuples using zip() function and store it in the database ?\n",
    "\n",
    "# If we want to store the roll numbers and names of students in database, \n",
    "    # we can use zip() function to combine the roll numbers and names of students into a single list of tuples \n",
    "    # and store it in the database.\n",
    "\n",
    "roll_numbers = [1, 2, 3, 4, 5]\n",
    "student_names = ['John', 'Doe', 'Jane', 'Smith', 'Alex']\n",
    "\n",
    "list(zip(roll_numbers, student_names))  # zip() function is used to combine the roll numbers and names of students into a single list of tuples\n",
    "                                    # and store it in the database. \n",
    "                                    # This will combine the roll numbers and names of students into a single list of tuples\n",
    "                                    # list() function is used to convert the zip object into a list of tuples and store it in the database. \n",
    "\n"
   ]
  },
  {
   "cell_type": "code",
   "execution_count": 5,
   "metadata": {},
   "outputs": [
    {
     "data": {
      "text/plain": [
       "[7, 9, 11, 13, 15]"
      ]
     },
     "execution_count": 5,
     "metadata": {},
     "output_type": "execute_result"
    }
   ],
   "source": [
    "\n",
    "# Q) Write a Python program to combine two lists into a single list of tuples using zip() function and for loop using List Comprehension ?\n",
    "\n",
    "# Doing operations on the elements of the list of tuples using zip() function and for loop \n",
    "# Using List Comprehension to store the sum of the elements of the list of tuples in a new list\n",
    "\n",
    "L1 = [1, 2, 3, 4, 5]\n",
    "L2 = [6, 7, 8, 9, 10]\n",
    "\n",
    "# Zip the lists together and store the sum of the elements of the list of tuples in a new list using List Comprehension\n",
    "\n",
    "[ i+j for i,j in zip(L1, L2)]  # zip() function is used to combine two lists into a single list of tuples\n",
    "                                # List Comprehension is used to store the sum of the elements of the list of tuples in a new list\n",
    "                                # i and j are the elements of the list of tuples \n",
    "                                # i+j is used to store the sum of the elements of the list of tuples in a new list using List Comprehension\n",
    "                                # If we do zip(L2, L1) then the sum of the elements of the list of tuples will be stored in a new list in the order of L2 and L1 \n",
    "\n",
    "\n"
   ]
  },
  {
   "cell_type": "markdown",
   "metadata": {},
   "source": [
    "Using More then two lists to zip together :"
   ]
  },
  {
   "cell_type": "code",
   "execution_count": 7,
   "metadata": {},
   "outputs": [
    {
     "data": {
      "text/plain": [
       "[(1, 6, 11), (2, 7, 12), (3, 8, 13), (4, 9, 14), (5, 10, 15)]"
      ]
     },
     "execution_count": 7,
     "metadata": {},
     "output_type": "execute_result"
    }
   ],
   "source": [
    "# Q) Write a Python program to combine three lists into a single list of tuples using zip() function and list() function ? \n",
    "\n",
    "L1 = [1, 2, 3, 4, 5]\n",
    "L2 = [6, 7, 8, 9, 10]\n",
    "L3 = [11, 12, 13, 14, 15]\n",
    "\n",
    "# Zip the lists together \n",
    "\n",
    "list(zip(L1, L2, L3)) # zip() function is used to combine three lists into zip object of tuples \n",
    "                        # list() function is used to convert the zip object into a list of tuples\n"
   ]
  },
  {
   "cell_type": "code",
   "execution_count": 8,
   "metadata": {},
   "outputs": [
    {
     "data": {
      "text/plain": [
       "[(1, 6, 11), (2, 7, 12), (3, 8, 13), (4, 9, 14)]"
      ]
     },
     "execution_count": 8,
     "metadata": {},
     "output_type": "execute_result"
    }
   ],
   "source": [
    "# Q) Write a Python program to combine three lists into a single list of tuples using zip() function and list() function  where the length of the lists is not same ?\n",
    "\n",
    "L1 = [1, 2, 3, 4, 5]\n",
    "L2 = [6, 7, 8, 9, 10]\n",
    "L3 = [11, 12, 13, 14]\n",
    "\n",
    "# Zip the lists together \n",
    "\n",
    "list(zip(L1, L2, L3)) # zip() function is used to combine three lists into zip object of tuples\n",
    "                        # list() function is used to convert the zip object into a list of tuples\n",
    "                        # If the length of the lists is not same, then the elements of the list of tuples will be combined till the length of the smallest list "
   ]
  },
  {
   "cell_type": "code",
   "execution_count": 9,
   "metadata": {},
   "outputs": [
    {
     "data": {
      "text/plain": [
       "[7, 9, 11, 13, 15]"
      ]
     },
     "execution_count": 9,
     "metadata": {},
     "output_type": "execute_result"
    }
   ],
   "source": [
    "# Q) Zip() function in list comprehension \n",
    "\n",
    "L1 = [1, 2, 3, 4, 5]\n",
    "L2 = [6, 7, 8, 9, 10]\n",
    "\n",
    "# Zip the lists together and store the sum of the elements of the list of tuples in a new list using List Comprehension\n",
    "\n",
    "[ i+j for i,j in zip(L1, L2)]  # zip() function is used to combine two lists into a single list of tuples\n",
    "                                # List Comprehension is used to store the sum of the elements of the list of tuples in a new list\n",
    "                                # i and j are the elements of the list of tuples \n",
    "                                # i+j is used to store the sum of the elements of the list of tuples in a new list using List Comprehension\n",
    "                                # If we do zip(L2, L1) then the sum of the elements of the list of tuples will be stored in a new list in the order of L2 and L1\n",
    "                                "
   ]
  },
  {
   "cell_type": "code",
   "execution_count": null,
   "metadata": {},
   "outputs": [],
   "source": []
  }
 ],
 "metadata": {
  "kernelspec": {
   "display_name": "base",
   "language": "python",
   "name": "python3"
  },
  "language_info": {
   "codemirror_mode": {
    "name": "ipython",
    "version": 3
   },
   "file_extension": ".py",
   "mimetype": "text/x-python",
   "name": "python",
   "nbconvert_exporter": "python",
   "pygments_lexer": "ipython3",
   "version": "3.12.4"
  }
 },
 "nbformat": 4,
 "nbformat_minor": 2
}
