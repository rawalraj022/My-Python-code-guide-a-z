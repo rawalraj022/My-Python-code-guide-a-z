{
 "cells": [
  {
   "cell_type": "markdown",
   "metadata": {},
   "source": [
    "# Operations on Tuples\n",
    "\n",
    "Like lists we can perform same operations on tuples. Some of the operations are:\n",
    "\n",
    "- Arithmetic\n",
    "- Membership\n",
    "- Loop\n"
   ]
  },
  {
   "cell_type": "markdown",
   "metadata": {},
   "source": [
    "#### Arithmetic Operations on Tuples : \n",
    "\n",
    "We can perform arithmetic operations on tuples. The operations are:\n",
    "- Addition\n",
    "- Multiplication\n",
    "\n",
    "Addition and Multiplication operations are performed on tuples in the same way as they are performed on lists.\n",
    "\n",
    "**Syntax:**\n",
    "```python\n",
    "tuple1 = (1, 2, 3)\n",
    "tuple2 = (4, 5, 6)\n",
    "\n",
    "tuple3 = tuple1 + tuple2 # Addition  # concatenation operation is performed on tuples and concatenation operation is defined as the operation of joining two or more tuples together to form a new tuple.\n",
    "\n",
    "tuple4 = tuple1 * 3 # Multiplication\n",
    "\n",
    "```\n",
    "Output:\n",
    "```python\n",
    "tuple3 = (1, 2, 3, 4, 5, 6) # Addition\n",
    "\n",
    "tuple4 = (1, 2, 3, 1, 2, 3, 1, 2, 3) # Multiplication\n",
    "```\n",
    "\n"
   ]
  },
  {
   "cell_type": "code",
   "execution_count": 3,
   "metadata": {},
   "outputs": [
    {
     "name": "stdout",
     "output_type": "stream",
     "text": [
      "(10, 20, 30, 40, 50, 5, 10, 15, 20, 25)\n"
     ]
    }
   ],
   "source": [
    "# Exercise :\n",
    "\n",
    "# Write a program using Arithmetic Operators in two tuples and print the result. \n",
    "\n",
    "tuple1 = (10, 20, 30, 40, 50)\n",
    "tuple2 = (5, 10, 15, 20, 25)\n",
    "\n",
    "result = tuple1 + tuple2\n",
    "\n",
    "print(result) "
   ]
  },
  {
   "cell_type": "markdown",
   "metadata": {},
   "source": [
    "#### Membership Operations on Tuples : \n",
    "\n",
    "We can perform membership operations on tuples. The operations are:\n",
    "- in\n",
    "- not in\n",
    "\n",
    "Membership operations are performed on tuples in the same way as they are performed on lists.\n",
    "\n",
    "**Syntax:**\n",
    "```python\n",
    "tuple1 = (1, 2, 3)\n",
    "\n",
    "print(1 in tuple1) # Output: True\n",
    "\n",
    "print(4 not in tuple1) # Output: True\n",
    "```\n",
    "Output:\n",
    "```python\n",
    "True\n",
    "\n",
    "True\n",
    "```\n",
    "\n"
   ]
  },
  {
   "cell_type": "code",
   "execution_count": 15,
   "metadata": {},
   "outputs": [
    {
     "name": "stdout",
     "output_type": "stream",
     "text": [
      "True\n"
     ]
    }
   ],
   "source": [
    "# Exercise :\n",
    "\n",
    "# Q) Write a program using Membership Operators in two tuples and print the result.\n",
    "\n",
    "tuple1 = (10, 20, 30, 40, 50)\n",
    "tuple2 = (5, 10, 15, 20, 25)\n",
    "\n",
    "print(20 in tuple1 and 10 in tuple2)  \n"
   ]
  },
  {
   "cell_type": "markdown",
   "metadata": {},
   "source": [
    "#### Loop Operations on Tuples :\n",
    "\n",
    "We can perform loop operations on tuples. The operations are:\n",
    "- for loop\n",
    "\n",
    "Loop operations are performed on tuples in the same way as they are performed on lists.\n",
    "\n",
    "**Syntax:**\n",
    "```python\n",
    "tuple1 = (1, 2, 3)\n",
    "\n",
    "for i in tuple1:\n",
    "    print(i)\n",
    "```\n",
    "Output:\n",
    "```python\n",
    "1\n",
    "2\n",
    "3\n",
    "```\n"
   ]
  },
  {
   "cell_type": "code",
   "execution_count": 16,
   "metadata": {},
   "outputs": [
    {
     "name": "stdout",
     "output_type": "stream",
     "text": [
      "10\n",
      "20\n",
      "30\n",
      "40\n",
      "50\n"
     ]
    }
   ],
   "source": [
    "# Exercise :\n",
    "\n",
    "# Q) Write a program using Loops in one tuple and print the result.\n",
    "\n",
    "t1 = (10, 20, 30, 40, 50)\n",
    "\n",
    "for i in t1:  # for loop to print the elements of tuple t1 and i is the variable that stores the elements of tuple t1 and prints the elements of tuple t1.\n",
    "    print(i)"
   ]
  },
  {
   "cell_type": "markdown",
   "metadata": {},
   "source": []
  }
 ],
 "metadata": {
  "kernelspec": {
   "display_name": "base",
   "language": "python",
   "name": "python3"
  },
  "language_info": {
   "codemirror_mode": {
    "name": "ipython",
    "version": 3
   },
   "file_extension": ".py",
   "mimetype": "text/x-python",
   "name": "python",
   "nbconvert_exporter": "python",
   "pygments_lexer": "ipython3",
   "version": "3.12.4"
  }
 },
 "nbformat": 4,
 "nbformat_minor": 2
}
