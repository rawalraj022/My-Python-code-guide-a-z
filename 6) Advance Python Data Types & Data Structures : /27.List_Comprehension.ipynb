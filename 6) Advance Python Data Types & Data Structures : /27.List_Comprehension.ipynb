{
 "cells": [
  {
   "cell_type": "markdown",
   "metadata": {},
   "source": [
    "# List Comprehension in Python \n",
    "\n",
    "List Comprehension provides a concise way of creating lists. \n",
    "\n",
    "It consists of brackets containing an expression followed by a for clause, then zero or more for or if clauses and returns a new list. \n",
    "\n",
    "In big companies, it is important to write code that is easy to read and understand. List comprehension is a way to write clean and readable code. Most of the time, list comprehension is used to replace loops.\n",
    "\n",
    "More developers are using list comprehension because it is more efficient and faster than loops. So it is important to understand how to use list comprehension in Python. \n",
    "\n",
    "Syntax:\n",
    "\n",
    "```python\n",
    "\n",
    "newlist = [expression for item in iterable if condition == True]  \n",
    "\n",
    "```\n",
    "\n",
    "Example:\n",
    "```python\n",
    "\n",
    "fruits = [\"apple\", \"banana\", \"cherry\", \"kiwi\", \"mango\"] # List of fruits\n",
    "newlist = [x for x in fruits if \"a\" in x]   # Selects fruits containing 'a' in the name \n",
    "print(newlist)  # Output: ['apple', 'banana', 'mango']\n",
    "\n",
    "```\n",
    "\n",
    "Output:\n",
    "```python\n",
    "\n",
    "['apple', 'banana', 'mango']\n",
    "\n",
    "```\n",
    "\n",
    "#### Advantages of List Comprehension\n",
    "\n",
    "- More time-efficient and space-efficient than loops.\n",
    "- Require fewer lines of code.\n",
    "- Transforms iterative statement into a formula.\n"
   ]
  },
  {
   "cell_type": "code",
   "execution_count": 1,
   "metadata": {},
   "outputs": [
    {
     "name": "stdout",
     "output_type": "stream",
     "text": [
      "[1, 2, 3, 4, 5, 6, 7, 8, 9, 10]\n"
     ]
    }
   ],
   "source": [
    "## Without using list comprehension \n",
    "# Q) Add 1 to 10 numbers to a list \n",
    "\n",
    "L =[]      # Empty list\n",
    "\n",
    "for i in range(1,11):  # 1 to 10\n",
    "    L.append(i)       # Add i to list L\n",
    "\n",
    "print(L) # [1, 2, 3, 4, 5, 6, 7, 8, 9, 10]\n"
   ]
  },
  {
   "cell_type": "code",
   "execution_count": 2,
   "metadata": {},
   "outputs": [
    {
     "name": "stdout",
     "output_type": "stream",
     "text": [
      "[1, 2, 3, 4, 5, 6, 7, 8, 9, 10]\n"
     ]
    }
   ],
   "source": [
    "## Using list comprehension\n",
    "# Q) Add 1 to 10 numbers to a list\n",
    "\n",
    "L = [ i for i in range(1,11)]  # [expression for i in range(1,11)]  # expression is i\n",
    "                                # i is the variable which is used to iterate over the range 1 to 11 \n",
    "                                # i is the variable which is used to store the value of the range 1 to 11\n",
    "print(L)                     # print the list L"
   ]
  },
  {
   "cell_type": "code",
   "execution_count": 4,
   "metadata": {},
   "outputs": [
    {
     "name": "stdout",
     "output_type": "stream",
     "text": [
      "[-6, -9, -12]\n"
     ]
    }
   ],
   "source": [
    "## Without using list comprehension\n",
    "# Q) Scalar multiplication on a vector \n",
    "\n",
    "v = [2, 3, 4]   # vector \n",
    "s = -3        # scalar\n",
    "\n",
    "L = []       # Empty list\n",
    "\n",
    "for i in v:  # iterate over the vector v \n",
    "    result = i * s  # scalar multiplication and store the result in variable result \n",
    "    L.append(result)  # add the result to list L and repeat the process for all the elements in the vector v \n",
    "\n",
    "print(L)  # [-6, -9, -12] \n"
   ]
  },
  {
   "cell_type": "code",
   "execution_count": 5,
   "metadata": {},
   "outputs": [
    {
     "name": "stdout",
     "output_type": "stream",
     "text": [
      "[-6, -9, -12]\n"
     ]
    }
   ],
   "source": [
    "## Using list comprehension\n",
    "# Q) Scalar multiplication on a vector\n",
    "\n",
    "v = [2, 3, 4]   # vector \n",
    "s = -3        # scalar\n",
    "\n",
    "L = [ i * s for i in v]  # [expression for i in v]  # expression is i * s \n",
    "                            # i is the variable which is used to iterate over the vector v \n",
    "                            # i is the variable which is used to store the value of the vector v\n",
    "                            # s is the scalar value \n",
    "                            # i * s is the expression which is used to perform scalar multiplication on the vector v\n",
    "print(L)  # [-6, -9, -12]"
   ]
  },
  {
   "cell_type": "code",
   "execution_count": 6,
   "metadata": {},
   "outputs": [
    {
     "name": "stdout",
     "output_type": "stream",
     "text": [
      "[1, 4, 9, 16, 25, 36, 49, 64, 81, 100]\n"
     ]
    }
   ],
   "source": [
    "## Using list comprehension\n",
    "# Q) Add squares of L = [1, 2, 3, 4, 5, 6, 7, 8, 9, 10] to a list \n",
    "\n",
    "L = [1, 2, 3, 4, 5, 6, 7, 8, 9, 10]  # list L \n",
    "\n",
    "L1 = [ i ** 2 for i in L]  # [expression for i in L]  # expression is i ** 2\n",
    "                            # i**2 is the expression which is used to square the elements in the list L \n",
    "                            # i is the variable which is used to iterate over the list L \n",
    "                            # i is the variable which is used to store the value of the list L\n",
    "print(L1)  # [1, 4, 9, 16, 25, 36, 49, 64, 81, 100]"
   ]
  },
  {
   "cell_type": "code",
   "execution_count": 7,
   "metadata": {},
   "outputs": [
    {
     "name": "stdout",
     "output_type": "stream",
     "text": [
      "5\n",
      "10\n",
      "15\n",
      "20\n",
      "25\n",
      "30\n",
      "35\n",
      "40\n",
      "45\n",
      "50\n"
     ]
    }
   ],
   "source": [
    "## Without using list comprehension\n",
    "# Q) Print all numbers divisible by 5 in the range of 1 to 50 \n",
    "\n",
    "for i in range(1,51):  # iterate over the range 1 to 50 and i is the variable which is used to store the value of the range\n",
    "    if i % 5 == 0:  # check if the number is divisible by 5 and the remainder is 0 \n",
    "                    # % is the modulo operator which gives the remainder when the number is divided by 5\n",
    "        print(i)  # print the number\n",
    "        "
   ]
  },
  {
   "cell_type": "code",
   "execution_count": 8,
   "metadata": {},
   "outputs": [
    {
     "name": "stdout",
     "output_type": "stream",
     "text": [
      "[5, 10, 15, 20, 25, 30, 35, 40, 45, 50]\n"
     ]
    }
   ],
   "source": [
    "## Using list comprehension\n",
    "# Q) Print all numbers divisible by 5 in the range of 1 to 50 \n",
    "\n",
    "LC = [i for i in range(1,51) if i % 5 == 0]  # i for i in range(1,51) if i % 5 == 0 is the list comprehension\n",
    "                                                # i is the variable which is used to iterate over the range 1 to 50 \n",
    "                                                # i is the variable which is used to store the value of the range \n",
    "                                                # i % 5 == 0 is the condition which checks if the number is divisible by 5\n",
    "                                                # if the condition is True then the number is added to the list L\n",
    "print(LC)  # [5, 10, 15, 20, 25, 30, 35, 40, 45, 50]\n"
   ]
  },
  {
   "cell_type": "code",
   "execution_count": 9,
   "metadata": {},
   "outputs": [
    {
     "name": "stdout",
     "output_type": "stream",
     "text": [
      "['python', 'perl', 'php']\n"
     ]
    }
   ],
   "source": [
    "## Without using list comprehension\n",
    "# Q) Find languages which start with letter p \n",
    "\n",
    "languages = ['java', 'python', 'c', 'c++', 'perl', 'ruby', 'php', 'javascript']  # list of languages\n",
    "\n",
    "LC = [language for language in languages if language.startswith('p')]  # language for language in languages if language.startswith('p') is the list comprehension\n",
    "                                                                        # language is the variable which is used to iterate over the list languages\n",
    "                                                                        # language is the variable which is used to store the value of the list languages\n",
    "                                                                        # language.startswith('p') is the condition which checks if the language starts with letter p\n",
    "                                                                        # if the condition is True then the language is added to the list LC\n",
    "print(LC)  # ['python', 'perl', 'php']"
   ]
  },
  {
   "cell_type": "markdown",
   "metadata": {},
   "source": []
  }
 ],
 "metadata": {
  "kernelspec": {
   "display_name": "base",
   "language": "python",
   "name": "python3"
  },
  "language_info": {
   "codemirror_mode": {
    "name": "ipython",
    "version": 3
   },
   "file_extension": ".py",
   "mimetype": "text/x-python",
   "name": "python",
   "nbconvert_exporter": "python",
   "pygments_lexer": "ipython3",
   "version": "3.12.4"
  }
 },
 "nbformat": 4,
 "nbformat_minor": 2
}
