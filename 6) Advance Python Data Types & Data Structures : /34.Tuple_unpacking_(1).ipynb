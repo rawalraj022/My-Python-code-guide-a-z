{
 "cells": [
  {
   "cell_type": "markdown",
   "metadata": {},
   "source": [
    "# tuple unpacking in python\n",
    "\n",
    "Tuple unpacking is a way to assign the elements of a tuple to a sequence of variables in a single statement.\n",
    "\n",
    "#### Syntax\n",
    "```python\n",
    "variable1, variable2, variable3, ... = tuple\n",
    "```\n",
    "\n",
    "#### Example\n",
    "```python\n",
    "a, b, c = (1, 2, 3)\n",
    "print(a) # 1\n",
    "print(b) # 2\n",
    "print(c) # 3\n",
    "```\n",
    "\n",
    "Note :\n",
    "- The number of variables on the left side of the assignment operator should be equal to the number of elements in the tuple.\n",
    "\n"
   ]
  },
  {
   "cell_type": "code",
   "execution_count": 1,
   "metadata": {},
   "outputs": [
    {
     "name": "stdout",
     "output_type": "stream",
     "text": [
      "1 2\n",
      "[3, 4, 7, 5]\n"
     ]
    }
   ],
   "source": [
    "# Q) If you want to capture some elements from the beginning of a sequence and the rest of the elements, you can use the * operator.\n",
    "# The * operator can also be used multiple times in the same expression.\n",
    "\n",
    "a,b,*others = (1,2,3,4,7,5)  # a=1, b=2, others=[3,4,7,5]\n",
    "print(a,b)   # 1 2\n",
    "print(others) # [3,4,7,5]"
   ]
  },
  {
   "cell_type": "markdown",
   "metadata": {},
   "source": [
    "# Zipping tuples in python : \n",
    "\n",
    "Zipping is a way to combine two or more tuples into a single tuple. It takes two or more sequences and returns a list of tuples where each tuple contains the i-th element from each of the sequences.\n",
    "\n",
    "#### Syntax\n",
    "```python\n",
    "zip(sequence1, sequence2, ...)\n",
    "```\n",
    "\n",
    "#### Example\n",
    "```python\n",
    "a = (1, 2, 3)\n",
    "b = ('a', 'b', 'c')\n",
    "zipped = zip(a, b)      \n",
    "print(tuple(zipped)) # ((1, 'a'), (2, 'b'), (3, 'c'))       \n",
    "```\n",
    "```output\n",
    "((1, 'a'), (2, 'b'), (3, 'c'))\n",
    "```\n",
    "\n",
    "Note :\n",
    "- The number of elements in the tuples should be equal to the number of sequences passed to the zip function for zipping the tuples together."
   ]
  },
  {
   "cell_type": "code",
   "execution_count": 3,
   "metadata": {},
   "outputs": [
    {
     "data": {
      "text/plain": [
       "<zip at 0x111a16940>"
      ]
     },
     "execution_count": 3,
     "metadata": {},
     "output_type": "execute_result"
    }
   ],
   "source": [
    "# Q) Zip the elements of two lists or tuples together using zip() function \n",
    "\n",
    "a = (1,2,3,4)\n",
    "b = (5,6,7,8)\n",
    "\n",
    "zip(a,b) # [(1,5),(2,6),(3,7),(4,8)] # zip() function pairs the elements of two lists or tuples"
   ]
  },
  {
   "cell_type": "markdown",
   "metadata": {},
   "source": []
  }
 ],
 "metadata": {
  "kernelspec": {
   "display_name": "base",
   "language": "python",
   "name": "python3"
  },
  "language_info": {
   "codemirror_mode": {
    "name": "ipython",
    "version": 3
   },
   "file_extension": ".py",
   "mimetype": "text/x-python",
   "name": "python",
   "nbconvert_exporter": "python",
   "pygments_lexer": "ipython3",
   "version": "3.12.4"
  }
 },
 "nbformat": 4,
 "nbformat_minor": 2
}
