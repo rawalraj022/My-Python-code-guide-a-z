{
 "cells": [
  {
   "cell_type": "markdown",
   "metadata": {},
   "source": [
    "# Sets in Python \n",
    "\n",
    "Sets is another data type or data structure in Python. \n",
    "\n",
    "A set is an unordered collection of items. Every set element is unique (no duplicates) and must be immutable (cannot be changed).\n",
    "\n",
    "However, a set itself is mutable. We can add or remove items from it.\n",
    "\n",
    "Sets can also be used to perform mathematical set operations like union, intersection, symmetric difference, etc.\n",
    "\n",
    "#### Characteristics of a set:\n",
    "\n",
    "- Unordered\n",
    "- Mutable\n",
    "- No Duplicates\n",
    "- Can't contain mutable data types\n",
    "\n",
    "**- Unordered :**\n",
    "Sets are unordered, so you cannot be sure in which order the items will appear. \n",
    "\n",
    "Example: \n",
    "\n",
    "```python  \n",
    "my_set = {1, 2, 3, 4, 5}\n",
    "print(my_set)\n",
    "```\n",
    "\n",
    "Output: \n",
    "\n",
    "```\n",
    "{1, 2, 3, 4, 5}\n",
    "```\n",
    "So, the order of the elements in the set is not guaranteed. It may return the elements in a different order.\n",
    "\n",
    "**- Mutable :**\n",
    "Sets are mutable, so you can add or remove items from it. But, the items in the set must be immutable (cannot be changed).\n",
    "\n",
    "Example: \n",
    "\n",
    "```python   \n",
    "my_set = {1, 2, 3, 4, 5}\n",
    "my_set.add(6)\n",
    "print(my_set)\n",
    "```\n",
    "\n",
    "Output: \n",
    "\n",
    "```\n",
    "{1, 2, 3, 4, 5, 6}\n",
    "```\n",
    "So, we can add items to the set using the `add()` method.\n",
    "\n",
    "**- No Duplicates :**\n",
    "Sets cannot have duplicate items. If you try to add an item that is already in the set, it will not be added. But, it will not raise an error. It will just ignore the duplicate item. It will return the same set without any changes.\n",
    "\n",
    "Example: \n",
    "\n",
    "```python\n",
    "my_set = {1, 2, 3, 4, 5}\n",
    "my_set.add(5)\n",
    "print(my_set)\n",
    "``` \n",
    "\n",
    "Output: \n",
    "\n",
    "```\n",
    "{1, 2, 3, 4, 5}\n",
    "```\n",
    "So, the duplicate item `5` is not added to the set.\n",
    "\n",
    "**- Can't contain mutable data types :**\n",
    "Sets cannot contain mutable data types like lists, dictionaries, or other sets. But, it can contain immutable data types like strings, integers, tuples, etc.\n",
    "\n",
    "Example: \n",
    "\n",
    "```python\n",
    "my_set = {1, 2, [3, 4], 5}\n",
    "print(my_set)\n",
    "```\n",
    "\n",
    "Output: \n",
    "\n",
    "```\n",
    "TypeError: unhashable type: 'list'\n",
    "```\n",
    "So, it will raise a `TypeError` if we try to add a mutable data type to the set.\n",
    "\n",
    "\n"
   ]
  },
  {
   "cell_type": "markdown",
   "metadata": {},
   "source": [
    "# Creating a Sets in Python : \n",
    "\n",
    "Sets can be created using the `set()` function or using curly braces `{}`. \n"
   ]
  },
  {
   "cell_type": "markdown",
   "metadata": {},
   "source": [
    "#### Q) Why is it not {} to create an empty set?\n",
    "=>\n",
    "Because {} is used to create an empty dictionary, not an empty set in Python. \n",
    "To create an empty set, you need to use set(). \n",
    "\n",
    "By the developer of python, it was decided to use {} for dictionaries and set() for sets to avoid ambiguity and confusion between the two data types as both have the same syntax but different meanings and uses in Python. \n",
    "\n",
    "Like, {} is used to create an empty dictionary and set() is used to create an empty set. \n",
    "\n",
    "{1, 2, 3} is used to create a set and {'a': 1, 'b': 2} is used to create a dictionary in Python because of the same syntax but different meanings and uses.\n",
    "\n"
   ]
  },
  {
   "cell_type": "code",
   "execution_count": 1,
   "metadata": {},
   "outputs": [
    {
     "name": "stdout",
     "output_type": "stream",
     "text": [
      "set()\n",
      "<class 'set'>\n"
     ]
    }
   ],
   "source": [
    "## empty set creation \n",
    "\n",
    "s = set()    # empty set\n",
    "print(s)    # set()\n",
    "print(type(s))   # <class 'set'>\n"
   ]
  },
  {
   "cell_type": "code",
   "execution_count": 2,
   "metadata": {},
   "outputs": [
    {
     "name": "stdout",
     "output_type": "stream",
     "text": [
      "{1, 2, 3}\n"
     ]
    }
   ],
   "source": [
    "## 1Dimensional set creation\n",
    "\n",
    "s1 = {1,2,3}\n",
    "print(s1)"
   ]
  },
  {
   "cell_type": "code",
   "execution_count": 7,
   "metadata": {},
   "outputs": [
    {
     "ename": "TypeError",
     "evalue": "unhashable type: 'set'",
     "output_type": "error",
     "traceback": [
      "\u001b[0;31m---------------------------------------------------------------------------\u001b[0m",
      "\u001b[0;31mTypeError\u001b[0m                                 Traceback (most recent call last)",
      "Cell \u001b[0;32mIn[7], line 4\u001b[0m\n\u001b[1;32m      1\u001b[0m \u001b[38;5;66;03m# 2Dimensional set creation\u001b[39;00m\n\u001b[1;32m      2\u001b[0m \u001b[38;5;66;03m# We can't create 2D set in python because set is unorder collection of items and it is not possible to create 2D set in python\u001b[39;00m\n\u001b[0;32m----> 4\u001b[0m s2 \u001b[38;5;241m=\u001b[39m {\u001b[38;5;241m1\u001b[39m,\u001b[38;5;241m2\u001b[39m,\u001b[38;5;241m3\u001b[39m,{\u001b[38;5;241m4\u001b[39m,\u001b[38;5;241m5\u001b[39m}}\n\u001b[1;32m      5\u001b[0m \u001b[38;5;28mprint\u001b[39m(s2)\n",
      "\u001b[0;31mTypeError\u001b[0m: unhashable type: 'set'"
     ]
    }
   ],
   "source": [
    "## 2Dimensional set creation\n",
    "\n",
    "# We can't create 2D set in python because set is unorder collection of items and it is not possible to create 2D set in python\n",
    "\n",
    "s2 = {1,2,3,{4,5}}\n",
    "print(s2)\n",
    "\n",
    "# Output : TypeError: unhashable type: 'set'\n"
   ]
  },
  {
   "cell_type": "code",
   "execution_count": 8,
   "metadata": {},
   "outputs": [
    {
     "name": "stdout",
     "output_type": "stream",
     "text": [
      "{3, 1, (4, 5), 2}\n"
     ]
    }
   ],
   "source": [
    "## Q) But we can create 2D set using tuple inside set because tuple is hashable and set is unhashable\n",
    "\n",
    "s2 = {1,2,3,(4,5)}\n",
    "print(s2)"
   ]
  },
  {
   "cell_type": "code",
   "execution_count": 9,
   "metadata": {},
   "outputs": [
    {
     "name": "stdout",
     "output_type": "stream",
     "text": [
      "{1, (1, 2, 3), 4.5, 'hello'}\n"
     ]
    }
   ],
   "source": [
    "## Q) hetrogeneous set creation\n",
    "\n",
    "s3 = {1,'hello',4.5,(1,2,3)} # (1,2,3) is tuple and it is hashable so we can create 2D set using tuple\n",
    "print(s3)\n"
   ]
  },
  {
   "cell_type": "code",
   "execution_count": 10,
   "metadata": {},
   "outputs": [
    {
     "name": "stdout",
     "output_type": "stream",
     "text": [
      "{1, 2, 3}\n"
     ]
    }
   ],
   "source": [
    "## using type conversion\n",
    "\n",
    "# Q) Convert list to set using set() function ?\n",
    "\n",
    "s4 = set([1,2,3])  # list to set\n",
    "print(s4)\n"
   ]
  },
  {
   "cell_type": "code",
   "execution_count": 11,
   "metadata": {},
   "outputs": [
    {
     "name": "stdout",
     "output_type": "stream",
     "text": [
      "{1, 2, 3}\n"
     ]
    }
   ],
   "source": [
    "## duplicates not allowed in set but it is not give any error\n",
    "\n",
    "# it will remove duplicates automatically\n",
    "# duplicates is allowed in list but not in set\n",
    "\n",
    "# Q) Remove duplicates from list using set() function ?\n",
    "\n",
    "s5 = {1,1,2,2,3,3} # duplicates are removed automatically\n",
    "print(s5) # {1, 2, 3}"
   ]
  },
  {
   "cell_type": "code",
   "execution_count": 12,
   "metadata": {},
   "outputs": [
    {
     "ename": "TypeError",
     "evalue": "unhashable type: 'list'",
     "output_type": "error",
     "traceback": [
      "\u001b[0;31m---------------------------------------------------------------------------\u001b[0m",
      "\u001b[0;31mTypeError\u001b[0m                                 Traceback (most recent call last)",
      "Cell \u001b[0;32mIn[12], line 4\u001b[0m\n\u001b[1;32m      1\u001b[0m \u001b[38;5;66;03m# set can't have mutable items\u001b[39;00m\n\u001b[1;32m      2\u001b[0m \u001b[38;5;66;03m# Q) Can we create set with list inside set ?\u001b[39;00m\n\u001b[0;32m----> 4\u001b[0m s6 \u001b[38;5;241m=\u001b[39m {\u001b[38;5;241m1\u001b[39m,\u001b[38;5;241m2\u001b[39m,[\u001b[38;5;241m3\u001b[39m,\u001b[38;5;241m4\u001b[39m]} \u001b[38;5;66;03m# list is mutable so we can't create set with list inside set\u001b[39;00m\n\u001b[1;32m      5\u001b[0m \u001b[38;5;28mprint\u001b[39m(s6)\n",
      "\u001b[0;31mTypeError\u001b[0m: unhashable type: 'list'"
     ]
    }
   ],
   "source": [
    "## set can't have mutable items\n",
    "\n",
    "# Q) Can we create set with list inside set ?\n",
    "\n",
    "s6 = {1,2,[3,4]} # list is mutable so we can't create set with list inside set\n",
    "print(s6)"
   ]
  },
  {
   "cell_type": "code",
   "execution_count": 13,
   "metadata": {},
   "outputs": [
    {
     "name": "stdout",
     "output_type": "stream",
     "text": [
      "True\n",
      "False\n",
      "True\n"
     ]
    }
   ],
   "source": [
    "## set is unorder collection of items \n",
    "\n",
    "# We get true if both sets are equal even if order is different in both sets because set is unorder collection of items \n",
    "    # But if both sets are not equal then we get false even if order is different in both sets\n",
    "\n",
    "# Example 1\n",
    "\n",
    "s1 = {1,2,3}\n",
    "s2 = {3,2,1}\n",
    "\n",
    "print(s1 == s2) # True\n",
    "\n",
    "# Example 2\n",
    "\n",
    "s1 = {1,2,3}\n",
    "s2 = {3,2,1,4}\n",
    "\n",
    "print(s1 == s2) # False\n",
    "\n",
    "# Example 3\n",
    "\n",
    "s1 = {1,2,3}\n",
    "s2 = {3,2,1,4}\n",
    "\n",
    "print(s1 != s2) # True\n"
   ]
  },
  {
   "cell_type": "markdown",
   "metadata": {},
   "source": [
    "# Accessing Items in a Set : \n",
    "\n",
    "We cannot access items in a set by referring to an index because sets are unordered and items have no index.\n",
    "\n",
    "Slice notation `[:]` is not supported in sets because sets are unordered collections of items and items have no index to refer to using slice notation `[:]`.\n",
    "\n",
    "So, we can't access items in a set by referring to an index or using slice notation `[:]`.\n",
    "\n",
    "But we can loop through the set items using a `for` loop, or ask if a specified value is present in a set, by using the `in` keyword. \n",
    "\n",
    "In set and dictionary, we can't access the items by index because they are unordered collections of items. But, using the `for` loop, and `in` keyword, we can access the items in the set.\n",
    "\n",
    "But in list and tuple, we can access the items by index because they are ordered collections of items.\n",
    "\n",
    "\n",
    "Example: \n",
    "\n",
    "```python\n",
    "my_set = {1, 2, 3, 4, 5}  \n",
    "for i in my_set:  # Loop through the set items using a for loop because sets are iterable. \n",
    "    print(i)\n",
    "```\n",
    "\n",
    "Output:\n",
    "\n",
    "```\n",
    "\n",
    "1   \n",
    "2\n",
    "3\n",
    "4\n",
    "5\n",
    "```\n",
    "So, we can loop through the set items using a `for` loop.\n",
    "\n",
    "Example: \n",
    "\n",
    "```python\n",
    "my_set = {1, 2, 3, 4, 5}\n",
    "print(3 in my_set)  # Check if a specified value is present in a set using the in keyword.\n",
    "```\n",
    "\n",
    "Output:\n",
    "\n",
    "```\n",
    "True\n",
    "```\n",
    "So, we can check if a specified value is present in a set using the `in` keyword.\n",
    "\n"
   ]
  },
  {
   "cell_type": "code",
   "execution_count": 15,
   "metadata": {},
   "outputs": [
    {
     "ename": "TypeError",
     "evalue": "'set' object is not subscriptable",
     "output_type": "error",
     "traceback": [
      "\u001b[0;31m---------------------------------------------------------------------------\u001b[0m",
      "\u001b[0;31mTypeError\u001b[0m                                 Traceback (most recent call last)",
      "Cell \u001b[0;32mIn[15], line 6\u001b[0m\n\u001b[1;32m      1\u001b[0m \u001b[38;5;66;03m## slicing in set\u001b[39;00m\n\u001b[1;32m      2\u001b[0m \u001b[38;5;66;03m# Q) Can we slice set ?\u001b[39;00m\n\u001b[1;32m      3\u001b[0m \u001b[38;5;66;03m# Ans) No, we can't slice set because set is unorder collection of items and it is not possible to slice set\u001b[39;00m\n\u001b[1;32m      5\u001b[0m s1 \u001b[38;5;241m=\u001b[39m {\u001b[38;5;241m1\u001b[39m,\u001b[38;5;241m2\u001b[39m,\u001b[38;5;241m3\u001b[39m}\n\u001b[0;32m----> 6\u001b[0m s1[\u001b[38;5;241m0\u001b[39m:\u001b[38;5;241m1\u001b[39m]\n",
      "\u001b[0;31mTypeError\u001b[0m: 'set' object is not subscriptable"
     ]
    }
   ],
   "source": [
    "## slicing in set\n",
    "# Q) Can we slice set ?\n",
    "# Ans) No, we can't slice set because set is unorder collection of items and it is not possible to slice set\n",
    "\n",
    "s1 = {1,2,3}\n",
    "s1[0:1] # TypeError: 'set' object is not subscriptable"
   ]
  },
  {
   "cell_type": "code",
   "execution_count": 14,
   "metadata": {},
   "outputs": [
    {
     "ename": "TypeError",
     "evalue": "'set' object does not support item assignment",
     "output_type": "error",
     "traceback": [
      "\u001b[0;31m---------------------------------------------------------------------------\u001b[0m",
      "\u001b[0;31mTypeError\u001b[0m                                 Traceback (most recent call last)",
      "Cell \u001b[0;32mIn[14], line 5\u001b[0m\n\u001b[1;32m      1\u001b[0m \u001b[38;5;66;03m# Editing Items\u001b[39;00m\n\u001b[1;32m      3\u001b[0m s1 \u001b[38;5;241m=\u001b[39m {\u001b[38;5;241m1\u001b[39m,\u001b[38;5;241m2\u001b[39m,\u001b[38;5;241m3\u001b[39m}\n\u001b[0;32m----> 5\u001b[0m s1[\u001b[38;5;241m0\u001b[39m] \u001b[38;5;241m=\u001b[39m \u001b[38;5;241m100\u001b[39m\n",
      "\u001b[0;31mTypeError\u001b[0m: 'set' object does not support item assignment"
     ]
    }
   ],
   "source": [
    "## Editing Items \n",
    "\n",
    "# Q) Can we edit items in set ? \n",
    "\n",
    "# No, we can't edit items in set because set is unorder collection of items and it is not possible to edit items in set \n",
    "\n",
    "s1 = {1,2,3}\n",
    "\n",
    "s1[0] = 100 # TypeError: 'set' object does not support item assignment "
   ]
  },
  {
   "cell_type": "markdown",
   "metadata": {},
   "source": [
    "#### Adding Items in a Set : \n",
    "\n",
    "Q) How to add items in set ?\n",
    "\n",
    "Ans) We can add items in set using add() function and update() function and we can also add items in set using set comprehension .\n",
    "\n",
    "Using add method we can add only one item at a time in set but we can add multiple items at a time in set using update() method .\n"
   ]
  },
  {
   "cell_type": "code",
   "execution_count": 16,
   "metadata": {},
   "outputs": [
    {
     "name": "stdout",
     "output_type": "stream",
     "text": [
      "{1, 2, 3, 4, 5}\n"
     ]
    }
   ],
   "source": [
    "## Adding Items using add() method \n",
    "\n",
    "S = {1,2,3,4} # set\n",
    "S.add(5) # add 5 in set S \n",
    "print(S) # {1, 2, 3, 4, 5}\n",
    "\n",
    "# Using add method we can add only one item at a time in set but we can add multiple items at a time in set using update() method ."
   ]
  },
  {
   "cell_type": "code",
   "execution_count": 17,
   "metadata": {},
   "outputs": [
    {
     "name": "stdout",
     "output_type": "stream",
     "text": [
      "{1, 2, 3, 4, 11, 12, 13}\n"
     ]
    }
   ],
   "source": [
    "## Adding multiple items using update() method\n",
    "\n",
    "S = {1,2,3,4} # set\n",
    "S.update([11,12,13])  # add multiple items in set S and list is passed as argument and it will automatically convert list to set\n",
    "print(S) # {1, 2, 3, 4, 11, 12, 13}\n",
    "\n",
    "# Using add method we can add only one item at a time in set but we can add multiple items at a time in set using update() method ."
   ]
  },
  {
   "cell_type": "markdown",
   "metadata": {},
   "source": [
    "#### Deleting Items in a Set :\n",
    "\n",
    "Deleting items in a set can be done using the `remove()`, `discard()`, `pop()` and `clear()` methods.\n",
    "\n",
    "- **`discard()` method** : This method removes the specified item from the set. If the item is not present in the set, it will not raise an error. It will just ignore the item and return the same set without any changes.\n",
    "\n",
    "Example: \n",
    "\n",
    "```python\n",
    "\n",
    "s = {1,2,3,4,5}\n",
    "s.discard(5) # If the item is not present in the set, it will not raise an error.\n",
    "print(s)\n",
    "```\n",
    "\n",
    "Output:\n",
    "\n",
    "```\n",
    "{1, 2, 3, 4}\n",
    "```\n",
    "\n",
    "- **`remove()` method** : This method removes the specified item from the set. If the item is not present in the set, it will raise an error. It will raise a `KeyError` if the item is not present in the set.\n",
    "\n",
    "Example: \n",
    "\n",
    "```python\n",
    "\n",
    "s = {1,2,3,4,5,50}\n",
    "s.remove(50) # If the item is not present in the set, it will raise a KeyError.\n",
    "print(s)\n",
    "```\n",
    "\n",
    "Output:\n",
    "\n",
    "```\n",
    "{1, 2, 3, 4, 5}\n",
    "```\n",
    "\n",
    "\n",
    "- **`pop()` method** : This method removes the last item from the set. But, as sets are unordered, we cannot determine which item will be removed. It will return the removed item.\n",
    "\n",
    "Example: \n",
    "\n",
    "```python\n",
    "s = {1,2,3,4,5,50}\n",
    "s.pop()   # We can't determine which item will be removed because sets are unordered.\n",
    "print(s)\n",
    "```\n",
    "\n",
    "Output:\n",
    "\n",
    "```\n",
    "{2, 3, 4, 5, 50}\n",
    "```\n",
    "\n",
    "\n",
    "- **`clear()` method** : This method removes all the items from the set. It will return an empty set.\n",
    "\n",
    "Example: \n",
    "\n",
    "```python\n",
    "s = {1,2,3,4,5,50}\n",
    "s.clear() # It will remove all the items from the set.\n",
    "print(s)\n",
    "```\n",
    "\n",
    "Output:\n",
    "\n",
    "```\n",
    "set()\n",
    "```\n",
    "\n"
   ]
  },
  {
   "cell_type": "markdown",
   "metadata": {},
   "source": []
  }
 ],
 "metadata": {
  "kernelspec": {
   "display_name": "base",
   "language": "python",
   "name": "python3"
  },
  "language_info": {
   "codemirror_mode": {
    "name": "ipython",
    "version": 3
   },
   "file_extension": ".py",
   "mimetype": "text/x-python",
   "name": "python",
   "nbconvert_exporter": "python",
   "pygments_lexer": "ipython3",
   "version": "3.12.4"
  }
 },
 "nbformat": 4,
 "nbformat_minor": 2
}
