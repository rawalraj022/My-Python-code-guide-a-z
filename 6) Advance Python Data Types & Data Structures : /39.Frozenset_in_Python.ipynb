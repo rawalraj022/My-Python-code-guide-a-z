{
 "cells": [
  {
   "cell_type": "markdown",
   "metadata": {},
   "source": [
    "# Frozenset in Python :\n",
    "\n",
    "Frozen set is just an immutable version of a Python set object. \n",
    "\n",
    "While elements of a set can be modified at any time, elements of the frozen set remain the same after creation. Due to this, frozen sets can be used as keys in Dictionary or as elements of another set. But like sets, it is not ordered (the elements can be set in any order). \n",
    "\n",
    "Frozen sets are created using the function `frozenset()`. It takes an iterable object as input and makes them immutable.\n",
    "\n",
    "**We can do all the operations on a frozen set that we can do on a normal set. But we cannot add or remove elements from a frozen set.** \n",
    "\n",
    "Syntax : `frozenset([iterable])`\n",
    "\n",
    "### Properties of Frozen set :\n",
    "\n",
    "1. Frozen set is just an immutable version of a Python set object.\n",
    "2. While elements of a set can be modified at any time, elements of the frozen set remain the same after creation.\n",
    "3. Due to this, frozen sets can be used as keys in Dictionary or as elements of another set.\n",
    "4. But like sets, it is not ordered (the elements can be set in any order).\n",
    "\n"
   ]
  },
  {
   "cell_type": "code",
   "execution_count": 1,
   "metadata": {},
   "outputs": [
    {
     "name": "stdout",
     "output_type": "stream",
     "text": [
      "frozenset({1, 2, 3, 4})\n",
      "frozenset({3, 4, 5, 6})\n"
     ]
    }
   ],
   "source": [
    "# Creating a frozenset object in Python \n",
    "\n",
    "fs1 = frozenset([1,2,3,4])\n",
    "fs2 = frozenset([3,4,5,6])\n",
    "print(fs1) # frozenset({1, 2, 3, 4})\n",
    "print(fs2) # frozenset({3, 4, 5, 6})\n"
   ]
  },
  {
   "cell_type": "code",
   "execution_count": 3,
   "metadata": {},
   "outputs": [
    {
     "data": {
      "text/plain": [
       "frozenset({1, 2, 3, 4, 5, 6})"
      ]
     },
     "execution_count": 3,
     "metadata": {},
     "output_type": "execute_result"
    }
   ],
   "source": [
    "## Frozenset Union Operation\n",
    "\n",
    "# The union of two sets is the set of all elements that are in either set.\n",
    "\n",
    "fs1 = frozenset([1,2,3,4])  # It will create a frozenset object with elements 1,2,3,4\n",
    "fs2 = frozenset([3,4,5,6])  # It will create a frozenset object with elements 3,4,5,6 \n",
    "\n",
    "fs1 | fs2  # frozenset({1, 2, 3, 4, 5, 6})\n"
   ]
  },
  {
   "cell_type": "code",
   "execution_count": 5,
   "metadata": {},
   "outputs": [
    {
     "data": {
      "text/plain": [
       "frozenset({3, 4})"
      ]
     },
     "execution_count": 5,
     "metadata": {},
     "output_type": "execute_result"
    }
   ],
   "source": [
    "## Frozenset & Operation \n",
    "\n",
    "# The intersection of two sets is the set of elements that are common to both sets.\n",
    "\n",
    "fs1 = frozenset([1,2,3,4])  # It will create a frozenset object with elements 1,2,3,4\n",
    "fs2 = frozenset([3,4,5,6])  # It will create a frozenset object with elements 3,4,5,6\n",
    "\n",
    "fs1 & fs2  # frozenset({3, 4})\n"
   ]
  },
  {
   "cell_type": "code",
   "execution_count": null,
   "metadata": {},
   "outputs": [],
   "source": []
  },
  {
   "cell_type": "markdown",
   "metadata": {},
   "source": []
  }
 ],
 "metadata": {
  "kernelspec": {
   "display_name": "base",
   "language": "python",
   "name": "python3"
  },
  "language_info": {
   "codemirror_mode": {
    "name": "ipython",
    "version": 3
   },
   "file_extension": ".py",
   "mimetype": "text/x-python",
   "name": "python",
   "nbconvert_exporter": "python",
   "pygments_lexer": "ipython3",
   "version": "3.12.4"
  }
 },
 "nbformat": 4,
 "nbformat_minor": 2
}
