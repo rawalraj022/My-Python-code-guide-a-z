{
 "cells": [
  {
   "cell_type": "markdown",
   "id": "e7bbe2c6",
   "metadata": {},
   "source": [
    "# Solve day to day problems using python\n",
    "\n",
    "- Automate repetitive tasks\n",
    "- Data analysis and visualization\n",
    "- Web scraping\n",
    "- Build simple web applications\n",
    "- Create scripts to manage files and folders\n",
    "...\n",
    "..\n",
    ".."
   ]
  },
  {
   "cell_type": "markdown",
   "id": "40e2f6e6",
   "metadata": {},
   "source": []
  }
 ],
 "metadata": {
  "language_info": {
   "name": "python"
  }
 },
 "nbformat": 4,
 "nbformat_minor": 5
}
