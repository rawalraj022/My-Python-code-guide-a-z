{
 "cells": [
  {
   "cell_type": "markdown",
   "metadata": {},
   "source": [
    "# Doc strings in functions in Python : \n",
    "\n",
    "Doc strings are used to provide documentation for the functions. It is used to explain what the function does, what are the parameters it takes and what does it return.\n",
    "\n",
    "Doc strings are written in triple quotes. They are written in the first line of the function.\n",
    "\n",
    "**[Experience as a developer in company]** When ever we are creating a function, there are two points of view :\n",
    "As a developer we experience this particular things always senior programmer creates a function and Junior programmer uses that particular function.\n",
    "Now when ever we are creating a function we have to take care all the conditions. Let's say in some cases if a junior programmer is using that particular function and he/she doesn't know what the function is doing then junior programmer can make mistake and that mistake can be very dangerous. So as a senior programmer we have the responsibility to handle this kinds of situation because I am a senior programmer and I am designing this particular function , so this particular function should be robust, so if it is getting any random input I should take care this particular part. Otherwise company will blame on top of I only not on top of the junior programmer because junior programmer hasn't written this particular function .\n",
    "\n",
    "So , when ever we are creating any kinds of function I also need to give the proper information of the function like what this function does , how this function works, what are the parameters it takes and what does it return and what kinds of condition it can take and what kinds of condition it can support everything . So that junior programmer can easily understand what this function does and how to use this function.\n",
    "\n",
    "**So, To mention all these kinds of message or information we use doc string.** \n",
    "To do this we use 6 double quotes or 3 double quotes in the first line of the function and we write the information in between the double quotes is called **doc string.**\n",
    "\n",
    "We can install the **\"autoDocstring\"** extension in the VS code to generate the doc string automatically.\n",
    "\n",
    "\n",
    "**Syntax :** \n",
    "```python\n",
    "def function_name(parameters):\n",
    "    \"\"\"\n",
    "    Doc string\n",
    "    \"\"\"\n",
    "    # code\n",
    "```\n",
    "\n",
    "**Example :** \n",
    "```python\n",
    "def add(a, b):\n",
    "    \"\"\"\n",
    "    This function takes two numbers as input and returns their sum\n",
    "    \"\"\"\n",
    "    return a+b\n",
    "```\n",
    "\n",
    "**Doc strings can be accessed using the `__doc__` attribute of the function.** \n",
    "\n",
    "Example : \n",
    "```python\n",
    "print(add.__doc__)\n",
    "```\n",
    "\n",
    "Output : \n",
    "```\n",
    "This function takes two numbers as input and returns their sum\n",
    "```\n",
    "\n",
    "**Doc strings are also used to generate documentation for the functions using the `help()` function.**\n",
    "\n",
    "Example : \n",
    "```python\n",
    "\n",
    "help(add)\n",
    "```\n",
    "\n",
    "Output : \n",
    "```\n",
    "Help on function add in module __main__:    \n",
    "\n",
    "add(a, b)    \n",
    "    This function takes two numbers as input and returns their sum\n",
    "``` \n",
    "\n",
    "**Note :** Doc strings are optional but it is a good practice to include them in the functions.\n",
    "\n"
   ]
  },
  {
   "cell_type": "code",
   "execution_count": 5,
   "metadata": {},
   "outputs": [
    {
     "name": "stdout",
     "output_type": "stream",
     "text": [
      "Wrong input\n"
     ]
    }
   ],
   "source": [
    "## Exercise :\n",
    "## Q) Write a function that takes a number as an argument and returns \"Even Number\" if the number is even, \"Odd Number\" if the number is odd, and \"Wrong input\" if the input is not a number.\n",
    "\n",
    "\n",
    "# function definition and implementation\n",
    "def odd_even(num):      # function definition with one parameter num \n",
    "    \"\"\" \n",
    "    This function checks if a given number is odd or even.\n",
    "    input: any valid number/integer\n",
    "    output: odd / even\n",
    "    Created Date: 8-14-2024\n",
    "    \"\"\"\n",
    "    if type(num) == int:  # checking if the input is integer or not  \n",
    "        if num % 2 == 0:  # checking if the number is even or odd \n",
    "            return \"Even Number\"\n",
    "        else:\n",
    "            return \"Odd Number\"\n",
    "    else:\n",
    "        return \"Wrong input\"\n",
    "\n",
    "# calling the function with different inputs \n",
    "res = odd_even(\"Bappy\")  # calling the function with a string input Bappy \n",
    "print(res)   # Printing the output of the function\n",
    "\n"
   ]
  },
  {
   "cell_type": "markdown",
   "metadata": {},
   "source": [
    "**Explanation of the code :**\n",
    "\n",
    "- \"def\" is the keyword used to define a function in Python.\n",
    "- \"odd_even\" is the name of the function.\n",
    "- \"num\" is the parameter of the function.\n",
    "- \"This function takes a number as input and returns whether the number is odd or even\" is the doc string of the function. In 6 double quotes, we write the information about the function.\n",
    "- \"Function body or logic\" is written below the doc string like \"if num%2==0:\" and \"return 'Even'\" and \"else:\" and \"return 'Odd'\" are the code of the function which checks whether the number is even or odd and returns the result.\n",
    "- \"Function calling\" is done by \"print(odd_even(5))\" and the output is \"Odd\" because 5 is an odd number.\n"
   ]
  },
  {
   "cell_type": "code",
   "execution_count": 2,
   "metadata": {},
   "outputs": [
    {
     "name": "stdout",
     "output_type": "stream",
     "text": [
      " \n",
      "    This function checks if a given number is odd or even.\n",
      "    input: any valid number/integer\n",
      "    output: odd / even\n",
      "    Created Date: 8-14-2024\n",
      "    \n"
     ]
    }
   ],
   "source": [
    "# printing the docstring of the function odd_even as a documentation \n",
    "\n",
    "print(odd_even.__doc__)  # __doc__ is a special attribute of the function object that returns the docstring of the function odd_even ."
   ]
  },
  {
   "cell_type": "code",
   "execution_count": 6,
   "metadata": {},
   "outputs": [
    {
     "name": "stdout",
     "output_type": "stream",
     "text": [
      "max(iterable, *[, default=obj, key=func]) -> value\n",
      "max(arg1, arg2, *args, *[, key=func]) -> value\n",
      "\n",
      "With a single iterable argument, return its biggest item. The\n",
      "default keyword-only argument specifies an object to return if\n",
      "the provided iterable is empty.\n",
      "With two or more arguments, return the largest argument.\n"
     ]
    }
   ],
   "source": [
    "# printing the docstring of the built-in function max as a documentation\n",
    "\n",
    "print(max.__doc__)  # __doc__ is a special attribute of the function object that returns the docstring of the built-in function max ."
   ]
  },
  {
   "cell_type": "code",
   "execution_count": null,
   "metadata": {},
   "outputs": [],
   "source": []
  }
 ],
 "metadata": {
  "kernelspec": {
   "display_name": "base",
   "language": "python",
   "name": "python3"
  },
  "language_info": {
   "codemirror_mode": {
    "name": "ipython",
    "version": 3
   },
   "file_extension": ".py",
   "mimetype": "text/x-python",
   "name": "python",
   "nbconvert_exporter": "python",
   "pygments_lexer": "ipython3",
   "version": "3.12.4"
  }
 },
 "nbformat": 4,
 "nbformat_minor": 2
}
