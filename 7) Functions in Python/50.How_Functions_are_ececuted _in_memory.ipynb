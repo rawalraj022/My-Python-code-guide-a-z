{
 "cells": [
  {
   "cell_type": "markdown",
   "metadata": {},
   "source": [
    "# How Functions are executed in memory : \n",
    "\n",
    "When ever we are working with function , the function will always try to create a temporary block in the memory and once the function execution is completed the block will be deleted from the memory.\n",
    "\n",
    "**Example scenario :**  \n",
    "\n",
    "Let's see the below example to understand how the function is executed in the memory.\n",
    "\n",
    "```python\n",
    "def add(a,b):\n",
    "    return a+b\n",
    "\n",
    "result = add(10,20)\n",
    "print(result)\n",
    "```\n",
    "\n",
    "In the above example , the function `add` is called with two arguments `10` and `20` and the function will create a temporary block in the memory and it will store the values of the arguments `10` and `20` in the memory and it will return the sum of the two arguments `10` and `20` which is `30`. Once the function execution is completed the block will be deleted from the memory.\n"
   ]
  },
  {
   "cell_type": "code",
   "execution_count": 1,
   "metadata": {},
   "outputs": [
    {
     "name": "stdout",
     "output_type": "stream",
     "text": [
      "Odd Number\n"
     ]
    }
   ],
   "source": [
    "## Q) Write a function to check if a number is odd or even and print the result. \n",
    "\n",
    "# Function to check if a number is odd or even\n",
    "def odd_even(num):  \n",
    "    if num % 2 == 0:\n",
    "        return \"Even Number\"\n",
    "    else:\n",
    "        return \"Odd Number\"\n",
    "\n",
    "# Calling the function and printing the result\n",
    "print(odd_even(5))\n",
    "\n"
   ]
  },
  {
   "cell_type": "code",
   "execution_count": null,
   "metadata": {},
   "outputs": [],
   "source": []
  }
 ],
 "metadata": {
  "kernelspec": {
   "display_name": "base",
   "language": "python",
   "name": "python3"
  },
  "language_info": {
   "codemirror_mode": {
    "name": "ipython",
    "version": 3
   },
   "file_extension": ".py",
   "mimetype": "text/x-python",
   "name": "python",
   "nbconvert_exporter": "python",
   "pygments_lexer": "ipython3",
   "version": "3.12.4"
  }
 },
 "nbformat": 4,
 "nbformat_minor": 2
}
