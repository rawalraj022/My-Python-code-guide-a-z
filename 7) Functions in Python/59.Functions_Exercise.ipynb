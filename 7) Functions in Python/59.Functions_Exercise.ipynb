{
 "cells": [
  {
   "cell_type": "markdown",
   "metadata": {},
   "source": [
    "#### **Problem-1:** Write a Python function that takes a list and returns a new list with unique elements of the first list.\n",
    "\n",
    "Example:\n",
    "\n",
    "Input:\n",
    "\n",
    "[1,2,3,3,3,3,4,5]\n",
    "\n",
    "Output:\n",
    "\n",
    "[1, 2, 3, 4, 5]\n"
   ]
  },
  {
   "cell_type": "code",
   "execution_count": 1,
   "metadata": {},
   "outputs": [
    {
     "name": "stdout",
     "output_type": "stream",
     "text": [
      "[1, 2, 3, 4, 5]\n"
     ]
    }
   ],
   "source": [
    "# Solution : \n",
    "\n",
    "def unique_items(L):  # defining a function called unique_items that takes a list\n",
    "    results = []    # creating an empty list called results to store the unique items\n",
    "    for item in L:   # iterating over each item in the input list L \n",
    "        if item not in results:  # checking if the item is already in the results list\n",
    "            results.append(item)  # if the item is not in the results list, it appends the item to the results list\n",
    "    return results   # returning the results list containing only the unique items from the input list L\n",
    "\n",
    "L = [1,2,3,3,3,3,4,5]  # defining a list L that contains duplicate items\n",
    "out = unique_items(L)  # calling the unique_items function with the input list L and storing the result in a variable called out\n",
    "print(out)  # printing the result of the unique_items function, which is a new list containing only the unique items from the input list\n",
    "\n",
    "## Explanation of the above code: \n",
    "\n",
    "# The function unique_items takes a list L as input and returns a new list that contains only the unique items from L.\n",
    "# The function creates an empty list called results to store the unique items.\n",
    "# It then iterates over each item in the input list L.\n",
    "# For each item, it checks if the item is already in the results list using the in operator.\n",
    "# If the item is not in the results list, it appends the item to the results list.\n",
    "# Finally, the function returns the results list containing only the unique items from the input list L.\n",
    "\n",
    "# The input list L contains duplicate items, such as 3 and 3. The function unique_items removes the duplicate items and returns a new list [1, 2, 3, 4, 5] containing only the unique items from the input list L.\n",
    "\n"
   ]
  },
  {
   "cell_type": "markdown",
   "metadata": {},
   "source": [
    "#### **Problem-2:** Write a Python function that accepts a hyphen-separated sequence of words as parameter and returns the words in a hyphen-separated sequence after sorting them alphabetically.\n",
    "\n",
    "Example:\n",
    "\n",
    "Input:\n",
    "\n",
    "green-red-yellow-black-white\n",
    "\n",
    "Output:\n",
    "\n",
    "black-green-red-white-yellow\n"
   ]
  },
  {
   "cell_type": "code",
   "execution_count": 3,
   "metadata": {},
   "outputs": [
    {
     "name": "stdout",
     "output_type": "stream",
     "text": [
      "black-green-red-white-yellow\n"
     ]
    }
   ],
   "source": [
    "# Solution : \n",
    "\n",
    "def sort_sequence(s):  # defining a function called sort_sequence that takes a string as input \n",
    "    temp = []         # creating an empty list called temp to store the sorted items\n",
    "    for item in sorted(s.split(\"-\")):   # iterating over each item in the sorted list of items obtained by splitting the input string s by \"-\"\n",
    "        temp.append(item)    # appending each item to the temp list \n",
    "    return \"-\".join(temp)   # returning the sorted items in the temp list as a string joined by \"-\"\n",
    "\n",
    "s = \"green-red-yellow-black-white\"  # defining a string s that contains items separated by \"-\"\n",
    "out = sort_sequence(s)   # calling the sort_sequence function with the input string s and storing the result in a variable called out\n",
    "print(out)             # printing the result of the sort_sequence function, which is a new string with the items sorted alphabetically and separated by \"-\"\n",
    "\n",
    "## Explanation of the above code:\n",
    "\n",
    "# The function sort_sequence takes a string s as input and returns a new string with the items sorted alphabetically and separated by \"-\".\n",
    "# The function first splits the input string s by \"-\" using the split method, which returns a list of items.\n",
    "# It then sorts the list of items using the sorted function, which returns a new list of sorted items.  \n",
    "# The function iterates over each item in the sorted list of items and appends them to an empty list called temp.\n",
    "# Finally, the function joins the sorted items in the temp list into a new string using the join method with \"-\" as the separator.\n",
    "# The function returns the new string with the sorted items separated by \"-\".\n",
    "\n"
   ]
  },
  {
   "cell_type": "markdown",
   "metadata": {},
   "source": [
    "#### **Problem 3-** A dictionary contains following information about 5 employees:\n",
    "\n",
    "- First name\n",
    "- Last name\n",
    "- Age\n",
    "- Grade(Skilled,Semi-skilled,Highly skilled)\n",
    "\n",
    "Write a program using map/filter/reduce to a list of employees(first name + last name) who are highly skilled\n",
    "\n",
    "```python\n",
    "employees = [\n",
    "    {\n",
    "        'fname':'Bappy',\n",
    "        'lname':'Ahmed',\n",
    "        'age' : 33,\n",
    "        'grade':'skilled'\n",
    "    },\n",
    "    {\n",
    "        'fname':'Alex',\n",
    "        'lname':'Musk',\n",
    "        'age' : 34,\n",
    "        'grade':'semi-skilled'\n",
    "    },\n",
    "    {\n",
    "        'fname':'Bunny',\n",
    "        'lname':'Singh',\n",
    "        'age' : 35,\n",
    "        'grade':'highly-skilled'\n",
    "    },\n",
    "    {\n",
    "        'fname':'Anurag',\n",
    "        'lname':'Kumar',\n",
    "        'age' : 30,\n",
    "        'grade':'skilled'\n",
    "    },\n",
    "    {\n",
    "        'fname':'Abhinav',\n",
    "        'lname':'Sharma',\n",
    "        'age' : 37,\n",
    "        'grade':'highly-skilled'\n",
    "    }\n",
    "]\n",
    "```"
   ]
  },
  {
   "cell_type": "code",
   "execution_count": 5,
   "metadata": {},
   "outputs": [
    {
     "data": {
      "text/plain": [
       "['Bunny Singh', 'Abhinav Sharma']"
      ]
     },
     "execution_count": 5,
     "metadata": {},
     "output_type": "execute_result"
    }
   ],
   "source": [
    "# Solution :\n",
    "\n",
    "employees = [\n",
    "    {\n",
    "        'fname':'Rajkumar',\n",
    "        'lname':'Rawal',\n",
    "        'age' : 23,\n",
    "        'grade':'skilled'\n",
    "    },\n",
    "    {\n",
    "        'fname':'Alex',\n",
    "        'lname':'Musk',\n",
    "        'age' : 34,\n",
    "        'grade':'semi-skilled'\n",
    "    },\n",
    "    {\n",
    "        'fname':'Bunny',\n",
    "        'lname':'Singh',\n",
    "        'age' : 35,\n",
    "        'grade':'highly-skilled'\n",
    "    },\n",
    "    {\n",
    "        'fname':'Anurag',\n",
    "        'lname':'Kumar',\n",
    "        'age' : 30,\n",
    "        'grade':'skilled'\n",
    "    },\n",
    "    {\n",
    "        'fname':'Abhinav',\n",
    "        'lname':'Sharma',\n",
    "        'age' : 37,\n",
    "        'grade':'highly-skilled'\n",
    "    }\n",
    "]\n",
    "\n",
    "\n",
    "list(map(lambda x:x['fname'] + \" \" + x['lname'], list(filter(lambda x: True if x['grade'] == \"highly-skilled\" else False,employees))))\n",
    "\n",
    "## Explanation of the above code:\n",
    "\n",
    "# The code snippet uses the map and filter functions to extract the full names of employees who have a grade of \"highly-skilled\" from a list of employee dictionaries.\n",
    "\n",
    "# The list of employee dictionaries is stored in the variable employees.\n",
    "# The filter function is used to filter out the employee dictionaries that have a grade of \"highly-skilled\". \n",
    "    # The lambda function x: True if x['grade'] == \"highly-skilled\" else False is used as the filter condition.\n",
    "    # x['grade'] is the grade of the employee, and the condition checks if the grade is equal to \"highly-skilled\".\n",
    "    # If the condition is True, the lambda function returns True, indicating that the employee should be included in the filtered list.\n",
    "    # If the condition is False, the lambda function returns False, indicating that the employee should be excluded from the filtered list.\n",
    "# The filter function returns a filter object, which is then converted to a list using the list function.\n",
    "\n",
    "# The map function is used to extract the full names of the filtered employees. \n",
    "    # The lambda function x: x['fname'] + \" \" + x['lname'] is used to concatenate the first name and last name of each employee.\n",
    "    # x['fname'] is the first name of the employee, and x['lname'] is the last name of the employee.\n",
    "# The map function returns a map object, which is then converted to a list using the list function.\n",
    "\n",
    "# The final result is a list of full names of employees who have a grade of \"highly-skilled\". The list is printed as the output of the code snippet.\n",
    "\n"
   ]
  },
  {
   "cell_type": "code",
   "execution_count": null,
   "metadata": {},
   "outputs": [],
   "source": []
  }
 ],
 "metadata": {
  "kernelspec": {
   "display_name": "base",
   "language": "python",
   "name": "python3"
  },
  "language_info": {
   "codemirror_mode": {
    "name": "ipython",
    "version": 3
   },
   "file_extension": ".py",
   "mimetype": "text/x-python",
   "name": "python",
   "nbconvert_exporter": "python",
   "pygments_lexer": "ipython3",
   "version": "3.12.4"
  }
 },
 "nbformat": 4,
 "nbformat_minor": 2
}
