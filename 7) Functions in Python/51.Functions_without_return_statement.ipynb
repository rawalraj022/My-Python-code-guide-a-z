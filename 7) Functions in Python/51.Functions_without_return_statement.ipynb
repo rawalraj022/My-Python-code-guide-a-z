{
 "cells": [
  {
   "cell_type": "markdown",
   "metadata": {},
   "source": [
    "# Functions without return statement : \n",
    "\n",
    "Functions in Python are defined using the `def` keyword. A function is a block of code which only runs when it is called. You can pass data, known as parameters, into a function. A function can return data as a result. \n",
    "\n",
    "If we are not using the `return` statement in a function, then the function will return `None` by default.\n"
   ]
  },
  {
   "cell_type": "code",
   "execution_count": null,
   "metadata": {},
   "outputs": [
    {
     "name": "stdout",
     "output_type": "stream",
     "text": [
      "Odd Number\n",
      "None\n"
     ]
    }
   ],
   "source": [
    "## Q) Not using return statement in function, instead using print statement. What will be the output of the function?\n",
    "\n",
    "def odd_even(num):  # Function to check if the number is odd or even\n",
    "    if num % 2 == 0: # If the number is divisible by 2 then it is even number\n",
    "        print(\"Even Number\") # Print the number is even\n",
    "    else:\n",
    "        print(\"Odd Number\")  # Print the number is odd\n",
    "    \n",
    "print(odd_even(5)) # Calling the function and passing the number 5 as argument to the function odd_even and printing the output of the function\n",
    "\n",
    "# Output of the function will be none as we are not using return statement in the function.\n",
    "# So, the function will return None as output.\n"
   ]
  },
  {
   "cell_type": "code",
   "execution_count": null,
   "metadata": {},
   "outputs": [],
   "source": []
  }
 ],
 "metadata": {
  "kernelspec": {
   "display_name": "base",
   "language": "python",
   "name": "python3"
  },
  "language_info": {
   "codemirror_mode": {
    "name": "ipython",
    "version": 3
   },
   "file_extension": ".py",
   "mimetype": "text/x-python",
   "name": "python",
   "nbconvert_exporter": "python",
   "pygments_lexer": "ipython3",
   "version": "3.12.4"
  }
 },
 "nbformat": 4,
 "nbformat_minor": 2
}
