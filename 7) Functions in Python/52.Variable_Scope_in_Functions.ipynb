{
 "cells": [
  {
   "cell_type": "markdown",
   "metadata": {},
   "source": [
    "# Variable Scope in Functions : \n",
    "\n",
    "- Global Variables \n",
    "- Local Variables\n",
    "\n",
    "Global and Local variables are two types of variables that are used in functions.\n",
    "\n",
    "Global variables are the variables that are defined outside of the function and can be accessed by any function in the program. \n",
    "\n",
    "Local variables are the variables that are defined inside a function and can be accessed only inside that function.\n",
    "\n",
    "We can't access local variables from outside the function in which they are defined. But we can access global variables from inside a function by using the `global` keyword. \n",
    "\n",
    "\n",
    "#### Global Variables :\n",
    "\n",
    "- Variables that are created outside of a function are known as global variables.\n",
    "- Global variables can be used by everyone, both inside of functions and outside.\n",
    "- Global variables are declared outside of the function and can be used anywhere in the program.\n",
    "\n",
    "Example :\n",
    "\n",
    "```python\n",
    "\n",
    "x = \"global\" # global variable\n",
    "\n",
    "def foo():\n",
    "    print(\"x inside:\", x)  # local variable x is not defined in the function \n",
    "\n",
    "foo()  \n",
    "print(\"x outside:\", x)\n",
    "\n",
    "```\n",
    "\n",
    "Output :\n",
    "\n",
    "```\n",
    "x inside: global\n",
    "x outside: global\n",
    "```\n",
    "\n",
    "#### Local Variables :\n",
    "\n",
    "- Variables that are created inside a function are known as local variables.\n",
    "- Local variables can only be used inside the function where they are declared. \n",
    "- Local variables are declared inside the function and can be used only inside the function.\n",
    "\n",
    "Example :\n",
    "\n",
    "```python\n",
    "\n",
    "def foo():\n",
    "    y = \"local\" # local variable\n",
    "    print(y)\n",
    "\n",
    "foo()  \n",
    "\n",
    "```\n",
    "\n",
    "Output :\n",
    "\n",
    "```\n",
    "local\n",
    "```\n",
    "\n",
    "#### Global and Local Variables with the same name :\n",
    "\n",
    "- If you want to modify the value of a global variable inside a function, you can do so by using the `global` keyword.\n",
    "- If you don't use the `global` keyword, Python will create a new local variable in the function.\n",
    "\n",
    "\n",
    "Example :\n",
    "\n",
    "```python\n",
    "\n",
    "x = \"global\" # global variable \n",
    "\n",
    "def foo():\n",
    "    x = \"local\" # local variable\n",
    "    print(\"x inside:\", x)\n",
    "\n",
    "foo()\n",
    "print(\"x outside:\", x)\n",
    "```\n",
    "\n",
    "Output :\n",
    "```python\n",
    "x inside: local\n",
    "\n",
    "x outside: global\n",
    "```\n"
   ]
  },
  {
   "cell_type": "markdown",
   "metadata": {},
   "source": [
    "#### Exercices :\n"
   ]
  },
  {
   "cell_type": "code",
   "execution_count": 3,
   "metadata": {},
   "outputs": [
    {
     "name": "stdout",
     "output_type": "stream",
     "text": [
      "5\n",
      "6\n",
      "5\n"
     ]
    }
   ],
   "source": [
    "## Q) What a program which will access a global variable from inside a function?\n",
    "\n",
    "# Accessing Global Variable from a inside a local variable function is possible in Python.\n",
    "    # But, if you try to modify the value of that global variable, it will create a new local variable \n",
    "    # inside the function with the same name as the global variable and the global variable will remain unchanged.\n",
    "\n",
    "def g(y):      # y is a local variable and it is being accessed here and printed here \n",
    "    print(x)   # x is a global variable and it is being accessed here and printed here \n",
    "    print(x+1) # x is a global variable and it is being accessed here and incremented by 1 and printed here \n",
    "x = 5          # x is a global variable and it is being accessed here and printed here\n",
    "g(x)           # x is a global variable and it is being passed to the function g() and it is being accessed inside the function and printed here\n",
    "print(x)       # x is a global variable and it is being accessed here and printed here\n",
    "\n"
   ]
  },
  {
   "cell_type": "code",
   "execution_count": 4,
   "metadata": {},
   "outputs": [
    {
     "name": "stdout",
     "output_type": "stream",
     "text": [
      "2\n",
      "5\n"
     ]
    }
   ],
   "source": [
    "## Q) What a program which will modify a global variable from inside a function?\n",
    "\n",
    "# Modifying the global variable from inside the function is not possible in Python.  \n",
    "    # If you try to modify the value of a global variable from inside a function, \n",
    "    # a new local variable with the same name will be created and the changes will be applied to the local variable only.\n",
    "\n",
    "# In the below code, the value of x is not modified inside the function f().\n",
    "def f(y):     # y is a local variable and it is being accessed here and printed here\n",
    "    x = 1    # x is a local variable and it is being accessed here and printed here\n",
    "    x += 1  # x is a local variable and it is being accessed here and incremented by 1 and printed here\n",
    "    print(x) # x is a local variable and it is being accessed here and printed here\n",
    "x = 5       # x is a global variable and it is being accessed here and printed here\n",
    "f(x)       # x is a global variable and it is being passed to the function f() and it is being accessed inside the function and printed here\n",
    "print(x) # x is a global variable and it is being accessed here and printed here\n"
   ]
  },
  {
   "cell_type": "code",
   "execution_count": 5,
   "metadata": {},
   "outputs": [
    {
     "name": "stdout",
     "output_type": "stream",
     "text": [
      "6\n"
     ]
    }
   ],
   "source": [
    "## Q) What a program which will modify a global variable from inside a function using global keyword?\n",
    "\n",
    "# If you want to modify the value of a global variable inside a function, \n",
    "    # you can use the global keyword to declare that the variable is a global variable.\n",
    "\n",
    "# First of all x will look for the local variable x and if it is not found \n",
    "    # then it will look for the global variable x and if it is found then it will use the global variable x.\n",
    "\n",
    "\n",
    "def h(y):    # y is a local variable and it is being accessed here and printed here\n",
    "    global x  # x is a global variable and it is being accessed here and printed here\n",
    "    x += 1    # x is a global variable and it is being accessed here and incremented by 1 and printed here\n",
    "x = 5      # x is a global variable and it is being accessed here and printed here\n",
    "h(x)    # x is a global variable and it is being passed to the function h() and it is being accessed inside the function and printed here\n",
    "print(x)\n",
    "\n",
    "# when you create a variable inside a function, that variable is local, and can only be used inside that function.\n",
    "# To create a global variable inside a function, you can use the global keyword.\n",
    "\n",
    "# Also, use the global keyword if you want to change a global variable inside a function.\n",
    "\n",
    "# Normally global variables are access only from global scope \n",
    "    # but if you want to access global variable from inside a function then you can use global keyword.\n"
   ]
  },
  {
   "cell_type": "code",
   "execution_count": null,
   "metadata": {},
   "outputs": [],
   "source": []
  }
 ],
 "metadata": {
  "kernelspec": {
   "display_name": "base",
   "language": "python",
   "name": "python3"
  },
  "language_info": {
   "codemirror_mode": {
    "name": "ipython",
    "version": 3
   },
   "file_extension": ".py",
   "mimetype": "text/x-python",
   "name": "python",
   "nbconvert_exporter": "python",
   "pygments_lexer": "ipython3",
   "version": "3.12.4"
  }
 },
 "nbformat": 4,
 "nbformat_minor": 2
}
