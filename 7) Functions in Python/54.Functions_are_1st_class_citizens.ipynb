{
 "cells": [
  {
   "cell_type": "markdown",
   "metadata": {},
   "source": [
    "# Functions are 1st class citizens : \n",
    "\n",
    "\n",
    "In Python, functions are first-class citizens. This means that they can be treated like any other value. They can be passed as arguments to functions, returned from functions, assigned to variables, and stored in data structures. This is a powerful feature that allows for more modular and flexible code.\n",
    "\n",
    "It acts like data types, which means we can assign them to variables, store them in data structures, pass them as arguments to functions, and return them from functions.\n",
    "\n",
    "In functional programming, functions are often used as arguments to other functions. This allows for higher-order functions, which are functions that take other functions as arguments or return functions as results. This can be used to create more concise and expressive code. \n",
    "\n",
    "The operations which are performed on other data types like int, float, string, list, tuple, dictionary, set, etc. are also performed on functions. \n",
    "\n",
    "The functions are also treated as objects in Python.\n",
    "\n",
    "In other programming languages, functions are not first-class citizens. They cannot be passed as arguments to other functions, returned from functions, or assigned to variables. However, in Python, functions are first-class citizens, which means they can be treated like any other value. **This allows for more modular and flexible code that will help to build powerful applications like  web applications, data analysis, machine learning, mac applications , android applications, etc. in Python. and also allows for powerful features such as higher-order functions like map, filter, reduce, etc. Also Libraries like pandas, numpy, scikit-learn, etc. are built on top of this concept.** \n",
    "\n",
    "\n",
    "\n",
    "**Here is an example of a higher-order function that takes a function as an argument:**\n",
    "\n",
    "```python\n",
    "def apply_function(func, arg):\n",
    "    return func(arg)\n",
    "\n",
    "def square(x):\n",
    "    return x * x\n",
    "\n",
    "result = apply_function(square, 5)\n",
    "print(result)  # Output: 25\n",
    "```\n",
    "\n",
    "In this example, the `apply_function` function takes another function `func` as an argument and applies it to the argument `arg`. We then define a `square` function that squares its input, and use `apply_function` to apply the `square` function to the number `5`. This demonstrates how functions can be passed as arguments to other functions.\n",
    "\n",
    "**Functions can also be returned from other functions. Here is an example:**\n",
    "\n",
    "```python\n",
    "\n",
    "def create_adder(x):\n",
    "    def adder(y):\n",
    "        return x + y\n",
    "    return adder\n",
    "\n",
    "add_5 = create_adder(5)\n",
    "result = add_5(3)\n",
    "print(result)  # Output: 8\n",
    "```\n",
    "\n",
    "In this example, the `create_adder` function returns another function `adder` that adds a constant `x` to its input `y`. We then use `create_adder` to create an `add_5` function that adds `5` to its input, and apply it to the number `3`. This demonstrates how functions can be returned from other functions.\n",
    "\n",
    "**Functions can also be assigned to variables and stored in data structures. This allows for more modular and flexible code. Here is an example:**\n",
    "\n",
    "```python\n",
    "\n",
    "def greet(name):\n",
    "    return f\"Hello, {name}!\"\n",
    "\n",
    "greet_someone = greet\n",
    "result = greet_someone(\"Alice\")\n",
    "print(result)  # Output: Hello, Alice!\n",
    "```\n",
    "\n",
    "In this example, we assign the `greet` function to the variable `greet_someone`, and then use `greet_someone` to greet the person named \"Alice\". This demonstrates how functions can be assigned to variables.\n",
    "\n",
    "In **conclusion**, functions are first-class citizens in Python, which means they can be treated like any other value. This allows for more modular and flexible code, and enables powerful features such as higher-order functions. By understanding this concept, you can write more concise and expressive code that takes full advantage of the functional programming paradigm.\n",
    "\n",
    "\n",
    "https://en.wikipedia.org/wiki/First-class_citizen \n"
   ]
  },
  {
   "cell_type": "markdown",
   "metadata": {},
   "source": [
    "#### Exercise : "
   ]
  },
  {
   "cell_type": "code",
   "execution_count": 1,
   "metadata": {},
   "outputs": [
    {
     "name": "stdout",
     "output_type": "stream",
     "text": [
      "<class 'function'>\n",
      "4368455840\n"
     ]
    }
   ],
   "source": [
    "## type and id \n",
    "\n",
    "# type() function is used to check the data type of the variable.\n",
    "# id() function is used to check the memory location of the variable. \n",
    "\n",
    "def square(num):  # function definition \n",
    "    return num**2  # return statement used to return the value of the function.\n",
    "\n",
    "print(type(square)) # To check the data type of square function.\n",
    "print(id(square)) # To check the memory location of square function occupies in the memory .\n",
    "\n",
    "\n",
    "# The operations which are performed on other data types like int, float, string, list, tuple, dictionary, set, etc. are also performed on functions. \n",
    "# The functions are also treated as objects in Python.\n"
   ]
  },
  {
   "cell_type": "code",
   "execution_count": 3,
   "metadata": {},
   "outputs": [
    {
     "name": "stdout",
     "output_type": "stream",
     "text": [
      "10\n"
     ]
    }
   ],
   "source": [
    "## reassigning \n",
    "\n",
    "a = 10 \n",
    "b = a\n",
    "\n",
    "print(b) # 10\n"
   ]
  },
  {
   "cell_type": "code",
   "execution_count": null,
   "metadata": {},
   "outputs": [
    {
     "ename": "NameError",
     "evalue": "name 'square' is not defined",
     "output_type": "error",
     "traceback": [
      "\u001b[0;31m---------------------------------------------------------------------------\u001b[0m",
      "\u001b[0;31mNameError\u001b[0m                                 Traceback (most recent call last)",
      "Cell \u001b[0;32mIn[5], line 8\u001b[0m\n\u001b[1;32m      4\u001b[0m     \u001b[38;5;28;01mreturn\u001b[39;00m num\u001b[38;5;241m*\u001b[39m\u001b[38;5;241m*\u001b[39m\u001b[38;5;241m2\u001b[39m  \u001b[38;5;66;03m# return statement used to return the value of the function.\u001b[39;00m\n\u001b[1;32m      6\u001b[0m \u001b[38;5;28;01mdel\u001b[39;00m square  \u001b[38;5;66;03m# To delete the function square  \u001b[39;00m\n\u001b[0;32m----> 8\u001b[0m \u001b[38;5;28mprint\u001b[39m(square)\n",
      "\u001b[0;31mNameError\u001b[0m: name 'square' is not defined"
     ]
    }
   ],
   "source": [
    "## deleting a function \n",
    "\n",
    "def square(num):  # function definition \n",
    "    return num**2  # return statement used to return the value of the function.\n",
    "\n",
    "del square  # To delete the function square  \n",
    "\n",
    "print(square) # NameError: name 'square' is not defined \n"
   ]
  },
  {
   "cell_type": "code",
   "execution_count": 9,
   "metadata": {},
   "outputs": [
    {
     "name": "stdout",
     "output_type": "stream",
     "text": [
      "16\n"
     ]
    }
   ],
   "source": [
    "## storing function in a variable \n",
    "\n",
    "def square(num):  # function definition\n",
    "    return num**2  # return statement used to return the value of the function.\n",
    "\n",
    "L = [ 1, 2, 3, 4, 5, square] # storing the function in a list]\n",
    "print(L[-1](4)) # It will square the number 4 and return the value 16.\n"
   ]
  },
  {
   "cell_type": "code",
   "execution_count": 17,
   "metadata": {},
   "outputs": [
    {
     "name": "stdout",
     "output_type": "stream",
     "text": [
      "{<function square at 0x1046fb380>}\n"
     ]
    }
   ],
   "source": [
    "## Function is mutable or immutable object in Python ?\n",
    "\n",
    "# Functions are immutable objects in Python.\n",
    "# Immutable objects are the objects whose value cannot be changed once they are assigned to a variable in Python.\n",
    "\n",
    "def square(num):  # function definition\n",
    "    return num**2  # return statement used to return the value of the function.\n",
    "\n",
    "## Try to take set because set takes only immutable objects which can't be changed once assigned to a variable. \n",
    "# But here we can store the function in a set which means the function is an immutable object in Python.\n",
    "\n",
    "S = { square }\n",
    "\n",
    "print(S) # {<function square at 0x7f8b1f3b7d30>}"
   ]
  },
  {
   "cell_type": "code",
   "execution_count": null,
   "metadata": {},
   "outputs": [
    {
     "name": "stdout",
     "output_type": "stream",
     "text": [
      "5\n"
     ]
    }
   ],
   "source": [
    "## returning a function from another function \n",
    "\n",
    "def f(): # function definition\n",
    "    def g(a,b):   \n",
    "        return a+b  # return statement used to return the value of the function. \n",
    "    return g  \n",
    "\n",
    "val = f()(2,3) # calling the function f and then calling the function g with the arguments 2 and 3.\n",
    "print(val) # 5 \n",
    "\n",
    "# In the above code, the function f returns the function g and then we are calling the function g with the arguments 2 and 3.\n",
    "# The function g returns the sum of the arguments 2 and 3 which is 5.\n"
   ]
  },
  {
   "cell_type": "code",
   "execution_count": 24,
   "metadata": {},
   "outputs": [
    {
     "name": "stdout",
     "output_type": "stream",
     "text": [
      "inside func_c\n",
      "inside func_a\n",
      "None\n"
     ]
    }
   ],
   "source": [
    "## function as argument \n",
    "\n",
    "def func_a(): \n",
    "    print('inside func_a')\n",
    "\n",
    "def func_b(z):\n",
    "    print('inside func_c')\n",
    "    return z()\n",
    "\n",
    "# calling the function func_b with the argument func_a.\n",
    "print(func_b(func_a))\n",
    "\n",
    "# In the above code, the function func_b is called with the argument func_a. \n",
    "    # which means the function func_a is passed as an argument to the function func_b , \n",
    "    # and then the function func_b is called with the argument func_a.  \n",
    "    # The message inside func_b is printed and \n",
    "    # then the function func_a is called inside the function func_b with the help of the argument z \n",
    "    # which prints the message inside func_a like 'inside func_a'. \n",
    "    # The function func_a returns None and then the value of the function func_a is printed which is None.\n",
    "\n"
   ]
  },
  {
   "cell_type": "code",
   "execution_count": null,
   "metadata": {},
   "outputs": [],
   "source": []
  }
 ],
 "metadata": {
  "kernelspec": {
   "display_name": "base",
   "language": "python",
   "name": "python3"
  },
  "language_info": {
   "codemirror_mode": {
    "name": "ipython",
    "version": 3
   },
   "file_extension": ".py",
   "mimetype": "text/x-python",
   "name": "python",
   "nbconvert_exporter": "python",
   "pygments_lexer": "ipython3",
   "version": "3.12.4"
  }
 },
 "nbformat": 4,
 "nbformat_minor": 2
}
