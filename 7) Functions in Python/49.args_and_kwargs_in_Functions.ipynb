{
 "cells": [
  {
   "cell_type": "markdown",
   "metadata": {},
   "source": [
    "# *args and **kwargs in Python\n",
    "\n",
    "*args and **kwargs are special Python keywords that are used to pass the variable length of arguments to a function\n",
    "\n",
    "# *args in Python : \n",
    "\n",
    "*args is used to pass a variable number of non-keyworded arguments list to a function. It is used to pass a non-keyworded, variable-length argument list.\n",
    "\n",
    "*args will convert the arguments passed to a function into a tuple.\n",
    "\n",
    "Non-keyworded means that the arguments are not passed with a keyword, and the order in which they are passed is important like a = 1, b = 2, c = 3 where a, b, and c are keywords and 1, 2, and 3 are values.\n",
    "\n",
    "Syntax : \n",
    "```python\n",
    "def function_name(*args):\n",
    "    # function body\n",
    "```\n",
    "\n",
    "Example : \n",
    "Q) If you want to pass a variable number of arguments to a function, you can use *args. \n",
    "```python\n",
    "def add(*args): #\n",
    "    sum = 0\n",
    "    for i in args:\n",
    "        sum += i\n",
    "    return sum\n",
    "\n",
    "print(add(1, 2, 3, 4, 5)) # Output : 15\n",
    "```\n",
    "\n"
   ]
  },
  {
   "cell_type": "code",
   "execution_count": null,
   "metadata": {},
   "outputs": [
    {
     "name": "stdout",
     "output_type": "stream",
     "text": [
      "20412000\n"
     ]
    }
   ],
   "source": [
    "## Exercise :\n",
    "## Q) If we want to call the function with as many numbers as we want, how can we do that?\n",
    "\n",
    "def multiply(*args):    # *args is used to pass any number of arguments to the function as a tuple \n",
    "    product = 1     # product is initialized to 1 because if we initialize it to 0, then the product of any number with 0 will be 0\n",
    "    for i in args:    # args is a tuple containing all the arguments passed to the function \n",
    "        product = product * i     # product is multiplied with the current argument and stored in product\n",
    "    \n",
    "    return product  # the final product is returned\n",
    "\n",
    "res = multiply(1,2,3,3,4,5,6,5,6,7,45)  # calling the function with any number of arguments \n",
    "print(res)  # printing the result\n"
   ]
  },
  {
   "cell_type": "code",
   "execution_count": 4,
   "metadata": {},
   "outputs": [
    {
     "name": "stdout",
     "output_type": "stream",
     "text": [
      "20412000\n"
     ]
    }
   ],
   "source": [
    "## Q) We can also change the name of *args to anything else, \n",
    "    # but it is a good practice to use *args as it is more readable and easy to understand. \n",
    "\n",
    "\n",
    "def multiply(*rajkumar):\n",
    "    product = 1\n",
    "    for i in rajkumar:\n",
    "        product = product * i\n",
    "    \n",
    "    return product\n",
    "\n",
    "res = multiply(1,2,3,3,4,5,6,5,6,7,45)\n",
    "print(res)\n"
   ]
  },
  {
   "cell_type": "markdown",
   "metadata": {},
   "source": [
    "# **kwargs in Python :\n",
    "\n",
    "**kwargs allows us to pass any number of keyword arguments.\n",
    "\n",
    "**kwargs is used to convert the keyworded arguments to a dictionary where the key-value pair is the argument name and the value is the value of the argument.\n",
    "\n",
    "Keyword arguments mean that they contain a key-value pair, like a Python dictionary.\n"
   ]
  },
  {
   "cell_type": "code",
   "execution_count": 5,
   "metadata": {},
   "outputs": [
    {
     "name": "stdout",
     "output_type": "stream",
     "text": [
      "name -> Rajkumar\n",
      "age -> 21\n",
      "city -> Kathmandu\n",
      "country -> Nepal\n"
     ]
    }
   ],
   "source": [
    "## Exercises :\n",
    "\n",
    "## Q) Write a function to take any number of keyword arguments and display them. \n",
    "def display(**kwargs):\n",
    "    for (key,val) in kwargs.items():\n",
    "        print(f\"{key} -> {val}\")\n",
    "\n",
    "display(name = \"Rajkumar\", age = 21, city = \"Kathmandu\", country = \"Nepal\")\n"
   ]
  },
  {
   "cell_type": "markdown",
   "metadata": {},
   "source": [
    "We can change the name of **kwargs to anything we want, but **kwargs is a convention.\n"
   ]
  },
  {
   "cell_type": "code",
   "execution_count": 7,
   "metadata": {},
   "outputs": [
    {
     "name": "stdout",
     "output_type": "stream",
     "text": [
      "name -> Rajkumar\n",
      "age -> 21\n",
      "city -> Kathmandu\n",
      "country -> Nepal\n"
     ]
    }
   ],
   "source": [
    "\n",
    "## Q) We can also change the name of **kwargs to anything else,\n",
    "\n",
    "def display(**rajkumar):\n",
    "    for (key,val) in rajkumar.items():\n",
    "        print(f\"{key} -> {val}\")\n",
    "\n",
    "display(name = \"Rajkumar\", age = 21, city = \"Kathmandu\", country = \"Nepal\")\n"
   ]
  },
  {
   "cell_type": "markdown",
   "metadata": {},
   "source": [
    "# Using *args and **kwargs in the same function :\n",
    "\n",
    "We can use both *args and **kwargs in the same function, but *args must be placed before **kwargs. \n",
    "\n",
    "Syntax : \n",
    "```python\n",
    "def function_name(*args, **kwargs):\n",
    "    # function body\n",
    "```\n",
    "\n",
    "Example :\n",
    "Q) If we want to use both *args and **kwargs in a function, we can use them together. \n",
    "```python\n",
    "def add(*args, **kwargs):\n",
    "    sum = 0\n",
    "    for i in args:\n",
    "        sum += i\n",
    "    for key, value in kwargs.items():\n",
    "        sum += value\n",
    "    return sum\n",
    "\n",
    "print(add(1, 2, 3, 4, 5, a = 6, b = 7, c = 8)) # Output : 36\n",
    "```\n",
    "\n",
    "```output\n",
    "15\n",
    "36\n",
    "```\n",
    "\n",
    " \n"
   ]
  },
  {
   "cell_type": "code",
   "execution_count": null,
   "metadata": {},
   "outputs": [],
   "source": []
  }
 ],
 "metadata": {
  "kernelspec": {
   "display_name": "base",
   "language": "python",
   "name": "python3"
  },
  "language_info": {
   "codemirror_mode": {
    "name": "ipython",
    "version": 3
   },
   "file_extension": ".py",
   "mimetype": "text/x-python",
   "name": "python",
   "nbconvert_exporter": "python",
   "pygments_lexer": "ipython3",
   "version": "3.12.4"
  }
 },
 "nbformat": 4,
 "nbformat_minor": 2
}
