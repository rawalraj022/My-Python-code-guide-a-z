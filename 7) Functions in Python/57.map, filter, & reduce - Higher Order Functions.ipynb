{
 "cells": [
  {
   "cell_type": "markdown",
   "metadata": {},
   "source": [
    "- We can use the lambda function using Higher Order Functions to solve the problem in a single line of code in Python programming language.\n",
    "\n",
    "# Higher Order Functions: \n",
    "\n",
    "Higher Order Function takes any function as an input or returns any kind of function as output. \n",
    "\n",
    "Higher Order Functions are the functions that operate with another function and can take functions as arguments or return them.\n",
    "\n",
    "Difference between Higher Order Functions and Normal Functions: \n",
    "\n",
    "1. Normal Functions: Normal functions take arguments and return values.\n",
    "2. Higher Order Functions: Higher Order Functions take functions as arguments and return functions as output.\n",
    "\n",
    "Higher Order function is used to write a code in single line of code and it is used to reduce the code complexity.\n",
    "\n",
    "\n",
    "There are three types of Higher Order Functions: \n",
    "\n",
    "1. Map\n",
    "2. Filter\n",
    "3. Reduce\n"
   ]
  },
  {
   "cell_type": "markdown",
   "metadata": {},
   "source": [
    "#### 1. Map Function:\n",
    "\n",
    "The map() function in Python takes in a function and a list as argument. The function is called with a lambda function and a list and a new list is returned which contains all the lambda modified items returned by that function for each item.\n",
    "\n",
    "Map function is used to apply the lambda function to each element in the list. \n",
    "\n",
    "The return value of the map function is a map object which is not readable. So, we have to convert the output of the map function to the list using the list() function to make it readable and understandable to the user or programmer.\n",
    "\n",
    "\n",
    "Syntax: map(function, list)\n",
    "\n",
    "Example: \n",
    "\n",
    "```python\n",
    "# Q) Write a Python program using lambda function and List to do the map function to find the square of each element in the list. \n",
    "\n",
    "# Input: [1, 2, 3, 4, 5]\n",
    "# Output: [1, 4, 9, 16, 25]\n",
    "\n",
    "# Solution:\n",
    "\n",
    "# Using lambda function and List to do the map function to find the square of each element in the list.\n",
    "\n",
    "result = list(map(lambda x: x**2, [1, 2, 3, 4, 5]))  \n",
    "\n",
    "# [1, 2, 3, 4, 5] is the input list\n",
    "# lambda x: x**2 is the lambda function to find the square of each element in the list where x is the element in the list and x**2 is the square of the element.\n",
    "# # map() function is used to apply the lambda function to each element in the list.\n",
    "# list() function is used to convert the output of the map function to the list because the map function returns the output in the form of map object which is not readable. \n",
    "\n",
    "print(result)        # Output: [1, 4, 9, 16, 25]\n",
    "\n",
    "```\n",
    "Explanation of the above code: \n",
    "\n",
    "- In the above code, we have used the lambda function and List to do the map function to find the square of each element in the list.\n",
    "\n",
    "- We have used the map() function to apply the lambda function to each element in the list. \n",
    "\n",
    "- The lambda function is used to find the square of each element in the list where x is the element in the list and x**2 is the square of the element.\n",
    "\n",
    "- The map() function returns the output in the form of map object which is not readable. So, we have used the list() function to convert the output of the map function to the list to make it readable and understandable to the user or programmer.\n",
    "\n",
    "- Finally, we have printed the output list which contains the square of each element in the input list.\n",
    "\n",
    "\n",
    "**Exercises:**"
   ]
  },
  {
   "cell_type": "code",
   "execution_count": null,
   "metadata": {},
   "outputs": [
    {
     "data": {
      "text/plain": [
       "[1, 4, 9, 16, 25]"
      ]
     },
     "execution_count": 2,
     "metadata": {},
     "output_type": "execute_result"
    }
   ],
   "source": [
    "## square the items of a list using map() function\n",
    "\n",
    "list(map(lambda x: x**2, [1,2,3,4,5]))\n",
    "\n",
    "## Explanation of the code above: \n",
    "# The map() function takes two arguments: a function and a list.\n",
    "# The function is applied to each item in the list.\n",
    "# In this case, the function is a lambda function that squares each item in the list.\n",
    "# The result is a new list with the squared values.\n"
   ]
  },
  {
   "cell_type": "code",
   "execution_count": 4,
   "metadata": {},
   "outputs": [
    {
     "data": {
      "text/plain": [
       "['odd', 'even', 'odd', 'even', 'odd']"
      ]
     },
     "execution_count": 4,
     "metadata": {},
     "output_type": "execute_result"
    }
   ],
   "source": [
    "## odd/even labelling of list items using map() function\n",
    "\n",
    "list(map(lambda x: 'even' if x %2 == 0 else 'odd', [1,2,3,4,5]))\n",
    "\n",
    "## Explanation of the code above:\n",
    "# The map() function takes two arguments: a function and a list.\n",
    "# The function is applied to each item in the list.\n",
    "# In this case, the function is a lambda function that checks if each item is even or odd.\n",
    "# If the item is even, the lambda function returns 'even'. If the item is odd, it returns 'odd'.\n",
    "# The result is a new list with the labels 'even' or 'odd' for each item in the original list.\n"
   ]
  },
  {
   "cell_type": "code",
   "execution_count": 6,
   "metadata": {},
   "outputs": [
    {
     "data": {
      "text/plain": [
       "['Alex', 'Rajkumar', 'Priya']"
      ]
     },
     "execution_count": 6,
     "metadata": {},
     "output_type": "execute_result"
    }
   ],
   "source": [
    "## fetch names from a list of dictionaries using map() function\n",
    "\n",
    "# fetch names is very useful in data science where we have to fetch the column names from a dataframe \n",
    "\n",
    "users = [\n",
    "    {\n",
    "        'name':'Alex',\n",
    "        'age':30,\n",
    "        'gender':'male'\n",
    "    },\n",
    "    {\n",
    "        'name':'Rajkumar',\n",
    "        'age':25,\n",
    "        'gender':'male'\n",
    "    },\n",
    "    {\n",
    "        'name':'Priya',\n",
    "        'age':22,\n",
    "        'gender':'female'\n",
    "    }\n",
    "]\n",
    "\n",
    "list(map(lambda users: users[\"name\"], users))\n",
    "\n",
    "## Explanation of the code above:\n",
    "\n",
    "# The map() function takes two arguments: a function and a list.\n",
    "# The function is applied to each item in the list.\n",
    "# In this case, the function is a lambda function that fetches the 'name' key from each dictionary in the list.\n",
    "# The result is a new list with the names of the users from the original list of dictionaries.\n"
   ]
  },
  {
   "cell_type": "markdown",
   "metadata": {},
   "source": [
    "#### 2. Filter Function: \n",
    "\n",
    "Filter function is used to filter the elements in the list based on the condition given in the lambda function.\n",
    "\n",
    "Syntax: filter(function, list)\n",
    "\n",
    "Example: \n",
    "\n",
    "```python\n",
    "# Q) Write a Python program using lambda function and List to do the filter function to filter the even numbers in the list.\n",
    "\n",
    "# Input: [1, 2, 3, 4, 5, 6, 7, 8, 9, 10]\n",
    "# Output: [2, 4, 6, 8, 10]\n",
    "\n",
    "# Solution:\n",
    "\n",
    "# Using lambda function and List to do the filter function to filter the even numbers in the list.\n",
    "\n",
    "result = list(filter(lambda x: x%2 == 0, [1, 2, 3, 4, 5, 6, 7, 8, 9, 10]))\n",
    "\n",
    "# [1, 2, 3, 4, 5, 6, 7, 8, 9, 10] is the input list\n",
    "# lambda x: x%2 == 0 is the lambda function to filter the even numbers in the list where x is the element in the list and x%2 == 0 is the condition to filter the even numbers.\n",
    "# filter() function is used to filter the elements in the list based on the condition given in the lambda function.\n",
    "# list() function is used to convert the output of the filter function to the list because the filter function returns the output in the form of filter object which is not readable.\n",
    "\n",
    "print(result)        # Output: [2, 4, 6, 8, 10]\n",
    "\n",
    "```\n",
    "Explanation of the above code:\n",
    "\n",
    "- In the above code, we have used the lambda function and List to do the filter function to filter the even numbers in the list.\n",
    "\n",
    "- We have used the filter() function to filter the elements in the list based on the condition given in the lambda function.\n",
    "\n",
    "- The lambda function is used to filter the even numbers in the list where x is the element in the list and x%2 == 0 is the condition to filter the even numbers.\n",
    "\n",
    "- The filter() function returns the output in the form of filter object which is not readable. So, we have used the list() function to convert the output of the filter function to the list to make it readable and understandable to the user or programmer.\n",
    "\n",
    "- Finally, we have printed the output list which contains the even numbers in the input list.\n",
    "\n",
    "\n",
    "**Different between Map and Filter Function:** \n",
    "\n",
    "1. Map Function: Map function is used to apply the lambda function to each element in the list.\n",
    "\n",
    "2. Filter Function: Filter function is used to filter the elements in the list based on the condition given in the lambda function.\n",
    "\n",
    "**Exercises:**"
   ]
  },
  {
   "cell_type": "code",
   "execution_count": null,
   "metadata": {},
   "outputs": [
    {
     "data": {
      "text/plain": [
       "[3, 4, 5]"
      ]
     },
     "execution_count": 8,
     "metadata": {},
     "output_type": "execute_result"
    }
   ],
   "source": [
    "## numbers greater than 2 using filter() function\n",
    "\n",
    "list(filter(lambda x: x>2, [1,2,3,4,5]))\n",
    "\n",
    "## Explanation of the code above:\n",
    "\n",
    "# The filter() function takes two arguments: a function and a list.\n",
    "# The function is applied to each item in the list.\n",
    "# In this case, the function is a lambda function that checks if each item is greater than 2.\n",
    "# If the item is greater than 2, the lambda function returns True, otherwise it returns False.\n",
    "# The result is a new list with only the items that are greater than 2 from the original list.\n"
   ]
  },
  {
   "cell_type": "code",
   "execution_count": 9,
   "metadata": {},
   "outputs": [
    {
     "data": {
      "text/plain": [
       "['apple']"
      ]
     },
     "execution_count": 9,
     "metadata": {},
     "output_type": "execute_result"
    }
   ],
   "source": [
    "## fetch fruits starting with 'a' using filter() function\n",
    "\n",
    "fruits = ['apple','guava','cherry']\n",
    "\n",
    "list(filter(lambda x:x.startswith('a'),fruits))\n",
    "\n",
    "## Explanation of the code above:\n",
    "\n",
    "# The filter() function takes two arguments: a function and a list.\n",
    "# The function is applied to each item in the list.\n",
    "# In this case, the function is a lambda function that checks if each item starts with the letter 'a'.  \n",
    "# If the item starts with 'a', the lambda function returns True, otherwise it returns False.\n",
    "# The result is a new list with only the items that start with the letter 'a' from the original list.\n",
    "\n",
    "# x.startswith('a') is a built-in string method that checks if a string starts with a specific character or substring.\n"
   ]
  },
  {
   "cell_type": "markdown",
   "metadata": {},
   "source": [
    "#### 3. Reduce Function:\n",
    "\n",
    "Reduce function is used to reduce the elements in the list to a single value based on the operation given in the lambda function.\n",
    "\n",
    "Reduce function is not a built-in function in Python. So, we have to import the reduce function from the functools module to use it in the program.\n",
    "\n",
    "\n",
    "Syntax: reduce(function, list)\n",
    "\n",
    "Example: \n",
    "\n",
    "```python\n",
    "# Q) Write a Python program using lambda function and List to do the reduce function to find the sum of all elements in the list.\n",
    "\n",
    "# Input: [1, 2, 3, 4, 5]\n",
    "# Output: 15\n",
    "\n",
    "# Solution:\n",
    "\n",
    "# Using lambda function and List to do the reduce function to find the sum of all elements in the list.\n",
    "\n",
    "from functools import reduce\n",
    "\n",
    "result = reduce(lambda x, y: x+y, [1, 2, 3, 4, 5])\n",
    "\n",
    "# [1, 2, 3, 4, 5] is the input list\n",
    "# lambda x, y: x+y is the lambda function to find the sum of all elements in the list where x and y are the elements in the list and x+y is the sum of the elements.\n",
    "# reduce() function is used to reduce the elements in the list to a single value based on the operation given in the lambda function.\n",
    "# reduce function is not a built-in function in Python. So, we have to import the reduce function from the functools module to use it in the program.\n",
    "\n",
    "print(result)        # Output: 15\n",
    "\n",
    "```\n",
    "Explanation of the above code:\n",
    "\n",
    "- In the above code, we have used the lambda function and List to do the reduce function to find the sum of all elements in the list.\n",
    "\n",
    "- We have imported the reduce function from the functools module to use it in the program.\n",
    "\n",
    "- The lambda function is used to find the sum of all elements in the list where x and y are the elements in the list and x+y is the sum of the elements.\n",
    "\n",
    "- The reduce() function is used to reduce the elements in the list to a single value based on the operation given in the lambda function.\n",
    "\n",
    "- Finally, we have printed the output which contains the sum of all elements in the input list.\n",
    "\n",
    "\n",
    "**Different between Map, Filter and Reduce Function:**\n",
    "\n",
    "1. Map Function: Map function is used to apply the lambda function to each element in the list.\n",
    "\n",
    "2. Filter Function: Filter function is used to filter the elements in the list based on the condition given in the lambda function.\n",
    "\n",
    "3. Reduce Function: Reduce function is used to reduce the elements in the list to a single value based on the operation given in the lambda function.\n",
    "\n",
    "\n",
    "**Exercises:**\n"
   ]
  },
  {
   "cell_type": "markdown",
   "metadata": {},
   "source": []
  },
  {
   "cell_type": "code",
   "execution_count": 10,
   "metadata": {},
   "outputs": [
    {
     "data": {
      "text/plain": [
       "15"
      ]
     },
     "execution_count": 10,
     "metadata": {},
     "output_type": "execute_result"
    }
   ],
   "source": [
    "# sum of all item\n",
    "import functools\n",
    "L = [1,2,3,4,5]\n",
    "functools.reduce(lambda x,y:x+y, L)\n",
    "\n",
    "## Explanation of the code above:\n",
    "\n",
    "# The reduce() function takes two arguments: a function and a list.\n",
    "# The function is applied to each item in the list cumulatively.\n",
    "# In this case, the function is a lambda function that adds two items together.\n",
    "# The result is the sum of all the items in the list.\n",
    "\n",
    "# lambda x,y:x+y is a lambda function that takes two arguments x and y and returns their sum.\n"
   ]
  },
  {
   "cell_type": "code",
   "execution_count": 11,
   "metadata": {},
   "outputs": [
    {
     "data": {
      "text/plain": [
       "1"
      ]
     },
     "execution_count": 11,
     "metadata": {},
     "output_type": "execute_result"
    }
   ],
   "source": [
    "## find minimum value in a list using reduce() function\n",
    "\n",
    "functools.reduce(lambda x,y:x if x<y else y,[23,11,45,10,1])\n",
    "\n",
    "## Explanation of the code above:\n",
    "\n",
    "# The reduce() function takes two arguments: a function and a list.\n",
    "# The function is applied to each item in the list cumulatively.\n",
    "# In this case, the function is a lambda function that compares two items and returns the smaller one.\n",
    "# The result is the minimum value in the list.\n",
    "\n",
    "# lambda x,y:x if x<y else y is a lambda function that takes two arguments x and y and returns the smaller of the two values.\n"
   ]
  },
  {
   "cell_type": "code",
   "execution_count": null,
   "metadata": {},
   "outputs": [],
   "source": []
  }
 ],
 "metadata": {
  "kernelspec": {
   "display_name": "base",
   "language": "python",
   "name": "python3"
  },
  "language_info": {
   "codemirror_mode": {
    "name": "ipython",
    "version": 3
   },
   "file_extension": ".py",
   "mimetype": "text/x-python",
   "name": "python",
   "nbconvert_exporter": "python",
   "pygments_lexer": "ipython3",
   "version": "3.12.4"
  }
 },
 "nbformat": 4,
 "nbformat_minor": 2
}
