{
 "cells": [
  {
   "cell_type": "markdown",
   "metadata": {},
   "source": [
    "# Virtual Environment in Python : \n",
    "\n",
    "When **implement any kinds of projects we use lots of libraries and packages.** All the libraries and packages will have their different different versions. So, to manage all the versions of the libraries and packages we use virtual environment.\n",
    "\n",
    "For example if we go to the **pypi.org** and search for the pandas library, we will see that there are many versions of the pandas library. So, if we want to use a specific version of the pandas library then we can use the virtual environment.\n",
    "\n",
    "If we are working on a project in company or workspace so , may be there would be a requirement we have to use a specific version of the library like **pandas==1.0.0.** so we have to install that version of the library in our project . But when we open the conda prompt base environment is activated by default so if we install the library in the base environment then it will be installed in the base environment and we can't use that library in our project. So, to use that library in our project we have to create a virtual environment and install that library in the virtual environment. \n",
    "\n",
    "If their is some problem in some packages and libraries in current **python version 3.12** so To avoid this problem we may have to use the older version of python like 3.8. or **3.9.** So, to use the older version of python we have to create a virtual environment and install the older version of python in the virtual environment. \n",
    "\n",
    "So, we don't need to install the conda or python again and again to use the different different versions of the libraries and packages. \n",
    "**We can use the virtual environment in python to manage the versions of the libraries and packages and python versions.**\n",
    "\n",
    "We have to use **terminal** or **command prompt** to **create the virtual environment.**\n",
    "\n"
   ]
  },
  {
   "cell_type": "code",
   "execution_count": null,
   "metadata": {},
   "outputs": [],
   "source": [
    "## Creates a virtual environment named project1 with python version 3.9 installed in it using conda package manager \n",
    "\n",
    "conda create -n project1 python=3.9 -y \n",
    "\n",
    "\n",
    "## Explanation of the above command: \n",
    "\n",
    "# conda: package manager used to install packages and dependencies in python \n",
    "# conda create: command to create a new virtual environment\n",
    "# -n project1: name of the virtual environment\n",
    "    # -n: flag to specify the name of the virtual environment\n",
    "    # project1: name of the virtual environment\n",
    "    # -n is called a flag or an option\n",
    "# python=3.9: version of python to be installed in the virtual environment\n",
    "# -y: automatically agree to the installation of packages and dependencies\n"
   ]
  },
  {
   "cell_type": "code",
   "execution_count": null,
   "metadata": {},
   "outputs": [],
   "source": [
    "## OR\n",
    "## Creates a virtual environment named myenv using the built-in venv module in Python 3   \n",
    "\n",
    "python -m venv myenv\n",
    "\n",
    "## Explanation: \n",
    "# The python -m venv myenv command creates a virtual environment named myenv. \n",
    "# This is the recommended way to create virtual environments in Python 3.\n",
    "\n",
    "# python: command to run the python interpreter \n",
    "# -m venv: module to create a virtual environment \n",
    "    # -m: flag to specify a module to run\n",
    "    # -m is called a flag or an option\n",
    "    # venv: module to create a virtual environment \n",
    "    # venv is a built-in module in Python 3 for creating virtual environments\n",
    "    # venv stands for \"virtual environment\"\n",
    "# myenv: name of the virtual environment to be created\n",
    "# The above command will create a virtual environment named myenv in the current directory.\n"
   ]
  },
  {
   "cell_type": "code",
   "execution_count": null,
   "metadata": {},
   "outputs": [],
   "source": [
    "## To activate the virtual environment for built-in venv module in Python 3\n",
    "\n",
    "source myenv/bin/activate\n",
    "\n",
    "## Explanation:\n",
    "# source: command to execute a script in the current shell environment\n",
    "# myenv/bin/activate: path to the activate script in the virtual environment\n",
    "# The source myenv/bin/activate command activates the virtual environment named myenv.\n",
    "# Once activated, the prompt will change to indicate that the virtual environment is active.\n",
    "\n"
   ]
  },
  {
   "cell_type": "code",
   "execution_count": null,
   "metadata": {},
   "outputs": [],
   "source": [
    "## To activate the virtual environment\n",
    "\n",
    "conda activate project1\n",
    "\n",
    "\n",
    "## Explanation of the above command:\n",
    "\n",
    "# conda activate: command to activate a virtual environment\n",
    "# project1: name of the virtual environment to be activated\n"
   ]
  },
  {
   "cell_type": "code",
   "execution_count": null,
   "metadata": {},
   "outputs": [],
   "source": [
    "## To deactivate the virtual environment\n",
    "\n",
    "conda deactivate \n",
    "\n",
    "\n",
    "## Explanation of the above command:\n",
    "\n",
    "# conda deactivate: command to deactivate a virtual environment\n"
   ]
  },
  {
   "cell_type": "code",
   "execution_count": null,
   "metadata": {},
   "outputs": [],
   "source": [
    "## To see all the packages installed in the virtual environment\n",
    "\n",
    "conda list\n",
    "\n",
    "pip list\n",
    "\n",
    "\n",
    "## Explanation of the above command:\n",
    "\n",
    "# conda list: command to see all the packages installed in the virtual environment\n",
    "# pip list: command to see all the packages installed in the virtual environment\n"
   ]
  },
  {
   "cell_type": "code",
   "execution_count": null,
   "metadata": {},
   "outputs": [],
   "source": [
    "## To install a package in the virtual environment using conda package manager \n",
    "\n",
    "conda install pandas==1.3.3 -y\n",
    "\n",
    "\n",
    "## Explanation of the above command:\n",
    "\n",
    "# conda install: command to install a package in the virtual environment using conda package manager\n",
    "# pandas: name of the package to be installed\n",
    "# ==1.3.3: version of the package to be installed\n",
    "# -y: automatically agree to the installation of packages and dependencies\n",
    "\n",
    "\n",
    "## To install a package in the virtual environment using pip package manager\n",
    "\n",
    "pip install pandas==1.3.3 \n",
    "\n",
    "\n",
    "## Explanation of the above command:\n",
    "\n",
    "# pip install: command to install a package in the virtual environment using pip package manager\n",
    "# pandas: name of the package to be installed\n",
    "# ==1.3.3: version of the package to be installed\n",
    "\n"
   ]
  },
  {
   "cell_type": "code",
   "execution_count": null,
   "metadata": {},
   "outputs": [],
   "source": [
    "## To see how many virtual environments are there in the system or computer \n",
    "\n",
    "conda env list\n",
    "\n",
    "\n",
    "## Explanation of the above command:\n",
    "\n",
    "# conda env list: command to see how many virtual environments are there in the system or computer\n"
   ]
  },
  {
   "cell_type": "code",
   "execution_count": null,
   "metadata": {},
   "outputs": [],
   "source": [
    "## To remove or delete a virtual environment\n",
    "\n",
    "conda remove -n project1 --all -y \n",
    "\n",
    "\n",
    "## Explanation of the above command:\n",
    "\n",
    "# conda remove: command to remove or delete a virtual environment\n",
    "# -n project1: name of the virtual environment to be removed\n",
    "# --all: remove all the packages and dependencies installed in the virtual environment\n",
    "# -y: automatically agree to the removal of the virtual environment and its packages and dependencies\n",
    "\n"
   ]
  },
  {
   "cell_type": "code",
   "execution_count": null,
   "metadata": {},
   "outputs": [],
   "source": [
    "## To import a package in a python script in the virtual environment \n",
    "\n",
    "import pandas \n",
    "\n",
    "\n",
    "## Explanation of the above command:\n",
    "\n",
    "# import: keyword used to import a package in a python script\n",
    "# pandas: name of the package to be imported in the python script\n",
    "\n"
   ]
  },
  {
   "cell_type": "code",
   "execution_count": null,
   "metadata": {},
   "outputs": [],
   "source": [
    "## To run a python script or a python program or a python file in the virtual environment\n",
    "\n",
    "python script.py\n",
    "\n",
    "# or\n",
    "\n",
    "python program.py\n",
    "\n",
    "# or\n",
    "\n",
    "python file.py\n",
    "\n",
    "\n",
    "## Explanation of the above command:\n",
    "\n",
    "# python: command to run a python script or a python program or a python file\n",
    "# script.py: name of the python script to be run in the virtual environment\n",
    "# program.py: name of the python program to be run in the virtual environment\n",
    "# file.py: name of the python file to be run in the virtual environment\n",
    "\n"
   ]
  },
  {
   "cell_type": "code",
   "execution_count": null,
   "metadata": {},
   "outputs": [],
   "source": [
    "## Activate the base environment\n",
    "\n",
    "conda activate base\n",
    "\n",
    "\n",
    "## Explanation of the above command:\n",
    "\n",
    "# conda activate: command to activate a virtual environment\n",
    "# base: name of the base environment\n",
    "\n"
   ]
  },
  {
   "cell_type": "code",
   "execution_count": null,
   "metadata": {},
   "outputs": [],
   "source": [
    "## If we want to check the version of python installed in the virtual environment\n",
    "\n",
    "python --version\n",
    "\n",
    "\n",
    "## Explanation of the above command:\n",
    "\n",
    "# python --version: command to check the version of python installed in the virtual environment\n"
   ]
  },
  {
   "cell_type": "code",
   "execution_count": null,
   "metadata": {},
   "outputs": [],
   "source": [
    "## If we want to check the version of a package installed in the virtual environment\n",
    "\n",
    "conda list | grep pandas \n",
    "\n",
    "\n",
    "## Explanation of the above command:\n",
    "\n",
    "# conda list: command to see all the packages installed in the virtual environment\n",
    "# |: pipe operator used to pass the output of one command as input to another command\n",
    "# grep: command used to search for a specific pattern in the output\n",
    "# pandas: name of the package to be searched in the output\n"
   ]
  }
 ],
 "metadata": {
  "kernelspec": {
   "display_name": "base",
   "language": "python",
   "name": "python3"
  },
  "language_info": {
   "codemirror_mode": {
    "name": "ipython",
    "version": 3
   },
   "file_extension": ".py",
   "mimetype": "text/x-python",
   "name": "python",
   "nbconvert_exporter": "python",
   "pygments_lexer": "ipython3",
   "version": "3.12.4"
  }
 },
 "nbformat": 4,
 "nbformat_minor": 2
}
