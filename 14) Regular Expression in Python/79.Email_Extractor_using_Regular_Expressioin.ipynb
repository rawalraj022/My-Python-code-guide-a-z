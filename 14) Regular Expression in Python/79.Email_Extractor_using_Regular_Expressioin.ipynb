{
 "cells": [
  {
   "cell_type": "markdown",
   "metadata": {},
   "source": [
    "- **In previous video we have learned** ,\n",
    "    - how we can use regular expression and\n",
    "    - what is regular expression inside python and\n",
    "    - we see like with the help of regular expression , we can easily extract any kinds of information from a data by just writing few line of code .\n",
    "\n",
    "- **In this particular video** , **we’ll try to extract actually email address with the help of regular expression from a text**.\n",
    "    - Here we can see the text and inside the text , we are having different different email address.\n",
    "\n",
    "- If there is a task we have to extract the email address from a very big document . It was not possible manually by just try to copy paste . It will take lots of time , we have to find out then, copy and then paste it . Again it’s very hetic task  . So, with the help of regular expression we can easily do it .\n",
    "\n",
    "\n",
    "# Email Extractor using Regular Expression : \n",
    "\n"
   ]
  },
  {
   "cell_type": "code",
   "execution_count": 4,
   "metadata": {},
   "outputs": [],
   "source": [
    "## Text data for the email extraction program ## \n",
    "\n",
    "text = '''Cyclone Dumazile was a strong tropical cyclone in \n",
    "the South-West Indian Ocean that affected Madagascar \n",
    "and Réunion in early March 2018. Dumazile originated \n",
    "from a Cyclone low-pressure rawalraj@gmail.com area that formed \n",
    "near Agaléga on 27 February. It became a tropical \n",
    "disturbance on 2 March, and was named the next day \n",
    "after attaining tropical storm status. contact to\n",
    "contact77@gmail.com and alex.gray@amazon.co.uk\n",
    "'''\n"
   ]
  },
  {
   "cell_type": "code",
   "execution_count": 2,
   "metadata": {},
   "outputs": [],
   "source": [
    "import re            ## Importing the regular expression module ## "
   ]
  },
  {
   "cell_type": "code",
   "execution_count": 5,
   "metadata": {},
   "outputs": [
    {
     "name": "stdout",
     "output_type": "stream",
     "text": [
      "['rawalraj@gmail.com', 'contact77@gmail.com', 'alex.gray@amazon.co.uk']\n"
     ]
    },
    {
     "name": "stderr",
     "output_type": "stream",
     "text": [
      "<>:3: SyntaxWarning: invalid escape sequence '\\.'\n",
      "<>:3: SyntaxWarning: invalid escape sequence '\\.'\n",
      "/var/folders/qm/2n8_z1f96kzf44__cvwrlk6c0000gn/T/ipykernel_8428/1225037002.py:3: SyntaxWarning: invalid escape sequence '\\.'\n",
      "  pattern = \"[a-zA-Z0-9_.+-]+@[a-zA-Z0-9-]+\\.[a-zA-Z0-9-.]+\"         # Regular expression pattern for the email extraction with the help of re module and findall function.\n"
     ]
    }
   ],
   "source": [
    "## Defining the pattern for the email extraction ##\n",
    "\n",
    "pattern = \"[a-zA-Z0-9_.+-]+@[a-zA-Z0-9-]+\\.[a-zA-Z0-9-.]+\"         # Regular expression pattern for the email extraction with the help of re module and findall function.\n",
    "\n",
    "emails = re.findall(pattern, text)        # Using the findall function to extract the emails from the text data and storing them in the emails variable.\n",
    "print(emails)       # Printing the extracted emails.\n",
    "\n",
    "\n",
    "## Explanation of above regular expression pattern:\n",
    "# [a-zA-Z0-9_.+-]+ : This part of the pattern is used to match the username part of the email address. It matches one or more occurrences of any alphanumeric character, underscore, dot, plus sign, or hyphen.\n",
    "# @ : This part of the pattern is used to match the '@' symbol in the email address.\n",
    "# [a-zA-Z0-9-]+ : This part of the pattern is used to match the domain name part of the email address. It matches one or more occurrences of any alphanumeric character or hyphen. \n",
    "# \\. : This part of the pattern is used to match the '.' symbol in the email address.\n",
    "# [a-zA-Z0-9-.]+ : This part of the pattern is used to match the top-level domain part of the email address. It matches one or more occurrences of any alphanumeric character, dot, or hyphen.\n",
    "# The regular expression pattern is used to match the email addresses in the given text data. The findall function is used to extract all the email addresses that match the pattern in the text data. The extracted email addresses are stored in the 'emails' variable and printed to the console.\n",
    "# The output of the program will be the list of email addresses extracted from the text data. In this case, the output will be:\n",
    "\n",
    "# We don't need to remember all the patterns, we can easily find them on the internet and use them in our code to extract the required information.\n",
    "# The regular expression pattern used in this program is a common pattern for extracting email addresses from text data. It matches the standard format of email addresses and can be used to extract email addresses from different types of text data.\n",
    "# The re module in Python provides functions for working with regular expressions. The findall function is used to extract all occurrences of a pattern in a string. In this program, the findall function is used to extract email addresses from the text data using the regular expression pattern. The extracted email addresses are stored in a list and printed to the console.\n",
    "# Regular expressions are a powerful tool for pattern matching and text processing. They allow us to define complex patterns for matching strings and extracting specific information from text data. \n",
    "    # By using regular expressions, we can easily extract email addresses, phone numbers, URLs, and other types of information from text data.\n",
    "# Regular expressions are widely used in data processing, text mining, and natural language processing tasks. They provide a flexible and efficient way to search for and extract information from text data.\n",
    "\n"
   ]
  },
  {
   "cell_type": "code",
   "execution_count": 6,
   "metadata": {},
   "outputs": [
    {
     "name": "stdout",
     "output_type": "stream",
     "text": [
      "rawalraj@gmail.com\n",
      "contact77@gmail.com\n",
      "alex.gray@amazon.co.uk\n"
     ]
    }
   ],
   "source": [
    "## Printing the extracted emails in a more readable format in the console ##\n",
    "\n",
    "for email in emails:       # Using a for loop to iterate over the extracted emails and print them in a more readable format.\n",
    "    print(email)       # Printing each email address in a separate line.\n",
    "    "
   ]
  },
  {
   "cell_type": "markdown",
   "metadata": {},
   "source": []
  }
 ],
 "metadata": {
  "kernelspec": {
   "display_name": "base",
   "language": "python",
   "name": "python3"
  },
  "language_info": {
   "codemirror_mode": {
    "name": "ipython",
    "version": 3
   },
   "file_extension": ".py",
   "mimetype": "text/x-python",
   "name": "python",
   "nbconvert_exporter": "python",
   "pygments_lexer": "ipython3",
   "version": "3.12.4"
  }
 },
 "nbformat": 4,
 "nbformat_minor": 2
}
