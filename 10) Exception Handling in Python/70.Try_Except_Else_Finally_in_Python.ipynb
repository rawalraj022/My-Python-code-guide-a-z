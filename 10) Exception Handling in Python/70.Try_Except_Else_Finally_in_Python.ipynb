{
 "cells": [
  {
   "cell_type": "markdown",
   "metadata": {},
   "source": [
    "# Try Except Else Finally in Python :\n",
    "\n",
    "The try block lets you test a block of code for errors.\n",
    "\n",
    "The except block lets you handle the error.\n",
    "\n",
    "The else block lets you execute the code if the try block does not raise any errors.\n",
    "\n",
    "The finally block lets you execute code, regardless of the result of the try- and except blocks.\n",
    "\n",
    "The finally block, if specified, will be executed regardless if the try block raises an error or not.\n",
    "\n",
    "With the finally block, you can close objects and clean up resources. \n",
    "\n",
    "We can use the finally block to close the file, close the network connection, or close the database connection.\n",
    "\n",
    "\n",
    "```python\n",
    "try:\n",
    "  print(x)\n",
    "except:\n",
    "  print(\"An exception occurred\")\n",
    "else:\n",
    "  print(\"No error\")\n",
    "finally:\n",
    "  print(\"The 'try except' is finished\")\n",
    "```\n",
    "\n",
    "\n",
    "**Exercises :**\n"
   ]
  },
  {
   "cell_type": "code",
   "execution_count": 1,
   "metadata": {},
   "outputs": [
    {
     "name": "stdout",
     "output_type": "stream",
     "text": [
      "File not found\n",
      "very important code\n"
     ]
    }
   ],
   "source": [
    "try:\n",
    "    f = open(\"files/sample9.json\", \"r\")\n",
    "except FileNotFoundError:\n",
    "    print(\"File not found\")\n",
    "\n",
    "else:\n",
    "    print(f.read())\n",
    "\n",
    "finally:\n",
    "    print(\"very important code\")\n",
    "\n",
    "\n",
    "## Explanation of above code\n",
    "\n",
    "# In the above code, we have used the try, except, else, and finally blocks.\n",
    "# The code inside the try block is executed. If an exception occurs, the code inside the except block is executed.\n",
    "# If there is no exception, the code inside the else block is executed.\n",
    "# The code inside the finally block is always executed.\n",
    "# The else block is executed only if there is no exception.\n",
    "\n",
    "\n"
   ]
  },
  {
   "cell_type": "markdown",
   "metadata": {},
   "source": [
    "#### Use case of finally block :\n",
    "\n",
    "When ever we are creating real time applications, we need to close the resources like file, database, network connections etc. \n",
    "\n",
    "In such cases we can use finally block to close the resources.\n",
    "\n",
    "**For example:**\n",
    "Let's say in application like facebook is using database to store the user data. \n",
    "\n",
    "When ever facebook application is running , it will open the database connection because facebook application stores the user data in database. \n",
    "\n",
    "Let's say there is an condition where facebook get down or facebook get crashed or facebook get hacked. What will happens , as a developer we have to write one logic to close the database connection as soon as possible because we don't want to keep the database connection open when the application is down or crashed or hacked because if we keep the database connection open then the hacker can easily hack the database and he can easily access the user data which is stored in database and he can easily manipulate the user data which is stored in database and he can easily delete the user data which is stored in database and he can easily insert the user data which is stored in database and he can easily update the user data which is stored in database and he can easily do anything with the user data which is stored in database.\n",
    "\n",
    "So, as a developer we have to write one logic to close the database connection as soon as possible when the application is down or crashed or hacked.\n",
    "\n",
    "In such cases we can use finally block to close the database connection. \n",
    "\n",
    "**For example:**\n",
    "\n",
    "```python\n",
    "\n",
    "try:\n",
    "    # Open the database connection\n",
    "    # Perform the database operations\n",
    "except:\n",
    "    # Handle the exception\n",
    "finally:\n",
    "    # Close the database connection\n",
    "\n",
    "```\n",
    "\n",
    "\n"
   ]
  },
  {
   "cell_type": "markdown",
   "metadata": {},
   "source": []
  }
 ],
 "metadata": {
  "kernelspec": {
   "display_name": "base",
   "language": "python",
   "name": "python3"
  },
  "language_info": {
   "codemirror_mode": {
    "name": "ipython",
    "version": 3
   },
   "file_extension": ".py",
   "mimetype": "text/x-python",
   "name": "python",
   "nbconvert_exporter": "python",
   "pygments_lexer": "ipython3",
   "version": "3.12.4"
  }
 },
 "nbformat": 4,
 "nbformat_minor": 2
}
