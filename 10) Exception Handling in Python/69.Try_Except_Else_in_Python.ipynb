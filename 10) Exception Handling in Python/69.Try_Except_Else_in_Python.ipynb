{
 "cells": [
  {
   "cell_type": "markdown",
   "metadata": {},
   "source": [
    "# Try Except Else in Python : \n",
    "\n",
    "The try block lets you test a block of code for errors.\n",
    "\n",
    "The except block lets you handle the error.\n",
    "\n",
    "The else block lets you execute the code if the try block does not raise any errors.\n",
    "\n",
    "Syntax :\n",
    "\n",
    "```python\n",
    "\n",
    "try:\n",
    "  # code block\n",
    "except:\n",
    "  # code block\n",
    "else:\n",
    "  # code block\n",
    "\n",
    "```\n",
    "\n",
    "Example :\n",
    "\n",
    "```python\n",
    "\n",
    "try:\n",
    "  print(\"Hello\")\n",
    "except:\n",
    "  print(\"Something went wrong\")\n",
    "else:\n",
    "  print(\"Nothing went wrong\")\n",
    "\n",
    "```\n",
    "\n",
    "Output :\n",
    "\n",
    "```\n",
    "Hello\n",
    "Nothing went wrong\n",
    "```\n",
    "\n",
    "**Exercice :**"
   ]
  },
  {
   "cell_type": "code",
   "execution_count": null,
   "metadata": {},
   "outputs": [],
   "source": [
    "try:\n",
    "    f = open(\"files/sample.json\", \"r\")\n",
    "except FileNotFoundError:\n",
    "    print(\"File not found\")\n",
    "\n",
    "else:\n",
    "    print(f.read(\"We found the file\"))\n",
    "\n",
    "## Explanation of the above code\n",
    "\n",
    "# The code above will open the file sample.json in read mode. \n",
    "# If the file is not found, it will print \"File not found\". \n",
    "# If the file is found, it will print \"We found the file\". \n",
    "# The else block will only execute if the try block does not raise an exception. \n",
    "# If an exception is raised, the else block will not execute. \n",
    "# The else block is optional. You can use it if you want to execute some code when the try block does not raise an exception.\n"
   ]
  }
 ],
 "metadata": {
  "kernelspec": {
   "display_name": "base",
   "language": "python",
   "name": "python3"
  },
  "language_info": {
   "name": "python",
   "version": "3.12.4"
  }
 },
 "nbformat": 4,
 "nbformat_minor": 2
}
