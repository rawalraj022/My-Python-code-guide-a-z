{
 "cells": [
  {
   "cell_type": "markdown",
   "metadata": {},
   "source": [
    "\n",
    "Whenever we are working with programming . Definitely we will get lots of error and let's say when we write any kinds of program or whenever we are trying to create any kinds of let's say application . So definitely there would be tons of error like it may be syntax error or it may be let's a different different exception error . \n",
    "\n",
    "So that's why super important to know how we can handle this particular error message . \n",
    "\n",
    "Otherwise what will happen let's say our application is throwing any error in front of the user . So definitely it will not be a good user experience  and user will get afraid by seeing our error like what is going on with this application and after that actually they won't use our application because this particular application is throwing different different error in front of the user . \n",
    "\n",
    "So, it is always necessary to handle this particular error message . That means we have to show the proper actually exception like what is going on inside our code because whatever our programming will raise any error . So, we have to show the proper exception message to the user . That why we have to know how we can handle this particular situations if we are getting any kinds of error from our application . How we can handle that , So that's why this particular topic is super important  to know inside python or in any other programming language . \n",
    "\n",
    "Whenever we are creating any kinds of application or any kinds of program . So, that's why we have to know how we can handle this particular exception handling .\n",
    "\n",
    "\n",
    "# Exception Handling in Python : \n",
    "\n",
    "There are 2 stages where error may happen in a program\n",
    "\n",
    "**1) During compilation -> Syntax Error**\n",
    "\n",
    "During the compilation of the program, the interpreter/compiler will check the syntax of the program. If the syntax is not correct, then the interpreter/compiler will raise an error. This is called a syntax error.\n",
    "\n",
    "**2) During execution -> Exceptions**\n",
    "\n",
    "During the execution of the program, if something goes wrong, then the interpreter will raise an exception. This is called an exception.\n",
    "\n",
    "\n",
    "#### 1) Syntax Error \n",
    "\n",
    "During the compilation of the program, the interpreter/compiler will check the syntax of the program. If the syntax is not correct, then the interpreter/compiler will raise an error. This is called a syntax error. syntax error is also called as text error or grammatical error. \n",
    "\n",
    "- Something in the program is not written according to the program grammar rules like missing a colon, missing a parenthesis, missing a quote, missing a comma, missing a bracket, etc.\n",
    "- Error is raised by the interpreter/compiler\n",
    "- You can solve it by rectifying the program\n",
    "\n",
    "**Examples of Syntax Error:**"
   ]
  },
  {
   "cell_type": "code",
   "execution_count": 1,
   "metadata": {},
   "outputs": [
    {
     "ename": "SyntaxError",
     "evalue": "Missing parentheses in call to 'print'. Did you mean print(...)? (445052520.py, line 6)",
     "output_type": "error",
     "traceback": [
      "\u001b[0;36m  Cell \u001b[0;32mIn[1], line 6\u001b[0;36m\u001b[0m\n\u001b[0;31m    print 'hello world'\u001b[0m\n\u001b[0m    ^\u001b[0m\n\u001b[0;31mSyntaxError\u001b[0m\u001b[0;31m:\u001b[0m Missing parentheses in call to 'print'. Did you mean print(...)?\n"
     ]
    }
   ],
   "source": [
    "## Examples of syntax error\n",
    "\n",
    "# Something in the program is not written according to the program grammar rules \n",
    "    # like missing a colon, missing a parenthesis, missing a quote, missing a comma, missing a bracket, etc.\n",
    "\n",
    "print 'hello world'\n"
   ]
  },
  {
   "cell_type": "code",
   "execution_count": 2,
   "metadata": {},
   "outputs": [
    {
     "name": "stdout",
     "output_type": "stream",
     "text": [
      "hello world\n"
     ]
    }
   ],
   "source": [
    "# Solving the syntax error of the above code\n",
    "\n",
    "print('hello world')"
   ]
  },
  {
   "cell_type": "markdown",
   "metadata": {},
   "source": [
    "#### Other examples of syntax error are:\n",
    "\n",
    "- Leaving symbols like colon,brackets\n",
    "\n",
    "- Misspelling a keyword or a function name in the program\n",
    "\n",
    "- Incorrect indentation \n",
    "\n",
    "- empty if/else/loops/class/functions\n"
   ]
  },
  {
   "cell_type": "code",
   "execution_count": 3,
   "metadata": {},
   "outputs": [
    {
     "ename": "SyntaxError",
     "evalue": "incomplete input (4185101923.py, line 3)",
     "output_type": "error",
     "traceback": [
      "\u001b[0;36m  Cell \u001b[0;32mIn[3], line 3\u001b[0;36m\u001b[0m\n\u001b[0;31m    print('hello world'\u001b[0m\n\u001b[0m                       ^\u001b[0m\n\u001b[0;31mSyntaxError\u001b[0m\u001b[0;31m:\u001b[0m incomplete input\n"
     ]
    }
   ],
   "source": [
    "# Leaving symbols like colon,brackets\n",
    "\n",
    "print('hello world'"
   ]
  },
  {
   "cell_type": "code",
   "execution_count": 4,
   "metadata": {},
   "outputs": [
    {
     "ename": "SyntaxError",
     "evalue": "invalid syntax (3347066075.py, line 3)",
     "output_type": "error",
     "traceback": [
      "\u001b[0;36m  Cell \u001b[0;32mIn[4], line 3\u001b[0;36m\u001b[0m\n\u001b[0;31m    dep hello():\u001b[0m\n\u001b[0m        ^\u001b[0m\n\u001b[0;31mSyntaxError\u001b[0m\u001b[0;31m:\u001b[0m invalid syntax\n"
     ]
    }
   ],
   "source": [
    "# Misspelling a keyword or a function name in the program\n",
    "\n",
    "dep hello():\n",
    "    pass"
   ]
  },
  {
   "cell_type": "code",
   "execution_count": 5,
   "metadata": {},
   "outputs": [
    {
     "ename": "IndentationError",
     "evalue": "expected an indented block after 'if' statement on line 3 (401777392.py, line 4)",
     "output_type": "error",
     "traceback": [
      "\u001b[0;36m  Cell \u001b[0;32mIn[5], line 4\u001b[0;36m\u001b[0m\n\u001b[0;31m    print('hello world')\u001b[0m\n\u001b[0m    ^\u001b[0m\n\u001b[0;31mIndentationError\u001b[0m\u001b[0;31m:\u001b[0m expected an indented block after 'if' statement on line 3\n"
     ]
    }
   ],
   "source": [
    "# Incorrect indentation in the program\n",
    "\n",
    "if True:\n",
    "print('hello world')\n"
   ]
  },
  {
   "cell_type": "code",
   "execution_count": 6,
   "metadata": {},
   "outputs": [
    {
     "ename": "SyntaxError",
     "evalue": "incomplete input (2894838863.py, line 3)",
     "output_type": "error",
     "traceback": [
      "\u001b[0;36m  Cell \u001b[0;32mIn[6], line 3\u001b[0;36m\u001b[0m\n\u001b[0;31m    if 1==1:\u001b[0m\n\u001b[0m             ^\u001b[0m\n\u001b[0;31mSyntaxError\u001b[0m\u001b[0;31m:\u001b[0m incomplete input\n"
     ]
    }
   ],
   "source": [
    "# empty if/else/loops/class/functions\n",
    "\n",
    "if 1==1: "
   ]
  },
  {
   "cell_type": "code",
   "execution_count": 7,
   "metadata": {},
   "outputs": [
    {
     "ename": "SyntaxError",
     "evalue": "expected ':' (3467518559.py, line 2)",
     "output_type": "error",
     "traceback": [
      "\u001b[0;36m  Cell \u001b[0;32mIn[7], line 2\u001b[0;36m\u001b[0m\n\u001b[0;31m    if a==3\u001b[0m\n\u001b[0m           ^\u001b[0m\n\u001b[0;31mSyntaxError\u001b[0m\u001b[0;31m:\u001b[0m expected ':'\n"
     ]
    }
   ],
   "source": [
    "# Missing a colon at the end of the if/else/loops/class/functions statement\n",
    "\n",
    "a = 5\n",
    "if a==3\n",
    "    print('hello')"
   ]
  },
  {
   "cell_type": "code",
   "execution_count": 9,
   "metadata": {},
   "outputs": [
    {
     "ename": "SyntaxError",
     "evalue": "invalid syntax (607140547.py, line 4)",
     "output_type": "error",
     "traceback": [
      "\u001b[0;36m  Cell \u001b[0;32mIn[9], line 4\u001b[0;36m\u001b[0m\n\u001b[0;31m    iff a==3:\u001b[0m\n\u001b[0m        ^\u001b[0m\n\u001b[0;31mSyntaxError\u001b[0m\u001b[0;31m:\u001b[0m invalid syntax\n"
     ]
    }
   ],
   "source": [
    "# spelling mistake in the keyword if :\n",
    "\n",
    "a = 5\n",
    "iff a==3:\n",
    "  print('hello')"
   ]
  },
  {
   "cell_type": "code",
   "execution_count": 10,
   "metadata": {},
   "outputs": [
    {
     "ename": "IndentationError",
     "evalue": "expected an indented block after 'if' statement on line 4 (1803074772.py, line 5)",
     "output_type": "error",
     "traceback": [
      "\u001b[0;36m  Cell \u001b[0;32mIn[10], line 5\u001b[0;36m\u001b[0m\n\u001b[0;31m    print('hello')\u001b[0m\n\u001b[0m    ^\u001b[0m\n\u001b[0;31mIndentationError\u001b[0m\u001b[0;31m:\u001b[0m expected an indented block after 'if' statement on line 4\n"
     ]
    }
   ],
   "source": [
    "# Indentation error in the program \n",
    "\n",
    "a = 5\n",
    "if a==3:\n",
    "print('hello')\n",
    "\n",
    "# Indentation is called the spaces at the beginning of the code line \n",
    "# Indentation is very important in Python because it is used to define a block of code\n"
   ]
  },
  {
   "cell_type": "code",
   "execution_count": 11,
   "metadata": {},
   "outputs": [
    {
     "ename": "IndexError",
     "evalue": "list index out of range",
     "output_type": "error",
     "traceback": [
      "\u001b[0;31m---------------------------------------------------------------------------\u001b[0m",
      "\u001b[0;31mIndexError\u001b[0m                                Traceback (most recent call last)",
      "Cell \u001b[0;32mIn[11], line 6\u001b[0m\n\u001b[1;32m      1\u001b[0m \u001b[38;5;66;03m# IndexError\u001b[39;00m\n\u001b[1;32m      2\u001b[0m \n\u001b[1;32m      3\u001b[0m \u001b[38;5;66;03m# The IndexError is thrown when trying to access an item at an invalid index.\u001b[39;00m\n\u001b[1;32m      5\u001b[0m L \u001b[38;5;241m=\u001b[39m [\u001b[38;5;241m1\u001b[39m,\u001b[38;5;241m2\u001b[39m,\u001b[38;5;241m3\u001b[39m]\n\u001b[0;32m----> 6\u001b[0m L[\u001b[38;5;241m100\u001b[39m]\n",
      "\u001b[0;31mIndexError\u001b[0m: list index out of range"
     ]
    }
   ],
   "source": [
    "# IndexError\n",
    "\n",
    "# The IndexError is thrown when trying to access an item at an invalid index.\n",
    "\n",
    "L = [1,2,3]\n",
    "L[100]\n"
   ]
  },
  {
   "cell_type": "code",
   "execution_count": 12,
   "metadata": {},
   "outputs": [
    {
     "ename": "ModuleNotFoundError",
     "evalue": "No module named 'maths'",
     "output_type": "error",
     "traceback": [
      "\u001b[0;31m---------------------------------------------------------------------------\u001b[0m",
      "\u001b[0;31mModuleNotFoundError\u001b[0m                       Traceback (most recent call last)",
      "Cell \u001b[0;32mIn[12], line 5\u001b[0m\n\u001b[1;32m      1\u001b[0m \u001b[38;5;66;03m# ModuleNotFoundError\u001b[39;00m\n\u001b[1;32m      2\u001b[0m \n\u001b[1;32m      3\u001b[0m \u001b[38;5;66;03m# The ModuleNotFoundError is thrown when a module could not be found.\u001b[39;00m\n\u001b[0;32m----> 5\u001b[0m \u001b[38;5;28;01mimport\u001b[39;00m \u001b[38;5;21;01mmaths\u001b[39;00m \n\u001b[1;32m      6\u001b[0m maths\u001b[38;5;241m.\u001b[39mfloor(\u001b[38;5;241m5.3\u001b[39m)\n",
      "\u001b[0;31mModuleNotFoundError\u001b[0m: No module named 'maths'"
     ]
    }
   ],
   "source": [
    "# ModuleNotFoundError\n",
    "\n",
    "# The ModuleNotFoundError is thrown when a module could not be found.\n",
    "\n",
    "import maths \n",
    "maths.floor(5.3)\n",
    "\n",
    "# maths is not a module in python, it should be math instead of maths \n",
    "    # In python module is a file containing python code, functions, and classes. \n",
    "    # A module can be imported using the import keyword. \n",
    "    # The module name should not contain any spaces or special characters.\n",
    "    # There are many built-in modules in python like math, random, os, sys, etc.\n",
    "    # The module name should not be the same as the python file name."
   ]
  },
  {
   "cell_type": "code",
   "execution_count": 13,
   "metadata": {},
   "outputs": [
    {
     "ename": "KeyError",
     "evalue": "'age'",
     "output_type": "error",
     "traceback": [
      "\u001b[0;31m---------------------------------------------------------------------------\u001b[0m",
      "\u001b[0;31mKeyError\u001b[0m                                  Traceback (most recent call last)",
      "Cell \u001b[0;32mIn[13], line 6\u001b[0m\n\u001b[1;32m      1\u001b[0m \u001b[38;5;66;03m# KeyError\u001b[39;00m\n\u001b[1;32m      2\u001b[0m \n\u001b[1;32m      3\u001b[0m \u001b[38;5;66;03m# The KeyError is thrown when a key is not found\u001b[39;00m\n\u001b[1;32m      5\u001b[0m d \u001b[38;5;241m=\u001b[39m {\u001b[38;5;124m'\u001b[39m\u001b[38;5;124mname\u001b[39m\u001b[38;5;124m'\u001b[39m:\u001b[38;5;124m'\u001b[39m\u001b[38;5;124mBappy\u001b[39m\u001b[38;5;124m'\u001b[39m}\n\u001b[0;32m----> 6\u001b[0m d[\u001b[38;5;124m'\u001b[39m\u001b[38;5;124mage\u001b[39m\u001b[38;5;124m'\u001b[39m]\n",
      "\u001b[0;31mKeyError\u001b[0m: 'age'"
     ]
    }
   ],
   "source": [
    "# KeyError\n",
    "\n",
    "# The KeyError is thrown when a key is not found\n",
    "\n",
    "d = {'name':'Bappy'}\n",
    "d['age']\n",
    "\n",
    "# The key 'age' is not present in the dictionary d , so it will throw KeyError\n"
   ]
  },
  {
   "cell_type": "code",
   "execution_count": 14,
   "metadata": {},
   "outputs": [
    {
     "ename": "TypeError",
     "evalue": "unsupported operand type(s) for +: 'int' and 'str'",
     "output_type": "error",
     "traceback": [
      "\u001b[0;31m---------------------------------------------------------------------------\u001b[0m",
      "\u001b[0;31mTypeError\u001b[0m                                 Traceback (most recent call last)",
      "Cell \u001b[0;32mIn[14], line 5\u001b[0m\n\u001b[1;32m      1\u001b[0m \u001b[38;5;66;03m# TypeError\u001b[39;00m\n\u001b[1;32m      2\u001b[0m \n\u001b[1;32m      3\u001b[0m \u001b[38;5;66;03m# The TypeError is thrown when an operation or function is applied to an object of an inappropriate type.\u001b[39;00m\n\u001b[0;32m----> 5\u001b[0m \u001b[38;5;241m1\u001b[39m \u001b[38;5;241m+\u001b[39m \u001b[38;5;124m'\u001b[39m\u001b[38;5;124ma\u001b[39m\u001b[38;5;124m'\u001b[39m\n",
      "\u001b[0;31mTypeError\u001b[0m: unsupported operand type(s) for +: 'int' and 'str'"
     ]
    }
   ],
   "source": [
    "# TypeError\n",
    "\n",
    "# The TypeError is thrown when an operation or function is applied to an object of an inappropriate type.\n",
    "\n",
    "1 + 'a'\n",
    "\n",
    "# The above code will throw TypeError because we are trying to add an integer and a string\n",
    "# The + operator can be used to add two numbers or concatenate two strings, but it cannot be used to add a number and a string."
   ]
  },
  {
   "cell_type": "code",
   "execution_count": 15,
   "metadata": {},
   "outputs": [
    {
     "ename": "ValueError",
     "evalue": "invalid literal for int() with base 10: 'a'",
     "output_type": "error",
     "traceback": [
      "\u001b[0;31m---------------------------------------------------------------------------\u001b[0m",
      "\u001b[0;31mValueError\u001b[0m                                Traceback (most recent call last)",
      "Cell \u001b[0;32mIn[15], line 5\u001b[0m\n\u001b[1;32m      1\u001b[0m \u001b[38;5;66;03m# ValueError\u001b[39;00m\n\u001b[1;32m      2\u001b[0m \n\u001b[1;32m      3\u001b[0m \u001b[38;5;66;03m# The ValueError is thrown when a function's argument is of an inappropriate type.\u001b[39;00m\n\u001b[0;32m----> 5\u001b[0m \u001b[38;5;28mint\u001b[39m(\u001b[38;5;124m'\u001b[39m\u001b[38;5;124ma\u001b[39m\u001b[38;5;124m'\u001b[39m)\n",
      "\u001b[0;31mValueError\u001b[0m: invalid literal for int() with base 10: 'a'"
     ]
    }
   ],
   "source": [
    "# ValueError\n",
    "\n",
    "# The ValueError is thrown when a function's argument is of an inappropriate type.\n",
    "\n",
    "int('a')\n",
    "\n",
    "# The above code will throw ValueError because we are trying to convert a string 'a' to an integer\n",
    "# The int() function can be used to convert a string to an integer, but it can only convert a string that represents an integer.\n",
    "# If the string contains any other character other than digits, it will throw ValueError.\n"
   ]
  },
  {
   "cell_type": "code",
   "execution_count": 16,
   "metadata": {},
   "outputs": [
    {
     "ename": "NameError",
     "evalue": "name 'k' is not defined",
     "output_type": "error",
     "traceback": [
      "\u001b[0;31m---------------------------------------------------------------------------\u001b[0m",
      "\u001b[0;31mNameError\u001b[0m                                 Traceback (most recent call last)",
      "Cell \u001b[0;32mIn[16], line 5\u001b[0m\n\u001b[1;32m      1\u001b[0m \u001b[38;5;66;03m# NameError\u001b[39;00m\n\u001b[1;32m      2\u001b[0m \n\u001b[1;32m      3\u001b[0m \u001b[38;5;66;03m# The NameError is thrown when an object could not be found.\u001b[39;00m\n\u001b[0;32m----> 5\u001b[0m \u001b[38;5;28mprint\u001b[39m(k)\n",
      "\u001b[0;31mNameError\u001b[0m: name 'k' is not defined"
     ]
    }
   ],
   "source": [
    "# NameError\n",
    "\n",
    "# The NameError is thrown when an object could not be found.\n",
    "\n",
    "print(k)\n",
    "\n",
    "# The above code will throw NameError because the variable k is not defined before using it in the print statement.\n",
    "# The variable should be defined before using it in the program.\n"
   ]
  },
  {
   "cell_type": "code",
   "execution_count": 17,
   "metadata": {},
   "outputs": [
    {
     "ename": "AttributeError",
     "evalue": "'list' object has no attribute 'upper'",
     "output_type": "error",
     "traceback": [
      "\u001b[0;31m---------------------------------------------------------------------------\u001b[0m",
      "\u001b[0;31mAttributeError\u001b[0m                            Traceback (most recent call last)",
      "Cell \u001b[0;32mIn[17], line 4\u001b[0m\n\u001b[1;32m      1\u001b[0m \u001b[38;5;66;03m# AttributeError\u001b[39;00m\n\u001b[1;32m      3\u001b[0m L \u001b[38;5;241m=\u001b[39m [\u001b[38;5;241m1\u001b[39m,\u001b[38;5;241m2\u001b[39m,\u001b[38;5;241m3\u001b[39m]\n\u001b[0;32m----> 4\u001b[0m L\u001b[38;5;241m.\u001b[39mupper()\n",
      "\u001b[0;31mAttributeError\u001b[0m: 'list' object has no attribute 'upper'"
     ]
    }
   ],
   "source": [
    "# AttributeError\n",
    "\n",
    "L = [1,2,3]\n",
    "L.upper()\n",
    "\n",
    "# The above code will throw AttributeError because the list object does not have the upper() method.\n",
    "# The upper() method is used to convert a string to uppercase, but it cannot be used with a list object.\n"
   ]
  },
  {
   "cell_type": "markdown",
   "metadata": {},
   "source": [
    "Upto now we have seen the syntax error. syntax error is the error which is raised by the interpreter/compiler when the syntax of the program is not correct. syntax error is also called as text error or grammatical error. \n",
    "\n",
    "Now let's see the exception error. \n",
    "\n",
    "\n",
    "#### Exceptions :\n",
    "\n",
    "If things go wrong during the execution of the program(runtime). It generally happens when something unforeseen has happened.\n",
    "\n",
    "For Exception errors our program is not responsible. It is raised by the python runtime. \n",
    "\n",
    "Python runtime is a software that executes the python code and it is responsible for raising the exception error. So, on the fly we have to handle this exception error. On the fly means whenever our program is raising any exception error. So, we have to handle that particular exception error on the fly.\n",
    "\n",
    "- Exceptions are raised by python runtime\n",
    "- You have to takle is on the fly\n",
    "\n",
    "\n",
    "#### Examples of Exceptions:\n",
    "\n",
    "- **Memory overflow :**\n",
    "\n",
    "Memory overflow is a situation where a program tries to store more data in memory than it can hold. This can happen when a program tries to store a large amount of data in memory and the memory is not enough to hold it all at once. This can cause the program to crash or behave unexpectedly because it cannot access the data it needs to run properly or it can cause the program to run slowly because it has to keep swapping data in and out of memory to make room for new data as it comes in and out of memory . This cause exception error.\n",
    "\n",
    "- **Divide by 0 -> logical error**\n",
    "\n",
    "Divide by zero is a mathematical error that occurs when you try to divide a number by zero. This is not allowed in mathematics because it is impossible to divide a number by zero. This can cause the program to crash or behave unexpectedly because it cannot perform the division operation as expected. This cause exception error.\n",
    "\n",
    "- **Database error**\n",
    "\n",
    "Database error is a situation where a program tries to access a database and the database is not available or the program cannot connect to the database. This can happen when the database server is down or the program cannot connect to the database server for some reason. This can cause the program to crash or behave unexpectedly because it cannot access the data it needs to run properly. This cause exception error.\n"
   ]
  },
  {
   "cell_type": "markdown",
   "metadata": {},
   "source": []
  },
  {
   "cell_type": "code",
   "execution_count": 19,
   "metadata": {},
   "outputs": [
    {
     "ename": "ZeroDivisionError",
     "evalue": "division by zero",
     "output_type": "error",
     "traceback": [
      "\u001b[0;31m---------------------------------------------------------------------------\u001b[0m",
      "\u001b[0;31mZeroDivisionError\u001b[0m                         Traceback (most recent call last)",
      "Cell \u001b[0;32mIn[19], line 5\u001b[0m\n\u001b[1;32m      2\u001b[0m     r \u001b[38;5;241m=\u001b[39m \u001b[38;5;241m12\u001b[39m\u001b[38;5;241m/\u001b[39mnum\n\u001b[1;32m      3\u001b[0m     \u001b[38;5;28mprint\u001b[39m(r)\n\u001b[0;32m----> 5\u001b[0m divide(\u001b[38;5;241m0\u001b[39m)\n",
      "Cell \u001b[0;32mIn[19], line 2\u001b[0m, in \u001b[0;36mdivide\u001b[0;34m(num)\u001b[0m\n\u001b[1;32m      1\u001b[0m \u001b[38;5;28;01mdef\u001b[39;00m \u001b[38;5;21mdivide\u001b[39m(num):\n\u001b[0;32m----> 2\u001b[0m     r \u001b[38;5;241m=\u001b[39m \u001b[38;5;241m12\u001b[39m\u001b[38;5;241m/\u001b[39mnum\n\u001b[1;32m      3\u001b[0m     \u001b[38;5;28mprint\u001b[39m(r)\n",
      "\u001b[0;31mZeroDivisionError\u001b[0m: division by zero"
     ]
    }
   ],
   "source": [
    "# ZeroDivisionError\n",
    "\n",
    "def divide(num):\n",
    "    r = 12/num\n",
    "    print(r)\n",
    "\n",
    "divide(0)    # division by zero\n",
    "\n",
    "# The above code will throw ZeroDivisionError because we are trying to divide a number by zero.\n",
    "# Division by zero is not allowed in python, and it will throw ZeroDivisionError.\n",
    "\n",
    "\n",
    "\n"
   ]
  },
  {
   "cell_type": "markdown",
   "metadata": {},
   "source": [
    "#### Q) Why is it important to handle exceptions?\n",
    "=> It is important to handle exceptions because if you don't handle exceptions, your program will crash and you will not be able to recover from the error. This can cause data loss, security vulnerabilities, and other problems. By handling exceptions, you can gracefully recover from errors and continue running your program.\n",
    "\n",
    "This will protect from hackers who can exploit the program by providing a wrong file name. If the program crashes, the hacker can see the error message and can exploit the program. So, it is important to handle exceptions to protect the program from hackers.\n",
    "\n",
    "This will make our program more professional and more efficient and more effective and more productive and more profitable.\n",
    "\n",
    "**Example of importance of handling exceptions :**\n",
    "\n",
    "1)\n",
    "Some time when we get this error, it will break the security of the system because what wil happen let's say we are creating a very private software amd if our program is giving this kinds of error so the hacker can easily break the security of the system so hackers can easily read the logic of program we have written inside the code so, what they will do they will just do some brainstorming on top of our program and they can hack our application because they will see the function we are using and they will see which line of code is giving the error so, they will get the weak point of our application So, it will break the security of our application and it will be a very big issue for us.\n",
    "\n",
    "2)\n",
    "If user are seeing this kind of error they will not use our application because they will think that our application is not secure and they will not trust our application. So, it will be a very big issue for us.\n",
    "\n",
    "\n",
    "So, we have to handle this kind of error in our application so that our application will be secure and the user will trust our application and they will use our application without any fear. So, that's why it is super important to handle this kind of error in our application before it will be a big issue for us.\n",
    "\n",
    "\n",
    "#### How to handle exceptions -> Try except block : \n",
    "\n",
    "- To handle exceptions in python, we use the try-except block.\n",
    "\n",
    "- The try block contains the code that might raise an exception.\n",
    "\n",
    "- The except block contains the code that handles the exception.\n",
    "\n",
    "- If an exception is raised in the try block, the code in the except block is executed.\n",
    "\n",
    "- If no exception is raised in the try block, the code in the except block is not executed.\n",
    "\n",
    "- The except block can handle specific exceptions or all exceptions.\n",
    "\n",
    "- The except block can also have an else block which is executed if no exception is raised in the try block.\n",
    "\n",
    "- The except block can also have a finally block which is executed whether an exception is raised or not.\n",
    "\n",
    "- The finally block is used to clean up resources like closing files, closing connections, etc.\n",
    "\n",
    "- The finally block is always executed whether an exception is raised or not.\n",
    "\n",
    "**Syntax of try-except block :**\n",
    "\n",
    "```\n",
    "try:\n",
    "    # code that might raise an exception\n",
    "except ExceptionName:\n",
    "    # code that handles the exception\n",
    "```\n",
    "\n",
    "**Example of try-except block :**\n",
    "\n",
    "```\n",
    "try:\n",
    "    x = 10 / 0\n",
    "except ZeroDivisionError:\n",
    "    print(\"Cannot divide by zero\")\n",
    "```\n",
    "\n",
    "In the above example, the code in the try block tries to divide 10 by 0 which is not allowed in python. So, it raises a ZeroDivisionError exception. The code in the except block handles the ZeroDivisionError exception by printing a message \"Cannot divide by zero\".\n",
    "\n",
    "**Exercises :**"
   ]
  },
  {
   "cell_type": "code",
   "execution_count": null,
   "metadata": {},
   "outputs": [],
   "source": [
    "# let's create a file\n",
    "\n",
    "with open(\"files/sample.json\", \"w\") as file:\n",
    "    file.write(\"Hello, World!\")"
   ]
  },
  {
   "cell_type": "code",
   "execution_count": 22,
   "metadata": {},
   "outputs": [
    {
     "name": "stdout",
     "output_type": "stream",
     "text": [
      "Hello, World!\n"
     ]
    }
   ],
   "source": [
    "# let's read a created file\n",
    "\n",
    "with open(\"files/sample.json\", \"r\") as file:\n",
    "    print(file.read())\n"
   ]
  },
  {
   "cell_type": "code",
   "execution_count": null,
   "metadata": {},
   "outputs": [
    {
     "name": "stdout",
     "output_type": "stream",
     "text": [
      "File not found\n"
     ]
    }
   ],
   "source": [
    "# let's read a created file with exception handling \n",
    "\n",
    "try:\n",
    "    with open(\"files/sample4.json\", \"r\") as file:\n",
    "        print(file.read())\n",
    "\n",
    "except:\n",
    "    print(\"File not found\")\n",
    "\n",
    "## If the file is not found, it will print \"File not found\" instead of throwing an error. \n",
    "    # this will prevent the program from crashing if the file is not found.\n",
    "    # This will make the program more robust and user-friendly.\n",
    "    # This will protect from hackers who can exploit the program by providing a wrong file name. \n",
    "        # If the program crashes, the hacker can see the error message and \n",
    "        # can exploit the program. So, it is important to handle exceptions to protect the program from hackers.\n",
    "    # This will make the program more secure and reliable and maintainable and scalable and more readable and understandable.\n",
    "    # This will make our trust with the user and the user will trust our program.\n",
    "    # This will make our program more professional and more efficient and more effective and more productive and more profitable.\n",
    "\n",
    "# It's always a good practice to handle exceptions in the program to make it more robust and user-friendly.\n",
    "\n"
   ]
  },
  {
   "cell_type": "markdown",
   "metadata": {},
   "source": [
    "#### when we can use this particular try except block ?\n",
    "\n",
    "As a programmer, whenever we are designing the software we have to think, why I can mention this particular try except block . \n",
    "\n",
    "So, Whenever we are handling any external logic that time we can use this particular try except block. \n",
    "\n",
    "Let's say we are connecting with database , sometime database is down so, when we are try to connect with database sometime we can not able to connect with database so, that time our program will raise the exception error so, that time we can use this particular try except block to handle this particular exception error . So that time it will not break our application and it will not give the error in front of the user. It will show the proper exception message to the user. So, that's why we can use this particular try except block to handle this particular exception error.\n",
    "\n"
   ]
  },
  {
   "cell_type": "markdown",
   "metadata": {},
   "source": []
  }
 ],
 "metadata": {
  "kernelspec": {
   "display_name": "base",
   "language": "python",
   "name": "python3"
  },
  "language_info": {
   "codemirror_mode": {
    "name": "ipython",
    "version": 3
   },
   "file_extension": ".py",
   "mimetype": "text/x-python",
   "name": "python",
   "nbconvert_exporter": "python",
   "pygments_lexer": "ipython3",
   "version": "3.12.4"
  }
 },
 "nbformat": 4,
 "nbformat_minor": 2
}
