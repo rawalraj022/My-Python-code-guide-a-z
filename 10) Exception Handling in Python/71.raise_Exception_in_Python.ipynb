{
 "cells": [
  {
   "cell_type": "markdown",
   "metadata": {},
   "source": [
    "# raise Exception in Python :\n",
    "\n",
    "The raise statement allows the programmer to force a specific exception to occur. The sole argument in raise indicates the exception to be raised. This must be either an exception instance or an exception class (a class that derives from Exception).\n",
    "\n",
    "The syntax to raise an exception is:\n",
    "\n",
    "```python\n",
    "raise [ExceptionName[(reason)]]\n",
    "```\n",
    "\n",
    "Here, ExceptionName is the name of the exception and reason is a specific error message. The reason is optional and can be omitted.\n",
    "\n",
    "## Example :\n",
    "\n",
    "```python\n",
    "\n",
    "# Program to depict Raising Exception\n",
    "\n",
    "try:\n",
    "    raise NameError(\"Hi there\")  # Raise Error\n",
    "except NameError:\n",
    "    print(\"An exception\")\n",
    "    raise  # To determine whether the exception was raised or not\n",
    "```\n",
    "\n",
    "Output :\n",
    "\n",
    "```\n",
    "An exception\n",
    "Traceback (most recent call last):\n",
    "  File \"main.py\", line 2, in <module>\n",
    "    raise NameError(\"Hi there\")  # Raise Error\n",
    "NameError: Hi there\n",
    "```\n",
    "\n",
    "In the above example, the NameError exception is raised. We have also specified a custom error message. This error message is displayed before the traceback information.\n",
    "\n",
    "The last line of the output shows that the NameError exception was raised.\n",
    "\n",
    "\n",
    "**Exercise :**"
   ]
  },
  {
   "cell_type": "code",
   "execution_count": 1,
   "metadata": {},
   "outputs": [
    {
     "ename": "Exception",
     "evalue": "There is an error",
     "output_type": "error",
     "traceback": [
      "\u001b[0;31m---------------------------------------------------------------------------\u001b[0m",
      "\u001b[0;31mException\u001b[0m                                 Traceback (most recent call last)",
      "Cell \u001b[0;32mIn[1], line 1\u001b[0m\n\u001b[0;32m----> 1\u001b[0m \u001b[38;5;28;01mraise\u001b[39;00m \u001b[38;5;167;01mException\u001b[39;00m(\u001b[38;5;124m\"\u001b[39m\u001b[38;5;124mThere is an error\u001b[39m\u001b[38;5;124m\"\u001b[39m)\n",
      "\u001b[0;31mException\u001b[0m: There is an error"
     ]
    }
   ],
   "source": [
    "raise Exception(\"There is an error\")"
   ]
  },
  {
   "cell_type": "code",
   "execution_count": 2,
   "metadata": {},
   "outputs": [
    {
     "ename": "ZeroDivisionError",
     "evalue": "can't devide with 0",
     "output_type": "error",
     "traceback": [
      "\u001b[0;31m---------------------------------------------------------------------------\u001b[0m",
      "\u001b[0;31mZeroDivisionError\u001b[0m                         Traceback (most recent call last)",
      "Cell \u001b[0;32mIn[2], line 1\u001b[0m\n\u001b[0;32m----> 1\u001b[0m \u001b[38;5;28;01mraise\u001b[39;00m \u001b[38;5;167;01mZeroDivisionError\u001b[39;00m(\u001b[38;5;124m\"\u001b[39m\u001b[38;5;124mcan\u001b[39m\u001b[38;5;124m'\u001b[39m\u001b[38;5;124mt devide with 0\u001b[39m\u001b[38;5;124m\"\u001b[39m)\n",
      "\u001b[0;31mZeroDivisionError\u001b[0m: can't devide with 0"
     ]
    }
   ],
   "source": [
    "raise ZeroDivisionError(\"can't devide with 0\")"
   ]
  },
  {
   "cell_type": "code",
   "execution_count": 3,
   "metadata": {},
   "outputs": [
    {
     "ename": "NameError",
     "evalue": "Name is not valid",
     "output_type": "error",
     "traceback": [
      "\u001b[0;31m---------------------------------------------------------------------------\u001b[0m",
      "\u001b[0;31mNameError\u001b[0m                                 Traceback (most recent call last)",
      "Cell \u001b[0;32mIn[3], line 1\u001b[0m\n\u001b[0;32m----> 1\u001b[0m \u001b[38;5;28;01mraise\u001b[39;00m \u001b[38;5;167;01mNameError\u001b[39;00m(\u001b[38;5;124m\"\u001b[39m\u001b[38;5;124mName is not valid\u001b[39m\u001b[38;5;124m\"\u001b[39m)\n",
      "\u001b[0;31mNameError\u001b[0m: Name is not valid"
     ]
    }
   ],
   "source": [
    "raise NameError(\"Name is not valid\")"
   ]
  },
  {
   "cell_type": "code",
   "execution_count": 4,
   "metadata": {},
   "outputs": [
    {
     "name": "stdout",
     "output_type": "stream",
     "text": [
      "Can't divide numbers with 0\n"
     ]
    }
   ],
   "source": [
    "\n",
    "## Function is raising the exception if the second number is 0 \n",
    "def divide_numbers(a,b):\n",
    "    if b == 0:\n",
    "        raise Exception(\"Can't divide numbers with 0\")\n",
    "    else:\n",
    "        return a / b\n",
    "\n",
    "\n",
    "## Try block is calling the above function and \n",
    "    # This statement is catching the above Exception and \n",
    "    # printing the error message which is raised in the function .\n",
    "\n",
    "try:\n",
    "    result = divide_numbers(10, 0)\n",
    "    print(result)\n",
    "except Exception as e:\n",
    "    print(e)\n",
    "\n"
   ]
  },
  {
   "cell_type": "markdown",
   "metadata": {},
   "source": [
    "That's how actually in some applications we have to use this concept and we will be instantly raising an exception and we will be catching the exception later on and we will be showing the error message in front of the user so that the user can understand what is the error and what is the reason for the error.\n"
   ]
  }
 ],
 "metadata": {
  "kernelspec": {
   "display_name": "base",
   "language": "python",
   "name": "python3"
  },
  "language_info": {
   "codemirror_mode": {
    "name": "ipython",
    "version": 3
   },
   "file_extension": ".py",
   "mimetype": "text/x-python",
   "name": "python",
   "nbconvert_exporter": "python",
   "pygments_lexer": "ipython3",
   "version": "3.12.4"
  }
 },
 "nbformat": 4,
 "nbformat_minor": 2
}
