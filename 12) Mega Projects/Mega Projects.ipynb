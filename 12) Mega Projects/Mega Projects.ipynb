{
 "cells": [
  {
   "cell_type": "markdown",
   "id": "02039cd5",
   "metadata": {},
   "source": [
    "# Mega Projects in python\n",
    "\n",
    "- Create websites\n",
    "- Create games\n",
    "- Create chat applications\n",
    ".\n",
    ".\n",
    "."
   ]
  },
  {
   "cell_type": "markdown",
   "id": "bc2fa699",
   "metadata": {},
   "source": []
  }
 ],
 "metadata": {
  "language_info": {
   "name": "python"
  }
 },
 "nbformat": 4,
 "nbformat_minor": 5
}
